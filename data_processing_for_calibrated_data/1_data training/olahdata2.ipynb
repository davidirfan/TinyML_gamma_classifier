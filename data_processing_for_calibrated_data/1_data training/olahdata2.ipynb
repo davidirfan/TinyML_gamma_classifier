{
 "cells": [
  {
   "cell_type": "markdown",
   "metadata": {
    "id": "3EU1oZmVWtTJ"
   },
   "source": [
    "# DATA PROCESSING"
   ]
  },
  {
   "cell_type": "code",
   "execution_count": null,
   "metadata": {
    "colab": {
     "base_uri": "https://localhost:8080/"
    },
    "executionInfo": {
     "elapsed": 22187,
     "status": "ok",
     "timestamp": 1738893336084,
     "user": {
      "displayName": "David Irfan Jasir",
      "userId": "11871450647194869092"
     },
     "user_tz": -420
    },
    "id": "Tck72WlSWtTM",
    "outputId": "bf3d4fce-6d62-4706-c953-145f96bdb68b"
   },
   "outputs": [],
   "source": [
    "# Import library untuk pengolahan data\n",
    "import matplotlib.pyplot as plt     # Matplotlib is a visualization library with module pyplot provides a MATLAB-like interface for generating plots.\n",
    "import pandas as pd                 # a data analysis and manipulation library\n",
    "import numpy as np                  # a library for numerical computing."
   ]
  },
  {
   "cell_type": "markdown",
   "metadata": {},
   "source": [
    "Pada sel kode di atas, dilakukan import tiga library utama yang sering digunakan dalam pengolahan data dan visualisasi di Python, yaitu:\n",
    "\n",
    "- `matplotlib.pyplot` (disingkat `plt`): Digunakan untuk membuat berbagai jenis grafik dan visualisasi data.\n",
    "- `pandas` (disingkat `pd`): Library yang sangat populer untuk manipulasi dan analisis data berbasis tabel (DataFrame).\n",
    "- `numpy` (disingkat `np`): Digunakan untuk komputasi numerik, terutama operasi pada array dan fungsi matematika.\n",
    "\n",
    "Ketiga library ini akan digunakan secara berulang pada notebook ini untuk proses analisis dan visualisasi data."
   ]
  },
  {
   "cell_type": "markdown",
   "metadata": {},
   "source": [
    "## Co-60"
   ]
  },
  {
   "cell_type": "markdown",
   "metadata": {},
   "source": [
    "### Import Dataset"
   ]
  },
  {
   "cell_type": "code",
   "execution_count": 2,
   "metadata": {
    "id": "QX9V4AORWtTN"
   },
   "outputs": [
    {
     "name": "stdout",
     "output_type": "stream",
     "text": [
      "<class 'pandas.core.frame.DataFrame'>\n",
      "RangeIndex: 1024 entries, 0 to 1023\n",
      "Data columns (total 3 columns):\n",
      " #   Column  Non-Null Count  Dtype  \n",
      "---  ------  --------------  -----  \n",
      " 0   Chan    1024 non-null   int64  \n",
      " 1   Energy  1024 non-null   float64\n",
      " 2   Counts  1024 non-null   int64  \n",
      "dtypes: float64(1), int64(2)\n",
      "memory usage: 24.1 KB\n"
     ]
    },
    {
     "data": {
      "application/vnd.microsoft.datawrangler.viewer.v0+json": {
       "columns": [
        {
         "name": "index",
         "rawType": "int64",
         "type": "integer"
        },
        {
         "name": "Chan",
         "rawType": "int64",
         "type": "integer"
        },
        {
         "name": "Energy",
         "rawType": "float64",
         "type": "float"
        },
        {
         "name": "Counts",
         "rawType": "int64",
         "type": "integer"
        }
       ],
       "ref": "0e19202c-d1bd-4695-b467-44edd6282067",
       "rows": [
        [
         "0",
         "0",
         "-88.74",
         "0"
        ],
        [
         "1",
         "1",
         "-86.18",
         "0"
        ],
        [
         "2",
         "2",
         "-83.61",
         "0"
        ],
        [
         "3",
         "3",
         "-81.05",
         "0"
        ],
        [
         "4",
         "4",
         "-78.48",
         "0"
        ],
        [
         "5",
         "5",
         "-75.92",
         "0"
        ],
        [
         "6",
         "6",
         "-73.35",
         "0"
        ],
        [
         "7",
         "7",
         "-70.79",
         "0"
        ],
        [
         "8",
         "8",
         "-68.23",
         "0"
        ],
        [
         "9",
         "9",
         "-65.66",
         "0"
        ],
        [
         "10",
         "10",
         "-63.1",
         "0"
        ],
        [
         "11",
         "11",
         "-60.53",
         "0"
        ],
        [
         "12",
         "12",
         "-57.97",
         "4"
        ],
        [
         "13",
         "13",
         "-55.4",
         "114"
        ],
        [
         "14",
         "14",
         "-52.84",
         "146"
        ],
        [
         "15",
         "15",
         "-50.27",
         "149"
        ],
        [
         "16",
         "16",
         "-47.71",
         "154"
        ],
        [
         "17",
         "17",
         "-45.15",
         "179"
        ],
        [
         "18",
         "18",
         "-42.58",
         "168"
        ],
        [
         "19",
         "19",
         "-40.02",
         "171"
        ],
        [
         "20",
         "20",
         "-37.45",
         "161"
        ],
        [
         "21",
         "21",
         "-34.89",
         "151"
        ],
        [
         "22",
         "22",
         "-32.32",
         "158"
        ],
        [
         "23",
         "23",
         "-29.76",
         "175"
        ],
        [
         "24",
         "24",
         "-27.19",
         "181"
        ],
        [
         "25",
         "25",
         "-24.63",
         "180"
        ],
        [
         "26",
         "26",
         "-22.06",
         "201"
        ],
        [
         "27",
         "27",
         "-19.5",
         "201"
        ],
        [
         "28",
         "28",
         "-16.94",
         "240"
        ],
        [
         "29",
         "29",
         "-14.37",
         "223"
        ],
        [
         "30",
         "30",
         "-11.81",
         "233"
        ],
        [
         "31",
         "31",
         "-9.24",
         "227"
        ],
        [
         "32",
         "32",
         "-6.68",
         "224"
        ],
        [
         "33",
         "33",
         "-4.11",
         "181"
        ],
        [
         "34",
         "34",
         "-1.55",
         "210"
        ],
        [
         "35",
         "35",
         "1.02",
         "202"
        ],
        [
         "36",
         "36",
         "3.58",
         "187"
        ],
        [
         "37",
         "37",
         "6.15",
         "177"
        ],
        [
         "38",
         "38",
         "8.71",
         "170"
        ],
        [
         "39",
         "39",
         "11.27",
         "164"
        ],
        [
         "40",
         "40",
         "13.84",
         "138"
        ],
        [
         "41",
         "41",
         "16.4",
         "135"
        ],
        [
         "42",
         "42",
         "18.97",
         "122"
        ],
        [
         "43",
         "43",
         "21.53",
         "149"
        ],
        [
         "44",
         "44",
         "24.1",
         "154"
        ],
        [
         "45",
         "45",
         "26.66",
         "115"
        ],
        [
         "46",
         "46",
         "29.23",
         "154"
        ],
        [
         "47",
         "47",
         "31.79",
         "139"
        ],
        [
         "48",
         "48",
         "34.35",
         "145"
        ],
        [
         "49",
         "49",
         "36.92",
         "142"
        ]
       ],
       "shape": {
        "columns": 3,
        "rows": 100
       }
      },
      "text/html": [
       "<div>\n",
       "<style scoped>\n",
       "    .dataframe tbody tr th:only-of-type {\n",
       "        vertical-align: middle;\n",
       "    }\n",
       "\n",
       "    .dataframe tbody tr th {\n",
       "        vertical-align: top;\n",
       "    }\n",
       "\n",
       "    .dataframe thead th {\n",
       "        text-align: right;\n",
       "    }\n",
       "</style>\n",
       "<table border=\"1\" class=\"dataframe\">\n",
       "  <thead>\n",
       "    <tr style=\"text-align: right;\">\n",
       "      <th></th>\n",
       "      <th>Chan</th>\n",
       "      <th>Energy</th>\n",
       "      <th>Counts</th>\n",
       "    </tr>\n",
       "  </thead>\n",
       "  <tbody>\n",
       "    <tr>\n",
       "      <th>0</th>\n",
       "      <td>0</td>\n",
       "      <td>-88.74</td>\n",
       "      <td>0</td>\n",
       "    </tr>\n",
       "    <tr>\n",
       "      <th>1</th>\n",
       "      <td>1</td>\n",
       "      <td>-86.18</td>\n",
       "      <td>0</td>\n",
       "    </tr>\n",
       "    <tr>\n",
       "      <th>2</th>\n",
       "      <td>2</td>\n",
       "      <td>-83.61</td>\n",
       "      <td>0</td>\n",
       "    </tr>\n",
       "    <tr>\n",
       "      <th>3</th>\n",
       "      <td>3</td>\n",
       "      <td>-81.05</td>\n",
       "      <td>0</td>\n",
       "    </tr>\n",
       "    <tr>\n",
       "      <th>4</th>\n",
       "      <td>4</td>\n",
       "      <td>-78.48</td>\n",
       "      <td>0</td>\n",
       "    </tr>\n",
       "    <tr>\n",
       "      <th>...</th>\n",
       "      <td>...</td>\n",
       "      <td>...</td>\n",
       "      <td>...</td>\n",
       "    </tr>\n",
       "    <tr>\n",
       "      <th>95</th>\n",
       "      <td>95</td>\n",
       "      <td>154.89</td>\n",
       "      <td>223</td>\n",
       "    </tr>\n",
       "    <tr>\n",
       "      <th>96</th>\n",
       "      <td>96</td>\n",
       "      <td>157.45</td>\n",
       "      <td>199</td>\n",
       "    </tr>\n",
       "    <tr>\n",
       "      <th>97</th>\n",
       "      <td>97</td>\n",
       "      <td>160.02</td>\n",
       "      <td>216</td>\n",
       "    </tr>\n",
       "    <tr>\n",
       "      <th>98</th>\n",
       "      <td>98</td>\n",
       "      <td>162.58</td>\n",
       "      <td>214</td>\n",
       "    </tr>\n",
       "    <tr>\n",
       "      <th>99</th>\n",
       "      <td>99</td>\n",
       "      <td>165.15</td>\n",
       "      <td>232</td>\n",
       "    </tr>\n",
       "  </tbody>\n",
       "</table>\n",
       "<p>100 rows × 3 columns</p>\n",
       "</div>"
      ],
      "text/plain": [
       "    Chan  Energy  Counts\n",
       "0      0  -88.74       0\n",
       "1      1  -86.18       0\n",
       "2      2  -83.61       0\n",
       "3      3  -81.05       0\n",
       "4      4  -78.48       0\n",
       "..   ...     ...     ...\n",
       "95    95  154.89     223\n",
       "96    96  157.45     199\n",
       "97    97  160.02     216\n",
       "98    98  162.58     214\n",
       "99    99  165.15     232\n",
       "\n",
       "[100 rows x 3 columns]"
      ]
     },
     "execution_count": 2,
     "metadata": {},
     "output_type": "execute_result"
    }
   ],
   "source": [
    "# import csv data directly from same-directory of this notebook\n",
    "data1 = 'co60_code11_t60.csv'\n",
    "\n",
    "df1 = pd.read_csv(data1)\n",
    "\n",
    "df1.info()\n",
    "df1.head(100)  # Print the first few rows of the DataFrame\n"
   ]
  },
  {
   "cell_type": "markdown",
   "metadata": {},
   "source": [
    "<b> Import dan Pratinjau Data Co-60 Code 11 T60 </b>\n",
    "\n",
    "Pada sel kode di atas, dilakukan langkah-langkah berikut:\n",
    "\n",
    "- Mengimpor file CSV `co60_code11_t60.csv` ke dalam DataFrame pandas dengan nama `df1`.\n",
    "- Menampilkan informasi struktur DataFrame menggunakan `info()`, seperti jumlah baris, kolom, dan tipe data setiap kolom.\n",
    "- Menampilkan 100 baris pertama dari DataFrame menggunakan `head(100)` untuk melihat data secara sekilas.\n",
    "\n",
    "Langkah ini penting untuk memastikan data berhasil dimuat dan memahami struktur serta isi data sebelum dilakukan analisis lebih lanjut.\n",
    "\n",
    "Program yang sama juga digunakan untuk data-data yang lain."
   ]
  },
  {
   "cell_type": "code",
   "execution_count": 3,
   "metadata": {},
   "outputs": [
    {
     "name": "stdout",
     "output_type": "stream",
     "text": [
      "<class 'pandas.core.frame.DataFrame'>\n",
      "RangeIndex: 1024 entries, 0 to 1023\n",
      "Data columns (total 3 columns):\n",
      " #   Column  Non-Null Count  Dtype  \n",
      "---  ------  --------------  -----  \n",
      " 0   Chan    1024 non-null   int64  \n",
      " 1   Energy  1024 non-null   float64\n",
      " 2   Counts  1024 non-null   int64  \n",
      "dtypes: float64(1), int64(2)\n",
      "memory usage: 24.1 KB\n"
     ]
    },
    {
     "data": {
      "application/vnd.microsoft.datawrangler.viewer.v0+json": {
       "columns": [
        {
         "name": "index",
         "rawType": "int64",
         "type": "integer"
        },
        {
         "name": "Chan",
         "rawType": "int64",
         "type": "integer"
        },
        {
         "name": "Energy",
         "rawType": "float64",
         "type": "float"
        },
        {
         "name": "Counts",
         "rawType": "int64",
         "type": "integer"
        }
       ],
       "ref": "a351e8a5-30a5-42ec-80d1-4d132c05c44a",
       "rows": [
        [
         "0",
         "0",
         "-88.74",
         "0"
        ],
        [
         "1",
         "1",
         "-86.18",
         "0"
        ],
        [
         "2",
         "2",
         "-83.61",
         "0"
        ],
        [
         "3",
         "3",
         "-81.05",
         "0"
        ],
        [
         "4",
         "4",
         "-78.48",
         "0"
        ],
        [
         "5",
         "5",
         "-75.92",
         "0"
        ],
        [
         "6",
         "6",
         "-73.35",
         "0"
        ],
        [
         "7",
         "7",
         "-70.79",
         "0"
        ],
        [
         "8",
         "8",
         "-68.23",
         "0"
        ],
        [
         "9",
         "9",
         "-65.66",
         "0"
        ],
        [
         "10",
         "10",
         "-63.1",
         "0"
        ],
        [
         "11",
         "11",
         "-60.53",
         "0"
        ],
        [
         "12",
         "12",
         "-57.97",
         "8"
        ],
        [
         "13",
         "13",
         "-55.4",
         "207"
        ],
        [
         "14",
         "14",
         "-52.84",
         "261"
        ],
        [
         "15",
         "15",
         "-50.27",
         "277"
        ],
        [
         "16",
         "16",
         "-47.71",
         "279"
        ],
        [
         "17",
         "17",
         "-45.15",
         "256"
        ],
        [
         "18",
         "18",
         "-42.58",
         "237"
        ],
        [
         "19",
         "19",
         "-40.02",
         "294"
        ],
        [
         "20",
         "20",
         "-37.45",
         "266"
        ],
        [
         "21",
         "21",
         "-34.89",
         "268"
        ],
        [
         "22",
         "22",
         "-32.32",
         "244"
        ],
        [
         "23",
         "23",
         "-29.76",
         "277"
        ],
        [
         "24",
         "24",
         "-27.19",
         "253"
        ],
        [
         "25",
         "25",
         "-24.63",
         "284"
        ],
        [
         "26",
         "26",
         "-22.06",
         "290"
        ],
        [
         "27",
         "27",
         "-19.5",
         "330"
        ],
        [
         "28",
         "28",
         "-16.94",
         "351"
        ],
        [
         "29",
         "29",
         "-14.37",
         "351"
        ],
        [
         "30",
         "30",
         "-11.81",
         "391"
        ],
        [
         "31",
         "31",
         "-9.24",
         "392"
        ],
        [
         "32",
         "32",
         "-6.68",
         "394"
        ],
        [
         "33",
         "33",
         "-4.11",
         "373"
        ],
        [
         "34",
         "34",
         "-1.55",
         "350"
        ],
        [
         "35",
         "35",
         "1.02",
         "306"
        ],
        [
         "36",
         "36",
         "3.58",
         "339"
        ],
        [
         "37",
         "37",
         "6.15",
         "317"
        ],
        [
         "38",
         "38",
         "8.71",
         "314"
        ],
        [
         "39",
         "39",
         "11.27",
         "294"
        ],
        [
         "40",
         "40",
         "13.84",
         "250"
        ],
        [
         "41",
         "41",
         "16.4",
         "277"
        ],
        [
         "42",
         "42",
         "18.97",
         "256"
        ],
        [
         "43",
         "43",
         "21.53",
         "235"
        ],
        [
         "44",
         "44",
         "24.1",
         "269"
        ],
        [
         "45",
         "45",
         "26.66",
         "223"
        ],
        [
         "46",
         "46",
         "29.23",
         "204"
        ],
        [
         "47",
         "47",
         "31.79",
         "255"
        ],
        [
         "48",
         "48",
         "34.35",
         "239"
        ],
        [
         "49",
         "49",
         "36.92",
         "247"
        ]
       ],
       "shape": {
        "columns": 3,
        "rows": 100
       }
      },
      "text/html": [
       "<div>\n",
       "<style scoped>\n",
       "    .dataframe tbody tr th:only-of-type {\n",
       "        vertical-align: middle;\n",
       "    }\n",
       "\n",
       "    .dataframe tbody tr th {\n",
       "        vertical-align: top;\n",
       "    }\n",
       "\n",
       "    .dataframe thead th {\n",
       "        text-align: right;\n",
       "    }\n",
       "</style>\n",
       "<table border=\"1\" class=\"dataframe\">\n",
       "  <thead>\n",
       "    <tr style=\"text-align: right;\">\n",
       "      <th></th>\n",
       "      <th>Chan</th>\n",
       "      <th>Energy</th>\n",
       "      <th>Counts</th>\n",
       "    </tr>\n",
       "  </thead>\n",
       "  <tbody>\n",
       "    <tr>\n",
       "      <th>0</th>\n",
       "      <td>0</td>\n",
       "      <td>-88.74</td>\n",
       "      <td>0</td>\n",
       "    </tr>\n",
       "    <tr>\n",
       "      <th>1</th>\n",
       "      <td>1</td>\n",
       "      <td>-86.18</td>\n",
       "      <td>0</td>\n",
       "    </tr>\n",
       "    <tr>\n",
       "      <th>2</th>\n",
       "      <td>2</td>\n",
       "      <td>-83.61</td>\n",
       "      <td>0</td>\n",
       "    </tr>\n",
       "    <tr>\n",
       "      <th>3</th>\n",
       "      <td>3</td>\n",
       "      <td>-81.05</td>\n",
       "      <td>0</td>\n",
       "    </tr>\n",
       "    <tr>\n",
       "      <th>4</th>\n",
       "      <td>4</td>\n",
       "      <td>-78.48</td>\n",
       "      <td>0</td>\n",
       "    </tr>\n",
       "    <tr>\n",
       "      <th>...</th>\n",
       "      <td>...</td>\n",
       "      <td>...</td>\n",
       "      <td>...</td>\n",
       "    </tr>\n",
       "    <tr>\n",
       "      <th>95</th>\n",
       "      <td>95</td>\n",
       "      <td>154.89</td>\n",
       "      <td>351</td>\n",
       "    </tr>\n",
       "    <tr>\n",
       "      <th>96</th>\n",
       "      <td>96</td>\n",
       "      <td>157.45</td>\n",
       "      <td>335</td>\n",
       "    </tr>\n",
       "    <tr>\n",
       "      <th>97</th>\n",
       "      <td>97</td>\n",
       "      <td>160.02</td>\n",
       "      <td>351</td>\n",
       "    </tr>\n",
       "    <tr>\n",
       "      <th>98</th>\n",
       "      <td>98</td>\n",
       "      <td>162.58</td>\n",
       "      <td>345</td>\n",
       "    </tr>\n",
       "    <tr>\n",
       "      <th>99</th>\n",
       "      <td>99</td>\n",
       "      <td>165.15</td>\n",
       "      <td>376</td>\n",
       "    </tr>\n",
       "  </tbody>\n",
       "</table>\n",
       "<p>100 rows × 3 columns</p>\n",
       "</div>"
      ],
      "text/plain": [
       "    Chan  Energy  Counts\n",
       "0      0  -88.74       0\n",
       "1      1  -86.18       0\n",
       "2      2  -83.61       0\n",
       "3      3  -81.05       0\n",
       "4      4  -78.48       0\n",
       "..   ...     ...     ...\n",
       "95    95  154.89     351\n",
       "96    96  157.45     335\n",
       "97    97  160.02     351\n",
       "98    98  162.58     345\n",
       "99    99  165.15     376\n",
       "\n",
       "[100 rows x 3 columns]"
      ]
     },
     "execution_count": 3,
     "metadata": {},
     "output_type": "execute_result"
    }
   ],
   "source": [
    "# import csv data directly from same-directory of this notebook\n",
    "data2 = 'co60_code11_t100.csv'\n",
    "\n",
    "df2 = pd.read_csv(data2)\n",
    "\n",
    "df2.info()\n",
    "df2.head(100)  # Print the first few rows of the DataFrame\n"
   ]
  },
  {
   "cell_type": "code",
   "execution_count": 4,
   "metadata": {},
   "outputs": [
    {
     "name": "stdout",
     "output_type": "stream",
     "text": [
      "<class 'pandas.core.frame.DataFrame'>\n",
      "RangeIndex: 1024 entries, 0 to 1023\n",
      "Data columns (total 3 columns):\n",
      " #   Column  Non-Null Count  Dtype  \n",
      "---  ------  --------------  -----  \n",
      " 0   Chan    1024 non-null   int64  \n",
      " 1   Energy  1024 non-null   float64\n",
      " 2   Counts  1024 non-null   int64  \n",
      "dtypes: float64(1), int64(2)\n",
      "memory usage: 24.1 KB\n"
     ]
    },
    {
     "data": {
      "application/vnd.microsoft.datawrangler.viewer.v0+json": {
       "columns": [
        {
         "name": "index",
         "rawType": "int64",
         "type": "integer"
        },
        {
         "name": "Chan",
         "rawType": "int64",
         "type": "integer"
        },
        {
         "name": "Energy",
         "rawType": "float64",
         "type": "float"
        },
        {
         "name": "Counts",
         "rawType": "int64",
         "type": "integer"
        }
       ],
       "ref": "f6f58460-3cb1-4cf6-8b80-db46ec623b92",
       "rows": [
        [
         "0",
         "0",
         "-88.74",
         "0"
        ],
        [
         "1",
         "1",
         "-86.18",
         "0"
        ],
        [
         "2",
         "2",
         "-83.61",
         "0"
        ],
        [
         "3",
         "3",
         "-81.05",
         "0"
        ],
        [
         "4",
         "4",
         "-78.48",
         "0"
        ],
        [
         "5",
         "5",
         "-75.92",
         "0"
        ],
        [
         "6",
         "6",
         "-73.35",
         "0"
        ],
        [
         "7",
         "7",
         "-70.79",
         "0"
        ],
        [
         "8",
         "8",
         "-68.23",
         "0"
        ],
        [
         "9",
         "9",
         "-65.66",
         "0"
        ],
        [
         "10",
         "10",
         "-63.1",
         "0"
        ],
        [
         "11",
         "11",
         "-60.53",
         "0"
        ],
        [
         "12",
         "12",
         "-57.97",
         "2"
        ],
        [
         "13",
         "13",
         "-55.4",
         "126"
        ],
        [
         "14",
         "14",
         "-52.84",
         "162"
        ],
        [
         "15",
         "15",
         "-50.27",
         "164"
        ],
        [
         "16",
         "16",
         "-47.71",
         "189"
        ],
        [
         "17",
         "17",
         "-45.15",
         "177"
        ],
        [
         "18",
         "18",
         "-42.58",
         "155"
        ],
        [
         "19",
         "19",
         "-40.02",
         "164"
        ],
        [
         "20",
         "20",
         "-37.45",
         "156"
        ],
        [
         "21",
         "21",
         "-34.89",
         "140"
        ],
        [
         "22",
         "22",
         "-32.32",
         "162"
        ],
        [
         "23",
         "23",
         "-29.76",
         "186"
        ],
        [
         "24",
         "24",
         "-27.19",
         "168"
        ],
        [
         "25",
         "25",
         "-24.63",
         "197"
        ],
        [
         "26",
         "26",
         "-22.06",
         "196"
        ],
        [
         "27",
         "27",
         "-19.5",
         "182"
        ],
        [
         "28",
         "28",
         "-16.94",
         "215"
        ],
        [
         "29",
         "29",
         "-14.37",
         "242"
        ],
        [
         "30",
         "30",
         "-11.81",
         "228"
        ],
        [
         "31",
         "31",
         "-9.24",
         "226"
        ],
        [
         "32",
         "32",
         "-6.68",
         "220"
        ],
        [
         "33",
         "33",
         "-4.11",
         "203"
        ],
        [
         "34",
         "34",
         "-1.55",
         "197"
        ],
        [
         "35",
         "35",
         "1.02",
         "189"
        ],
        [
         "36",
         "36",
         "3.58",
         "183"
        ],
        [
         "37",
         "37",
         "6.15",
         "169"
        ],
        [
         "38",
         "38",
         "8.71",
         "166"
        ],
        [
         "39",
         "39",
         "11.27",
         "146"
        ],
        [
         "40",
         "40",
         "13.84",
         "144"
        ],
        [
         "41",
         "41",
         "16.4",
         "148"
        ],
        [
         "42",
         "42",
         "18.97",
         "137"
        ],
        [
         "43",
         "43",
         "21.53",
         "132"
        ],
        [
         "44",
         "44",
         "24.1",
         "141"
        ],
        [
         "45",
         "45",
         "26.66",
         "143"
        ],
        [
         "46",
         "46",
         "29.23",
         "137"
        ],
        [
         "47",
         "47",
         "31.79",
         "159"
        ],
        [
         "48",
         "48",
         "34.35",
         "173"
        ],
        [
         "49",
         "49",
         "36.92",
         "181"
        ]
       ],
       "shape": {
        "columns": 3,
        "rows": 100
       }
      },
      "text/html": [
       "<div>\n",
       "<style scoped>\n",
       "    .dataframe tbody tr th:only-of-type {\n",
       "        vertical-align: middle;\n",
       "    }\n",
       "\n",
       "    .dataframe tbody tr th {\n",
       "        vertical-align: top;\n",
       "    }\n",
       "\n",
       "    .dataframe thead th {\n",
       "        text-align: right;\n",
       "    }\n",
       "</style>\n",
       "<table border=\"1\" class=\"dataframe\">\n",
       "  <thead>\n",
       "    <tr style=\"text-align: right;\">\n",
       "      <th></th>\n",
       "      <th>Chan</th>\n",
       "      <th>Energy</th>\n",
       "      <th>Counts</th>\n",
       "    </tr>\n",
       "  </thead>\n",
       "  <tbody>\n",
       "    <tr>\n",
       "      <th>0</th>\n",
       "      <td>0</td>\n",
       "      <td>-88.74</td>\n",
       "      <td>0</td>\n",
       "    </tr>\n",
       "    <tr>\n",
       "      <th>1</th>\n",
       "      <td>1</td>\n",
       "      <td>-86.18</td>\n",
       "      <td>0</td>\n",
       "    </tr>\n",
       "    <tr>\n",
       "      <th>2</th>\n",
       "      <td>2</td>\n",
       "      <td>-83.61</td>\n",
       "      <td>0</td>\n",
       "    </tr>\n",
       "    <tr>\n",
       "      <th>3</th>\n",
       "      <td>3</td>\n",
       "      <td>-81.05</td>\n",
       "      <td>0</td>\n",
       "    </tr>\n",
       "    <tr>\n",
       "      <th>4</th>\n",
       "      <td>4</td>\n",
       "      <td>-78.48</td>\n",
       "      <td>0</td>\n",
       "    </tr>\n",
       "    <tr>\n",
       "      <th>...</th>\n",
       "      <td>...</td>\n",
       "      <td>...</td>\n",
       "      <td>...</td>\n",
       "    </tr>\n",
       "    <tr>\n",
       "      <th>95</th>\n",
       "      <td>95</td>\n",
       "      <td>154.89</td>\n",
       "      <td>233</td>\n",
       "    </tr>\n",
       "    <tr>\n",
       "      <th>96</th>\n",
       "      <td>96</td>\n",
       "      <td>157.45</td>\n",
       "      <td>185</td>\n",
       "    </tr>\n",
       "    <tr>\n",
       "      <th>97</th>\n",
       "      <td>97</td>\n",
       "      <td>160.02</td>\n",
       "      <td>234</td>\n",
       "    </tr>\n",
       "    <tr>\n",
       "      <th>98</th>\n",
       "      <td>98</td>\n",
       "      <td>162.58</td>\n",
       "      <td>235</td>\n",
       "    </tr>\n",
       "    <tr>\n",
       "      <th>99</th>\n",
       "      <td>99</td>\n",
       "      <td>165.15</td>\n",
       "      <td>214</td>\n",
       "    </tr>\n",
       "  </tbody>\n",
       "</table>\n",
       "<p>100 rows × 3 columns</p>\n",
       "</div>"
      ],
      "text/plain": [
       "    Chan  Energy  Counts\n",
       "0      0  -88.74       0\n",
       "1      1  -86.18       0\n",
       "2      2  -83.61       0\n",
       "3      3  -81.05       0\n",
       "4      4  -78.48       0\n",
       "..   ...     ...     ...\n",
       "95    95  154.89     233\n",
       "96    96  157.45     185\n",
       "97    97  160.02     234\n",
       "98    98  162.58     235\n",
       "99    99  165.15     214\n",
       "\n",
       "[100 rows x 3 columns]"
      ]
     },
     "execution_count": 4,
     "metadata": {},
     "output_type": "execute_result"
    }
   ],
   "source": [
    "# import csv data directly from same-directory of this notebook\n",
    "data3 = 'co60_code12_t60.csv'\n",
    "\n",
    "df3 = pd.read_csv(data3)\n",
    "\n",
    "df3.info()\n",
    "df3.head(100)  # Print the first few rows of the DataFrame\n"
   ]
  },
  {
   "cell_type": "code",
   "execution_count": 5,
   "metadata": {},
   "outputs": [
    {
     "name": "stdout",
     "output_type": "stream",
     "text": [
      "<class 'pandas.core.frame.DataFrame'>\n",
      "RangeIndex: 1024 entries, 0 to 1023\n",
      "Data columns (total 3 columns):\n",
      " #   Column  Non-Null Count  Dtype  \n",
      "---  ------  --------------  -----  \n",
      " 0   Chan    1024 non-null   int64  \n",
      " 1   Energy  1024 non-null   float64\n",
      " 2   Counts  1024 non-null   int64  \n",
      "dtypes: float64(1), int64(2)\n",
      "memory usage: 24.1 KB\n"
     ]
    },
    {
     "data": {
      "application/vnd.microsoft.datawrangler.viewer.v0+json": {
       "columns": [
        {
         "name": "index",
         "rawType": "int64",
         "type": "integer"
        },
        {
         "name": "Chan",
         "rawType": "int64",
         "type": "integer"
        },
        {
         "name": "Energy",
         "rawType": "float64",
         "type": "float"
        },
        {
         "name": "Counts",
         "rawType": "int64",
         "type": "integer"
        }
       ],
       "ref": "c8751298-1b0f-4fbd-9539-ee2fd539f408",
       "rows": [
        [
         "0",
         "0",
         "-88.74",
         "0"
        ],
        [
         "1",
         "1",
         "-86.18",
         "0"
        ],
        [
         "2",
         "2",
         "-83.61",
         "0"
        ],
        [
         "3",
         "3",
         "-81.05",
         "0"
        ],
        [
         "4",
         "4",
         "-78.48",
         "0"
        ],
        [
         "5",
         "5",
         "-75.92",
         "0"
        ],
        [
         "6",
         "6",
         "-73.35",
         "0"
        ],
        [
         "7",
         "7",
         "-70.79",
         "0"
        ],
        [
         "8",
         "8",
         "-68.23",
         "0"
        ],
        [
         "9",
         "9",
         "-65.66",
         "0"
        ],
        [
         "10",
         "10",
         "-63.1",
         "0"
        ],
        [
         "11",
         "11",
         "-60.53",
         "0"
        ],
        [
         "12",
         "12",
         "-57.97",
         "0"
        ],
        [
         "13",
         "13",
         "-55.4",
         "196"
        ],
        [
         "14",
         "14",
         "-52.84",
         "269"
        ],
        [
         "15",
         "15",
         "-50.27",
         "289"
        ],
        [
         "16",
         "16",
         "-47.71",
         "278"
        ],
        [
         "17",
         "17",
         "-45.15",
         "241"
        ],
        [
         "18",
         "18",
         "-42.58",
         "273"
        ],
        [
         "19",
         "19",
         "-40.02",
         "254"
        ],
        [
         "20",
         "20",
         "-37.45",
         "253"
        ],
        [
         "21",
         "21",
         "-34.89",
         "262"
        ],
        [
         "22",
         "22",
         "-32.32",
         "236"
        ],
        [
         "23",
         "23",
         "-29.76",
         "277"
        ],
        [
         "24",
         "24",
         "-27.19",
         "249"
        ],
        [
         "25",
         "25",
         "-24.63",
         "318"
        ],
        [
         "26",
         "26",
         "-22.06",
         "346"
        ],
        [
         "27",
         "27",
         "-19.5",
         "366"
        ],
        [
         "28",
         "28",
         "-16.94",
         "368"
        ],
        [
         "29",
         "29",
         "-14.37",
         "380"
        ],
        [
         "30",
         "30",
         "-11.81",
         "397"
        ],
        [
         "31",
         "31",
         "-9.24",
         "387"
        ],
        [
         "32",
         "32",
         "-6.68",
         "386"
        ],
        [
         "33",
         "33",
         "-4.11",
         "370"
        ],
        [
         "34",
         "34",
         "-1.55",
         "359"
        ],
        [
         "35",
         "35",
         "1.02",
         "311"
        ],
        [
         "36",
         "36",
         "3.58",
         "290"
        ],
        [
         "37",
         "37",
         "6.15",
         "271"
        ],
        [
         "38",
         "38",
         "8.71",
         "265"
        ],
        [
         "39",
         "39",
         "11.27",
         "222"
        ],
        [
         "40",
         "40",
         "13.84",
         "286"
        ],
        [
         "41",
         "41",
         "16.4",
         "238"
        ],
        [
         "42",
         "42",
         "18.97",
         "223"
        ],
        [
         "43",
         "43",
         "21.53",
         "238"
        ],
        [
         "44",
         "44",
         "24.1",
         "249"
        ],
        [
         "45",
         "45",
         "26.66",
         "248"
        ],
        [
         "46",
         "46",
         "29.23",
         "234"
        ],
        [
         "47",
         "47",
         "31.79",
         "241"
        ],
        [
         "48",
         "48",
         "34.35",
         "262"
        ],
        [
         "49",
         "49",
         "36.92",
         "266"
        ]
       ],
       "shape": {
        "columns": 3,
        "rows": 100
       }
      },
      "text/html": [
       "<div>\n",
       "<style scoped>\n",
       "    .dataframe tbody tr th:only-of-type {\n",
       "        vertical-align: middle;\n",
       "    }\n",
       "\n",
       "    .dataframe tbody tr th {\n",
       "        vertical-align: top;\n",
       "    }\n",
       "\n",
       "    .dataframe thead th {\n",
       "        text-align: right;\n",
       "    }\n",
       "</style>\n",
       "<table border=\"1\" class=\"dataframe\">\n",
       "  <thead>\n",
       "    <tr style=\"text-align: right;\">\n",
       "      <th></th>\n",
       "      <th>Chan</th>\n",
       "      <th>Energy</th>\n",
       "      <th>Counts</th>\n",
       "    </tr>\n",
       "  </thead>\n",
       "  <tbody>\n",
       "    <tr>\n",
       "      <th>0</th>\n",
       "      <td>0</td>\n",
       "      <td>-88.74</td>\n",
       "      <td>0</td>\n",
       "    </tr>\n",
       "    <tr>\n",
       "      <th>1</th>\n",
       "      <td>1</td>\n",
       "      <td>-86.18</td>\n",
       "      <td>0</td>\n",
       "    </tr>\n",
       "    <tr>\n",
       "      <th>2</th>\n",
       "      <td>2</td>\n",
       "      <td>-83.61</td>\n",
       "      <td>0</td>\n",
       "    </tr>\n",
       "    <tr>\n",
       "      <th>3</th>\n",
       "      <td>3</td>\n",
       "      <td>-81.05</td>\n",
       "      <td>0</td>\n",
       "    </tr>\n",
       "    <tr>\n",
       "      <th>4</th>\n",
       "      <td>4</td>\n",
       "      <td>-78.48</td>\n",
       "      <td>0</td>\n",
       "    </tr>\n",
       "    <tr>\n",
       "      <th>...</th>\n",
       "      <td>...</td>\n",
       "      <td>...</td>\n",
       "      <td>...</td>\n",
       "    </tr>\n",
       "    <tr>\n",
       "      <th>95</th>\n",
       "      <td>95</td>\n",
       "      <td>154.89</td>\n",
       "      <td>363</td>\n",
       "    </tr>\n",
       "    <tr>\n",
       "      <th>96</th>\n",
       "      <td>96</td>\n",
       "      <td>157.45</td>\n",
       "      <td>349</td>\n",
       "    </tr>\n",
       "    <tr>\n",
       "      <th>97</th>\n",
       "      <td>97</td>\n",
       "      <td>160.02</td>\n",
       "      <td>368</td>\n",
       "    </tr>\n",
       "    <tr>\n",
       "      <th>98</th>\n",
       "      <td>98</td>\n",
       "      <td>162.58</td>\n",
       "      <td>369</td>\n",
       "    </tr>\n",
       "    <tr>\n",
       "      <th>99</th>\n",
       "      <td>99</td>\n",
       "      <td>165.15</td>\n",
       "      <td>404</td>\n",
       "    </tr>\n",
       "  </tbody>\n",
       "</table>\n",
       "<p>100 rows × 3 columns</p>\n",
       "</div>"
      ],
      "text/plain": [
       "    Chan  Energy  Counts\n",
       "0      0  -88.74       0\n",
       "1      1  -86.18       0\n",
       "2      2  -83.61       0\n",
       "3      3  -81.05       0\n",
       "4      4  -78.48       0\n",
       "..   ...     ...     ...\n",
       "95    95  154.89     363\n",
       "96    96  157.45     349\n",
       "97    97  160.02     368\n",
       "98    98  162.58     369\n",
       "99    99  165.15     404\n",
       "\n",
       "[100 rows x 3 columns]"
      ]
     },
     "execution_count": 5,
     "metadata": {},
     "output_type": "execute_result"
    }
   ],
   "source": [
    "# import csv data directly from same-directory of this notebook\n",
    "data4 = 'co60_code12_t100.csv'\n",
    "\n",
    "df4 = pd.read_csv(data4)\n",
    "\n",
    "df4.info()\n",
    "df4.head(100)  # Print the first few rows of the DataFrame\n"
   ]
  },
  {
   "cell_type": "markdown",
   "metadata": {},
   "source": [
    "### Gabung dataset"
   ]
  },
  {
   "cell_type": "code",
   "execution_count": 6,
   "metadata": {},
   "outputs": [
    {
     "name": "stdout",
     "output_type": "stream",
     "text": [
      "<class 'pandas.core.frame.DataFrame'>\n",
      "RangeIndex: 4096 entries, 0 to 4095\n",
      "Data columns (total 3 columns):\n",
      " #   Column  Non-Null Count  Dtype  \n",
      "---  ------  --------------  -----  \n",
      " 0   Chan    4096 non-null   int64  \n",
      " 1   Energy  4096 non-null   float64\n",
      " 2   Counts  4096 non-null   int64  \n",
      "dtypes: float64(1), int64(2)\n",
      "memory usage: 96.1 KB\n"
     ]
    },
    {
     "data": {
      "application/vnd.microsoft.datawrangler.viewer.v0+json": {
       "columns": [
        {
         "name": "index",
         "rawType": "int64",
         "type": "integer"
        },
        {
         "name": "Chan",
         "rawType": "int64",
         "type": "integer"
        },
        {
         "name": "Energy",
         "rawType": "float64",
         "type": "float"
        },
        {
         "name": "Counts",
         "rawType": "int64",
         "type": "integer"
        }
       ],
       "ref": "cb964338-d4e3-464b-aea6-4046c0e7d4c8",
       "rows": [
        [
         "0",
         "0",
         "-88.74",
         "0"
        ],
        [
         "1",
         "1",
         "-86.18",
         "0"
        ],
        [
         "2",
         "2",
         "-83.61",
         "0"
        ],
        [
         "3",
         "3",
         "-81.05",
         "0"
        ],
        [
         "4",
         "4",
         "-78.48",
         "0"
        ],
        [
         "5",
         "5",
         "-75.92",
         "0"
        ],
        [
         "6",
         "6",
         "-73.35",
         "0"
        ],
        [
         "7",
         "7",
         "-70.79",
         "0"
        ],
        [
         "8",
         "8",
         "-68.23",
         "0"
        ],
        [
         "9",
         "9",
         "-65.66",
         "0"
        ],
        [
         "10",
         "10",
         "-63.1",
         "0"
        ],
        [
         "11",
         "11",
         "-60.53",
         "0"
        ],
        [
         "12",
         "12",
         "-57.97",
         "4"
        ],
        [
         "13",
         "13",
         "-55.4",
         "114"
        ],
        [
         "14",
         "14",
         "-52.84",
         "146"
        ],
        [
         "15",
         "15",
         "-50.27",
         "149"
        ],
        [
         "16",
         "16",
         "-47.71",
         "154"
        ],
        [
         "17",
         "17",
         "-45.15",
         "179"
        ],
        [
         "18",
         "18",
         "-42.58",
         "168"
        ],
        [
         "19",
         "19",
         "-40.02",
         "171"
        ],
        [
         "20",
         "20",
         "-37.45",
         "161"
        ],
        [
         "21",
         "21",
         "-34.89",
         "151"
        ],
        [
         "22",
         "22",
         "-32.32",
         "158"
        ],
        [
         "23",
         "23",
         "-29.76",
         "175"
        ],
        [
         "24",
         "24",
         "-27.19",
         "181"
        ],
        [
         "25",
         "25",
         "-24.63",
         "180"
        ],
        [
         "26",
         "26",
         "-22.06",
         "201"
        ],
        [
         "27",
         "27",
         "-19.5",
         "201"
        ],
        [
         "28",
         "28",
         "-16.94",
         "240"
        ],
        [
         "29",
         "29",
         "-14.37",
         "223"
        ],
        [
         "30",
         "30",
         "-11.81",
         "233"
        ],
        [
         "31",
         "31",
         "-9.24",
         "227"
        ],
        [
         "32",
         "32",
         "-6.68",
         "224"
        ],
        [
         "33",
         "33",
         "-4.11",
         "181"
        ],
        [
         "34",
         "34",
         "-1.55",
         "210"
        ],
        [
         "35",
         "35",
         "1.02",
         "202"
        ],
        [
         "36",
         "36",
         "3.58",
         "187"
        ],
        [
         "37",
         "37",
         "6.15",
         "177"
        ],
        [
         "38",
         "38",
         "8.71",
         "170"
        ],
        [
         "39",
         "39",
         "11.27",
         "164"
        ],
        [
         "40",
         "40",
         "13.84",
         "138"
        ],
        [
         "41",
         "41",
         "16.4",
         "135"
        ],
        [
         "42",
         "42",
         "18.97",
         "122"
        ],
        [
         "43",
         "43",
         "21.53",
         "149"
        ],
        [
         "44",
         "44",
         "24.1",
         "154"
        ],
        [
         "45",
         "45",
         "26.66",
         "115"
        ],
        [
         "46",
         "46",
         "29.23",
         "154"
        ],
        [
         "47",
         "47",
         "31.79",
         "139"
        ],
        [
         "48",
         "48",
         "34.35",
         "145"
        ],
        [
         "49",
         "49",
         "36.92",
         "142"
        ]
       ],
       "shape": {
        "columns": 3,
        "rows": 100
       }
      },
      "text/html": [
       "<div>\n",
       "<style scoped>\n",
       "    .dataframe tbody tr th:only-of-type {\n",
       "        vertical-align: middle;\n",
       "    }\n",
       "\n",
       "    .dataframe tbody tr th {\n",
       "        vertical-align: top;\n",
       "    }\n",
       "\n",
       "    .dataframe thead th {\n",
       "        text-align: right;\n",
       "    }\n",
       "</style>\n",
       "<table border=\"1\" class=\"dataframe\">\n",
       "  <thead>\n",
       "    <tr style=\"text-align: right;\">\n",
       "      <th></th>\n",
       "      <th>Chan</th>\n",
       "      <th>Energy</th>\n",
       "      <th>Counts</th>\n",
       "    </tr>\n",
       "  </thead>\n",
       "  <tbody>\n",
       "    <tr>\n",
       "      <th>0</th>\n",
       "      <td>0</td>\n",
       "      <td>-88.74</td>\n",
       "      <td>0</td>\n",
       "    </tr>\n",
       "    <tr>\n",
       "      <th>1</th>\n",
       "      <td>1</td>\n",
       "      <td>-86.18</td>\n",
       "      <td>0</td>\n",
       "    </tr>\n",
       "    <tr>\n",
       "      <th>2</th>\n",
       "      <td>2</td>\n",
       "      <td>-83.61</td>\n",
       "      <td>0</td>\n",
       "    </tr>\n",
       "    <tr>\n",
       "      <th>3</th>\n",
       "      <td>3</td>\n",
       "      <td>-81.05</td>\n",
       "      <td>0</td>\n",
       "    </tr>\n",
       "    <tr>\n",
       "      <th>4</th>\n",
       "      <td>4</td>\n",
       "      <td>-78.48</td>\n",
       "      <td>0</td>\n",
       "    </tr>\n",
       "    <tr>\n",
       "      <th>...</th>\n",
       "      <td>...</td>\n",
       "      <td>...</td>\n",
       "      <td>...</td>\n",
       "    </tr>\n",
       "    <tr>\n",
       "      <th>95</th>\n",
       "      <td>95</td>\n",
       "      <td>154.89</td>\n",
       "      <td>223</td>\n",
       "    </tr>\n",
       "    <tr>\n",
       "      <th>96</th>\n",
       "      <td>96</td>\n",
       "      <td>157.45</td>\n",
       "      <td>199</td>\n",
       "    </tr>\n",
       "    <tr>\n",
       "      <th>97</th>\n",
       "      <td>97</td>\n",
       "      <td>160.02</td>\n",
       "      <td>216</td>\n",
       "    </tr>\n",
       "    <tr>\n",
       "      <th>98</th>\n",
       "      <td>98</td>\n",
       "      <td>162.58</td>\n",
       "      <td>214</td>\n",
       "    </tr>\n",
       "    <tr>\n",
       "      <th>99</th>\n",
       "      <td>99</td>\n",
       "      <td>165.15</td>\n",
       "      <td>232</td>\n",
       "    </tr>\n",
       "  </tbody>\n",
       "</table>\n",
       "<p>100 rows × 3 columns</p>\n",
       "</div>"
      ],
      "text/plain": [
       "    Chan  Energy  Counts\n",
       "0      0  -88.74       0\n",
       "1      1  -86.18       0\n",
       "2      2  -83.61       0\n",
       "3      3  -81.05       0\n",
       "4      4  -78.48       0\n",
       "..   ...     ...     ...\n",
       "95    95  154.89     223\n",
       "96    96  157.45     199\n",
       "97    97  160.02     216\n",
       "98    98  162.58     214\n",
       "99    99  165.15     232\n",
       "\n",
       "[100 rows x 3 columns]"
      ]
     },
     "execution_count": 6,
     "metadata": {},
     "output_type": "execute_result"
    }
   ],
   "source": [
    "# Combine dataframes df1, df2, df3, and df4 into a single DataFrame\n",
    "co_df = pd.concat([df1, df2, df3, df4], ignore_index=True)\n",
    "\n",
    "# Display info and first few rows of the combined DataFrame\n",
    "co_df.info()\n",
    "co_df.head(100)"
   ]
  },
  {
   "cell_type": "markdown",
   "metadata": {},
   "source": [
    "<b> Penggabungan DataFrame Co-60 </b>\n",
    "\n",
    "Pada sel kode di atas, dilakukan penggabungan empat DataFrame (`df1`, `df2`, `df3`, dan `df4`) yang berisi data Co-60 menjadi satu DataFrame baru bernama `co_df` menggunakan fungsi `pd.concat()`. Penggabungan ini dilakukan secara vertikal (baris demi baris) dengan opsi `ignore_index=True` agar indeks pada DataFrame hasil penggabungan di-reset.\n",
    "\n",
    "Setelah penggabungan, informasi struktur DataFrame (`co_df.info()`) dan 100 baris pertama data (`co_df.head(100)`) ditampilkan untuk memastikan data sudah tergabung dengan benar dan untuk melihat sekilas isi data yang akan digunakan pada analisis selanjutnya."
   ]
  },
  {
   "cell_type": "markdown",
   "metadata": {},
   "source": [
    "### Tambah Label"
   ]
  },
  {
   "cell_type": "code",
   "execution_count": 7,
   "metadata": {
    "colab": {
     "base_uri": "https://localhost:8080/",
     "height": 606
    },
    "executionInfo": {
     "elapsed": 513,
     "status": "ok",
     "timestamp": 1738136893629,
     "user": {
      "displayName": "David Irfan Jasir",
      "userId": "11871450647194869092"
     },
     "user_tz": -420
    },
    "id": "O5IZZ2zo8oBr",
    "outputId": "316b7092-ac3b-4586-ae69-c244d8ad093e"
   },
   "outputs": [
    {
     "name": "stdout",
     "output_type": "stream",
     "text": [
      "<class 'pandas.core.frame.DataFrame'>\n",
      "RangeIndex: 4096 entries, 0 to 4095\n",
      "Data columns (total 4 columns):\n",
      " #   Column  Non-Null Count  Dtype  \n",
      "---  ------  --------------  -----  \n",
      " 0   Chan    4096 non-null   int64  \n",
      " 1   Energy  4096 non-null   float64\n",
      " 2   Counts  4096 non-null   int64  \n",
      " 3   Label   4096 non-null   int64  \n",
      "dtypes: float64(1), int64(3)\n",
      "memory usage: 128.1 KB\n"
     ]
    },
    {
     "data": {
      "application/vnd.microsoft.datawrangler.viewer.v0+json": {
       "columns": [
        {
         "name": "index",
         "rawType": "int64",
         "type": "integer"
        },
        {
         "name": "Chan",
         "rawType": "int64",
         "type": "integer"
        },
        {
         "name": "Energy",
         "rawType": "float64",
         "type": "float"
        },
        {
         "name": "Counts",
         "rawType": "int64",
         "type": "integer"
        },
        {
         "name": "Label",
         "rawType": "int64",
         "type": "integer"
        }
       ],
       "ref": "30c5ed05-0ac1-4891-b111-8f5eec559dca",
       "rows": [
        [
         "0",
         "0",
         "-88.74",
         "0",
         "0"
        ],
        [
         "1",
         "1",
         "-86.18",
         "0",
         "0"
        ],
        [
         "2",
         "2",
         "-83.61",
         "0",
         "0"
        ],
        [
         "3",
         "3",
         "-81.05",
         "0",
         "0"
        ],
        [
         "4",
         "4",
         "-78.48",
         "0",
         "0"
        ],
        [
         "5",
         "5",
         "-75.92",
         "0",
         "0"
        ],
        [
         "6",
         "6",
         "-73.35",
         "0",
         "0"
        ],
        [
         "7",
         "7",
         "-70.79",
         "0",
         "0"
        ],
        [
         "8",
         "8",
         "-68.23",
         "0",
         "0"
        ],
        [
         "9",
         "9",
         "-65.66",
         "0",
         "0"
        ],
        [
         "10",
         "10",
         "-63.1",
         "0",
         "0"
        ],
        [
         "11",
         "11",
         "-60.53",
         "0",
         "0"
        ],
        [
         "12",
         "12",
         "-57.97",
         "4",
         "0"
        ],
        [
         "13",
         "13",
         "-55.4",
         "114",
         "0"
        ],
        [
         "14",
         "14",
         "-52.84",
         "146",
         "0"
        ],
        [
         "15",
         "15",
         "-50.27",
         "149",
         "0"
        ],
        [
         "16",
         "16",
         "-47.71",
         "154",
         "0"
        ],
        [
         "17",
         "17",
         "-45.15",
         "179",
         "0"
        ],
        [
         "18",
         "18",
         "-42.58",
         "168",
         "0"
        ],
        [
         "19",
         "19",
         "-40.02",
         "171",
         "0"
        ],
        [
         "20",
         "20",
         "-37.45",
         "161",
         "0"
        ],
        [
         "21",
         "21",
         "-34.89",
         "151",
         "0"
        ],
        [
         "22",
         "22",
         "-32.32",
         "158",
         "0"
        ],
        [
         "23",
         "23",
         "-29.76",
         "175",
         "0"
        ],
        [
         "24",
         "24",
         "-27.19",
         "181",
         "0"
        ],
        [
         "25",
         "25",
         "-24.63",
         "180",
         "0"
        ],
        [
         "26",
         "26",
         "-22.06",
         "201",
         "0"
        ],
        [
         "27",
         "27",
         "-19.5",
         "201",
         "0"
        ],
        [
         "28",
         "28",
         "-16.94",
         "240",
         "0"
        ],
        [
         "29",
         "29",
         "-14.37",
         "223",
         "0"
        ],
        [
         "30",
         "30",
         "-11.81",
         "233",
         "0"
        ],
        [
         "31",
         "31",
         "-9.24",
         "227",
         "0"
        ],
        [
         "32",
         "32",
         "-6.68",
         "224",
         "0"
        ],
        [
         "33",
         "33",
         "-4.11",
         "181",
         "0"
        ],
        [
         "34",
         "34",
         "-1.55",
         "210",
         "0"
        ],
        [
         "35",
         "35",
         "1.02",
         "202",
         "0"
        ],
        [
         "36",
         "36",
         "3.58",
         "187",
         "0"
        ],
        [
         "37",
         "37",
         "6.15",
         "177",
         "0"
        ],
        [
         "38",
         "38",
         "8.71",
         "170",
         "0"
        ],
        [
         "39",
         "39",
         "11.27",
         "164",
         "0"
        ],
        [
         "40",
         "40",
         "13.84",
         "138",
         "0"
        ],
        [
         "41",
         "41",
         "16.4",
         "135",
         "0"
        ],
        [
         "42",
         "42",
         "18.97",
         "122",
         "0"
        ],
        [
         "43",
         "43",
         "21.53",
         "149",
         "0"
        ],
        [
         "44",
         "44",
         "24.1",
         "154",
         "0"
        ],
        [
         "45",
         "45",
         "26.66",
         "115",
         "0"
        ],
        [
         "46",
         "46",
         "29.23",
         "154",
         "0"
        ],
        [
         "47",
         "47",
         "31.79",
         "139",
         "0"
        ],
        [
         "48",
         "48",
         "34.35",
         "145",
         "0"
        ],
        [
         "49",
         "49",
         "36.92",
         "142",
         "0"
        ]
       ],
       "shape": {
        "columns": 4,
        "rows": 100
       }
      },
      "text/html": [
       "<div>\n",
       "<style scoped>\n",
       "    .dataframe tbody tr th:only-of-type {\n",
       "        vertical-align: middle;\n",
       "    }\n",
       "\n",
       "    .dataframe tbody tr th {\n",
       "        vertical-align: top;\n",
       "    }\n",
       "\n",
       "    .dataframe thead th {\n",
       "        text-align: right;\n",
       "    }\n",
       "</style>\n",
       "<table border=\"1\" class=\"dataframe\">\n",
       "  <thead>\n",
       "    <tr style=\"text-align: right;\">\n",
       "      <th></th>\n",
       "      <th>Chan</th>\n",
       "      <th>Energy</th>\n",
       "      <th>Counts</th>\n",
       "      <th>Label</th>\n",
       "    </tr>\n",
       "  </thead>\n",
       "  <tbody>\n",
       "    <tr>\n",
       "      <th>0</th>\n",
       "      <td>0</td>\n",
       "      <td>-88.74</td>\n",
       "      <td>0</td>\n",
       "      <td>0</td>\n",
       "    </tr>\n",
       "    <tr>\n",
       "      <th>1</th>\n",
       "      <td>1</td>\n",
       "      <td>-86.18</td>\n",
       "      <td>0</td>\n",
       "      <td>0</td>\n",
       "    </tr>\n",
       "    <tr>\n",
       "      <th>2</th>\n",
       "      <td>2</td>\n",
       "      <td>-83.61</td>\n",
       "      <td>0</td>\n",
       "      <td>0</td>\n",
       "    </tr>\n",
       "    <tr>\n",
       "      <th>3</th>\n",
       "      <td>3</td>\n",
       "      <td>-81.05</td>\n",
       "      <td>0</td>\n",
       "      <td>0</td>\n",
       "    </tr>\n",
       "    <tr>\n",
       "      <th>4</th>\n",
       "      <td>4</td>\n",
       "      <td>-78.48</td>\n",
       "      <td>0</td>\n",
       "      <td>0</td>\n",
       "    </tr>\n",
       "    <tr>\n",
       "      <th>...</th>\n",
       "      <td>...</td>\n",
       "      <td>...</td>\n",
       "      <td>...</td>\n",
       "      <td>...</td>\n",
       "    </tr>\n",
       "    <tr>\n",
       "      <th>95</th>\n",
       "      <td>95</td>\n",
       "      <td>154.89</td>\n",
       "      <td>223</td>\n",
       "      <td>0</td>\n",
       "    </tr>\n",
       "    <tr>\n",
       "      <th>96</th>\n",
       "      <td>96</td>\n",
       "      <td>157.45</td>\n",
       "      <td>199</td>\n",
       "      <td>0</td>\n",
       "    </tr>\n",
       "    <tr>\n",
       "      <th>97</th>\n",
       "      <td>97</td>\n",
       "      <td>160.02</td>\n",
       "      <td>216</td>\n",
       "      <td>0</td>\n",
       "    </tr>\n",
       "    <tr>\n",
       "      <th>98</th>\n",
       "      <td>98</td>\n",
       "      <td>162.58</td>\n",
       "      <td>214</td>\n",
       "      <td>0</td>\n",
       "    </tr>\n",
       "    <tr>\n",
       "      <th>99</th>\n",
       "      <td>99</td>\n",
       "      <td>165.15</td>\n",
       "      <td>232</td>\n",
       "      <td>0</td>\n",
       "    </tr>\n",
       "  </tbody>\n",
       "</table>\n",
       "<p>100 rows × 4 columns</p>\n",
       "</div>"
      ],
      "text/plain": [
       "    Chan  Energy  Counts  Label\n",
       "0      0  -88.74       0      0\n",
       "1      1  -86.18       0      0\n",
       "2      2  -83.61       0      0\n",
       "3      3  -81.05       0      0\n",
       "4      4  -78.48       0      0\n",
       "..   ...     ...     ...    ...\n",
       "95    95  154.89     223      0\n",
       "96    96  157.45     199      0\n",
       "97    97  160.02     216      0\n",
       "98    98  162.58     214      0\n",
       "99    99  165.15     232      0\n",
       "\n",
       "[100 rows x 4 columns]"
      ]
     },
     "execution_count": 7,
     "metadata": {},
     "output_type": "execute_result"
    }
   ],
   "source": [
    "# add one column as label \"Co-60\" or '0'\n",
    "\n",
    "co_df['Label'] = '0'\n",
    "co_df['Label'] = co_df['Label'].astype('int64')         # Convert the 'Label' column to integer type\n",
    "\n",
    "co_df.info()\n",
    "co_df.head(100)"
   ]
  },
  {
   "cell_type": "markdown",
   "metadata": {},
   "source": [
    "<b> Menambahkan Kolom Label pada DataFrame Co-60 </b>\n",
    "\n",
    "Pada sel kode di atas, dilakukan penambahan kolom baru bernama `Label` pada DataFrame `co_df` untuk memberikan label khusus pada data Co-60, yaitu `0`. Langkah-langkah yang dilakukan adalah:\n",
    "\n",
    "- Menambahkan kolom `Label` dengan nilai awal `'0'` untuk seluruh baris.\n",
    "- Mengubah tipe data kolom `Label` menjadi `int64` agar sesuai dengan kebutuhan analisis data numerik.\n",
    "- Menampilkan struktur DataFrame menggunakan `info()` untuk memastikan kolom baru sudah ditambahkan dan tipe datanya benar.\n",
    "- Menampilkan 100 baris pertama data menggunakan `head(100)` untuk melihat hasil penambahan kolom label.\n",
    "\n",
    "Penambahan label ini penting agar data Co-60 dapat dibedakan dengan data lain pada proses analisis atau pelatihan model selanjutnya."
   ]
  },
  {
   "cell_type": "markdown",
   "metadata": {},
   "source": [
    "### Memeriksa Grafik"
   ]
  },
  {
   "cell_type": "code",
   "execution_count": 8,
   "metadata": {},
   "outputs": [
    {
     "data": {
      "image/png": "[encoded data removed]",
      "text/plain": [
       "<Figure size 2000x600 with 2 Axes>"
      ]
     },
     "metadata": {},
     "output_type": "display_data"
    }
   ],
   "source": [
    "# Scatter plot for Energy vs Counts\n",
    "plt.figure(figsize=(20, 6))\n",
    "\n",
    "# Scatter plot for Energy vs Counts\n",
    "plt.subplot(1, 2, 1)  # 1 row, 2 columns, 1st subplot\n",
    "plt.scatter(co_df['Energy'], co_df['Counts'], s=5, c='blue', label='Energy vs Counts')\n",
    "plt.xlabel('Energy')\n",
    "plt.ylabel('Counts')\n",
    "plt.title('Energy vs Counts')\n",
    "plt.grid(True)\n",
    "plt.legend()\n",
    "\n",
    "# Scatter plot for Channel vs Counts\n",
    "plt.subplot(1, 2, 2)  # 1 row, 2 columns, 2nd subplot\n",
    "plt.scatter(co_df['Chan'], co_df['Counts'], s=5, c='red', label='Channel vs Counts')\n",
    "plt.xlabel('Channel')\n",
    "plt.ylabel('Counts')\n",
    "plt.title('Channel vs Counts')\n",
    "plt.grid(True)\n",
    "plt.legend()\n",
    "\n",
    "plt.show()"
   ]
  },
  {
   "cell_type": "markdown",
   "metadata": {},
   "source": [
    "<b> Visualisasi Data Co-60 </b>\n",
    "\n",
    "Pada sel kode di atas, dilakukan visualisasi data Co-60 yang telah digabungkan dalam DataFrame `co_df`. Dua scatter plot dibuat untuk memperlihatkan hubungan antara variabel-variabel penting:\n",
    "\n",
    "1. **Energy vs Counts**:\n",
    "    - Sumbu x merepresentasikan nilai Energy, sedangkan sumbu y menunjukkan Counts.\n",
    "    - Setiap titik pada plot menggambarkan jumlah hitungan (Counts) pada energi tertentu.\n",
    "    - Plot ini membantu mengidentifikasi puncak-puncak energi pada spektrum Co-60.\n",
    "\n",
    "2. **Channel vs Counts**:\n",
    "    - Sumbu x merepresentasikan Channel, sedangkan sumbu y menunjukkan Counts.\n",
    "    - Plot ini memperlihatkan distribusi hitungan berdasarkan channel detektor.\n",
    "    - Berguna untuk melihat pola distribusi counts pada rentang channel tertentu.\n",
    "\n",
    "Penggunaan dua subplot dalam satu figure memudahkan perbandingan visual antara hubungan Energy-Counts dan Channel-Counts. Fitur grid, label sumbu, judul, dan legenda ditambahkan untuk memperjelas informasi pada masing-masing plot."
   ]
  },
  {
   "cell_type": "markdown",
   "metadata": {},
   "source": [
    "## Cs-137"
   ]
  },
  {
   "cell_type": "markdown",
   "metadata": {},
   "source": [
    "### Import dataset"
   ]
  },
  {
   "cell_type": "code",
   "execution_count": 9,
   "metadata": {
    "colab": {
     "base_uri": "https://localhost:8080/",
     "height": 624
    },
    "executionInfo": {
     "elapsed": 3889,
     "status": "ok",
     "timestamp": 1738135728574,
     "user": {
      "displayName": "David Irfan Jasir",
      "userId": "11871450647194869092"
     },
     "user_tz": -420
    },
    "id": "GkvuOuN_9FHS",
    "outputId": "4ce3e4d2-2be2-4519-aab0-f545ccdf3974"
   },
   "outputs": [
    {
     "name": "stdout",
     "output_type": "stream",
     "text": [
      "<class 'pandas.core.frame.DataFrame'>\n",
      "RangeIndex: 1024 entries, 0 to 1023\n",
      "Data columns (total 3 columns):\n",
      " #   Column  Non-Null Count  Dtype  \n",
      "---  ------  --------------  -----  \n",
      " 0   Chan    1024 non-null   int64  \n",
      " 1   Energy  1024 non-null   float64\n",
      " 2   Counts  1024 non-null   int64  \n",
      "dtypes: float64(1), int64(2)\n",
      "memory usage: 24.1 KB\n"
     ]
    },
    {
     "data": {
      "application/vnd.microsoft.datawrangler.viewer.v0+json": {
       "columns": [
        {
         "name": "index",
         "rawType": "int64",
         "type": "integer"
        },
        {
         "name": "Chan",
         "rawType": "int64",
         "type": "integer"
        },
        {
         "name": "Energy",
         "rawType": "float64",
         "type": "float"
        },
        {
         "name": "Counts",
         "rawType": "int64",
         "type": "integer"
        }
       ],
       "ref": "2c1b32bc-9b8d-40c0-992a-229e33b3d6ca",
       "rows": [
        [
         "0",
         "0",
         "-88.74",
         "0"
        ],
        [
         "1",
         "1",
         "-86.18",
         "0"
        ],
        [
         "2",
         "2",
         "-83.61",
         "0"
        ],
        [
         "3",
         "3",
         "-81.05",
         "0"
        ],
        [
         "4",
         "4",
         "-78.48",
         "0"
        ],
        [
         "5",
         "5",
         "-75.92",
         "0"
        ],
        [
         "6",
         "6",
         "-73.35",
         "0"
        ],
        [
         "7",
         "7",
         "-70.79",
         "0"
        ],
        [
         "8",
         "8",
         "-68.23",
         "0"
        ],
        [
         "9",
         "9",
         "-65.66",
         "0"
        ],
        [
         "10",
         "10",
         "-63.1",
         "0"
        ],
        [
         "11",
         "11",
         "-60.53",
         "1"
        ],
        [
         "12",
         "12",
         "-57.97",
         "9"
        ],
        [
         "13",
         "13",
         "-55.4",
         "389"
        ],
        [
         "14",
         "14",
         "-52.84",
         "303"
        ],
        [
         "15",
         "15",
         "-50.27",
         "187"
        ],
        [
         "16",
         "16",
         "-47.71",
         "155"
        ],
        [
         "17",
         "17",
         "-45.15",
         "118"
        ],
        [
         "18",
         "18",
         "-42.58",
         "101"
        ],
        [
         "19",
         "19",
         "-40.02",
         "93"
        ],
        [
         "20",
         "20",
         "-37.45",
         "93"
        ],
        [
         "21",
         "21",
         "-34.89",
         "77"
        ],
        [
         "22",
         "22",
         "-32.32",
         "78"
        ],
        [
         "23",
         "23",
         "-29.76",
         "89"
        ],
        [
         "24",
         "24",
         "-27.19",
         "96"
        ],
        [
         "25",
         "25",
         "-24.63",
         "105"
        ],
        [
         "26",
         "26",
         "-22.06",
         "113"
        ],
        [
         "27",
         "27",
         "-19.5",
         "123"
        ],
        [
         "28",
         "28",
         "-16.94",
         "118"
        ],
        [
         "29",
         "29",
         "-14.37",
         "133"
        ],
        [
         "30",
         "30",
         "-11.81",
         "154"
        ],
        [
         "31",
         "31",
         "-9.24",
         "134"
        ],
        [
         "32",
         "32",
         "-6.68",
         "123"
        ],
        [
         "33",
         "33",
         "-4.11",
         "134"
        ],
        [
         "34",
         "34",
         "-1.55",
         "139"
        ],
        [
         "35",
         "35",
         "1.02",
         "104"
        ],
        [
         "36",
         "36",
         "3.58",
         "111"
        ],
        [
         "37",
         "37",
         "6.15",
         "107"
        ],
        [
         "38",
         "38",
         "8.71",
         "100"
        ],
        [
         "39",
         "39",
         "11.27",
         "91"
        ],
        [
         "40",
         "40",
         "13.84",
         "83"
        ],
        [
         "41",
         "41",
         "16.4",
         "105"
        ],
        [
         "42",
         "42",
         "18.97",
         "86"
        ],
        [
         "43",
         "43",
         "21.53",
         "84"
        ],
        [
         "44",
         "44",
         "24.1",
         "101"
        ],
        [
         "45",
         "45",
         "26.66",
         "86"
        ],
        [
         "46",
         "46",
         "29.23",
         "96"
        ],
        [
         "47",
         "47",
         "31.79",
         "96"
        ],
        [
         "48",
         "48",
         "34.35",
         "79"
        ],
        [
         "49",
         "49",
         "36.92",
         "89"
        ]
       ],
       "shape": {
        "columns": 3,
        "rows": 100
       }
      },
      "text/html": [
       "<div>\n",
       "<style scoped>\n",
       "    .dataframe tbody tr th:only-of-type {\n",
       "        vertical-align: middle;\n",
       "    }\n",
       "\n",
       "    .dataframe tbody tr th {\n",
       "        vertical-align: top;\n",
       "    }\n",
       "\n",
       "    .dataframe thead th {\n",
       "        text-align: right;\n",
       "    }\n",
       "</style>\n",
       "<table border=\"1\" class=\"dataframe\">\n",
       "  <thead>\n",
       "    <tr style=\"text-align: right;\">\n",
       "      <th></th>\n",
       "      <th>Chan</th>\n",
       "      <th>Energy</th>\n",
       "      <th>Counts</th>\n",
       "    </tr>\n",
       "  </thead>\n",
       "  <tbody>\n",
       "    <tr>\n",
       "      <th>0</th>\n",
       "      <td>0</td>\n",
       "      <td>-88.74</td>\n",
       "      <td>0</td>\n",
       "    </tr>\n",
       "    <tr>\n",
       "      <th>1</th>\n",
       "      <td>1</td>\n",
       "      <td>-86.18</td>\n",
       "      <td>0</td>\n",
       "    </tr>\n",
       "    <tr>\n",
       "      <th>2</th>\n",
       "      <td>2</td>\n",
       "      <td>-83.61</td>\n",
       "      <td>0</td>\n",
       "    </tr>\n",
       "    <tr>\n",
       "      <th>3</th>\n",
       "      <td>3</td>\n",
       "      <td>-81.05</td>\n",
       "      <td>0</td>\n",
       "    </tr>\n",
       "    <tr>\n",
       "      <th>4</th>\n",
       "      <td>4</td>\n",
       "      <td>-78.48</td>\n",
       "      <td>0</td>\n",
       "    </tr>\n",
       "    <tr>\n",
       "      <th>...</th>\n",
       "      <td>...</td>\n",
       "      <td>...</td>\n",
       "      <td>...</td>\n",
       "    </tr>\n",
       "    <tr>\n",
       "      <th>95</th>\n",
       "      <td>95</td>\n",
       "      <td>154.89</td>\n",
       "      <td>110</td>\n",
       "    </tr>\n",
       "    <tr>\n",
       "      <th>96</th>\n",
       "      <td>96</td>\n",
       "      <td>157.45</td>\n",
       "      <td>112</td>\n",
       "    </tr>\n",
       "    <tr>\n",
       "      <th>97</th>\n",
       "      <td>97</td>\n",
       "      <td>160.02</td>\n",
       "      <td>107</td>\n",
       "    </tr>\n",
       "    <tr>\n",
       "      <th>98</th>\n",
       "      <td>98</td>\n",
       "      <td>162.58</td>\n",
       "      <td>97</td>\n",
       "    </tr>\n",
       "    <tr>\n",
       "      <th>99</th>\n",
       "      <td>99</td>\n",
       "      <td>165.15</td>\n",
       "      <td>122</td>\n",
       "    </tr>\n",
       "  </tbody>\n",
       "</table>\n",
       "<p>100 rows × 3 columns</p>\n",
       "</div>"
      ],
      "text/plain": [
       "    Chan  Energy  Counts\n",
       "0      0  -88.74       0\n",
       "1      1  -86.18       0\n",
       "2      2  -83.61       0\n",
       "3      3  -81.05       0\n",
       "4      4  -78.48       0\n",
       "..   ...     ...     ...\n",
       "95    95  154.89     110\n",
       "96    96  157.45     112\n",
       "97    97  160.02     107\n",
       "98    98  162.58      97\n",
       "99    99  165.15     122\n",
       "\n",
       "[100 rows x 3 columns]"
      ]
     },
     "execution_count": 9,
     "metadata": {},
     "output_type": "execute_result"
    }
   ],
   "source": [
    "data5 = 'cs137_code16_t60.csv'\n",
    "\n",
    "df5 = pd.read_csv(data5)\n",
    "\n",
    "df5.info()\n",
    "df5.head(100)  # Print the first few rows of the DataFrame"
   ]
  },
  {
   "cell_type": "markdown",
   "metadata": {},
   "source": [
    "<b> Import dan Pratinjau Data Cs-137 Code 16 T60 </b>\n",
    "\n",
    "Pada sel kode di atas, dilakukan langkah-langkah berikut:\n",
    "\n",
    "- Mendefinisikan nama file CSV `cs137_code16_t60.csv` ke dalam variabel `data5`.\n",
    "- Membaca file CSV tersebut ke dalam DataFrame pandas dengan nama `df5` menggunakan `pd.read_csv()`.\n",
    "- Menampilkan informasi struktur DataFrame menggunakan `info()`, seperti jumlah baris, kolom, dan tipe data setiap kolom.\n",
    "- Menampilkan 100 baris pertama dari DataFrame menggunakan `head(100)` untuk melihat data secara sekilas.\n",
    "\n",
    "Langkah ini penting untuk memastikan data berhasil dimuat dan memahami struktur serta isi data sebelum dilakukan analisis lebih lanjut."
   ]
  },
  {
   "cell_type": "code",
   "execution_count": 10,
   "metadata": {},
   "outputs": [
    {
     "name": "stdout",
     "output_type": "stream",
     "text": [
      "<class 'pandas.core.frame.DataFrame'>\n",
      "RangeIndex: 1024 entries, 0 to 1023\n",
      "Data columns (total 3 columns):\n",
      " #   Column  Non-Null Count  Dtype  \n",
      "---  ------  --------------  -----  \n",
      " 0   Chan    1024 non-null   int64  \n",
      " 1   Energy  1024 non-null   float64\n",
      " 2   Counts  1024 non-null   int64  \n",
      "dtypes: float64(1), int64(2)\n",
      "memory usage: 24.1 KB\n"
     ]
    },
    {
     "data": {
      "application/vnd.microsoft.datawrangler.viewer.v0+json": {
       "columns": [
        {
         "name": "index",
         "rawType": "int64",
         "type": "integer"
        },
        {
         "name": "Chan",
         "rawType": "int64",
         "type": "integer"
        },
        {
         "name": "Energy",
         "rawType": "float64",
         "type": "float"
        },
        {
         "name": "Counts",
         "rawType": "int64",
         "type": "integer"
        }
       ],
       "ref": "5c22fb81-1ba1-4c9e-a138-6e37f4dc5f9f",
       "rows": [
        [
         "0",
         "0",
         "-88.74",
         "0"
        ],
        [
         "1",
         "1",
         "-86.18",
         "0"
        ],
        [
         "2",
         "2",
         "-83.61",
         "0"
        ],
        [
         "3",
         "3",
         "-81.05",
         "0"
        ],
        [
         "4",
         "4",
         "-78.48",
         "0"
        ],
        [
         "5",
         "5",
         "-75.92",
         "0"
        ],
        [
         "6",
         "6",
         "-73.35",
         "0"
        ],
        [
         "7",
         "7",
         "-70.79",
         "0"
        ],
        [
         "8",
         "8",
         "-68.23",
         "0"
        ],
        [
         "9",
         "9",
         "-65.66",
         "0"
        ],
        [
         "10",
         "10",
         "-63.1",
         "0"
        ],
        [
         "11",
         "11",
         "-60.53",
         "0"
        ],
        [
         "12",
         "12",
         "-57.97",
         "11"
        ],
        [
         "13",
         "13",
         "-55.4",
         "689"
        ],
        [
         "14",
         "14",
         "-52.84",
         "595"
        ],
        [
         "15",
         "15",
         "-50.27",
         "398"
        ],
        [
         "16",
         "16",
         "-47.71",
         "257"
        ],
        [
         "17",
         "17",
         "-45.15",
         "200"
        ],
        [
         "18",
         "18",
         "-42.58",
         "155"
        ],
        [
         "19",
         "19",
         "-40.02",
         "167"
        ],
        [
         "20",
         "20",
         "-37.45",
         "154"
        ],
        [
         "21",
         "21",
         "-34.89",
         "147"
        ],
        [
         "22",
         "22",
         "-32.32",
         "132"
        ],
        [
         "23",
         "23",
         "-29.76",
         "151"
        ],
        [
         "24",
         "24",
         "-27.19",
         "153"
        ],
        [
         "25",
         "25",
         "-24.63",
         "157"
        ],
        [
         "26",
         "26",
         "-22.06",
         "185"
        ],
        [
         "27",
         "27",
         "-19.5",
         "217"
        ],
        [
         "28",
         "28",
         "-16.94",
         "226"
        ],
        [
         "29",
         "29",
         "-14.37",
         "207"
        ],
        [
         "30",
         "30",
         "-11.81",
         "213"
        ],
        [
         "31",
         "31",
         "-9.24",
         "236"
        ],
        [
         "32",
         "32",
         "-6.68",
         "211"
        ],
        [
         "33",
         "33",
         "-4.11",
         "217"
        ],
        [
         "34",
         "34",
         "-1.55",
         "194"
        ],
        [
         "35",
         "35",
         "1.02",
         "193"
        ],
        [
         "36",
         "36",
         "3.58",
         "177"
        ],
        [
         "37",
         "37",
         "6.15",
         "172"
        ],
        [
         "38",
         "38",
         "8.71",
         "154"
        ],
        [
         "39",
         "39",
         "11.27",
         "169"
        ],
        [
         "40",
         "40",
         "13.84",
         "145"
        ],
        [
         "41",
         "41",
         "16.4",
         "163"
        ],
        [
         "42",
         "42",
         "18.97",
         "141"
        ],
        [
         "43",
         "43",
         "21.53",
         "145"
        ],
        [
         "44",
         "44",
         "24.1",
         "145"
        ],
        [
         "45",
         "45",
         "26.66",
         "139"
        ],
        [
         "46",
         "46",
         "29.23",
         "160"
        ],
        [
         "47",
         "47",
         "31.79",
         "144"
        ],
        [
         "48",
         "48",
         "34.35",
         "144"
        ],
        [
         "49",
         "49",
         "36.92",
         "113"
        ]
       ],
       "shape": {
        "columns": 3,
        "rows": 100
       }
      },
      "text/html": [
       "<div>\n",
       "<style scoped>\n",
       "    .dataframe tbody tr th:only-of-type {\n",
       "        vertical-align: middle;\n",
       "    }\n",
       "\n",
       "    .dataframe tbody tr th {\n",
       "        vertical-align: top;\n",
       "    }\n",
       "\n",
       "    .dataframe thead th {\n",
       "        text-align: right;\n",
       "    }\n",
       "</style>\n",
       "<table border=\"1\" class=\"dataframe\">\n",
       "  <thead>\n",
       "    <tr style=\"text-align: right;\">\n",
       "      <th></th>\n",
       "      <th>Chan</th>\n",
       "      <th>Energy</th>\n",
       "      <th>Counts</th>\n",
       "    </tr>\n",
       "  </thead>\n",
       "  <tbody>\n",
       "    <tr>\n",
       "      <th>0</th>\n",
       "      <td>0</td>\n",
       "      <td>-88.74</td>\n",
       "      <td>0</td>\n",
       "    </tr>\n",
       "    <tr>\n",
       "      <th>1</th>\n",
       "      <td>1</td>\n",
       "      <td>-86.18</td>\n",
       "      <td>0</td>\n",
       "    </tr>\n",
       "    <tr>\n",
       "      <th>2</th>\n",
       "      <td>2</td>\n",
       "      <td>-83.61</td>\n",
       "      <td>0</td>\n",
       "    </tr>\n",
       "    <tr>\n",
       "      <th>3</th>\n",
       "      <td>3</td>\n",
       "      <td>-81.05</td>\n",
       "      <td>0</td>\n",
       "    </tr>\n",
       "    <tr>\n",
       "      <th>4</th>\n",
       "      <td>4</td>\n",
       "      <td>-78.48</td>\n",
       "      <td>0</td>\n",
       "    </tr>\n",
       "    <tr>\n",
       "      <th>...</th>\n",
       "      <td>...</td>\n",
       "      <td>...</td>\n",
       "      <td>...</td>\n",
       "    </tr>\n",
       "    <tr>\n",
       "      <th>95</th>\n",
       "      <td>95</td>\n",
       "      <td>154.89</td>\n",
       "      <td>166</td>\n",
       "    </tr>\n",
       "    <tr>\n",
       "      <th>96</th>\n",
       "      <td>96</td>\n",
       "      <td>157.45</td>\n",
       "      <td>171</td>\n",
       "    </tr>\n",
       "    <tr>\n",
       "      <th>97</th>\n",
       "      <td>97</td>\n",
       "      <td>160.02</td>\n",
       "      <td>166</td>\n",
       "    </tr>\n",
       "    <tr>\n",
       "      <th>98</th>\n",
       "      <td>98</td>\n",
       "      <td>162.58</td>\n",
       "      <td>158</td>\n",
       "    </tr>\n",
       "    <tr>\n",
       "      <th>99</th>\n",
       "      <td>99</td>\n",
       "      <td>165.15</td>\n",
       "      <td>163</td>\n",
       "    </tr>\n",
       "  </tbody>\n",
       "</table>\n",
       "<p>100 rows × 3 columns</p>\n",
       "</div>"
      ],
      "text/plain": [
       "    Chan  Energy  Counts\n",
       "0      0  -88.74       0\n",
       "1      1  -86.18       0\n",
       "2      2  -83.61       0\n",
       "3      3  -81.05       0\n",
       "4      4  -78.48       0\n",
       "..   ...     ...     ...\n",
       "95    95  154.89     166\n",
       "96    96  157.45     171\n",
       "97    97  160.02     166\n",
       "98    98  162.58     158\n",
       "99    99  165.15     163\n",
       "\n",
       "[100 rows x 3 columns]"
      ]
     },
     "execution_count": 10,
     "metadata": {},
     "output_type": "execute_result"
    }
   ],
   "source": [
    "data6 = 'cs137_code16_t100.csv'\n",
    "\n",
    "df6 = pd.read_csv(data6)\n",
    "\n",
    "df6.info()\n",
    "df6.head(100)  # Print the first few rows of the DataFrame      "
   ]
  },
  {
   "cell_type": "code",
   "execution_count": 11,
   "metadata": {},
   "outputs": [
    {
     "name": "stdout",
     "output_type": "stream",
     "text": [
      "<class 'pandas.core.frame.DataFrame'>\n",
      "RangeIndex: 1024 entries, 0 to 1023\n",
      "Data columns (total 3 columns):\n",
      " #   Column  Non-Null Count  Dtype  \n",
      "---  ------  --------------  -----  \n",
      " 0   Chan    1024 non-null   int64  \n",
      " 1   Energy  1024 non-null   float64\n",
      " 2   Counts  1024 non-null   int64  \n",
      "dtypes: float64(1), int64(2)\n",
      "memory usage: 24.1 KB\n"
     ]
    },
    {
     "data": {
      "application/vnd.microsoft.datawrangler.viewer.v0+json": {
       "columns": [
        {
         "name": "index",
         "rawType": "int64",
         "type": "integer"
        },
        {
         "name": "Chan",
         "rawType": "int64",
         "type": "integer"
        },
        {
         "name": "Energy",
         "rawType": "float64",
         "type": "float"
        },
        {
         "name": "Counts",
         "rawType": "int64",
         "type": "integer"
        }
       ],
       "ref": "be9cd237-e3d3-4e4a-b53e-724b62ad9c9b",
       "rows": [
        [
         "0",
         "0",
         "-88.74",
         "0"
        ],
        [
         "1",
         "1",
         "-86.18",
         "0"
        ],
        [
         "2",
         "2",
         "-83.61",
         "0"
        ],
        [
         "3",
         "3",
         "-81.05",
         "0"
        ],
        [
         "4",
         "4",
         "-78.48",
         "0"
        ],
        [
         "5",
         "5",
         "-75.92",
         "0"
        ],
        [
         "6",
         "6",
         "-73.35",
         "0"
        ],
        [
         "7",
         "7",
         "-70.79",
         "0"
        ],
        [
         "8",
         "8",
         "-68.23",
         "0"
        ],
        [
         "9",
         "9",
         "-65.66",
         "0"
        ],
        [
         "10",
         "10",
         "-63.1",
         "1"
        ],
        [
         "11",
         "11",
         "-60.53",
         "0"
        ],
        [
         "12",
         "12",
         "-57.97",
         "38"
        ],
        [
         "13",
         "13",
         "-55.4",
         "1290"
        ],
        [
         "14",
         "14",
         "-52.84",
         "997"
        ],
        [
         "15",
         "15",
         "-50.27",
         "689"
        ],
        [
         "16",
         "16",
         "-47.71",
         "475"
        ],
        [
         "17",
         "17",
         "-45.15",
         "352"
        ],
        [
         "18",
         "18",
         "-42.58",
         "336"
        ],
        [
         "19",
         "19",
         "-40.02",
         "307"
        ],
        [
         "20",
         "20",
         "-37.45",
         "287"
        ],
        [
         "21",
         "21",
         "-34.89",
         "217"
        ],
        [
         "22",
         "22",
         "-32.32",
         "282"
        ],
        [
         "23",
         "23",
         "-29.76",
         "286"
        ],
        [
         "24",
         "24",
         "-27.19",
         "334"
        ],
        [
         "25",
         "25",
         "-24.63",
         "338"
        ],
        [
         "26",
         "26",
         "-22.06",
         "328"
        ],
        [
         "27",
         "27",
         "-19.5",
         "342"
        ],
        [
         "28",
         "28",
         "-16.94",
         "349"
        ],
        [
         "29",
         "29",
         "-14.37",
         "404"
        ],
        [
         "30",
         "30",
         "-11.81",
         "393"
        ],
        [
         "31",
         "31",
         "-9.24",
         "415"
        ],
        [
         "32",
         "32",
         "-6.68",
         "365"
        ],
        [
         "33",
         "33",
         "-4.11",
         "346"
        ],
        [
         "34",
         "34",
         "-1.55",
         "349"
        ],
        [
         "35",
         "35",
         "1.02",
         "311"
        ],
        [
         "36",
         "36",
         "3.58",
         "299"
        ],
        [
         "37",
         "37",
         "6.15",
         "289"
        ],
        [
         "38",
         "38",
         "8.71",
         "280"
        ],
        [
         "39",
         "39",
         "11.27",
         "239"
        ],
        [
         "40",
         "40",
         "13.84",
         "249"
        ],
        [
         "41",
         "41",
         "16.4",
         "250"
        ],
        [
         "42",
         "42",
         "18.97",
         "245"
        ],
        [
         "43",
         "43",
         "21.53",
         "241"
        ],
        [
         "44",
         "44",
         "24.1",
         "264"
        ],
        [
         "45",
         "45",
         "26.66",
         "238"
        ],
        [
         "46",
         "46",
         "29.23",
         "239"
        ],
        [
         "47",
         "47",
         "31.79",
         "234"
        ],
        [
         "48",
         "48",
         "34.35",
         "251"
        ],
        [
         "49",
         "49",
         "36.92",
         "258"
        ]
       ],
       "shape": {
        "columns": 3,
        "rows": 100
       }
      },
      "text/html": [
       "<div>\n",
       "<style scoped>\n",
       "    .dataframe tbody tr th:only-of-type {\n",
       "        vertical-align: middle;\n",
       "    }\n",
       "\n",
       "    .dataframe tbody tr th {\n",
       "        vertical-align: top;\n",
       "    }\n",
       "\n",
       "    .dataframe thead th {\n",
       "        text-align: right;\n",
       "    }\n",
       "</style>\n",
       "<table border=\"1\" class=\"dataframe\">\n",
       "  <thead>\n",
       "    <tr style=\"text-align: right;\">\n",
       "      <th></th>\n",
       "      <th>Chan</th>\n",
       "      <th>Energy</th>\n",
       "      <th>Counts</th>\n",
       "    </tr>\n",
       "  </thead>\n",
       "  <tbody>\n",
       "    <tr>\n",
       "      <th>0</th>\n",
       "      <td>0</td>\n",
       "      <td>-88.74</td>\n",
       "      <td>0</td>\n",
       "    </tr>\n",
       "    <tr>\n",
       "      <th>1</th>\n",
       "      <td>1</td>\n",
       "      <td>-86.18</td>\n",
       "      <td>0</td>\n",
       "    </tr>\n",
       "    <tr>\n",
       "      <th>2</th>\n",
       "      <td>2</td>\n",
       "      <td>-83.61</td>\n",
       "      <td>0</td>\n",
       "    </tr>\n",
       "    <tr>\n",
       "      <th>3</th>\n",
       "      <td>3</td>\n",
       "      <td>-81.05</td>\n",
       "      <td>0</td>\n",
       "    </tr>\n",
       "    <tr>\n",
       "      <th>4</th>\n",
       "      <td>4</td>\n",
       "      <td>-78.48</td>\n",
       "      <td>0</td>\n",
       "    </tr>\n",
       "    <tr>\n",
       "      <th>...</th>\n",
       "      <td>...</td>\n",
       "      <td>...</td>\n",
       "      <td>...</td>\n",
       "    </tr>\n",
       "    <tr>\n",
       "      <th>95</th>\n",
       "      <td>95</td>\n",
       "      <td>154.89</td>\n",
       "      <td>312</td>\n",
       "    </tr>\n",
       "    <tr>\n",
       "      <th>96</th>\n",
       "      <td>96</td>\n",
       "      <td>157.45</td>\n",
       "      <td>304</td>\n",
       "    </tr>\n",
       "    <tr>\n",
       "      <th>97</th>\n",
       "      <td>97</td>\n",
       "      <td>160.02</td>\n",
       "      <td>329</td>\n",
       "    </tr>\n",
       "    <tr>\n",
       "      <th>98</th>\n",
       "      <td>98</td>\n",
       "      <td>162.58</td>\n",
       "      <td>322</td>\n",
       "    </tr>\n",
       "    <tr>\n",
       "      <th>99</th>\n",
       "      <td>99</td>\n",
       "      <td>165.15</td>\n",
       "      <td>303</td>\n",
       "    </tr>\n",
       "  </tbody>\n",
       "</table>\n",
       "<p>100 rows × 3 columns</p>\n",
       "</div>"
      ],
      "text/plain": [
       "    Chan  Energy  Counts\n",
       "0      0  -88.74       0\n",
       "1      1  -86.18       0\n",
       "2      2  -83.61       0\n",
       "3      3  -81.05       0\n",
       "4      4  -78.48       0\n",
       "..   ...     ...     ...\n",
       "95    95  154.89     312\n",
       "96    96  157.45     304\n",
       "97    97  160.02     329\n",
       "98    98  162.58     322\n",
       "99    99  165.15     303\n",
       "\n",
       "[100 rows x 3 columns]"
      ]
     },
     "execution_count": 11,
     "metadata": {},
     "output_type": "execute_result"
    }
   ],
   "source": [
    "data7 = 'cs137_code19_t60.csv'\n",
    "\n",
    "df7 = pd.read_csv(data7)\n",
    "\n",
    "df7.info()\n",
    "df7.head(100)  # Print the first few rows of the DataFrame"
   ]
  },
  {
   "cell_type": "code",
   "execution_count": 12,
   "metadata": {},
   "outputs": [
    {
     "name": "stdout",
     "output_type": "stream",
     "text": [
      "<class 'pandas.core.frame.DataFrame'>\n",
      "RangeIndex: 1024 entries, 0 to 1023\n",
      "Data columns (total 3 columns):\n",
      " #   Column  Non-Null Count  Dtype  \n",
      "---  ------  --------------  -----  \n",
      " 0   Chan    1024 non-null   int64  \n",
      " 1   Energy  1024 non-null   float64\n",
      " 2   Counts  1024 non-null   int64  \n",
      "dtypes: float64(1), int64(2)\n",
      "memory usage: 24.1 KB\n"
     ]
    },
    {
     "data": {
      "application/vnd.microsoft.datawrangler.viewer.v0+json": {
       "columns": [
        {
         "name": "index",
         "rawType": "int64",
         "type": "integer"
        },
        {
         "name": "Chan",
         "rawType": "int64",
         "type": "integer"
        },
        {
         "name": "Energy",
         "rawType": "float64",
         "type": "float"
        },
        {
         "name": "Counts",
         "rawType": "int64",
         "type": "integer"
        }
       ],
       "ref": "9fe1fc6a-afff-46ce-999f-19ba81e0558b",
       "rows": [
        [
         "0",
         "0",
         "-88.74",
         "0"
        ],
        [
         "1",
         "1",
         "-86.18",
         "0"
        ],
        [
         "2",
         "2",
         "-83.61",
         "0"
        ],
        [
         "3",
         "3",
         "-81.05",
         "0"
        ],
        [
         "4",
         "4",
         "-78.48",
         "0"
        ],
        [
         "5",
         "5",
         "-75.92",
         "0"
        ],
        [
         "6",
         "6",
         "-73.35",
         "0"
        ],
        [
         "7",
         "7",
         "-70.79",
         "0"
        ],
        [
         "8",
         "8",
         "-68.23",
         "0"
        ],
        [
         "9",
         "9",
         "-65.66",
         "0"
        ],
        [
         "10",
         "10",
         "-63.1",
         "2"
        ],
        [
         "11",
         "11",
         "-60.53",
         "1"
        ],
        [
         "12",
         "12",
         "-57.97",
         "84"
        ],
        [
         "13",
         "13",
         "-55.4",
         "2739"
        ],
        [
         "14",
         "14",
         "-52.84",
         "2223"
        ],
        [
         "15",
         "15",
         "-50.27",
         "1378"
        ],
        [
         "16",
         "16",
         "-47.71",
         "980"
        ],
        [
         "17",
         "17",
         "-45.15",
         "736"
        ],
        [
         "18",
         "18",
         "-42.58",
         "641"
        ],
        [
         "19",
         "19",
         "-40.02",
         "639"
        ],
        [
         "20",
         "20",
         "-37.45",
         "613"
        ],
        [
         "21",
         "21",
         "-34.89",
         "621"
        ],
        [
         "22",
         "22",
         "-32.32",
         "562"
        ],
        [
         "23",
         "23",
         "-29.76",
         "576"
        ],
        [
         "24",
         "24",
         "-27.19",
         "573"
        ],
        [
         "25",
         "25",
         "-24.63",
         "620"
        ],
        [
         "26",
         "26",
         "-22.06",
         "671"
        ],
        [
         "27",
         "27",
         "-19.5",
         "739"
        ],
        [
         "28",
         "28",
         "-16.94",
         "785"
        ],
        [
         "29",
         "29",
         "-14.37",
         "782"
        ],
        [
         "30",
         "30",
         "-11.81",
         "741"
        ],
        [
         "31",
         "31",
         "-9.24",
         "792"
        ],
        [
         "32",
         "32",
         "-6.68",
         "750"
        ],
        [
         "33",
         "33",
         "-4.11",
         "660"
        ],
        [
         "34",
         "34",
         "-1.55",
         "706"
        ],
        [
         "35",
         "35",
         "1.02",
         "666"
        ],
        [
         "36",
         "36",
         "3.58",
         "575"
        ],
        [
         "37",
         "37",
         "6.15",
         "571"
        ],
        [
         "38",
         "38",
         "8.71",
         "511"
        ],
        [
         "39",
         "39",
         "11.27",
         "493"
        ],
        [
         "40",
         "40",
         "13.84",
         "492"
        ],
        [
         "41",
         "41",
         "16.4",
         "575"
        ],
        [
         "42",
         "42",
         "18.97",
         "499"
        ],
        [
         "43",
         "43",
         "21.53",
         "574"
        ],
        [
         "44",
         "44",
         "24.1",
         "513"
        ],
        [
         "45",
         "45",
         "26.66",
         "499"
        ],
        [
         "46",
         "46",
         "29.23",
         "519"
        ],
        [
         "47",
         "47",
         "31.79",
         "511"
        ],
        [
         "48",
         "48",
         "34.35",
         "501"
        ],
        [
         "49",
         "49",
         "36.92",
         "485"
        ]
       ],
       "shape": {
        "columns": 3,
        "rows": 100
       }
      },
      "text/html": [
       "<div>\n",
       "<style scoped>\n",
       "    .dataframe tbody tr th:only-of-type {\n",
       "        vertical-align: middle;\n",
       "    }\n",
       "\n",
       "    .dataframe tbody tr th {\n",
       "        vertical-align: top;\n",
       "    }\n",
       "\n",
       "    .dataframe thead th {\n",
       "        text-align: right;\n",
       "    }\n",
       "</style>\n",
       "<table border=\"1\" class=\"dataframe\">\n",
       "  <thead>\n",
       "    <tr style=\"text-align: right;\">\n",
       "      <th></th>\n",
       "      <th>Chan</th>\n",
       "      <th>Energy</th>\n",
       "      <th>Counts</th>\n",
       "    </tr>\n",
       "  </thead>\n",
       "  <tbody>\n",
       "    <tr>\n",
       "      <th>0</th>\n",
       "      <td>0</td>\n",
       "      <td>-88.74</td>\n",
       "      <td>0</td>\n",
       "    </tr>\n",
       "    <tr>\n",
       "      <th>1</th>\n",
       "      <td>1</td>\n",
       "      <td>-86.18</td>\n",
       "      <td>0</td>\n",
       "    </tr>\n",
       "    <tr>\n",
       "      <th>2</th>\n",
       "      <td>2</td>\n",
       "      <td>-83.61</td>\n",
       "      <td>0</td>\n",
       "    </tr>\n",
       "    <tr>\n",
       "      <th>3</th>\n",
       "      <td>3</td>\n",
       "      <td>-81.05</td>\n",
       "      <td>0</td>\n",
       "    </tr>\n",
       "    <tr>\n",
       "      <th>4</th>\n",
       "      <td>4</td>\n",
       "      <td>-78.48</td>\n",
       "      <td>0</td>\n",
       "    </tr>\n",
       "    <tr>\n",
       "      <th>...</th>\n",
       "      <td>...</td>\n",
       "      <td>...</td>\n",
       "      <td>...</td>\n",
       "    </tr>\n",
       "    <tr>\n",
       "      <th>95</th>\n",
       "      <td>95</td>\n",
       "      <td>154.89</td>\n",
       "      <td>706</td>\n",
       "    </tr>\n",
       "    <tr>\n",
       "      <th>96</th>\n",
       "      <td>96</td>\n",
       "      <td>157.45</td>\n",
       "      <td>701</td>\n",
       "    </tr>\n",
       "    <tr>\n",
       "      <th>97</th>\n",
       "      <td>97</td>\n",
       "      <td>160.02</td>\n",
       "      <td>630</td>\n",
       "    </tr>\n",
       "    <tr>\n",
       "      <th>98</th>\n",
       "      <td>98</td>\n",
       "      <td>162.58</td>\n",
       "      <td>675</td>\n",
       "    </tr>\n",
       "    <tr>\n",
       "      <th>99</th>\n",
       "      <td>99</td>\n",
       "      <td>165.15</td>\n",
       "      <td>688</td>\n",
       "    </tr>\n",
       "  </tbody>\n",
       "</table>\n",
       "<p>100 rows × 3 columns</p>\n",
       "</div>"
      ],
      "text/plain": [
       "    Chan  Energy  Counts\n",
       "0      0  -88.74       0\n",
       "1      1  -86.18       0\n",
       "2      2  -83.61       0\n",
       "3      3  -81.05       0\n",
       "4      4  -78.48       0\n",
       "..   ...     ...     ...\n",
       "95    95  154.89     706\n",
       "96    96  157.45     701\n",
       "97    97  160.02     630\n",
       "98    98  162.58     675\n",
       "99    99  165.15     688\n",
       "\n",
       "[100 rows x 3 columns]"
      ]
     },
     "execution_count": 12,
     "metadata": {},
     "output_type": "execute_result"
    }
   ],
   "source": [
    "data8 = 'cs137_code19_t100.csv'\n",
    "\n",
    "df8 = pd.read_csv(data8)\n",
    "\n",
    "df8.info()\n",
    "df8.head(100)  # Print the first few rows of the DataFrame"
   ]
  },
  {
   "cell_type": "markdown",
   "metadata": {},
   "source": [
    "### Gabung dataset"
   ]
  },
  {
   "cell_type": "code",
   "execution_count": 13,
   "metadata": {},
   "outputs": [
    {
     "name": "stdout",
     "output_type": "stream",
     "text": [
      "<class 'pandas.core.frame.DataFrame'>\n",
      "RangeIndex: 4096 entries, 0 to 4095\n",
      "Data columns (total 3 columns):\n",
      " #   Column  Non-Null Count  Dtype  \n",
      "---  ------  --------------  -----  \n",
      " 0   Chan    4096 non-null   int64  \n",
      " 1   Energy  4096 non-null   float64\n",
      " 2   Counts  4096 non-null   int64  \n",
      "dtypes: float64(1), int64(2)\n",
      "memory usage: 96.1 KB\n"
     ]
    },
    {
     "data": {
      "application/vnd.microsoft.datawrangler.viewer.v0+json": {
       "columns": [
        {
         "name": "index",
         "rawType": "int64",
         "type": "integer"
        },
        {
         "name": "Chan",
         "rawType": "int64",
         "type": "integer"
        },
        {
         "name": "Energy",
         "rawType": "float64",
         "type": "float"
        },
        {
         "name": "Counts",
         "rawType": "int64",
         "type": "integer"
        }
       ],
       "ref": "c247afc0-fd86-41d2-9c56-d888b46a13d8",
       "rows": [
        [
         "0",
         "0",
         "-88.74",
         "0"
        ],
        [
         "1",
         "1",
         "-86.18",
         "0"
        ],
        [
         "2",
         "2",
         "-83.61",
         "0"
        ],
        [
         "3",
         "3",
         "-81.05",
         "0"
        ],
        [
         "4",
         "4",
         "-78.48",
         "0"
        ],
        [
         "5",
         "5",
         "-75.92",
         "0"
        ],
        [
         "6",
         "6",
         "-73.35",
         "0"
        ],
        [
         "7",
         "7",
         "-70.79",
         "0"
        ],
        [
         "8",
         "8",
         "-68.23",
         "0"
        ],
        [
         "9",
         "9",
         "-65.66",
         "0"
        ],
        [
         "10",
         "10",
         "-63.1",
         "0"
        ],
        [
         "11",
         "11",
         "-60.53",
         "1"
        ],
        [
         "12",
         "12",
         "-57.97",
         "9"
        ],
        [
         "13",
         "13",
         "-55.4",
         "389"
        ],
        [
         "14",
         "14",
         "-52.84",
         "303"
        ],
        [
         "15",
         "15",
         "-50.27",
         "187"
        ],
        [
         "16",
         "16",
         "-47.71",
         "155"
        ],
        [
         "17",
         "17",
         "-45.15",
         "118"
        ],
        [
         "18",
         "18",
         "-42.58",
         "101"
        ],
        [
         "19",
         "19",
         "-40.02",
         "93"
        ],
        [
         "20",
         "20",
         "-37.45",
         "93"
        ],
        [
         "21",
         "21",
         "-34.89",
         "77"
        ],
        [
         "22",
         "22",
         "-32.32",
         "78"
        ],
        [
         "23",
         "23",
         "-29.76",
         "89"
        ],
        [
         "24",
         "24",
         "-27.19",
         "96"
        ],
        [
         "25",
         "25",
         "-24.63",
         "105"
        ],
        [
         "26",
         "26",
         "-22.06",
         "113"
        ],
        [
         "27",
         "27",
         "-19.5",
         "123"
        ],
        [
         "28",
         "28",
         "-16.94",
         "118"
        ],
        [
         "29",
         "29",
         "-14.37",
         "133"
        ],
        [
         "30",
         "30",
         "-11.81",
         "154"
        ],
        [
         "31",
         "31",
         "-9.24",
         "134"
        ],
        [
         "32",
         "32",
         "-6.68",
         "123"
        ],
        [
         "33",
         "33",
         "-4.11",
         "134"
        ],
        [
         "34",
         "34",
         "-1.55",
         "139"
        ],
        [
         "35",
         "35",
         "1.02",
         "104"
        ],
        [
         "36",
         "36",
         "3.58",
         "111"
        ],
        [
         "37",
         "37",
         "6.15",
         "107"
        ],
        [
         "38",
         "38",
         "8.71",
         "100"
        ],
        [
         "39",
         "39",
         "11.27",
         "91"
        ],
        [
         "40",
         "40",
         "13.84",
         "83"
        ],
        [
         "41",
         "41",
         "16.4",
         "105"
        ],
        [
         "42",
         "42",
         "18.97",
         "86"
        ],
        [
         "43",
         "43",
         "21.53",
         "84"
        ],
        [
         "44",
         "44",
         "24.1",
         "101"
        ],
        [
         "45",
         "45",
         "26.66",
         "86"
        ],
        [
         "46",
         "46",
         "29.23",
         "96"
        ],
        [
         "47",
         "47",
         "31.79",
         "96"
        ],
        [
         "48",
         "48",
         "34.35",
         "79"
        ],
        [
         "49",
         "49",
         "36.92",
         "89"
        ]
       ],
       "shape": {
        "columns": 3,
        "rows": 100
       }
      },
      "text/html": [
       "<div>\n",
       "<style scoped>\n",
       "    .dataframe tbody tr th:only-of-type {\n",
       "        vertical-align: middle;\n",
       "    }\n",
       "\n",
       "    .dataframe tbody tr th {\n",
       "        vertical-align: top;\n",
       "    }\n",
       "\n",
       "    .dataframe thead th {\n",
       "        text-align: right;\n",
       "    }\n",
       "</style>\n",
       "<table border=\"1\" class=\"dataframe\">\n",
       "  <thead>\n",
       "    <tr style=\"text-align: right;\">\n",
       "      <th></th>\n",
       "      <th>Chan</th>\n",
       "      <th>Energy</th>\n",
       "      <th>Counts</th>\n",
       "    </tr>\n",
       "  </thead>\n",
       "  <tbody>\n",
       "    <tr>\n",
       "      <th>0</th>\n",
       "      <td>0</td>\n",
       "      <td>-88.74</td>\n",
       "      <td>0</td>\n",
       "    </tr>\n",
       "    <tr>\n",
       "      <th>1</th>\n",
       "      <td>1</td>\n",
       "      <td>-86.18</td>\n",
       "      <td>0</td>\n",
       "    </tr>\n",
       "    <tr>\n",
       "      <th>2</th>\n",
       "      <td>2</td>\n",
       "      <td>-83.61</td>\n",
       "      <td>0</td>\n",
       "    </tr>\n",
       "    <tr>\n",
       "      <th>3</th>\n",
       "      <td>3</td>\n",
       "      <td>-81.05</td>\n",
       "      <td>0</td>\n",
       "    </tr>\n",
       "    <tr>\n",
       "      <th>4</th>\n",
       "      <td>4</td>\n",
       "      <td>-78.48</td>\n",
       "      <td>0</td>\n",
       "    </tr>\n",
       "    <tr>\n",
       "      <th>...</th>\n",
       "      <td>...</td>\n",
       "      <td>...</td>\n",
       "      <td>...</td>\n",
       "    </tr>\n",
       "    <tr>\n",
       "      <th>95</th>\n",
       "      <td>95</td>\n",
       "      <td>154.89</td>\n",
       "      <td>110</td>\n",
       "    </tr>\n",
       "    <tr>\n",
       "      <th>96</th>\n",
       "      <td>96</td>\n",
       "      <td>157.45</td>\n",
       "      <td>112</td>\n",
       "    </tr>\n",
       "    <tr>\n",
       "      <th>97</th>\n",
       "      <td>97</td>\n",
       "      <td>160.02</td>\n",
       "      <td>107</td>\n",
       "    </tr>\n",
       "    <tr>\n",
       "      <th>98</th>\n",
       "      <td>98</td>\n",
       "      <td>162.58</td>\n",
       "      <td>97</td>\n",
       "    </tr>\n",
       "    <tr>\n",
       "      <th>99</th>\n",
       "      <td>99</td>\n",
       "      <td>165.15</td>\n",
       "      <td>122</td>\n",
       "    </tr>\n",
       "  </tbody>\n",
       "</table>\n",
       "<p>100 rows × 3 columns</p>\n",
       "</div>"
      ],
      "text/plain": [
       "    Chan  Energy  Counts\n",
       "0      0  -88.74       0\n",
       "1      1  -86.18       0\n",
       "2      2  -83.61       0\n",
       "3      3  -81.05       0\n",
       "4      4  -78.48       0\n",
       "..   ...     ...     ...\n",
       "95    95  154.89     110\n",
       "96    96  157.45     112\n",
       "97    97  160.02     107\n",
       "98    98  162.58      97\n",
       "99    99  165.15     122\n",
       "\n",
       "[100 rows x 3 columns]"
      ]
     },
     "execution_count": 13,
     "metadata": {},
     "output_type": "execute_result"
    }
   ],
   "source": [
    "# Combine dataframes df1, df2, df3, and df4 into a single DataFrame\n",
    "cs_df = pd.concat([df5, df6, df7, df8], ignore_index=True)\n",
    "\n",
    "# Display info and first few rows of the combined DataFrame\n",
    "cs_df.info()\n",
    "cs_df.head(100)"
   ]
  },
  {
   "cell_type": "markdown",
   "metadata": {},
   "source": [
    "<b> Penggabungan DataFrame Cs-137 </b>\n",
    "\n",
    "Pada sel kode di atas, dilakukan penggabungan empat DataFrame (`df5`, `df6`, `df7`, dan `df8`) yang berisi data Cs-137 menjadi satu DataFrame baru bernama `cs_df` menggunakan fungsi `pd.concat()`. Penggabungan ini dilakukan secara vertikal (baris demi baris) dengan opsi `ignore_index=True` agar indeks pada DataFrame hasil penggabungan di-reset.\n",
    "\n",
    "Setelah penggabungan, informasi struktur DataFrame (`cs_df.info()`) dan 100 baris pertama data (`cs_df.head(100)`) ditampilkan untuk memastikan data sudah tergabung dengan benar dan untuk melihat sekilas isi data yang akan digunakan pada analisis selanjutnya."
   ]
  },
  {
   "cell_type": "markdown",
   "metadata": {},
   "source": [
    "### Tambah label"
   ]
  },
  {
   "cell_type": "code",
   "execution_count": 14,
   "metadata": {
    "colab": {
     "base_uri": "https://localhost:8080/",
     "height": 606
    },
    "executionInfo": {
     "elapsed": 467,
     "status": "ok",
     "timestamp": 1738136716973,
     "user": {
      "displayName": "David Irfan Jasir",
      "userId": "11871450647194869092"
     },
     "user_tz": -420
    },
    "id": "ieX_Qy-xBUuM",
    "outputId": "cd4a644d-0ba3-40bf-e06c-35f3e1ff4e87"
   },
   "outputs": [
    {
     "name": "stdout",
     "output_type": "stream",
     "text": [
      "<class 'pandas.core.frame.DataFrame'>\n",
      "RangeIndex: 4096 entries, 0 to 4095\n",
      "Data columns (total 4 columns):\n",
      " #   Column  Non-Null Count  Dtype  \n",
      "---  ------  --------------  -----  \n",
      " 0   Chan    4096 non-null   int64  \n",
      " 1   Energy  4096 non-null   float64\n",
      " 2   Counts  4096 non-null   int64  \n",
      " 3   Label   4096 non-null   int64  \n",
      "dtypes: float64(1), int64(3)\n",
      "memory usage: 128.1 KB\n"
     ]
    },
    {
     "data": {
      "application/vnd.microsoft.datawrangler.viewer.v0+json": {
       "columns": [
        {
         "name": "index",
         "rawType": "int64",
         "type": "integer"
        },
        {
         "name": "Chan",
         "rawType": "int64",
         "type": "integer"
        },
        {
         "name": "Energy",
         "rawType": "float64",
         "type": "float"
        },
        {
         "name": "Counts",
         "rawType": "int64",
         "type": "integer"
        },
        {
         "name": "Label",
         "rawType": "int64",
         "type": "integer"
        }
       ],
       "ref": "fba87169-805f-41f1-bf50-97c82aa0eb99",
       "rows": [
        [
         "0",
         "0",
         "-88.74",
         "0",
         "1"
        ],
        [
         "1",
         "1",
         "-86.18",
         "0",
         "1"
        ],
        [
         "2",
         "2",
         "-83.61",
         "0",
         "1"
        ],
        [
         "3",
         "3",
         "-81.05",
         "0",
         "1"
        ],
        [
         "4",
         "4",
         "-78.48",
         "0",
         "1"
        ],
        [
         "5",
         "5",
         "-75.92",
         "0",
         "1"
        ],
        [
         "6",
         "6",
         "-73.35",
         "0",
         "1"
        ],
        [
         "7",
         "7",
         "-70.79",
         "0",
         "1"
        ],
        [
         "8",
         "8",
         "-68.23",
         "0",
         "1"
        ],
        [
         "9",
         "9",
         "-65.66",
         "0",
         "1"
        ],
        [
         "10",
         "10",
         "-63.1",
         "0",
         "1"
        ],
        [
         "11",
         "11",
         "-60.53",
         "1",
         "1"
        ],
        [
         "12",
         "12",
         "-57.97",
         "9",
         "1"
        ],
        [
         "13",
         "13",
         "-55.4",
         "389",
         "1"
        ],
        [
         "14",
         "14",
         "-52.84",
         "303",
         "1"
        ],
        [
         "15",
         "15",
         "-50.27",
         "187",
         "1"
        ],
        [
         "16",
         "16",
         "-47.71",
         "155",
         "1"
        ],
        [
         "17",
         "17",
         "-45.15",
         "118",
         "1"
        ],
        [
         "18",
         "18",
         "-42.58",
         "101",
         "1"
        ],
        [
         "19",
         "19",
         "-40.02",
         "93",
         "1"
        ],
        [
         "20",
         "20",
         "-37.45",
         "93",
         "1"
        ],
        [
         "21",
         "21",
         "-34.89",
         "77",
         "1"
        ],
        [
         "22",
         "22",
         "-32.32",
         "78",
         "1"
        ],
        [
         "23",
         "23",
         "-29.76",
         "89",
         "1"
        ],
        [
         "24",
         "24",
         "-27.19",
         "96",
         "1"
        ],
        [
         "25",
         "25",
         "-24.63",
         "105",
         "1"
        ],
        [
         "26",
         "26",
         "-22.06",
         "113",
         "1"
        ],
        [
         "27",
         "27",
         "-19.5",
         "123",
         "1"
        ],
        [
         "28",
         "28",
         "-16.94",
         "118",
         "1"
        ],
        [
         "29",
         "29",
         "-14.37",
         "133",
         "1"
        ],
        [
         "30",
         "30",
         "-11.81",
         "154",
         "1"
        ],
        [
         "31",
         "31",
         "-9.24",
         "134",
         "1"
        ],
        [
         "32",
         "32",
         "-6.68",
         "123",
         "1"
        ],
        [
         "33",
         "33",
         "-4.11",
         "134",
         "1"
        ],
        [
         "34",
         "34",
         "-1.55",
         "139",
         "1"
        ],
        [
         "35",
         "35",
         "1.02",
         "104",
         "1"
        ],
        [
         "36",
         "36",
         "3.58",
         "111",
         "1"
        ],
        [
         "37",
         "37",
         "6.15",
         "107",
         "1"
        ],
        [
         "38",
         "38",
         "8.71",
         "100",
         "1"
        ],
        [
         "39",
         "39",
         "11.27",
         "91",
         "1"
        ],
        [
         "40",
         "40",
         "13.84",
         "83",
         "1"
        ],
        [
         "41",
         "41",
         "16.4",
         "105",
         "1"
        ],
        [
         "42",
         "42",
         "18.97",
         "86",
         "1"
        ],
        [
         "43",
         "43",
         "21.53",
         "84",
         "1"
        ],
        [
         "44",
         "44",
         "24.1",
         "101",
         "1"
        ],
        [
         "45",
         "45",
         "26.66",
         "86",
         "1"
        ],
        [
         "46",
         "46",
         "29.23",
         "96",
         "1"
        ],
        [
         "47",
         "47",
         "31.79",
         "96",
         "1"
        ],
        [
         "48",
         "48",
         "34.35",
         "79",
         "1"
        ],
        [
         "49",
         "49",
         "36.92",
         "89",
         "1"
        ]
       ],
       "shape": {
        "columns": 4,
        "rows": 100
       }
      },
      "text/html": [
       "<div>\n",
       "<style scoped>\n",
       "    .dataframe tbody tr th:only-of-type {\n",
       "        vertical-align: middle;\n",
       "    }\n",
       "\n",
       "    .dataframe tbody tr th {\n",
       "        vertical-align: top;\n",
       "    }\n",
       "\n",
       "    .dataframe thead th {\n",
       "        text-align: right;\n",
       "    }\n",
       "</style>\n",
       "<table border=\"1\" class=\"dataframe\">\n",
       "  <thead>\n",
       "    <tr style=\"text-align: right;\">\n",
       "      <th></th>\n",
       "      <th>Chan</th>\n",
       "      <th>Energy</th>\n",
       "      <th>Counts</th>\n",
       "      <th>Label</th>\n",
       "    </tr>\n",
       "  </thead>\n",
       "  <tbody>\n",
       "    <tr>\n",
       "      <th>0</th>\n",
       "      <td>0</td>\n",
       "      <td>-88.74</td>\n",
       "      <td>0</td>\n",
       "      <td>1</td>\n",
       "    </tr>\n",
       "    <tr>\n",
       "      <th>1</th>\n",
       "      <td>1</td>\n",
       "      <td>-86.18</td>\n",
       "      <td>0</td>\n",
       "      <td>1</td>\n",
       "    </tr>\n",
       "    <tr>\n",
       "      <th>2</th>\n",
       "      <td>2</td>\n",
       "      <td>-83.61</td>\n",
       "      <td>0</td>\n",
       "      <td>1</td>\n",
       "    </tr>\n",
       "    <tr>\n",
       "      <th>3</th>\n",
       "      <td>3</td>\n",
       "      <td>-81.05</td>\n",
       "      <td>0</td>\n",
       "      <td>1</td>\n",
       "    </tr>\n",
       "    <tr>\n",
       "      <th>4</th>\n",
       "      <td>4</td>\n",
       "      <td>-78.48</td>\n",
       "      <td>0</td>\n",
       "      <td>1</td>\n",
       "    </tr>\n",
       "    <tr>\n",
       "      <th>...</th>\n",
       "      <td>...</td>\n",
       "      <td>...</td>\n",
       "      <td>...</td>\n",
       "      <td>...</td>\n",
       "    </tr>\n",
       "    <tr>\n",
       "      <th>95</th>\n",
       "      <td>95</td>\n",
       "      <td>154.89</td>\n",
       "      <td>110</td>\n",
       "      <td>1</td>\n",
       "    </tr>\n",
       "    <tr>\n",
       "      <th>96</th>\n",
       "      <td>96</td>\n",
       "      <td>157.45</td>\n",
       "      <td>112</td>\n",
       "      <td>1</td>\n",
       "    </tr>\n",
       "    <tr>\n",
       "      <th>97</th>\n",
       "      <td>97</td>\n",
       "      <td>160.02</td>\n",
       "      <td>107</td>\n",
       "      <td>1</td>\n",
       "    </tr>\n",
       "    <tr>\n",
       "      <th>98</th>\n",
       "      <td>98</td>\n",
       "      <td>162.58</td>\n",
       "      <td>97</td>\n",
       "      <td>1</td>\n",
       "    </tr>\n",
       "    <tr>\n",
       "      <th>99</th>\n",
       "      <td>99</td>\n",
       "      <td>165.15</td>\n",
       "      <td>122</td>\n",
       "      <td>1</td>\n",
       "    </tr>\n",
       "  </tbody>\n",
       "</table>\n",
       "<p>100 rows × 4 columns</p>\n",
       "</div>"
      ],
      "text/plain": [
       "    Chan  Energy  Counts  Label\n",
       "0      0  -88.74       0      1\n",
       "1      1  -86.18       0      1\n",
       "2      2  -83.61       0      1\n",
       "3      3  -81.05       0      1\n",
       "4      4  -78.48       0      1\n",
       "..   ...     ...     ...    ...\n",
       "95    95  154.89     110      1\n",
       "96    96  157.45     112      1\n",
       "97    97  160.02     107      1\n",
       "98    98  162.58      97      1\n",
       "99    99  165.15     122      1\n",
       "\n",
       "[100 rows x 4 columns]"
      ]
     },
     "execution_count": 14,
     "metadata": {},
     "output_type": "execute_result"
    }
   ],
   "source": [
    "# add one column as label \"Cs-137\"\n",
    "\n",
    "cs_df['Label'] = '1'\n",
    "cs_df['Label'] = cs_df['Label'].astype(np.int64)  # Convert the 'Label' column to int64 type\n",
    "\n",
    "cs_df.info()\n",
    "cs_df.head(100)"
   ]
  },
  {
   "cell_type": "markdown",
   "metadata": {},
   "source": [
    "<b> Menambahkan Kolom Label pada DataFrame Cs-137 </b>\n",
    "\n",
    "Pada sel kode di atas, dilakukan penambahan kolom baru bernama `Label` pada DataFrame `cs_df` untuk memberikan label khusus pada data Cs-137, yaitu `1`. Langkah-langkah yang dilakukan adalah:\n",
    "\n",
    "- Menambahkan kolom `Label` dengan nilai awal `'1'` untuk seluruh baris.\n",
    "- Mengubah tipe data kolom `Label` menjadi `int64` menggunakan fungsi `astype(np.int64)` agar sesuai dengan kebutuhan analisis data numerik.\n",
    "- Menampilkan struktur DataFrame menggunakan `info()` untuk memastikan kolom baru sudah ditambahkan dan tipe datanya benar.\n",
    "- Menampilkan 100 baris pertama data menggunakan `head(100)` untuk melihat hasil penambahan kolom label.\n",
    "\n",
    "Penambahan label ini penting agar data Cs-137 dapat dibedakan dengan data lain pada proses analisis atau pelatihan model selanjutnya."
   ]
  },
  {
   "cell_type": "markdown",
   "metadata": {},
   "source": [
    "### Memeriksa grafik"
   ]
  },
  {
   "cell_type": "code",
   "execution_count": 15,
   "metadata": {
    "colab": {
     "base_uri": "https://localhost:8080/",
     "height": 718
    },
    "executionInfo": {
     "elapsed": 2027,
     "status": "ok",
     "timestamp": 1738136774743,
     "user": {
      "displayName": "David Irfan Jasir",
      "userId": "11871450647194869092"
     },
     "user_tz": -420
    },
    "id": "_zN7lAJ0Bi0z",
    "outputId": "7c131031-d7a4-4d6e-c632-499d96703ac5"
   },
   "outputs": [
    {
     "data": {
      "image/png": "[encoded data removed]",
      "text/plain": [
       "<Figure size 2000x600 with 2 Axes>"
      ]
     },
     "metadata": {},
     "output_type": "display_data"
    }
   ],
   "source": [
    "# Scatter plot for Energy vs Counts\n",
    "plt.figure(figsize=(20, 6))\n",
    "\n",
    "# Scatter plot for Energy vs Counts\n",
    "plt.subplot(1, 2, 1)  # 1 row, 2 columns, 1st subplot\n",
    "plt.scatter(cs_df['Energy'], cs_df['Counts'], s=5, c='blue', label='Energy vs Counts')\n",
    "plt.xlabel('Energy')\n",
    "plt.ylabel('Counts')\n",
    "plt.title('Energy vs Counts')\n",
    "plt.grid(True)\n",
    "plt.legend()\n",
    "\n",
    "# Scatter plot for Channel vs Counts\n",
    "plt.subplot(1, 2, 2)  # 1 row, 2 columns, 2nd subplot\n",
    "plt.scatter(cs_df['Chan'], cs_df['Counts'], s=5, c='red', label='Channel vs Counts')\n",
    "plt.xlabel('Channel')\n",
    "plt.ylabel('Counts')\n",
    "plt.title('Channel vs Counts')\n",
    "plt.grid(True)\n",
    "plt.legend()\n",
    "\n",
    "plt.show()"
   ]
  },
  {
   "cell_type": "markdown",
   "metadata": {},
   "source": [
    "<b> Visualisasi Data Cs-137 </b>\n",
    "\n",
    "Pada sel kode di atas, dilakukan visualisasi data Cs-137 yang telah digabungkan dalam DataFrame `cs_df`. Dua scatter plot dibuat untuk memperlihatkan hubungan antara variabel-variabel penting:\n",
    "\n",
    "1. **Energy vs Counts**:\n",
    "    - Sumbu x merepresentasikan nilai Energy, sedangkan sumbu y menunjukkan Counts.\n",
    "    - Setiap titik pada plot menggambarkan jumlah hitungan (Counts) pada energi tertentu.\n",
    "    - Plot ini membantu mengidentifikasi puncak-puncak energi pada spektrum Cs-137.\n",
    "\n",
    "2. **Channel vs Counts**:\n",
    "    - Sumbu x merepresentasikan Channel, sedangkan sumbu y menunjukkan Counts.\n",
    "    - Plot ini memperlihatkan distribusi hitungan berdasarkan channel detektor.\n",
    "    - Berguna untuk melihat pola distribusi counts pada rentang channel tertentu.\n",
    "\n",
    "Penggunaan dua subplot dalam satu figure memudahkan perbandingan visual antara hubungan Energy-Counts dan Channel-Counts. Fitur grid, label sumbu, judul, dan legenda ditambahkan untuk memperjelas informasi pada masing-masing plot."
   ]
  },
  {
   "cell_type": "markdown",
   "metadata": {},
   "source": [
    "## Gabung Co dan Cs"
   ]
  },
  {
   "cell_type": "code",
   "execution_count": 16,
   "metadata": {
    "colab": {
     "base_uri": "https://localhost:8080/",
     "height": 606
    },
    "executionInfo": {
     "elapsed": 424,
     "status": "ok",
     "timestamp": 1738136905670,
     "user": {
      "displayName": "David Irfan Jasir",
      "userId": "11871450647194869092"
     },
     "user_tz": -420
    },
    "id": "kkurqHJmB32Y",
    "outputId": "2f21e835-f272-4030-a46a-69da3eda092f"
   },
   "outputs": [
    {
     "name": "stdout",
     "output_type": "stream",
     "text": [
      "<class 'pandas.core.frame.DataFrame'>\n",
      "RangeIndex: 8192 entries, 0 to 8191\n",
      "Data columns (total 4 columns):\n",
      " #   Column  Non-Null Count  Dtype  \n",
      "---  ------  --------------  -----  \n",
      " 0   Chan    8192 non-null   int64  \n",
      " 1   Energy  8192 non-null   float64\n",
      " 2   Counts  8192 non-null   int64  \n",
      " 3   Label   8192 non-null   int64  \n",
      "dtypes: float64(1), int64(3)\n",
      "memory usage: 256.1 KB\n"
     ]
    },
    {
     "data": {
      "application/vnd.microsoft.datawrangler.viewer.v0+json": {
       "columns": [
        {
         "name": "index",
         "rawType": "int64",
         "type": "integer"
        },
        {
         "name": "Chan",
         "rawType": "int64",
         "type": "integer"
        },
        {
         "name": "Energy",
         "rawType": "float64",
         "type": "float"
        },
        {
         "name": "Counts",
         "rawType": "int64",
         "type": "integer"
        },
        {
         "name": "Label",
         "rawType": "int64",
         "type": "integer"
        }
       ],
       "ref": "0e4da548-b7d3-4d27-8b4b-0bd717d136a5",
       "rows": [
        [
         "0",
         "0",
         "-88.74",
         "0",
         "0"
        ],
        [
         "1",
         "1",
         "-86.18",
         "0",
         "0"
        ],
        [
         "2",
         "2",
         "-83.61",
         "0",
         "0"
        ],
        [
         "3",
         "3",
         "-81.05",
         "0",
         "0"
        ],
        [
         "4",
         "4",
         "-78.48",
         "0",
         "0"
        ],
        [
         "5",
         "5",
         "-75.92",
         "0",
         "0"
        ],
        [
         "6",
         "6",
         "-73.35",
         "0",
         "0"
        ],
        [
         "7",
         "7",
         "-70.79",
         "0",
         "0"
        ],
        [
         "8",
         "8",
         "-68.23",
         "0",
         "0"
        ],
        [
         "9",
         "9",
         "-65.66",
         "0",
         "0"
        ],
        [
         "10",
         "10",
         "-63.1",
         "0",
         "0"
        ],
        [
         "11",
         "11",
         "-60.53",
         "0",
         "0"
        ],
        [
         "12",
         "12",
         "-57.97",
         "4",
         "0"
        ],
        [
         "13",
         "13",
         "-55.4",
         "114",
         "0"
        ],
        [
         "14",
         "14",
         "-52.84",
         "146",
         "0"
        ],
        [
         "15",
         "15",
         "-50.27",
         "149",
         "0"
        ],
        [
         "16",
         "16",
         "-47.71",
         "154",
         "0"
        ],
        [
         "17",
         "17",
         "-45.15",
         "179",
         "0"
        ],
        [
         "18",
         "18",
         "-42.58",
         "168",
         "0"
        ],
        [
         "19",
         "19",
         "-40.02",
         "171",
         "0"
        ],
        [
         "20",
         "20",
         "-37.45",
         "161",
         "0"
        ],
        [
         "21",
         "21",
         "-34.89",
         "151",
         "0"
        ],
        [
         "22",
         "22",
         "-32.32",
         "158",
         "0"
        ],
        [
         "23",
         "23",
         "-29.76",
         "175",
         "0"
        ],
        [
         "24",
         "24",
         "-27.19",
         "181",
         "0"
        ],
        [
         "25",
         "25",
         "-24.63",
         "180",
         "0"
        ],
        [
         "26",
         "26",
         "-22.06",
         "201",
         "0"
        ],
        [
         "27",
         "27",
         "-19.5",
         "201",
         "0"
        ],
        [
         "28",
         "28",
         "-16.94",
         "240",
         "0"
        ],
        [
         "29",
         "29",
         "-14.37",
         "223",
         "0"
        ],
        [
         "30",
         "30",
         "-11.81",
         "233",
         "0"
        ],
        [
         "31",
         "31",
         "-9.24",
         "227",
         "0"
        ],
        [
         "32",
         "32",
         "-6.68",
         "224",
         "0"
        ],
        [
         "33",
         "33",
         "-4.11",
         "181",
         "0"
        ],
        [
         "34",
         "34",
         "-1.55",
         "210",
         "0"
        ],
        [
         "35",
         "35",
         "1.02",
         "202",
         "0"
        ],
        [
         "36",
         "36",
         "3.58",
         "187",
         "0"
        ],
        [
         "37",
         "37",
         "6.15",
         "177",
         "0"
        ],
        [
         "38",
         "38",
         "8.71",
         "170",
         "0"
        ],
        [
         "39",
         "39",
         "11.27",
         "164",
         "0"
        ],
        [
         "40",
         "40",
         "13.84",
         "138",
         "0"
        ],
        [
         "41",
         "41",
         "16.4",
         "135",
         "0"
        ],
        [
         "42",
         "42",
         "18.97",
         "122",
         "0"
        ],
        [
         "43",
         "43",
         "21.53",
         "149",
         "0"
        ],
        [
         "44",
         "44",
         "24.1",
         "154",
         "0"
        ],
        [
         "45",
         "45",
         "26.66",
         "115",
         "0"
        ],
        [
         "46",
         "46",
         "29.23",
         "154",
         "0"
        ],
        [
         "47",
         "47",
         "31.79",
         "139",
         "0"
        ],
        [
         "48",
         "48",
         "34.35",
         "145",
         "0"
        ],
        [
         "49",
         "49",
         "36.92",
         "142",
         "0"
        ]
       ],
       "shape": {
        "columns": 4,
        "rows": 100
       }
      },
      "text/html": [
       "<div>\n",
       "<style scoped>\n",
       "    .dataframe tbody tr th:only-of-type {\n",
       "        vertical-align: middle;\n",
       "    }\n",
       "\n",
       "    .dataframe tbody tr th {\n",
       "        vertical-align: top;\n",
       "    }\n",
       "\n",
       "    .dataframe thead th {\n",
       "        text-align: right;\n",
       "    }\n",
       "</style>\n",
       "<table border=\"1\" class=\"dataframe\">\n",
       "  <thead>\n",
       "    <tr style=\"text-align: right;\">\n",
       "      <th></th>\n",
       "      <th>Chan</th>\n",
       "      <th>Energy</th>\n",
       "      <th>Counts</th>\n",
       "      <th>Label</th>\n",
       "    </tr>\n",
       "  </thead>\n",
       "  <tbody>\n",
       "    <tr>\n",
       "      <th>0</th>\n",
       "      <td>0</td>\n",
       "      <td>-88.74</td>\n",
       "      <td>0</td>\n",
       "      <td>0</td>\n",
       "    </tr>\n",
       "    <tr>\n",
       "      <th>1</th>\n",
       "      <td>1</td>\n",
       "      <td>-86.18</td>\n",
       "      <td>0</td>\n",
       "      <td>0</td>\n",
       "    </tr>\n",
       "    <tr>\n",
       "      <th>2</th>\n",
       "      <td>2</td>\n",
       "      <td>-83.61</td>\n",
       "      <td>0</td>\n",
       "      <td>0</td>\n",
       "    </tr>\n",
       "    <tr>\n",
       "      <th>3</th>\n",
       "      <td>3</td>\n",
       "      <td>-81.05</td>\n",
       "      <td>0</td>\n",
       "      <td>0</td>\n",
       "    </tr>\n",
       "    <tr>\n",
       "      <th>4</th>\n",
       "      <td>4</td>\n",
       "      <td>-78.48</td>\n",
       "      <td>0</td>\n",
       "      <td>0</td>\n",
       "    </tr>\n",
       "    <tr>\n",
       "      <th>...</th>\n",
       "      <td>...</td>\n",
       "      <td>...</td>\n",
       "      <td>...</td>\n",
       "      <td>...</td>\n",
       "    </tr>\n",
       "    <tr>\n",
       "      <th>95</th>\n",
       "      <td>95</td>\n",
       "      <td>154.89</td>\n",
       "      <td>223</td>\n",
       "      <td>0</td>\n",
       "    </tr>\n",
       "    <tr>\n",
       "      <th>96</th>\n",
       "      <td>96</td>\n",
       "      <td>157.45</td>\n",
       "      <td>199</td>\n",
       "      <td>0</td>\n",
       "    </tr>\n",
       "    <tr>\n",
       "      <th>97</th>\n",
       "      <td>97</td>\n",
       "      <td>160.02</td>\n",
       "      <td>216</td>\n",
       "      <td>0</td>\n",
       "    </tr>\n",
       "    <tr>\n",
       "      <th>98</th>\n",
       "      <td>98</td>\n",
       "      <td>162.58</td>\n",
       "      <td>214</td>\n",
       "      <td>0</td>\n",
       "    </tr>\n",
       "    <tr>\n",
       "      <th>99</th>\n",
       "      <td>99</td>\n",
       "      <td>165.15</td>\n",
       "      <td>232</td>\n",
       "      <td>0</td>\n",
       "    </tr>\n",
       "  </tbody>\n",
       "</table>\n",
       "<p>100 rows × 4 columns</p>\n",
       "</div>"
      ],
      "text/plain": [
       "    Chan  Energy  Counts  Label\n",
       "0      0  -88.74       0      0\n",
       "1      1  -86.18       0      0\n",
       "2      2  -83.61       0      0\n",
       "3      3  -81.05       0      0\n",
       "4      4  -78.48       0      0\n",
       "..   ...     ...     ...    ...\n",
       "95    95  154.89     223      0\n",
       "96    96  157.45     199      0\n",
       "97    97  160.02     216      0\n",
       "98    98  162.58     214      0\n",
       "99    99  165.15     232      0\n",
       "\n",
       "[100 rows x 4 columns]"
      ]
     },
     "execution_count": 16,
     "metadata": {},
     "output_type": "execute_result"
    }
   ],
   "source": [
    "all_df = pd.concat([co_df, cs_df], ignore_index=True)\n",
    "\n",
    "# Display the combined DataFrame\n",
    "all_df.info()\n",
    "all_df.head(100)"
   ]
  },
  {
   "cell_type": "markdown",
   "metadata": {},
   "source": [
    "<b> Penggabungan DataFrame Co-60 dan Cs-137 </b>\n",
    "\n",
    "Pada sel kode di atas, dilakukan penggabungan dua DataFrame, yaitu `co_df` (berisi data Co-60) dan `cs_df` (berisi data Cs-137), menjadi satu DataFrame baru bernama `all_df` menggunakan fungsi `pd.concat()`. Penggabungan ini dilakukan secara vertikal (baris demi baris) dengan opsi `ignore_index=True` agar indeks pada DataFrame hasil penggabungan di-reset.\n",
    "\n",
    "Setelah penggabungan, informasi struktur DataFrame (`all_df.info()`) dan 100 baris pertama data (`all_df.head(100)`) ditampilkan untuk memastikan data sudah tergabung dengan benar dan untuk melihat sekilas isi data yang akan digunakan pada analisis atau pelatihan model selanjutnya."
   ]
  },
  {
   "cell_type": "markdown",
   "metadata": {},
   "source": [
    "### Memeriksa grafik"
   ]
  },
  {
   "cell_type": "code",
   "execution_count": 17,
   "metadata": {},
   "outputs": [
    {
     "data": {
      "image/png": "[encoded data removed]",
      "text/plain": [
       "<Figure size 2000x600 with 2 Axes>"
      ]
     },
     "metadata": {},
     "output_type": "display_data"
    }
   ],
   "source": [
    "# Scatter plot for Energy vs Counts\n",
    "plt.figure(figsize=(20, 6))\n",
    "\n",
    "# Scatter plot for Energy vs Counts\n",
    "plt.subplot(1, 2, 1)  # 1 row, 2 columns, 1st subplot\n",
    "plt.scatter(co_df['Energy'], co_df['Counts'], label='Co-60', s=2, c='blue')\n",
    "plt.scatter(cs_df['Energy'], cs_df['Counts'], label='Cs-137', s=2, c='red')\n",
    "plt.xlabel('Energy')\n",
    "plt.ylabel('Counts')\n",
    "plt.title('Energy vs Counts')\n",
    "plt.grid(True)\n",
    "plt.legend()\n",
    "\n",
    "# Scatter plot for Channel vs Counts\n",
    "plt.subplot(1, 2, 2)  # 1 row, 2 columns, 2nd subplot\n",
    "plt.scatter(co_df['Chan'], co_df['Counts'], label='Co-60', s=2, c='blue')\n",
    "plt.scatter(cs_df['Chan'], cs_df['Counts'], label='Cs-137', s=2, c='red')\n",
    "plt.xlabel('Channel')\n",
    "plt.ylabel('Counts')\n",
    "plt.title('Channel vs Counts')\n",
    "plt.grid(True)\n",
    "plt.legend()\n",
    "\n",
    "plt.show()"
   ]
  },
  {
   "cell_type": "markdown",
   "metadata": {},
   "source": [
    "<b> Visualisasi Gabungan Data Co-60 dan Cs-137 </b>\n",
    "\n",
    "Pada sel kode di atas, dilakukan visualisasi gabungan antara data Co-60 (`co_df`) dan Cs-137 (`cs_df`) dalam satu figure menggunakan dua scatter plot:\n",
    "\n",
    "1. **Energy vs Counts**:\n",
    "    - Sumbu x menunjukkan nilai Energy, sedangkan sumbu y menunjukkan Counts.\n",
    "    - Data Co-60 ditampilkan dengan warna biru, sedangkan Cs-137 dengan warna merah.\n",
    "    - Plot ini memudahkan perbandingan distribusi counts pada rentang energi antara kedua jenis data.\n",
    "\n",
    "2. **Channel vs Counts**:\n",
    "    - Sumbu x menunjukkan Channel, sedangkan sumbu y menunjukkan Counts.\n",
    "    - Data Co-60 dan Cs-137 juga dibedakan berdasarkan warna.\n",
    "    - Plot ini memperlihatkan pola distribusi counts pada setiap channel untuk kedua jenis data.\n",
    "\n",
    "Penggunaan dua subplot dalam satu figure memudahkan analisis visual perbedaan karakteristik antara data Co-60 dan Cs-137. Penambahan grid, label sumbu, judul, dan legenda bertujuan memperjelas informasi pada masing-masing plot."
   ]
  },
  {
   "cell_type": "markdown",
   "metadata": {},
   "source": [
    "### Simpan dataset"
   ]
  },
  {
   "cell_type": "code",
   "execution_count": 18,
   "metadata": {
    "colab": {
     "base_uri": "https://localhost:8080/"
    },
    "executionInfo": {
     "elapsed": 4714,
     "status": "ok",
     "timestamp": 1738137067332,
     "user": {
      "displayName": "David Irfan Jasir",
      "userId": "11871450647194869092"
     },
     "user_tz": -420
    },
    "id": "DWoZz5OMCm4N",
    "outputId": "0a4fd8df-dc25-4819-e138-d033d697b14d"
   },
   "outputs": [],
   "source": [
    "# Save the DataFrame to a CSV file\n",
    "all_df.to_csv('data_training.csv', index=False)"
   ]
  },
  {
   "cell_type": "markdown",
   "metadata": {},
   "source": [
    "<b> Menyimpan DataFrame Gabungan ke File CSV </b>\n",
    "\n",
    "Pada sel kode di atas, DataFrame gabungan `all_df` yang berisi data Co-60 dan Cs-137 disimpan ke dalam file CSV dengan nama `data_training.csv` menggunakan fungsi `to_csv()` dari pandas. Opsi `index=False` digunakan agar indeks DataFrame tidak ikut disimpan ke dalam file. Penyimpanan ini bertujuan agar data hasil penggabungan dapat digunakan kembali untuk analisis atau pelatihan model di luar notebook ini tanpa perlu melakukan proses penggabungan ulang."
   ]
  }
 ],
 "metadata": {
  "colab": {
   "provenance": [],
   "toc_visible": true
  },
  "kernelspec": {
   "display_name": "Python 3",
   "language": "python",
   "name": "python3"
  },
  "language_info": {
   "codemirror_mode": {
    "name": "ipython",
    "version": 3
   },
   "file_extension": ".py",
   "mimetype": "text/x-python",
   "name": "python",
   "nbconvert_exporter": "python",
   "pygments_lexer": "ipython3",
   "version": "3.11.5"
  }
 },
 "nbformat": 4,
 "nbformat_minor": 0
}
