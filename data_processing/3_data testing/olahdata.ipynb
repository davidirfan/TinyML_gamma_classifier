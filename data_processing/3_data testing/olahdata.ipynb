{
 "cells": [
  {
   "cell_type": "code",
   "execution_count": 1,
   "metadata": {
    "colab": {
     "base_uri": "https://localhost:8080/"
    },
    "executionInfo": {
     "elapsed": 25,
     "status": "ok",
     "timestamp": 1738893283225,
     "user": {
      "displayName": "David Irfan Jasir",
      "userId": "11871450647194869092"
     },
     "user_tz": -420
    },
    "id": "eJbAhnkfWtTD",
    "outputId": "d460c010-69b1-4a5c-909b-ffc5dbf823e9"
   },
   "outputs": [
    {
     "name": "stdout",
     "output_type": "stream",
     "text": [
      "bismillahhirrahmanirrahim\n",
      "assalammualaikum\n"
     ]
    }
   ],
   "source": [
    "print(\"bismillahhirrahmanirrahim\")\n",
    "print(\"assalammualaikum\")"
   ]
  },
  {
   "cell_type": "markdown",
   "metadata": {
    "id": "3EU1oZmVWtTJ"
   },
   "source": [
    "# DATA PROCESSING"
   ]
  },
  {
   "cell_type": "code",
   "execution_count": 2,
   "metadata": {
    "colab": {
     "base_uri": "https://localhost:8080/"
    },
    "executionInfo": {
     "elapsed": 22187,
     "status": "ok",
     "timestamp": 1738893336084,
     "user": {
      "displayName": "David Irfan Jasir",
      "userId": "11871450647194869092"
     },
     "user_tz": -420
    },
    "id": "Tck72WlSWtTM",
    "outputId": "bf3d4fce-6d62-4706-c953-145f96bdb68b"
   },
   "outputs": [],
   "source": [
    "# Import library untuk pengolahan data\n",
    "import matplotlib.pyplot as plt     # Matplotlib is a visualization library, module pyplot provides a MATLAB-like interface for generating plots.\n",
    "import pandas as pd                 # a data analysis and manipulation library\n",
    "import numpy as np                  # a library for numerical computing.\n"
   ]
  },
  {
   "cell_type": "markdown",
   "metadata": {},
   "source": [
    "<b> Importing Libraries </b>\n",
    "In this cell, we import the necessary libraries for data processing and visualization:\n",
    "\n",
    "- `matplotlib.pyplot` is used for creating plots and visualizations.\n",
    "- `pandas` is a powerful library for data manipulation and analysis.\n",
    "- `numpy` is used for numerical computations and handling arrays.\n",
    "\n",
    "These libraries will be used throughout the notebook for data processing and visualization tasks."
   ]
  },
  {
   "cell_type": "markdown",
   "metadata": {},
   "source": [
    "## Co-60"
   ]
  },
  {
   "cell_type": "markdown",
   "metadata": {
    "id": "hYspTD7vqiq4"
   },
   "source": [
    "### data 1 = Co60_code11_t60"
   ]
  },
  {
   "cell_type": "code",
   "execution_count": 3,
   "metadata": {
    "id": "QX9V4AORWtTN"
   },
   "outputs": [
    {
     "name": "stdout",
     "output_type": "stream",
     "text": [
      "<class 'pandas.core.frame.DataFrame'>\n",
      "RangeIndex: 1024 entries, 0 to 1023\n",
      "Data columns (total 3 columns):\n",
      " #   Column  Non-Null Count  Dtype  \n",
      "---  ------  --------------  -----  \n",
      " 0   Chan    1024 non-null   int64  \n",
      " 1   Energy  1024 non-null   float64\n",
      " 2   Counts  1024 non-null   int64  \n",
      "dtypes: float64(1), int64(2)\n",
      "memory usage: 24.1 KB\n"
     ]
    },
    {
     "data": {
      "application/vnd.microsoft.datawrangler.viewer.v0+json": {
       "columns": [
        {
         "name": "index",
         "rawType": "int64",
         "type": "integer"
        },
        {
         "name": "Chan",
         "rawType": "int64",
         "type": "integer"
        },
        {
         "name": "Energy",
         "rawType": "float64",
         "type": "float"
        },
        {
         "name": "Counts",
         "rawType": "int64",
         "type": "integer"
        }
       ],
       "conversionMethod": "pd.DataFrame",
       "ref": "494bc5f1-dc07-44cf-8eb8-ef9ec7503cd1",
       "rows": [
        [
         "0",
         "0",
         "-55.4",
         "0"
        ],
        [
         "1",
         "1",
         "-52.84",
         "0"
        ],
        [
         "2",
         "2",
         "-50.27",
         "0"
        ],
        [
         "3",
         "3",
         "-47.71",
         "0"
        ],
        [
         "4",
         "4",
         "-45.15",
         "0"
        ],
        [
         "5",
         "5",
         "-42.58",
         "0"
        ],
        [
         "6",
         "6",
         "-40.02",
         "0"
        ],
        [
         "7",
         "7",
         "-37.45",
         "0"
        ],
        [
         "8",
         "8",
         "-34.89",
         "0"
        ],
        [
         "9",
         "9",
         "-32.32",
         "0"
        ],
        [
         "10",
         "10",
         "-29.76",
         "0"
        ],
        [
         "11",
         "11",
         "-27.19",
         "0"
        ],
        [
         "12",
         "12",
         "-24.63",
         "1"
        ],
        [
         "13",
         "13",
         "-22.06",
         "130"
        ],
        [
         "14",
         "14",
         "-19.5",
         "139"
        ],
        [
         "15",
         "15",
         "-16.94",
         "156"
        ],
        [
         "16",
         "16",
         "-14.37",
         "165"
        ],
        [
         "17",
         "17",
         "-11.81",
         "173"
        ],
        [
         "18",
         "18",
         "-9.24",
         "153"
        ],
        [
         "19",
         "19",
         "-6.68",
         "136"
        ],
        [
         "20",
         "20",
         "-4.11",
         "149"
        ],
        [
         "21",
         "21",
         "-1.55",
         "137"
        ],
        [
         "22",
         "22",
         "1.02",
         "146"
        ],
        [
         "23",
         "23",
         "3.58",
         "157"
        ],
        [
         "24",
         "24",
         "6.15",
         "165"
        ],
        [
         "25",
         "25",
         "8.71",
         "212"
        ],
        [
         "26",
         "26",
         "11.27",
         "205"
        ],
        [
         "27",
         "27",
         "13.84",
         "208"
        ],
        [
         "28",
         "28",
         "16.4",
         "230"
        ],
        [
         "29",
         "29",
         "18.97",
         "217"
        ],
        [
         "30",
         "30",
         "21.53",
         "218"
        ],
        [
         "31",
         "31",
         "24.1",
         "206"
        ],
        [
         "32",
         "32",
         "26.66",
         "196"
        ],
        [
         "33",
         "33",
         "29.23",
         "186"
        ],
        [
         "34",
         "34",
         "31.79",
         "191"
        ],
        [
         "35",
         "35",
         "34.35",
         "165"
        ],
        [
         "36",
         "36",
         "36.92",
         "165"
        ],
        [
         "37",
         "37",
         "39.48",
         "154"
        ],
        [
         "38",
         "38",
         "42.05",
         "150"
        ],
        [
         "39",
         "39",
         "44.61",
         "132"
        ],
        [
         "40",
         "40",
         "47.18",
         "133"
        ],
        [
         "41",
         "41",
         "49.74",
         "133"
        ],
        [
         "42",
         "42",
         "52.31",
         "153"
        ],
        [
         "43",
         "43",
         "54.87",
         "135"
        ],
        [
         "44",
         "44",
         "57.44",
         "135"
        ],
        [
         "45",
         "45",
         "60.0",
         "138"
        ],
        [
         "46",
         "46",
         "62.56",
         "130"
        ],
        [
         "47",
         "47",
         "65.13",
         "123"
        ],
        [
         "48",
         "48",
         "67.69",
         "167"
        ],
        [
         "49",
         "49",
         "70.26",
         "133"
        ]
       ],
       "shape": {
        "columns": 3,
        "rows": 100
       }
      },
      "text/html": [
       "<div>\n",
       "<style scoped>\n",
       "    .dataframe tbody tr th:only-of-type {\n",
       "        vertical-align: middle;\n",
       "    }\n",
       "\n",
       "    .dataframe tbody tr th {\n",
       "        vertical-align: top;\n",
       "    }\n",
       "\n",
       "    .dataframe thead th {\n",
       "        text-align: right;\n",
       "    }\n",
       "</style>\n",
       "<table border=\"1\" class=\"dataframe\">\n",
       "  <thead>\n",
       "    <tr style=\"text-align: right;\">\n",
       "      <th></th>\n",
       "      <th>Chan</th>\n",
       "      <th>Energy</th>\n",
       "      <th>Counts</th>\n",
       "    </tr>\n",
       "  </thead>\n",
       "  <tbody>\n",
       "    <tr>\n",
       "      <th>0</th>\n",
       "      <td>0</td>\n",
       "      <td>-55.40</td>\n",
       "      <td>0</td>\n",
       "    </tr>\n",
       "    <tr>\n",
       "      <th>1</th>\n",
       "      <td>1</td>\n",
       "      <td>-52.84</td>\n",
       "      <td>0</td>\n",
       "    </tr>\n",
       "    <tr>\n",
       "      <th>2</th>\n",
       "      <td>2</td>\n",
       "      <td>-50.27</td>\n",
       "      <td>0</td>\n",
       "    </tr>\n",
       "    <tr>\n",
       "      <th>3</th>\n",
       "      <td>3</td>\n",
       "      <td>-47.71</td>\n",
       "      <td>0</td>\n",
       "    </tr>\n",
       "    <tr>\n",
       "      <th>4</th>\n",
       "      <td>4</td>\n",
       "      <td>-45.15</td>\n",
       "      <td>0</td>\n",
       "    </tr>\n",
       "    <tr>\n",
       "      <th>...</th>\n",
       "      <td>...</td>\n",
       "      <td>...</td>\n",
       "      <td>...</td>\n",
       "    </tr>\n",
       "    <tr>\n",
       "      <th>95</th>\n",
       "      <td>95</td>\n",
       "      <td>188.23</td>\n",
       "      <td>194</td>\n",
       "    </tr>\n",
       "    <tr>\n",
       "      <th>96</th>\n",
       "      <td>96</td>\n",
       "      <td>190.79</td>\n",
       "      <td>169</td>\n",
       "    </tr>\n",
       "    <tr>\n",
       "      <th>97</th>\n",
       "      <td>97</td>\n",
       "      <td>193.35</td>\n",
       "      <td>207</td>\n",
       "    </tr>\n",
       "    <tr>\n",
       "      <th>98</th>\n",
       "      <td>98</td>\n",
       "      <td>195.92</td>\n",
       "      <td>177</td>\n",
       "    </tr>\n",
       "    <tr>\n",
       "      <th>99</th>\n",
       "      <td>99</td>\n",
       "      <td>198.48</td>\n",
       "      <td>220</td>\n",
       "    </tr>\n",
       "  </tbody>\n",
       "</table>\n",
       "<p>100 rows × 3 columns</p>\n",
       "</div>"
      ],
      "text/plain": [
       "    Chan  Energy  Counts\n",
       "0      0  -55.40       0\n",
       "1      1  -52.84       0\n",
       "2      2  -50.27       0\n",
       "3      3  -47.71       0\n",
       "4      4  -45.15       0\n",
       "..   ...     ...     ...\n",
       "95    95  188.23     194\n",
       "96    96  190.79     169\n",
       "97    97  193.35     207\n",
       "98    98  195.92     177\n",
       "99    99  198.48     220\n",
       "\n",
       "[100 rows x 3 columns]"
      ]
     },
     "execution_count": 3,
     "metadata": {},
     "output_type": "execute_result"
    }
   ],
   "source": [
    "# import csv data directly from same-directory of this notebook\n",
    "data1 = 'co60_13_60s.csv'\n",
    "\n",
    "df1 = pd.read_csv(data1)\n",
    "\n",
    "df1.info()\n",
    "df1.head(100)  # Print the first few rows of the DataFrame\n"
   ]
  },
  {
   "cell_type": "markdown",
   "metadata": {},
   "source": [
    "<b> Data 1: Co-60 Code 11 T60 </b>\n",
    "\n",
    "In this cell, we import the CSV file `co60_code11_t60.csv` and process it as follows:\n",
    "\n",
    "- Read the CSV file into a pandas DataFrame.\n",
    "- Convert the data types of the columns:\n",
    "    - `Chan` to `int16` for channel numbers.\n",
    "    - `Energy` to `float16` for energy values.\n",
    "    - `Counts` to `int16` for count values.\n",
    "- Display the structure of the DataFrame using `info()` to understand the data types and memory usage.\n",
    "- Display the first 100 rows of the DataFrame using `head(100)` to preview the data.\n",
    "\n",
    "This processed DataFrame will be used for further analysis and visualization."
   ]
  },
  {
   "cell_type": "code",
   "execution_count": 4,
   "metadata": {},
   "outputs": [
    {
     "name": "stdout",
     "output_type": "stream",
     "text": [
      "<class 'pandas.core.frame.DataFrame'>\n",
      "RangeIndex: 1024 entries, 0 to 1023\n",
      "Data columns (total 3 columns):\n",
      " #   Column  Non-Null Count  Dtype  \n",
      "---  ------  --------------  -----  \n",
      " 0   Chan    1024 non-null   int64  \n",
      " 1   Energy  1024 non-null   float64\n",
      " 2   Counts  1024 non-null   int64  \n",
      "dtypes: float64(1), int64(2)\n",
      "memory usage: 24.1 KB\n"
     ]
    },
    {
     "data": {
      "application/vnd.microsoft.datawrangler.viewer.v0+json": {
       "columns": [
        {
         "name": "index",
         "rawType": "int64",
         "type": "integer"
        },
        {
         "name": "Chan",
         "rawType": "int64",
         "type": "integer"
        },
        {
         "name": "Energy",
         "rawType": "float64",
         "type": "float"
        },
        {
         "name": "Counts",
         "rawType": "int64",
         "type": "integer"
        }
       ],
       "conversionMethod": "pd.DataFrame",
       "ref": "588e10ce-f4ec-4d9d-8203-9af1dc46697d",
       "rows": [
        [
         "0",
         "0",
         "-55.4",
         "0"
        ],
        [
         "1",
         "1",
         "-52.84",
         "0"
        ],
        [
         "2",
         "2",
         "-50.27",
         "0"
        ],
        [
         "3",
         "3",
         "-47.71",
         "0"
        ],
        [
         "4",
         "4",
         "-45.15",
         "0"
        ],
        [
         "5",
         "5",
         "-42.58",
         "0"
        ],
        [
         "6",
         "6",
         "-40.02",
         "0"
        ],
        [
         "7",
         "7",
         "-37.45",
         "0"
        ],
        [
         "8",
         "8",
         "-34.89",
         "0"
        ],
        [
         "9",
         "9",
         "-32.32",
         "0"
        ],
        [
         "10",
         "10",
         "-29.76",
         "1"
        ],
        [
         "11",
         "11",
         "-27.19",
         "1"
        ],
        [
         "12",
         "12",
         "-24.63",
         "3"
        ],
        [
         "13",
         "13",
         "-22.06",
         "153"
        ],
        [
         "14",
         "14",
         "-19.5",
         "172"
        ],
        [
         "15",
         "15",
         "-16.94",
         "184"
        ],
        [
         "16",
         "16",
         "-14.37",
         "166"
        ],
        [
         "17",
         "17",
         "-11.81",
         "176"
        ],
        [
         "18",
         "18",
         "-9.24",
         "180"
        ],
        [
         "19",
         "19",
         "-6.68",
         "186"
        ],
        [
         "20",
         "20",
         "-4.11",
         "177"
        ],
        [
         "21",
         "21",
         "-1.55",
         "179"
        ],
        [
         "22",
         "22",
         "1.02",
         "169"
        ],
        [
         "23",
         "23",
         "3.58",
         "177"
        ],
        [
         "24",
         "24",
         "6.15",
         "193"
        ],
        [
         "25",
         "25",
         "8.71",
         "226"
        ],
        [
         "26",
         "26",
         "11.27",
         "226"
        ],
        [
         "27",
         "27",
         "13.84",
         "271"
        ],
        [
         "28",
         "28",
         "16.4",
         "259"
        ],
        [
         "29",
         "29",
         "18.97",
         "268"
        ],
        [
         "30",
         "30",
         "21.53",
         "270"
        ],
        [
         "31",
         "31",
         "24.1",
         "249"
        ],
        [
         "32",
         "32",
         "26.66",
         "221"
        ],
        [
         "33",
         "33",
         "29.23",
         "189"
        ],
        [
         "34",
         "34",
         "31.79",
         "175"
        ],
        [
         "35",
         "35",
         "34.35",
         "173"
        ],
        [
         "36",
         "36",
         "36.92",
         "198"
        ],
        [
         "37",
         "37",
         "39.48",
         "151"
        ],
        [
         "38",
         "38",
         "42.05",
         "158"
        ],
        [
         "39",
         "39",
         "44.61",
         "169"
        ],
        [
         "40",
         "40",
         "47.18",
         "151"
        ],
        [
         "41",
         "41",
         "49.74",
         "138"
        ],
        [
         "42",
         "42",
         "52.31",
         "162"
        ],
        [
         "43",
         "43",
         "54.87",
         "131"
        ],
        [
         "44",
         "44",
         "57.44",
         "171"
        ],
        [
         "45",
         "45",
         "60.0",
         "160"
        ],
        [
         "46",
         "46",
         "62.56",
         "133"
        ],
        [
         "47",
         "47",
         "65.13",
         "170"
        ],
        [
         "48",
         "48",
         "67.69",
         "168"
        ],
        [
         "49",
         "49",
         "70.26",
         "150"
        ]
       ],
       "shape": {
        "columns": 3,
        "rows": 100
       }
      },
      "text/html": [
       "<div>\n",
       "<style scoped>\n",
       "    .dataframe tbody tr th:only-of-type {\n",
       "        vertical-align: middle;\n",
       "    }\n",
       "\n",
       "    .dataframe tbody tr th {\n",
       "        vertical-align: top;\n",
       "    }\n",
       "\n",
       "    .dataframe thead th {\n",
       "        text-align: right;\n",
       "    }\n",
       "</style>\n",
       "<table border=\"1\" class=\"dataframe\">\n",
       "  <thead>\n",
       "    <tr style=\"text-align: right;\">\n",
       "      <th></th>\n",
       "      <th>Chan</th>\n",
       "      <th>Energy</th>\n",
       "      <th>Counts</th>\n",
       "    </tr>\n",
       "  </thead>\n",
       "  <tbody>\n",
       "    <tr>\n",
       "      <th>0</th>\n",
       "      <td>0</td>\n",
       "      <td>-55.40</td>\n",
       "      <td>0</td>\n",
       "    </tr>\n",
       "    <tr>\n",
       "      <th>1</th>\n",
       "      <td>1</td>\n",
       "      <td>-52.84</td>\n",
       "      <td>0</td>\n",
       "    </tr>\n",
       "    <tr>\n",
       "      <th>2</th>\n",
       "      <td>2</td>\n",
       "      <td>-50.27</td>\n",
       "      <td>0</td>\n",
       "    </tr>\n",
       "    <tr>\n",
       "      <th>3</th>\n",
       "      <td>3</td>\n",
       "      <td>-47.71</td>\n",
       "      <td>0</td>\n",
       "    </tr>\n",
       "    <tr>\n",
       "      <th>4</th>\n",
       "      <td>4</td>\n",
       "      <td>-45.15</td>\n",
       "      <td>0</td>\n",
       "    </tr>\n",
       "    <tr>\n",
       "      <th>...</th>\n",
       "      <td>...</td>\n",
       "      <td>...</td>\n",
       "      <td>...</td>\n",
       "    </tr>\n",
       "    <tr>\n",
       "      <th>95</th>\n",
       "      <td>95</td>\n",
       "      <td>188.23</td>\n",
       "      <td>227</td>\n",
       "    </tr>\n",
       "    <tr>\n",
       "      <th>96</th>\n",
       "      <td>96</td>\n",
       "      <td>190.79</td>\n",
       "      <td>194</td>\n",
       "    </tr>\n",
       "    <tr>\n",
       "      <th>97</th>\n",
       "      <td>97</td>\n",
       "      <td>193.35</td>\n",
       "      <td>226</td>\n",
       "    </tr>\n",
       "    <tr>\n",
       "      <th>98</th>\n",
       "      <td>98</td>\n",
       "      <td>195.92</td>\n",
       "      <td>245</td>\n",
       "    </tr>\n",
       "    <tr>\n",
       "      <th>99</th>\n",
       "      <td>99</td>\n",
       "      <td>198.48</td>\n",
       "      <td>241</td>\n",
       "    </tr>\n",
       "  </tbody>\n",
       "</table>\n",
       "<p>100 rows × 3 columns</p>\n",
       "</div>"
      ],
      "text/plain": [
       "    Chan  Energy  Counts\n",
       "0      0  -55.40       0\n",
       "1      1  -52.84       0\n",
       "2      2  -50.27       0\n",
       "3      3  -47.71       0\n",
       "4      4  -45.15       0\n",
       "..   ...     ...     ...\n",
       "95    95  188.23     227\n",
       "96    96  190.79     194\n",
       "97    97  193.35     226\n",
       "98    98  195.92     245\n",
       "99    99  198.48     241\n",
       "\n",
       "[100 rows x 3 columns]"
      ]
     },
     "execution_count": 4,
     "metadata": {},
     "output_type": "execute_result"
    }
   ],
   "source": [
    "# import csv data directly from same-directory of this notebook\n",
    "data2 = 'co60_13_70s.csv'\n",
    "\n",
    "df2 = pd.read_csv(data2)\n",
    "\n",
    "df2.info()\n",
    "df2.head(100)  # Print the first few rows of the DataFrame\n"
   ]
  },
  {
   "cell_type": "code",
   "execution_count": 5,
   "metadata": {},
   "outputs": [
    {
     "name": "stdout",
     "output_type": "stream",
     "text": [
      "<class 'pandas.core.frame.DataFrame'>\n",
      "RangeIndex: 1024 entries, 0 to 1023\n",
      "Data columns (total 3 columns):\n",
      " #   Column  Non-Null Count  Dtype  \n",
      "---  ------  --------------  -----  \n",
      " 0   Chan    1024 non-null   int64  \n",
      " 1   Energy  1024 non-null   float64\n",
      " 2   Counts  1024 non-null   int64  \n",
      "dtypes: float64(1), int64(2)\n",
      "memory usage: 24.1 KB\n"
     ]
    },
    {
     "data": {
      "application/vnd.microsoft.datawrangler.viewer.v0+json": {
       "columns": [
        {
         "name": "index",
         "rawType": "int64",
         "type": "integer"
        },
        {
         "name": "Chan",
         "rawType": "int64",
         "type": "integer"
        },
        {
         "name": "Energy",
         "rawType": "float64",
         "type": "float"
        },
        {
         "name": "Counts",
         "rawType": "int64",
         "type": "integer"
        }
       ],
       "conversionMethod": "pd.DataFrame",
       "ref": "08fada14-ad04-4240-a7f4-f2221cc16da2",
       "rows": [
        [
         "0",
         "0",
         "-55.4",
         "0"
        ],
        [
         "1",
         "1",
         "-52.84",
         "0"
        ],
        [
         "2",
         "2",
         "-50.27",
         "0"
        ],
        [
         "3",
         "3",
         "-47.71",
         "0"
        ],
        [
         "4",
         "4",
         "-45.15",
         "0"
        ],
        [
         "5",
         "5",
         "-42.58",
         "0"
        ],
        [
         "6",
         "6",
         "-40.02",
         "0"
        ],
        [
         "7",
         "7",
         "-37.45",
         "0"
        ],
        [
         "8",
         "8",
         "-34.89",
         "0"
        ],
        [
         "9",
         "9",
         "-32.32",
         "0"
        ],
        [
         "10",
         "10",
         "-29.76",
         "0"
        ],
        [
         "11",
         "11",
         "-27.19",
         "0"
        ],
        [
         "12",
         "12",
         "-24.63",
         "2"
        ],
        [
         "13",
         "13",
         "-22.06",
         "176"
        ],
        [
         "14",
         "14",
         "-19.5",
         "215"
        ],
        [
         "15",
         "15",
         "-16.94",
         "218"
        ],
        [
         "16",
         "16",
         "-14.37",
         "250"
        ],
        [
         "17",
         "17",
         "-11.81",
         "214"
        ],
        [
         "18",
         "18",
         "-9.24",
         "196"
        ],
        [
         "19",
         "19",
         "-6.68",
         "210"
        ],
        [
         "20",
         "20",
         "-4.11",
         "186"
        ],
        [
         "21",
         "21",
         "-1.55",
         "197"
        ],
        [
         "22",
         "22",
         "1.02",
         "229"
        ],
        [
         "23",
         "23",
         "3.58",
         "222"
        ],
        [
         "24",
         "24",
         "6.15",
         "194"
        ],
        [
         "25",
         "25",
         "8.71",
         "265"
        ],
        [
         "26",
         "26",
         "11.27",
         "305"
        ],
        [
         "27",
         "27",
         "13.84",
         "277"
        ],
        [
         "28",
         "28",
         "16.4",
         "285"
        ],
        [
         "29",
         "29",
         "18.97",
         "307"
        ],
        [
         "30",
         "30",
         "21.53",
         "275"
        ],
        [
         "31",
         "31",
         "24.1",
         "265"
        ],
        [
         "32",
         "32",
         "26.66",
         "253"
        ],
        [
         "33",
         "33",
         "29.23",
         "259"
        ],
        [
         "34",
         "34",
         "31.79",
         "226"
        ],
        [
         "35",
         "35",
         "34.35",
         "220"
        ],
        [
         "36",
         "36",
         "36.92",
         "208"
        ],
        [
         "37",
         "37",
         "39.48",
         "193"
        ],
        [
         "38",
         "38",
         "42.05",
         "185"
        ],
        [
         "39",
         "39",
         "44.61",
         "183"
        ],
        [
         "40",
         "40",
         "47.18",
         "172"
        ],
        [
         "41",
         "41",
         "49.74",
         "181"
        ],
        [
         "42",
         "42",
         "52.31",
         "170"
        ],
        [
         "43",
         "43",
         "54.87",
         "200"
        ],
        [
         "44",
         "44",
         "57.44",
         "208"
        ],
        [
         "45",
         "45",
         "60.0",
         "201"
        ],
        [
         "46",
         "46",
         "62.56",
         "196"
        ],
        [
         "47",
         "47",
         "65.13",
         "166"
        ],
        [
         "48",
         "48",
         "67.69",
         "182"
        ],
        [
         "49",
         "49",
         "70.26",
         "170"
        ]
       ],
       "shape": {
        "columns": 3,
        "rows": 100
       }
      },
      "text/html": [
       "<div>\n",
       "<style scoped>\n",
       "    .dataframe tbody tr th:only-of-type {\n",
       "        vertical-align: middle;\n",
       "    }\n",
       "\n",
       "    .dataframe tbody tr th {\n",
       "        vertical-align: top;\n",
       "    }\n",
       "\n",
       "    .dataframe thead th {\n",
       "        text-align: right;\n",
       "    }\n",
       "</style>\n",
       "<table border=\"1\" class=\"dataframe\">\n",
       "  <thead>\n",
       "    <tr style=\"text-align: right;\">\n",
       "      <th></th>\n",
       "      <th>Chan</th>\n",
       "      <th>Energy</th>\n",
       "      <th>Counts</th>\n",
       "    </tr>\n",
       "  </thead>\n",
       "  <tbody>\n",
       "    <tr>\n",
       "      <th>0</th>\n",
       "      <td>0</td>\n",
       "      <td>-55.40</td>\n",
       "      <td>0</td>\n",
       "    </tr>\n",
       "    <tr>\n",
       "      <th>1</th>\n",
       "      <td>1</td>\n",
       "      <td>-52.84</td>\n",
       "      <td>0</td>\n",
       "    </tr>\n",
       "    <tr>\n",
       "      <th>2</th>\n",
       "      <td>2</td>\n",
       "      <td>-50.27</td>\n",
       "      <td>0</td>\n",
       "    </tr>\n",
       "    <tr>\n",
       "      <th>3</th>\n",
       "      <td>3</td>\n",
       "      <td>-47.71</td>\n",
       "      <td>0</td>\n",
       "    </tr>\n",
       "    <tr>\n",
       "      <th>4</th>\n",
       "      <td>4</td>\n",
       "      <td>-45.15</td>\n",
       "      <td>0</td>\n",
       "    </tr>\n",
       "    <tr>\n",
       "      <th>...</th>\n",
       "      <td>...</td>\n",
       "      <td>...</td>\n",
       "      <td>...</td>\n",
       "    </tr>\n",
       "    <tr>\n",
       "      <th>95</th>\n",
       "      <td>95</td>\n",
       "      <td>188.23</td>\n",
       "      <td>255</td>\n",
       "    </tr>\n",
       "    <tr>\n",
       "      <th>96</th>\n",
       "      <td>96</td>\n",
       "      <td>190.79</td>\n",
       "      <td>247</td>\n",
       "    </tr>\n",
       "    <tr>\n",
       "      <th>97</th>\n",
       "      <td>97</td>\n",
       "      <td>193.35</td>\n",
       "      <td>246</td>\n",
       "    </tr>\n",
       "    <tr>\n",
       "      <th>98</th>\n",
       "      <td>98</td>\n",
       "      <td>195.92</td>\n",
       "      <td>248</td>\n",
       "    </tr>\n",
       "    <tr>\n",
       "      <th>99</th>\n",
       "      <td>99</td>\n",
       "      <td>198.48</td>\n",
       "      <td>242</td>\n",
       "    </tr>\n",
       "  </tbody>\n",
       "</table>\n",
       "<p>100 rows × 3 columns</p>\n",
       "</div>"
      ],
      "text/plain": [
       "    Chan  Energy  Counts\n",
       "0      0  -55.40       0\n",
       "1      1  -52.84       0\n",
       "2      2  -50.27       0\n",
       "3      3  -47.71       0\n",
       "4      4  -45.15       0\n",
       "..   ...     ...     ...\n",
       "95    95  188.23     255\n",
       "96    96  190.79     247\n",
       "97    97  193.35     246\n",
       "98    98  195.92     248\n",
       "99    99  198.48     242\n",
       "\n",
       "[100 rows x 3 columns]"
      ]
     },
     "execution_count": 5,
     "metadata": {},
     "output_type": "execute_result"
    }
   ],
   "source": [
    "# import csv data directly from same-directory of this notebook\n",
    "data3 = 'co60_13_80s.csv'\n",
    "\n",
    "df3 = pd.read_csv(data3)\n",
    "\n",
    "df3.info()\n",
    "df3.head(100)  # Print the first few rows of the DataFrame\n"
   ]
  },
  {
   "cell_type": "code",
   "execution_count": 6,
   "metadata": {},
   "outputs": [
    {
     "name": "stdout",
     "output_type": "stream",
     "text": [
      "<class 'pandas.core.frame.DataFrame'>\n",
      "RangeIndex: 1024 entries, 0 to 1023\n",
      "Data columns (total 3 columns):\n",
      " #   Column  Non-Null Count  Dtype  \n",
      "---  ------  --------------  -----  \n",
      " 0   Chan    1024 non-null   int64  \n",
      " 1   Energy  1024 non-null   float64\n",
      " 2   Counts  1024 non-null   int64  \n",
      "dtypes: float64(1), int64(2)\n",
      "memory usage: 24.1 KB\n"
     ]
    },
    {
     "data": {
      "application/vnd.microsoft.datawrangler.viewer.v0+json": {
       "columns": [
        {
         "name": "index",
         "rawType": "int64",
         "type": "integer"
        },
        {
         "name": "Chan",
         "rawType": "int64",
         "type": "integer"
        },
        {
         "name": "Energy",
         "rawType": "float64",
         "type": "float"
        },
        {
         "name": "Counts",
         "rawType": "int64",
         "type": "integer"
        }
       ],
       "conversionMethod": "pd.DataFrame",
       "ref": "83650e2d-2ed2-4878-ad2b-7770acb2ddcf",
       "rows": [
        [
         "0",
         "0",
         "-55.4",
         "0"
        ],
        [
         "1",
         "1",
         "-52.84",
         "0"
        ],
        [
         "2",
         "2",
         "-50.27",
         "0"
        ],
        [
         "3",
         "3",
         "-47.71",
         "0"
        ],
        [
         "4",
         "4",
         "-45.15",
         "0"
        ],
        [
         "5",
         "5",
         "-42.58",
         "0"
        ],
        [
         "6",
         "6",
         "-40.02",
         "0"
        ],
        [
         "7",
         "7",
         "-37.45",
         "0"
        ],
        [
         "8",
         "8",
         "-34.89",
         "0"
        ],
        [
         "9",
         "9",
         "-32.32",
         "0"
        ],
        [
         "10",
         "10",
         "-29.76",
         "0"
        ],
        [
         "11",
         "11",
         "-27.19",
         "0"
        ],
        [
         "12",
         "12",
         "-24.63",
         "1"
        ],
        [
         "13",
         "13",
         "-22.06",
         "206"
        ],
        [
         "14",
         "14",
         "-19.5",
         "225"
        ],
        [
         "15",
         "15",
         "-16.94",
         "235"
        ],
        [
         "16",
         "16",
         "-14.37",
         "239"
        ],
        [
         "17",
         "17",
         "-11.81",
         "238"
        ],
        [
         "18",
         "18",
         "-9.24",
         "225"
        ],
        [
         "19",
         "19",
         "-6.68",
         "219"
        ],
        [
         "20",
         "20",
         "-4.11",
         "231"
        ],
        [
         "21",
         "21",
         "-1.55",
         "207"
        ],
        [
         "22",
         "22",
         "1.02",
         "213"
        ],
        [
         "23",
         "23",
         "3.58",
         "254"
        ],
        [
         "24",
         "24",
         "6.15",
         "268"
        ],
        [
         "25",
         "25",
         "8.71",
         "245"
        ],
        [
         "26",
         "26",
         "11.27",
         "312"
        ],
        [
         "27",
         "27",
         "13.84",
         "339"
        ],
        [
         "28",
         "28",
         "16.4",
         "305"
        ],
        [
         "29",
         "29",
         "18.97",
         "326"
        ],
        [
         "30",
         "30",
         "21.53",
         "355"
        ],
        [
         "31",
         "31",
         "24.1",
         "307"
        ],
        [
         "32",
         "32",
         "26.66",
         "297"
        ],
        [
         "33",
         "33",
         "29.23",
         "287"
        ],
        [
         "34",
         "34",
         "31.79",
         "250"
        ],
        [
         "35",
         "35",
         "34.35",
         "208"
        ],
        [
         "36",
         "36",
         "36.92",
         "221"
        ],
        [
         "37",
         "37",
         "39.48",
         "191"
        ],
        [
         "38",
         "38",
         "42.05",
         "196"
        ],
        [
         "39",
         "39",
         "44.61",
         "197"
        ],
        [
         "40",
         "40",
         "47.18",
         "206"
        ],
        [
         "41",
         "41",
         "49.74",
         "205"
        ],
        [
         "42",
         "42",
         "52.31",
         "176"
        ],
        [
         "43",
         "43",
         "54.87",
         "203"
        ],
        [
         "44",
         "44",
         "57.44",
         "179"
        ],
        [
         "45",
         "45",
         "60.0",
         "223"
        ],
        [
         "46",
         "46",
         "62.56",
         "204"
        ],
        [
         "47",
         "47",
         "65.13",
         "222"
        ],
        [
         "48",
         "48",
         "67.69",
         "212"
        ],
        [
         "49",
         "49",
         "70.26",
         "222"
        ]
       ],
       "shape": {
        "columns": 3,
        "rows": 100
       }
      },
      "text/html": [
       "<div>\n",
       "<style scoped>\n",
       "    .dataframe tbody tr th:only-of-type {\n",
       "        vertical-align: middle;\n",
       "    }\n",
       "\n",
       "    .dataframe tbody tr th {\n",
       "        vertical-align: top;\n",
       "    }\n",
       "\n",
       "    .dataframe thead th {\n",
       "        text-align: right;\n",
       "    }\n",
       "</style>\n",
       "<table border=\"1\" class=\"dataframe\">\n",
       "  <thead>\n",
       "    <tr style=\"text-align: right;\">\n",
       "      <th></th>\n",
       "      <th>Chan</th>\n",
       "      <th>Energy</th>\n",
       "      <th>Counts</th>\n",
       "    </tr>\n",
       "  </thead>\n",
       "  <tbody>\n",
       "    <tr>\n",
       "      <th>0</th>\n",
       "      <td>0</td>\n",
       "      <td>-55.40</td>\n",
       "      <td>0</td>\n",
       "    </tr>\n",
       "    <tr>\n",
       "      <th>1</th>\n",
       "      <td>1</td>\n",
       "      <td>-52.84</td>\n",
       "      <td>0</td>\n",
       "    </tr>\n",
       "    <tr>\n",
       "      <th>2</th>\n",
       "      <td>2</td>\n",
       "      <td>-50.27</td>\n",
       "      <td>0</td>\n",
       "    </tr>\n",
       "    <tr>\n",
       "      <th>3</th>\n",
       "      <td>3</td>\n",
       "      <td>-47.71</td>\n",
       "      <td>0</td>\n",
       "    </tr>\n",
       "    <tr>\n",
       "      <th>4</th>\n",
       "      <td>4</td>\n",
       "      <td>-45.15</td>\n",
       "      <td>0</td>\n",
       "    </tr>\n",
       "    <tr>\n",
       "      <th>...</th>\n",
       "      <td>...</td>\n",
       "      <td>...</td>\n",
       "      <td>...</td>\n",
       "    </tr>\n",
       "    <tr>\n",
       "      <th>95</th>\n",
       "      <td>95</td>\n",
       "      <td>188.23</td>\n",
       "      <td>275</td>\n",
       "    </tr>\n",
       "    <tr>\n",
       "      <th>96</th>\n",
       "      <td>96</td>\n",
       "      <td>190.79</td>\n",
       "      <td>313</td>\n",
       "    </tr>\n",
       "    <tr>\n",
       "      <th>97</th>\n",
       "      <td>97</td>\n",
       "      <td>193.35</td>\n",
       "      <td>309</td>\n",
       "    </tr>\n",
       "    <tr>\n",
       "      <th>98</th>\n",
       "      <td>98</td>\n",
       "      <td>195.92</td>\n",
       "      <td>310</td>\n",
       "    </tr>\n",
       "    <tr>\n",
       "      <th>99</th>\n",
       "      <td>99</td>\n",
       "      <td>198.48</td>\n",
       "      <td>280</td>\n",
       "    </tr>\n",
       "  </tbody>\n",
       "</table>\n",
       "<p>100 rows × 3 columns</p>\n",
       "</div>"
      ],
      "text/plain": [
       "    Chan  Energy  Counts\n",
       "0      0  -55.40       0\n",
       "1      1  -52.84       0\n",
       "2      2  -50.27       0\n",
       "3      3  -47.71       0\n",
       "4      4  -45.15       0\n",
       "..   ...     ...     ...\n",
       "95    95  188.23     275\n",
       "96    96  190.79     313\n",
       "97    97  193.35     309\n",
       "98    98  195.92     310\n",
       "99    99  198.48     280\n",
       "\n",
       "[100 rows x 3 columns]"
      ]
     },
     "execution_count": 6,
     "metadata": {},
     "output_type": "execute_result"
    }
   ],
   "source": [
    "# import csv data directly from same-directory of this notebook\n",
    "data4 = 'co60_13_90s.csv'\n",
    "\n",
    "df4 = pd.read_csv(data4)\n",
    "\n",
    "df4.info()\n",
    "df4.head(100)  # Print the first few rows of the DataFrame\n"
   ]
  },
  {
   "cell_type": "code",
   "execution_count": 7,
   "metadata": {},
   "outputs": [
    {
     "name": "stdout",
     "output_type": "stream",
     "text": [
      "<class 'pandas.core.frame.DataFrame'>\n",
      "RangeIndex: 4096 entries, 0 to 4095\n",
      "Data columns (total 3 columns):\n",
      " #   Column  Non-Null Count  Dtype  \n",
      "---  ------  --------------  -----  \n",
      " 0   Chan    4096 non-null   int64  \n",
      " 1   Energy  4096 non-null   float64\n",
      " 2   Counts  4096 non-null   int64  \n",
      "dtypes: float64(1), int64(2)\n",
      "memory usage: 96.1 KB\n"
     ]
    },
    {
     "data": {
      "application/vnd.microsoft.datawrangler.viewer.v0+json": {
       "columns": [
        {
         "name": "index",
         "rawType": "int64",
         "type": "integer"
        },
        {
         "name": "Chan",
         "rawType": "int64",
         "type": "integer"
        },
        {
         "name": "Energy",
         "rawType": "float64",
         "type": "float"
        },
        {
         "name": "Counts",
         "rawType": "int64",
         "type": "integer"
        }
       ],
       "conversionMethod": "pd.DataFrame",
       "ref": "9c8979d2-e69f-4ab6-9857-b2300e76f29a",
       "rows": [
        [
         "0",
         "0",
         "-55.4",
         "0"
        ],
        [
         "1",
         "1",
         "-52.84",
         "0"
        ],
        [
         "2",
         "2",
         "-50.27",
         "0"
        ],
        [
         "3",
         "3",
         "-47.71",
         "0"
        ],
        [
         "4",
         "4",
         "-45.15",
         "0"
        ],
        [
         "5",
         "5",
         "-42.58",
         "0"
        ],
        [
         "6",
         "6",
         "-40.02",
         "0"
        ],
        [
         "7",
         "7",
         "-37.45",
         "0"
        ],
        [
         "8",
         "8",
         "-34.89",
         "0"
        ],
        [
         "9",
         "9",
         "-32.32",
         "0"
        ],
        [
         "10",
         "10",
         "-29.76",
         "0"
        ],
        [
         "11",
         "11",
         "-27.19",
         "0"
        ],
        [
         "12",
         "12",
         "-24.63",
         "1"
        ],
        [
         "13",
         "13",
         "-22.06",
         "130"
        ],
        [
         "14",
         "14",
         "-19.5",
         "139"
        ],
        [
         "15",
         "15",
         "-16.94",
         "156"
        ],
        [
         "16",
         "16",
         "-14.37",
         "165"
        ],
        [
         "17",
         "17",
         "-11.81",
         "173"
        ],
        [
         "18",
         "18",
         "-9.24",
         "153"
        ],
        [
         "19",
         "19",
         "-6.68",
         "136"
        ],
        [
         "20",
         "20",
         "-4.11",
         "149"
        ],
        [
         "21",
         "21",
         "-1.55",
         "137"
        ],
        [
         "22",
         "22",
         "1.02",
         "146"
        ],
        [
         "23",
         "23",
         "3.58",
         "157"
        ],
        [
         "24",
         "24",
         "6.15",
         "165"
        ],
        [
         "25",
         "25",
         "8.71",
         "212"
        ],
        [
         "26",
         "26",
         "11.27",
         "205"
        ],
        [
         "27",
         "27",
         "13.84",
         "208"
        ],
        [
         "28",
         "28",
         "16.4",
         "230"
        ],
        [
         "29",
         "29",
         "18.97",
         "217"
        ],
        [
         "30",
         "30",
         "21.53",
         "218"
        ],
        [
         "31",
         "31",
         "24.1",
         "206"
        ],
        [
         "32",
         "32",
         "26.66",
         "196"
        ],
        [
         "33",
         "33",
         "29.23",
         "186"
        ],
        [
         "34",
         "34",
         "31.79",
         "191"
        ],
        [
         "35",
         "35",
         "34.35",
         "165"
        ],
        [
         "36",
         "36",
         "36.92",
         "165"
        ],
        [
         "37",
         "37",
         "39.48",
         "154"
        ],
        [
         "38",
         "38",
         "42.05",
         "150"
        ],
        [
         "39",
         "39",
         "44.61",
         "132"
        ],
        [
         "40",
         "40",
         "47.18",
         "133"
        ],
        [
         "41",
         "41",
         "49.74",
         "133"
        ],
        [
         "42",
         "42",
         "52.31",
         "153"
        ],
        [
         "43",
         "43",
         "54.87",
         "135"
        ],
        [
         "44",
         "44",
         "57.44",
         "135"
        ],
        [
         "45",
         "45",
         "60.0",
         "138"
        ],
        [
         "46",
         "46",
         "62.56",
         "130"
        ],
        [
         "47",
         "47",
         "65.13",
         "123"
        ],
        [
         "48",
         "48",
         "67.69",
         "167"
        ],
        [
         "49",
         "49",
         "70.26",
         "133"
        ]
       ],
       "shape": {
        "columns": 3,
        "rows": 100
       }
      },
      "text/html": [
       "<div>\n",
       "<style scoped>\n",
       "    .dataframe tbody tr th:only-of-type {\n",
       "        vertical-align: middle;\n",
       "    }\n",
       "\n",
       "    .dataframe tbody tr th {\n",
       "        vertical-align: top;\n",
       "    }\n",
       "\n",
       "    .dataframe thead th {\n",
       "        text-align: right;\n",
       "    }\n",
       "</style>\n",
       "<table border=\"1\" class=\"dataframe\">\n",
       "  <thead>\n",
       "    <tr style=\"text-align: right;\">\n",
       "      <th></th>\n",
       "      <th>Chan</th>\n",
       "      <th>Energy</th>\n",
       "      <th>Counts</th>\n",
       "    </tr>\n",
       "  </thead>\n",
       "  <tbody>\n",
       "    <tr>\n",
       "      <th>0</th>\n",
       "      <td>0</td>\n",
       "      <td>-55.40</td>\n",
       "      <td>0</td>\n",
       "    </tr>\n",
       "    <tr>\n",
       "      <th>1</th>\n",
       "      <td>1</td>\n",
       "      <td>-52.84</td>\n",
       "      <td>0</td>\n",
       "    </tr>\n",
       "    <tr>\n",
       "      <th>2</th>\n",
       "      <td>2</td>\n",
       "      <td>-50.27</td>\n",
       "      <td>0</td>\n",
       "    </tr>\n",
       "    <tr>\n",
       "      <th>3</th>\n",
       "      <td>3</td>\n",
       "      <td>-47.71</td>\n",
       "      <td>0</td>\n",
       "    </tr>\n",
       "    <tr>\n",
       "      <th>4</th>\n",
       "      <td>4</td>\n",
       "      <td>-45.15</td>\n",
       "      <td>0</td>\n",
       "    </tr>\n",
       "    <tr>\n",
       "      <th>...</th>\n",
       "      <td>...</td>\n",
       "      <td>...</td>\n",
       "      <td>...</td>\n",
       "    </tr>\n",
       "    <tr>\n",
       "      <th>95</th>\n",
       "      <td>95</td>\n",
       "      <td>188.23</td>\n",
       "      <td>194</td>\n",
       "    </tr>\n",
       "    <tr>\n",
       "      <th>96</th>\n",
       "      <td>96</td>\n",
       "      <td>190.79</td>\n",
       "      <td>169</td>\n",
       "    </tr>\n",
       "    <tr>\n",
       "      <th>97</th>\n",
       "      <td>97</td>\n",
       "      <td>193.35</td>\n",
       "      <td>207</td>\n",
       "    </tr>\n",
       "    <tr>\n",
       "      <th>98</th>\n",
       "      <td>98</td>\n",
       "      <td>195.92</td>\n",
       "      <td>177</td>\n",
       "    </tr>\n",
       "    <tr>\n",
       "      <th>99</th>\n",
       "      <td>99</td>\n",
       "      <td>198.48</td>\n",
       "      <td>220</td>\n",
       "    </tr>\n",
       "  </tbody>\n",
       "</table>\n",
       "<p>100 rows × 3 columns</p>\n",
       "</div>"
      ],
      "text/plain": [
       "    Chan  Energy  Counts\n",
       "0      0  -55.40       0\n",
       "1      1  -52.84       0\n",
       "2      2  -50.27       0\n",
       "3      3  -47.71       0\n",
       "4      4  -45.15       0\n",
       "..   ...     ...     ...\n",
       "95    95  188.23     194\n",
       "96    96  190.79     169\n",
       "97    97  193.35     207\n",
       "98    98  195.92     177\n",
       "99    99  198.48     220\n",
       "\n",
       "[100 rows x 3 columns]"
      ]
     },
     "execution_count": 7,
     "metadata": {},
     "output_type": "execute_result"
    }
   ],
   "source": [
    "# Combine dataframes df1, df2, df3, and df4 into a single DataFrame\n",
    "co_df = pd.concat([df1, df2, df3, df4], ignore_index=True)\n",
    "\n",
    "# Display info and first few rows of the combined DataFrame\n",
    "co_df.info()\n",
    "co_df.head(100)"
   ]
  },
  {
   "cell_type": "code",
   "execution_count": null,
   "metadata": {},
   "outputs": [],
   "source": []
  },
  {
   "cell_type": "markdown",
   "metadata": {},
   "source": [
    "### labelling as 0"
   ]
  },
  {
   "cell_type": "code",
   "execution_count": 8,
   "metadata": {
    "colab": {
     "base_uri": "https://localhost:8080/",
     "height": 606
    },
    "executionInfo": {
     "elapsed": 513,
     "status": "ok",
     "timestamp": 1738136893629,
     "user": {
      "displayName": "David Irfan Jasir",
      "userId": "11871450647194869092"
     },
     "user_tz": -420
    },
    "id": "O5IZZ2zo8oBr",
    "outputId": "316b7092-ac3b-4586-ae69-c244d8ad093e"
   },
   "outputs": [
    {
     "name": "stdout",
     "output_type": "stream",
     "text": [
      "<class 'pandas.core.frame.DataFrame'>\n",
      "RangeIndex: 4096 entries, 0 to 4095\n",
      "Data columns (total 4 columns):\n",
      " #   Column  Non-Null Count  Dtype  \n",
      "---  ------  --------------  -----  \n",
      " 0   Chan    4096 non-null   int64  \n",
      " 1   Energy  4096 non-null   float64\n",
      " 2   Counts  4096 non-null   int64  \n",
      " 3   Label   4096 non-null   int64  \n",
      "dtypes: float64(1), int64(3)\n",
      "memory usage: 128.1 KB\n"
     ]
    },
    {
     "data": {
      "application/vnd.microsoft.datawrangler.viewer.v0+json": {
       "columns": [
        {
         "name": "index",
         "rawType": "int64",
         "type": "integer"
        },
        {
         "name": "Chan",
         "rawType": "int64",
         "type": "integer"
        },
        {
         "name": "Energy",
         "rawType": "float64",
         "type": "float"
        },
        {
         "name": "Counts",
         "rawType": "int64",
         "type": "integer"
        },
        {
         "name": "Label",
         "rawType": "int64",
         "type": "integer"
        }
       ],
       "conversionMethod": "pd.DataFrame",
       "ref": "02ea8ba2-5f8f-4beb-b1dd-dd17abfe760e",
       "rows": [
        [
         "0",
         "0",
         "-55.4",
         "0",
         "0"
        ],
        [
         "1",
         "1",
         "-52.84",
         "0",
         "0"
        ],
        [
         "2",
         "2",
         "-50.27",
         "0",
         "0"
        ],
        [
         "3",
         "3",
         "-47.71",
         "0",
         "0"
        ],
        [
         "4",
         "4",
         "-45.15",
         "0",
         "0"
        ],
        [
         "5",
         "5",
         "-42.58",
         "0",
         "0"
        ],
        [
         "6",
         "6",
         "-40.02",
         "0",
         "0"
        ],
        [
         "7",
         "7",
         "-37.45",
         "0",
         "0"
        ],
        [
         "8",
         "8",
         "-34.89",
         "0",
         "0"
        ],
        [
         "9",
         "9",
         "-32.32",
         "0",
         "0"
        ],
        [
         "10",
         "10",
         "-29.76",
         "0",
         "0"
        ],
        [
         "11",
         "11",
         "-27.19",
         "0",
         "0"
        ],
        [
         "12",
         "12",
         "-24.63",
         "1",
         "0"
        ],
        [
         "13",
         "13",
         "-22.06",
         "130",
         "0"
        ],
        [
         "14",
         "14",
         "-19.5",
         "139",
         "0"
        ],
        [
         "15",
         "15",
         "-16.94",
         "156",
         "0"
        ],
        [
         "16",
         "16",
         "-14.37",
         "165",
         "0"
        ],
        [
         "17",
         "17",
         "-11.81",
         "173",
         "0"
        ],
        [
         "18",
         "18",
         "-9.24",
         "153",
         "0"
        ],
        [
         "19",
         "19",
         "-6.68",
         "136",
         "0"
        ],
        [
         "20",
         "20",
         "-4.11",
         "149",
         "0"
        ],
        [
         "21",
         "21",
         "-1.55",
         "137",
         "0"
        ],
        [
         "22",
         "22",
         "1.02",
         "146",
         "0"
        ],
        [
         "23",
         "23",
         "3.58",
         "157",
         "0"
        ],
        [
         "24",
         "24",
         "6.15",
         "165",
         "0"
        ],
        [
         "25",
         "25",
         "8.71",
         "212",
         "0"
        ],
        [
         "26",
         "26",
         "11.27",
         "205",
         "0"
        ],
        [
         "27",
         "27",
         "13.84",
         "208",
         "0"
        ],
        [
         "28",
         "28",
         "16.4",
         "230",
         "0"
        ],
        [
         "29",
         "29",
         "18.97",
         "217",
         "0"
        ],
        [
         "30",
         "30",
         "21.53",
         "218",
         "0"
        ],
        [
         "31",
         "31",
         "24.1",
         "206",
         "0"
        ],
        [
         "32",
         "32",
         "26.66",
         "196",
         "0"
        ],
        [
         "33",
         "33",
         "29.23",
         "186",
         "0"
        ],
        [
         "34",
         "34",
         "31.79",
         "191",
         "0"
        ],
        [
         "35",
         "35",
         "34.35",
         "165",
         "0"
        ],
        [
         "36",
         "36",
         "36.92",
         "165",
         "0"
        ],
        [
         "37",
         "37",
         "39.48",
         "154",
         "0"
        ],
        [
         "38",
         "38",
         "42.05",
         "150",
         "0"
        ],
        [
         "39",
         "39",
         "44.61",
         "132",
         "0"
        ],
        [
         "40",
         "40",
         "47.18",
         "133",
         "0"
        ],
        [
         "41",
         "41",
         "49.74",
         "133",
         "0"
        ],
        [
         "42",
         "42",
         "52.31",
         "153",
         "0"
        ],
        [
         "43",
         "43",
         "54.87",
         "135",
         "0"
        ],
        [
         "44",
         "44",
         "57.44",
         "135",
         "0"
        ],
        [
         "45",
         "45",
         "60.0",
         "138",
         "0"
        ],
        [
         "46",
         "46",
         "62.56",
         "130",
         "0"
        ],
        [
         "47",
         "47",
         "65.13",
         "123",
         "0"
        ],
        [
         "48",
         "48",
         "67.69",
         "167",
         "0"
        ],
        [
         "49",
         "49",
         "70.26",
         "133",
         "0"
        ]
       ],
       "shape": {
        "columns": 4,
        "rows": 100
       }
      },
      "text/html": [
       "<div>\n",
       "<style scoped>\n",
       "    .dataframe tbody tr th:only-of-type {\n",
       "        vertical-align: middle;\n",
       "    }\n",
       "\n",
       "    .dataframe tbody tr th {\n",
       "        vertical-align: top;\n",
       "    }\n",
       "\n",
       "    .dataframe thead th {\n",
       "        text-align: right;\n",
       "    }\n",
       "</style>\n",
       "<table border=\"1\" class=\"dataframe\">\n",
       "  <thead>\n",
       "    <tr style=\"text-align: right;\">\n",
       "      <th></th>\n",
       "      <th>Chan</th>\n",
       "      <th>Energy</th>\n",
       "      <th>Counts</th>\n",
       "      <th>Label</th>\n",
       "    </tr>\n",
       "  </thead>\n",
       "  <tbody>\n",
       "    <tr>\n",
       "      <th>0</th>\n",
       "      <td>0</td>\n",
       "      <td>-55.40</td>\n",
       "      <td>0</td>\n",
       "      <td>0</td>\n",
       "    </tr>\n",
       "    <tr>\n",
       "      <th>1</th>\n",
       "      <td>1</td>\n",
       "      <td>-52.84</td>\n",
       "      <td>0</td>\n",
       "      <td>0</td>\n",
       "    </tr>\n",
       "    <tr>\n",
       "      <th>2</th>\n",
       "      <td>2</td>\n",
       "      <td>-50.27</td>\n",
       "      <td>0</td>\n",
       "      <td>0</td>\n",
       "    </tr>\n",
       "    <tr>\n",
       "      <th>3</th>\n",
       "      <td>3</td>\n",
       "      <td>-47.71</td>\n",
       "      <td>0</td>\n",
       "      <td>0</td>\n",
       "    </tr>\n",
       "    <tr>\n",
       "      <th>4</th>\n",
       "      <td>4</td>\n",
       "      <td>-45.15</td>\n",
       "      <td>0</td>\n",
       "      <td>0</td>\n",
       "    </tr>\n",
       "    <tr>\n",
       "      <th>...</th>\n",
       "      <td>...</td>\n",
       "      <td>...</td>\n",
       "      <td>...</td>\n",
       "      <td>...</td>\n",
       "    </tr>\n",
       "    <tr>\n",
       "      <th>95</th>\n",
       "      <td>95</td>\n",
       "      <td>188.23</td>\n",
       "      <td>194</td>\n",
       "      <td>0</td>\n",
       "    </tr>\n",
       "    <tr>\n",
       "      <th>96</th>\n",
       "      <td>96</td>\n",
       "      <td>190.79</td>\n",
       "      <td>169</td>\n",
       "      <td>0</td>\n",
       "    </tr>\n",
       "    <tr>\n",
       "      <th>97</th>\n",
       "      <td>97</td>\n",
       "      <td>193.35</td>\n",
       "      <td>207</td>\n",
       "      <td>0</td>\n",
       "    </tr>\n",
       "    <tr>\n",
       "      <th>98</th>\n",
       "      <td>98</td>\n",
       "      <td>195.92</td>\n",
       "      <td>177</td>\n",
       "      <td>0</td>\n",
       "    </tr>\n",
       "    <tr>\n",
       "      <th>99</th>\n",
       "      <td>99</td>\n",
       "      <td>198.48</td>\n",
       "      <td>220</td>\n",
       "      <td>0</td>\n",
       "    </tr>\n",
       "  </tbody>\n",
       "</table>\n",
       "<p>100 rows × 4 columns</p>\n",
       "</div>"
      ],
      "text/plain": [
       "    Chan  Energy  Counts  Label\n",
       "0      0  -55.40       0      0\n",
       "1      1  -52.84       0      0\n",
       "2      2  -50.27       0      0\n",
       "3      3  -47.71       0      0\n",
       "4      4  -45.15       0      0\n",
       "..   ...     ...     ...    ...\n",
       "95    95  188.23     194      0\n",
       "96    96  190.79     169      0\n",
       "97    97  193.35     207      0\n",
       "98    98  195.92     177      0\n",
       "99    99  198.48     220      0\n",
       "\n",
       "[100 rows x 4 columns]"
      ]
     },
     "execution_count": 8,
     "metadata": {},
     "output_type": "execute_result"
    }
   ],
   "source": [
    "# prompt: add one column as label \"Co-60\" or '0'\n",
    "\n",
    "co_df['Label'] = '0'\n",
    "co_df['Label'] = co_df['Label'].astype('int64') # Convert the 'Label' column to integer type\n",
    "\n",
    "co_df.info()\n",
    "co_df.head(100)"
   ]
  },
  {
   "cell_type": "markdown",
   "metadata": {},
   "source": [
    "<b> Add Label Column for Co-60 Data </b>\n",
    "\n",
    "In this cell, we add a new column `Label` to the `df_co` DataFrame to label the data as `0` for Co-60. This is done to differentiate the Co-60 data from other datasets when combining or analyzing them later.\n",
    "\n",
    "- The `Label` column is initially set to the string `'0'`.\n",
    "- The data type of the `Label` column is then converted to `int16` for consistency and memory efficiency.\n",
    "- The structure of the updated DataFrame is displayed using `info()` to verify the addition of the new column and its data type.\n",
    "- The first 100 rows of the updated DataFrame are displayed using `head(100)` to preview the changes."
   ]
  },
  {
   "cell_type": "markdown",
   "metadata": {},
   "source": [
    "### make plot"
   ]
  },
  {
   "cell_type": "code",
   "execution_count": 9,
   "metadata": {},
   "outputs": [
    {
     "data": {
      "image/png": "[encoded data removed]",
      "text/plain": [
       "<Figure size 2000x600 with 2 Axes>"
      ]
     },
     "metadata": {},
     "output_type": "display_data"
    }
   ],
   "source": [
    "# Scatter plot for Energy vs Counts\n",
    "plt.figure(figsize=(20, 6))\n",
    "\n",
    "# Scatter plot for Energy vs Counts\n",
    "plt.subplot(1, 2, 1)  # 1 row, 2 columns, 1st subplot\n",
    "plt.scatter(co_df['Energy'], co_df['Counts'], s=5, c='blue', label='Energy vs Counts')\n",
    "plt.xlabel('Energy')\n",
    "plt.ylabel('Counts')\n",
    "plt.title('Energy vs Counts')\n",
    "plt.grid(True)\n",
    "plt.legend()\n",
    "\n",
    "# Scatter plot for Channel vs Counts\n",
    "plt.subplot(1, 2, 2)  # 1 row, 2 columns, 2nd subplot\n",
    "plt.scatter(co_df['Chan'], co_df['Counts'], s=5, c='red', label='Channel vs Counts')\n",
    "plt.xlabel('Channel')\n",
    "plt.ylabel('Counts')\n",
    "plt.title('Channel vs Counts')\n",
    "plt.grid(True)\n",
    "plt.legend()\n",
    "\n",
    "plt.show()"
   ]
  },
  {
   "cell_type": "markdown",
   "metadata": {},
   "source": [
    "<b>> Scatter Plots for Co-60 Data </b>\n",
    "\n",
    "In this cell, we create scatter plots to visualize the relationship between different variables in the `df_co` DataFrame:\n",
    "\n",
    "1. **Energy vs Counts**:\n",
    "    - A scatter plot is created with `Energy` on the x-axis and `Counts` on the y-axis.\n",
    "    - The points are displayed in blue with a size of 5.\n",
    "    - The plot includes a title, axis labels, a grid, and a legend.\n",
    "\n",
    "2. **Channel vs Counts**:\n",
    "    - A scatter plot is created with `Chan` (Channel) on the x-axis and `Counts` on the y-axis.\n",
    "    - The points are displayed in red with a size of 5.\n",
    "    - The plot includes a title, axis labels, a grid, and a legend.\n",
    "\n",
    "The `plt.figure()` function is used to set the figure size, and `plt.subplot()` is used to create two subplots in a single figure. Finally, `plt.show()` is called to display the plots."
   ]
  },
  {
   "cell_type": "markdown",
   "metadata": {},
   "source": [
    "## Cs-137"
   ]
  },
  {
   "cell_type": "markdown",
   "metadata": {},
   "source": [
    "### data 5 = Cs137 code 16 t60"
   ]
  },
  {
   "cell_type": "code",
   "execution_count": 10,
   "metadata": {
    "colab": {
     "base_uri": "https://localhost:8080/",
     "height": 624
    },
    "executionInfo": {
     "elapsed": 3889,
     "status": "ok",
     "timestamp": 1738135728574,
     "user": {
      "displayName": "David Irfan Jasir",
      "userId": "11871450647194869092"
     },
     "user_tz": -420
    },
    "id": "GkvuOuN_9FHS",
    "outputId": "4ce3e4d2-2be2-4519-aab0-f545ccdf3974"
   },
   "outputs": [
    {
     "name": "stdout",
     "output_type": "stream",
     "text": [
      "<class 'pandas.core.frame.DataFrame'>\n",
      "RangeIndex: 1024 entries, 0 to 1023\n",
      "Data columns (total 3 columns):\n",
      " #   Column  Non-Null Count  Dtype  \n",
      "---  ------  --------------  -----  \n",
      " 0   Chan    1024 non-null   int64  \n",
      " 1   Energy  1024 non-null   float64\n",
      " 2   Counts  1024 non-null   int64  \n",
      "dtypes: float64(1), int64(2)\n",
      "memory usage: 24.1 KB\n"
     ]
    },
    {
     "data": {
      "application/vnd.microsoft.datawrangler.viewer.v0+json": {
       "columns": [
        {
         "name": "index",
         "rawType": "int64",
         "type": "integer"
        },
        {
         "name": "Chan",
         "rawType": "int64",
         "type": "integer"
        },
        {
         "name": "Energy",
         "rawType": "float64",
         "type": "float"
        },
        {
         "name": "Counts",
         "rawType": "int64",
         "type": "integer"
        }
       ],
       "conversionMethod": "pd.DataFrame",
       "ref": "f08e0363-9492-4b33-bbfa-14f098410480",
       "rows": [
        [
         "0",
         "0",
         "-55.4",
         "0"
        ],
        [
         "1",
         "1",
         "-52.84",
         "0"
        ],
        [
         "2",
         "2",
         "-50.27",
         "0"
        ],
        [
         "3",
         "3",
         "-47.71",
         "0"
        ],
        [
         "4",
         "4",
         "-45.15",
         "0"
        ],
        [
         "5",
         "5",
         "-42.58",
         "0"
        ],
        [
         "6",
         "6",
         "-40.02",
         "0"
        ],
        [
         "7",
         "7",
         "-37.45",
         "0"
        ],
        [
         "8",
         "8",
         "-34.89",
         "0"
        ],
        [
         "9",
         "9",
         "-32.32",
         "0"
        ],
        [
         "10",
         "10",
         "-29.76",
         "4"
        ],
        [
         "11",
         "11",
         "-27.19",
         "21"
        ],
        [
         "12",
         "12",
         "-24.63",
         "252"
        ],
        [
         "13",
         "13",
         "-22.06",
         "4495"
        ],
        [
         "14",
         "14",
         "-19.5",
         "3538"
        ],
        [
         "15",
         "15",
         "-16.94",
         "2513"
        ],
        [
         "16",
         "16",
         "-14.37",
         "2013"
        ],
        [
         "17",
         "17",
         "-11.81",
         "1652"
        ],
        [
         "18",
         "18",
         "-9.24",
         "1627"
        ],
        [
         "19",
         "19",
         "-6.68",
         "1493"
        ],
        [
         "20",
         "20",
         "-4.11",
         "1470"
        ],
        [
         "21",
         "21",
         "-1.55",
         "1469"
        ],
        [
         "22",
         "22",
         "1.02",
         "1531"
        ],
        [
         "23",
         "23",
         "3.58",
         "1451"
        ],
        [
         "24",
         "24",
         "6.15",
         "1603"
        ],
        [
         "25",
         "25",
         "8.71",
         "1695"
        ],
        [
         "26",
         "26",
         "11.27",
         "1823"
        ],
        [
         "27",
         "27",
         "13.84",
         "1975"
        ],
        [
         "28",
         "28",
         "16.4",
         "1975"
        ],
        [
         "29",
         "29",
         "18.97",
         "2035"
        ],
        [
         "30",
         "30",
         "21.53",
         "1932"
        ],
        [
         "31",
         "31",
         "24.1",
         "1836"
        ],
        [
         "32",
         "32",
         "26.66",
         "1790"
        ],
        [
         "33",
         "33",
         "29.23",
         "1671"
        ],
        [
         "34",
         "34",
         "31.79",
         "1569"
        ],
        [
         "35",
         "35",
         "34.35",
         "1528"
        ],
        [
         "36",
         "36",
         "36.92",
         "1363"
        ],
        [
         "37",
         "37",
         "39.48",
         "1333"
        ],
        [
         "38",
         "38",
         "42.05",
         "1280"
        ],
        [
         "39",
         "39",
         "44.61",
         "1259"
        ],
        [
         "40",
         "40",
         "47.18",
         "1279"
        ],
        [
         "41",
         "41",
         "49.74",
         "1282"
        ],
        [
         "42",
         "42",
         "52.31",
         "1171"
        ],
        [
         "43",
         "43",
         "54.87",
         "1258"
        ],
        [
         "44",
         "44",
         "57.44",
         "1213"
        ],
        [
         "45",
         "45",
         "60.0",
         "1287"
        ],
        [
         "46",
         "46",
         "62.56",
         "1218"
        ],
        [
         "47",
         "47",
         "65.13",
         "1209"
        ],
        [
         "48",
         "48",
         "67.69",
         "1251"
        ],
        [
         "49",
         "49",
         "70.26",
         "1293"
        ]
       ],
       "shape": {
        "columns": 3,
        "rows": 100
       }
      },
      "text/html": [
       "<div>\n",
       "<style scoped>\n",
       "    .dataframe tbody tr th:only-of-type {\n",
       "        vertical-align: middle;\n",
       "    }\n",
       "\n",
       "    .dataframe tbody tr th {\n",
       "        vertical-align: top;\n",
       "    }\n",
       "\n",
       "    .dataframe thead th {\n",
       "        text-align: right;\n",
       "    }\n",
       "</style>\n",
       "<table border=\"1\" class=\"dataframe\">\n",
       "  <thead>\n",
       "    <tr style=\"text-align: right;\">\n",
       "      <th></th>\n",
       "      <th>Chan</th>\n",
       "      <th>Energy</th>\n",
       "      <th>Counts</th>\n",
       "    </tr>\n",
       "  </thead>\n",
       "  <tbody>\n",
       "    <tr>\n",
       "      <th>0</th>\n",
       "      <td>0</td>\n",
       "      <td>-55.40</td>\n",
       "      <td>0</td>\n",
       "    </tr>\n",
       "    <tr>\n",
       "      <th>1</th>\n",
       "      <td>1</td>\n",
       "      <td>-52.84</td>\n",
       "      <td>0</td>\n",
       "    </tr>\n",
       "    <tr>\n",
       "      <th>2</th>\n",
       "      <td>2</td>\n",
       "      <td>-50.27</td>\n",
       "      <td>0</td>\n",
       "    </tr>\n",
       "    <tr>\n",
       "      <th>3</th>\n",
       "      <td>3</td>\n",
       "      <td>-47.71</td>\n",
       "      <td>0</td>\n",
       "    </tr>\n",
       "    <tr>\n",
       "      <th>4</th>\n",
       "      <td>4</td>\n",
       "      <td>-45.15</td>\n",
       "      <td>0</td>\n",
       "    </tr>\n",
       "    <tr>\n",
       "      <th>...</th>\n",
       "      <td>...</td>\n",
       "      <td>...</td>\n",
       "      <td>...</td>\n",
       "    </tr>\n",
       "    <tr>\n",
       "      <th>95</th>\n",
       "      <td>95</td>\n",
       "      <td>188.23</td>\n",
       "      <td>1535</td>\n",
       "    </tr>\n",
       "    <tr>\n",
       "      <th>96</th>\n",
       "      <td>96</td>\n",
       "      <td>190.79</td>\n",
       "      <td>1508</td>\n",
       "    </tr>\n",
       "    <tr>\n",
       "      <th>97</th>\n",
       "      <td>97</td>\n",
       "      <td>193.35</td>\n",
       "      <td>1552</td>\n",
       "    </tr>\n",
       "    <tr>\n",
       "      <th>98</th>\n",
       "      <td>98</td>\n",
       "      <td>195.92</td>\n",
       "      <td>1567</td>\n",
       "    </tr>\n",
       "    <tr>\n",
       "      <th>99</th>\n",
       "      <td>99</td>\n",
       "      <td>198.48</td>\n",
       "      <td>1533</td>\n",
       "    </tr>\n",
       "  </tbody>\n",
       "</table>\n",
       "<p>100 rows × 3 columns</p>\n",
       "</div>"
      ],
      "text/plain": [
       "    Chan  Energy  Counts\n",
       "0      0  -55.40       0\n",
       "1      1  -52.84       0\n",
       "2      2  -50.27       0\n",
       "3      3  -47.71       0\n",
       "4      4  -45.15       0\n",
       "..   ...     ...     ...\n",
       "95    95  188.23    1535\n",
       "96    96  190.79    1508\n",
       "97    97  193.35    1552\n",
       "98    98  195.92    1567\n",
       "99    99  198.48    1533\n",
       "\n",
       "[100 rows x 3 columns]"
      ]
     },
     "execution_count": 10,
     "metadata": {},
     "output_type": "execute_result"
    }
   ],
   "source": [
    "data5 = 'cs137_21_60s.csv'\n",
    "\n",
    "df5 = pd.read_csv(data5)\n",
    "\n",
    "df5.info()\n",
    "df5.head(100)  # Print the first few rows of the DataFrame"
   ]
  },
  {
   "cell_type": "code",
   "execution_count": 11,
   "metadata": {},
   "outputs": [
    {
     "name": "stdout",
     "output_type": "stream",
     "text": [
      "<class 'pandas.core.frame.DataFrame'>\n",
      "RangeIndex: 1024 entries, 0 to 1023\n",
      "Data columns (total 3 columns):\n",
      " #   Column  Non-Null Count  Dtype  \n",
      "---  ------  --------------  -----  \n",
      " 0   Chan    1024 non-null   int64  \n",
      " 1   Energy  1024 non-null   float64\n",
      " 2   Counts  1024 non-null   int64  \n",
      "dtypes: float64(1), int64(2)\n",
      "memory usage: 24.1 KB\n"
     ]
    },
    {
     "data": {
      "application/vnd.microsoft.datawrangler.viewer.v0+json": {
       "columns": [
        {
         "name": "index",
         "rawType": "int64",
         "type": "integer"
        },
        {
         "name": "Chan",
         "rawType": "int64",
         "type": "integer"
        },
        {
         "name": "Energy",
         "rawType": "float64",
         "type": "float"
        },
        {
         "name": "Counts",
         "rawType": "int64",
         "type": "integer"
        }
       ],
       "conversionMethod": "pd.DataFrame",
       "ref": "2acd6528-6745-465a-be88-a9e3302fb4a7",
       "rows": [
        [
         "0",
         "0",
         "-55.4",
         "0"
        ],
        [
         "1",
         "1",
         "-52.84",
         "0"
        ],
        [
         "2",
         "2",
         "-50.27",
         "0"
        ],
        [
         "3",
         "3",
         "-47.71",
         "0"
        ],
        [
         "4",
         "4",
         "-45.15",
         "0"
        ],
        [
         "5",
         "5",
         "-42.58",
         "0"
        ],
        [
         "6",
         "6",
         "-40.02",
         "0"
        ],
        [
         "7",
         "7",
         "-37.45",
         "0"
        ],
        [
         "8",
         "8",
         "-34.89",
         "0"
        ],
        [
         "9",
         "9",
         "-32.32",
         "0"
        ],
        [
         "10",
         "10",
         "-29.76",
         "11"
        ],
        [
         "11",
         "11",
         "-27.19",
         "12"
        ],
        [
         "12",
         "12",
         "-24.63",
         "264"
        ],
        [
         "13",
         "13",
         "-22.06",
         "5018"
        ],
        [
         "14",
         "14",
         "-19.5",
         "3997"
        ],
        [
         "15",
         "15",
         "-16.94",
         "2828"
        ],
        [
         "16",
         "16",
         "-14.37",
         "2222"
        ],
        [
         "17",
         "17",
         "-11.81",
         "1841"
        ],
        [
         "18",
         "18",
         "-9.24",
         "1779"
        ],
        [
         "19",
         "19",
         "-6.68",
         "1782"
        ],
        [
         "20",
         "20",
         "-4.11",
         "1685"
        ],
        [
         "21",
         "21",
         "-1.55",
         "1762"
        ],
        [
         "22",
         "22",
         "1.02",
         "1712"
        ],
        [
         "23",
         "23",
         "3.58",
         "1659"
        ],
        [
         "24",
         "24",
         "6.15",
         "1805"
        ],
        [
         "25",
         "25",
         "8.71",
         "2028"
        ],
        [
         "26",
         "26",
         "11.27",
         "2209"
        ],
        [
         "27",
         "27",
         "13.84",
         "2365"
        ],
        [
         "28",
         "28",
         "16.4",
         "2280"
        ],
        [
         "29",
         "29",
         "18.97",
         "2410"
        ],
        [
         "30",
         "30",
         "21.53",
         "2331"
        ],
        [
         "31",
         "31",
         "24.1",
         "2097"
        ],
        [
         "32",
         "32",
         "26.66",
         "2036"
        ],
        [
         "33",
         "33",
         "29.23",
         "1942"
        ],
        [
         "34",
         "34",
         "31.79",
         "1868"
        ],
        [
         "35",
         "35",
         "34.35",
         "1761"
        ],
        [
         "36",
         "36",
         "36.92",
         "1614"
        ],
        [
         "37",
         "37",
         "39.48",
         "1553"
        ],
        [
         "38",
         "38",
         "42.05",
         "1511"
        ],
        [
         "39",
         "39",
         "44.61",
         "1466"
        ],
        [
         "40",
         "40",
         "47.18",
         "1472"
        ],
        [
         "41",
         "41",
         "49.74",
         "1436"
        ],
        [
         "42",
         "42",
         "52.31",
         "1345"
        ],
        [
         "43",
         "43",
         "54.87",
         "1438"
        ],
        [
         "44",
         "44",
         "57.44",
         "1464"
        ],
        [
         "45",
         "45",
         "60.0",
         "1444"
        ],
        [
         "46",
         "46",
         "62.56",
         "1426"
        ],
        [
         "47",
         "47",
         "65.13",
         "1441"
        ],
        [
         "48",
         "48",
         "67.69",
         "1491"
        ],
        [
         "49",
         "49",
         "70.26",
         "1454"
        ]
       ],
       "shape": {
        "columns": 3,
        "rows": 100
       }
      },
      "text/html": [
       "<div>\n",
       "<style scoped>\n",
       "    .dataframe tbody tr th:only-of-type {\n",
       "        vertical-align: middle;\n",
       "    }\n",
       "\n",
       "    .dataframe tbody tr th {\n",
       "        vertical-align: top;\n",
       "    }\n",
       "\n",
       "    .dataframe thead th {\n",
       "        text-align: right;\n",
       "    }\n",
       "</style>\n",
       "<table border=\"1\" class=\"dataframe\">\n",
       "  <thead>\n",
       "    <tr style=\"text-align: right;\">\n",
       "      <th></th>\n",
       "      <th>Chan</th>\n",
       "      <th>Energy</th>\n",
       "      <th>Counts</th>\n",
       "    </tr>\n",
       "  </thead>\n",
       "  <tbody>\n",
       "    <tr>\n",
       "      <th>0</th>\n",
       "      <td>0</td>\n",
       "      <td>-55.40</td>\n",
       "      <td>0</td>\n",
       "    </tr>\n",
       "    <tr>\n",
       "      <th>1</th>\n",
       "      <td>1</td>\n",
       "      <td>-52.84</td>\n",
       "      <td>0</td>\n",
       "    </tr>\n",
       "    <tr>\n",
       "      <th>2</th>\n",
       "      <td>2</td>\n",
       "      <td>-50.27</td>\n",
       "      <td>0</td>\n",
       "    </tr>\n",
       "    <tr>\n",
       "      <th>3</th>\n",
       "      <td>3</td>\n",
       "      <td>-47.71</td>\n",
       "      <td>0</td>\n",
       "    </tr>\n",
       "    <tr>\n",
       "      <th>4</th>\n",
       "      <td>4</td>\n",
       "      <td>-45.15</td>\n",
       "      <td>0</td>\n",
       "    </tr>\n",
       "    <tr>\n",
       "      <th>...</th>\n",
       "      <td>...</td>\n",
       "      <td>...</td>\n",
       "      <td>...</td>\n",
       "    </tr>\n",
       "    <tr>\n",
       "      <th>95</th>\n",
       "      <td>95</td>\n",
       "      <td>188.23</td>\n",
       "      <td>1902</td>\n",
       "    </tr>\n",
       "    <tr>\n",
       "      <th>96</th>\n",
       "      <td>96</td>\n",
       "      <td>190.79</td>\n",
       "      <td>1784</td>\n",
       "    </tr>\n",
       "    <tr>\n",
       "      <th>97</th>\n",
       "      <td>97</td>\n",
       "      <td>193.35</td>\n",
       "      <td>1855</td>\n",
       "    </tr>\n",
       "    <tr>\n",
       "      <th>98</th>\n",
       "      <td>98</td>\n",
       "      <td>195.92</td>\n",
       "      <td>1788</td>\n",
       "    </tr>\n",
       "    <tr>\n",
       "      <th>99</th>\n",
       "      <td>99</td>\n",
       "      <td>198.48</td>\n",
       "      <td>1832</td>\n",
       "    </tr>\n",
       "  </tbody>\n",
       "</table>\n",
       "<p>100 rows × 3 columns</p>\n",
       "</div>"
      ],
      "text/plain": [
       "    Chan  Energy  Counts\n",
       "0      0  -55.40       0\n",
       "1      1  -52.84       0\n",
       "2      2  -50.27       0\n",
       "3      3  -47.71       0\n",
       "4      4  -45.15       0\n",
       "..   ...     ...     ...\n",
       "95    95  188.23    1902\n",
       "96    96  190.79    1784\n",
       "97    97  193.35    1855\n",
       "98    98  195.92    1788\n",
       "99    99  198.48    1832\n",
       "\n",
       "[100 rows x 3 columns]"
      ]
     },
     "execution_count": 11,
     "metadata": {},
     "output_type": "execute_result"
    }
   ],
   "source": [
    "data6 = 'cs137_21_70s.csv'\n",
    "\n",
    "df6 = pd.read_csv(data6)\n",
    "\n",
    "df6.info()\n",
    "df6.head(100)  # Print the first few rows of the DataFrame      "
   ]
  },
  {
   "cell_type": "code",
   "execution_count": 12,
   "metadata": {},
   "outputs": [
    {
     "name": "stdout",
     "output_type": "stream",
     "text": [
      "<class 'pandas.core.frame.DataFrame'>\n",
      "RangeIndex: 1024 entries, 0 to 1023\n",
      "Data columns (total 3 columns):\n",
      " #   Column  Non-Null Count  Dtype  \n",
      "---  ------  --------------  -----  \n",
      " 0   Chan    1024 non-null   int64  \n",
      " 1   Energy  1024 non-null   float64\n",
      " 2   Counts  1024 non-null   int64  \n",
      "dtypes: float64(1), int64(2)\n",
      "memory usage: 24.1 KB\n"
     ]
    },
    {
     "data": {
      "application/vnd.microsoft.datawrangler.viewer.v0+json": {
       "columns": [
        {
         "name": "index",
         "rawType": "int64",
         "type": "integer"
        },
        {
         "name": "Chan",
         "rawType": "int64",
         "type": "integer"
        },
        {
         "name": "Energy",
         "rawType": "float64",
         "type": "float"
        },
        {
         "name": "Counts",
         "rawType": "int64",
         "type": "integer"
        }
       ],
       "conversionMethod": "pd.DataFrame",
       "ref": "cdf1a61e-337e-4302-959c-bad8fdcf0f0d",
       "rows": [
        [
         "0",
         "0",
         "-55.4",
         "0"
        ],
        [
         "1",
         "1",
         "-52.84",
         "0"
        ],
        [
         "2",
         "2",
         "-50.27",
         "0"
        ],
        [
         "3",
         "3",
         "-47.71",
         "0"
        ],
        [
         "4",
         "4",
         "-45.15",
         "0"
        ],
        [
         "5",
         "5",
         "-42.58",
         "0"
        ],
        [
         "6",
         "6",
         "-40.02",
         "0"
        ],
        [
         "7",
         "7",
         "-37.45",
         "0"
        ],
        [
         "8",
         "8",
         "-34.89",
         "0"
        ],
        [
         "9",
         "9",
         "-32.32",
         "0"
        ],
        [
         "10",
         "10",
         "-29.76",
         "6"
        ],
        [
         "11",
         "11",
         "-27.19",
         "26"
        ],
        [
         "12",
         "12",
         "-24.63",
         "323"
        ],
        [
         "13",
         "13",
         "-22.06",
         "5722"
        ],
        [
         "14",
         "14",
         "-19.5",
         "4539"
        ],
        [
         "15",
         "15",
         "-16.94",
         "3220"
        ],
        [
         "16",
         "16",
         "-14.37",
         "2573"
        ],
        [
         "17",
         "17",
         "-11.81",
         "2196"
        ],
        [
         "18",
         "18",
         "-9.24",
         "2069"
        ],
        [
         "19",
         "19",
         "-6.68",
         "2022"
        ],
        [
         "20",
         "20",
         "-4.11",
         "2011"
        ],
        [
         "21",
         "21",
         "-1.55",
         "1888"
        ],
        [
         "22",
         "22",
         "1.02",
         "1986"
        ],
        [
         "23",
         "23",
         "3.58",
         "1990"
        ],
        [
         "24",
         "24",
         "6.15",
         "2161"
        ],
        [
         "25",
         "25",
         "8.71",
         "2406"
        ],
        [
         "26",
         "26",
         "11.27",
         "2532"
        ],
        [
         "27",
         "27",
         "13.84",
         "2622"
        ],
        [
         "28",
         "28",
         "16.4",
         "2784"
        ],
        [
         "29",
         "29",
         "18.97",
         "2828"
        ],
        [
         "30",
         "30",
         "21.53",
         "2599"
        ],
        [
         "31",
         "31",
         "24.1",
         "2442"
        ],
        [
         "32",
         "32",
         "26.66",
         "2370"
        ],
        [
         "33",
         "33",
         "29.23",
         "2163"
        ],
        [
         "34",
         "34",
         "31.79",
         "2071"
        ],
        [
         "35",
         "35",
         "34.35",
         "1966"
        ],
        [
         "36",
         "36",
         "36.92",
         "1802"
        ],
        [
         "37",
         "37",
         "39.48",
         "1713"
        ],
        [
         "38",
         "38",
         "42.05",
         "1740"
        ],
        [
         "39",
         "39",
         "44.61",
         "1671"
        ],
        [
         "40",
         "40",
         "47.18",
         "1693"
        ],
        [
         "41",
         "41",
         "49.74",
         "1703"
        ],
        [
         "42",
         "42",
         "52.31",
         "1602"
        ],
        [
         "43",
         "43",
         "54.87",
         "1653"
        ],
        [
         "44",
         "44",
         "57.44",
         "1619"
        ],
        [
         "45",
         "45",
         "60.0",
         "1664"
        ],
        [
         "46",
         "46",
         "62.56",
         "1694"
        ],
        [
         "47",
         "47",
         "65.13",
         "1690"
        ],
        [
         "48",
         "48",
         "67.69",
         "1693"
        ],
        [
         "49",
         "49",
         "70.26",
         "1729"
        ]
       ],
       "shape": {
        "columns": 3,
        "rows": 100
       }
      },
      "text/html": [
       "<div>\n",
       "<style scoped>\n",
       "    .dataframe tbody tr th:only-of-type {\n",
       "        vertical-align: middle;\n",
       "    }\n",
       "\n",
       "    .dataframe tbody tr th {\n",
       "        vertical-align: top;\n",
       "    }\n",
       "\n",
       "    .dataframe thead th {\n",
       "        text-align: right;\n",
       "    }\n",
       "</style>\n",
       "<table border=\"1\" class=\"dataframe\">\n",
       "  <thead>\n",
       "    <tr style=\"text-align: right;\">\n",
       "      <th></th>\n",
       "      <th>Chan</th>\n",
       "      <th>Energy</th>\n",
       "      <th>Counts</th>\n",
       "    </tr>\n",
       "  </thead>\n",
       "  <tbody>\n",
       "    <tr>\n",
       "      <th>0</th>\n",
       "      <td>0</td>\n",
       "      <td>-55.40</td>\n",
       "      <td>0</td>\n",
       "    </tr>\n",
       "    <tr>\n",
       "      <th>1</th>\n",
       "      <td>1</td>\n",
       "      <td>-52.84</td>\n",
       "      <td>0</td>\n",
       "    </tr>\n",
       "    <tr>\n",
       "      <th>2</th>\n",
       "      <td>2</td>\n",
       "      <td>-50.27</td>\n",
       "      <td>0</td>\n",
       "    </tr>\n",
       "    <tr>\n",
       "      <th>3</th>\n",
       "      <td>3</td>\n",
       "      <td>-47.71</td>\n",
       "      <td>0</td>\n",
       "    </tr>\n",
       "    <tr>\n",
       "      <th>4</th>\n",
       "      <td>4</td>\n",
       "      <td>-45.15</td>\n",
       "      <td>0</td>\n",
       "    </tr>\n",
       "    <tr>\n",
       "      <th>...</th>\n",
       "      <td>...</td>\n",
       "      <td>...</td>\n",
       "      <td>...</td>\n",
       "    </tr>\n",
       "    <tr>\n",
       "      <th>95</th>\n",
       "      <td>95</td>\n",
       "      <td>188.23</td>\n",
       "      <td>2090</td>\n",
       "    </tr>\n",
       "    <tr>\n",
       "      <th>96</th>\n",
       "      <td>96</td>\n",
       "      <td>190.79</td>\n",
       "      <td>2034</td>\n",
       "    </tr>\n",
       "    <tr>\n",
       "      <th>97</th>\n",
       "      <td>97</td>\n",
       "      <td>193.35</td>\n",
       "      <td>2008</td>\n",
       "    </tr>\n",
       "    <tr>\n",
       "      <th>98</th>\n",
       "      <td>98</td>\n",
       "      <td>195.92</td>\n",
       "      <td>2085</td>\n",
       "    </tr>\n",
       "    <tr>\n",
       "      <th>99</th>\n",
       "      <td>99</td>\n",
       "      <td>198.48</td>\n",
       "      <td>2043</td>\n",
       "    </tr>\n",
       "  </tbody>\n",
       "</table>\n",
       "<p>100 rows × 3 columns</p>\n",
       "</div>"
      ],
      "text/plain": [
       "    Chan  Energy  Counts\n",
       "0      0  -55.40       0\n",
       "1      1  -52.84       0\n",
       "2      2  -50.27       0\n",
       "3      3  -47.71       0\n",
       "4      4  -45.15       0\n",
       "..   ...     ...     ...\n",
       "95    95  188.23    2090\n",
       "96    96  190.79    2034\n",
       "97    97  193.35    2008\n",
       "98    98  195.92    2085\n",
       "99    99  198.48    2043\n",
       "\n",
       "[100 rows x 3 columns]"
      ]
     },
     "execution_count": 12,
     "metadata": {},
     "output_type": "execute_result"
    }
   ],
   "source": [
    "data7 = 'cs137_21_80s.csv'\n",
    "\n",
    "df7 = pd.read_csv(data7)\n",
    "\n",
    "df7.info()\n",
    "df7.head(100)  # Print the first few rows of the DataFrame"
   ]
  },
  {
   "cell_type": "code",
   "execution_count": 13,
   "metadata": {},
   "outputs": [
    {
     "name": "stdout",
     "output_type": "stream",
     "text": [
      "<class 'pandas.core.frame.DataFrame'>\n",
      "RangeIndex: 1024 entries, 0 to 1023\n",
      "Data columns (total 3 columns):\n",
      " #   Column  Non-Null Count  Dtype  \n",
      "---  ------  --------------  -----  \n",
      " 0   Chan    1024 non-null   int64  \n",
      " 1   Energy  1024 non-null   float64\n",
      " 2   Counts  1024 non-null   int64  \n",
      "dtypes: float64(1), int64(2)\n",
      "memory usage: 24.1 KB\n"
     ]
    },
    {
     "data": {
      "application/vnd.microsoft.datawrangler.viewer.v0+json": {
       "columns": [
        {
         "name": "index",
         "rawType": "int64",
         "type": "integer"
        },
        {
         "name": "Chan",
         "rawType": "int64",
         "type": "integer"
        },
        {
         "name": "Energy",
         "rawType": "float64",
         "type": "float"
        },
        {
         "name": "Counts",
         "rawType": "int64",
         "type": "integer"
        }
       ],
       "conversionMethod": "pd.DataFrame",
       "ref": "3b43d1a5-badf-4ddc-8fec-41208d05a70d",
       "rows": [
        [
         "0",
         "0",
         "-55.4",
         "0"
        ],
        [
         "1",
         "1",
         "-52.84",
         "0"
        ],
        [
         "2",
         "2",
         "-50.27",
         "0"
        ],
        [
         "3",
         "3",
         "-47.71",
         "0"
        ],
        [
         "4",
         "4",
         "-45.15",
         "0"
        ],
        [
         "5",
         "5",
         "-42.58",
         "0"
        ],
        [
         "6",
         "6",
         "-40.02",
         "0"
        ],
        [
         "7",
         "7",
         "-37.45",
         "0"
        ],
        [
         "8",
         "8",
         "-34.89",
         "0"
        ],
        [
         "9",
         "9",
         "-32.32",
         "0"
        ],
        [
         "10",
         "10",
         "-29.76",
         "12"
        ],
        [
         "11",
         "11",
         "-27.19",
         "17"
        ],
        [
         "12",
         "12",
         "-24.63",
         "380"
        ],
        [
         "13",
         "13",
         "-22.06",
         "6389"
        ],
        [
         "14",
         "14",
         "-19.5",
         "5029"
        ],
        [
         "15",
         "15",
         "-16.94",
         "3625"
        ],
        [
         "16",
         "16",
         "-14.37",
         "2897"
        ],
        [
         "17",
         "17",
         "-11.81",
         "2519"
        ],
        [
         "18",
         "18",
         "-9.24",
         "2345"
        ],
        [
         "19",
         "19",
         "-6.68",
         "2241"
        ],
        [
         "20",
         "20",
         "-4.11",
         "2188"
        ],
        [
         "21",
         "21",
         "-1.55",
         "2234"
        ],
        [
         "22",
         "22",
         "1.02",
         "2210"
        ],
        [
         "23",
         "23",
         "3.58",
         "2366"
        ],
        [
         "24",
         "24",
         "6.15",
         "2430"
        ],
        [
         "25",
         "25",
         "8.71",
         "2677"
        ],
        [
         "26",
         "26",
         "11.27",
         "2930"
        ],
        [
         "27",
         "27",
         "13.84",
         "3003"
        ],
        [
         "28",
         "28",
         "16.4",
         "3114"
        ],
        [
         "29",
         "29",
         "18.97",
         "3034"
        ],
        [
         "30",
         "30",
         "21.53",
         "2953"
        ],
        [
         "31",
         "31",
         "24.1",
         "2675"
        ],
        [
         "32",
         "32",
         "26.66",
         "2553"
        ],
        [
         "33",
         "33",
         "29.23",
         "2516"
        ],
        [
         "34",
         "34",
         "31.79",
         "2321"
        ],
        [
         "35",
         "35",
         "34.35",
         "2192"
        ],
        [
         "36",
         "36",
         "36.92",
         "2068"
        ],
        [
         "37",
         "37",
         "39.48",
         "1993"
        ],
        [
         "38",
         "38",
         "42.05",
         "1978"
        ],
        [
         "39",
         "39",
         "44.61",
         "1920"
        ],
        [
         "40",
         "40",
         "47.18",
         "1806"
        ],
        [
         "41",
         "41",
         "49.74",
         "1835"
        ],
        [
         "42",
         "42",
         "52.31",
         "1911"
        ],
        [
         "43",
         "43",
         "54.87",
         "1838"
        ],
        [
         "44",
         "44",
         "57.44",
         "1798"
        ],
        [
         "45",
         "45",
         "60.0",
         "1787"
        ],
        [
         "46",
         "46",
         "62.56",
         "1916"
        ],
        [
         "47",
         "47",
         "65.13",
         "1866"
        ],
        [
         "48",
         "48",
         "67.69",
         "1864"
        ],
        [
         "49",
         "49",
         "70.26",
         "1937"
        ]
       ],
       "shape": {
        "columns": 3,
        "rows": 100
       }
      },
      "text/html": [
       "<div>\n",
       "<style scoped>\n",
       "    .dataframe tbody tr th:only-of-type {\n",
       "        vertical-align: middle;\n",
       "    }\n",
       "\n",
       "    .dataframe tbody tr th {\n",
       "        vertical-align: top;\n",
       "    }\n",
       "\n",
       "    .dataframe thead th {\n",
       "        text-align: right;\n",
       "    }\n",
       "</style>\n",
       "<table border=\"1\" class=\"dataframe\">\n",
       "  <thead>\n",
       "    <tr style=\"text-align: right;\">\n",
       "      <th></th>\n",
       "      <th>Chan</th>\n",
       "      <th>Energy</th>\n",
       "      <th>Counts</th>\n",
       "    </tr>\n",
       "  </thead>\n",
       "  <tbody>\n",
       "    <tr>\n",
       "      <th>0</th>\n",
       "      <td>0</td>\n",
       "      <td>-55.40</td>\n",
       "      <td>0</td>\n",
       "    </tr>\n",
       "    <tr>\n",
       "      <th>1</th>\n",
       "      <td>1</td>\n",
       "      <td>-52.84</td>\n",
       "      <td>0</td>\n",
       "    </tr>\n",
       "    <tr>\n",
       "      <th>2</th>\n",
       "      <td>2</td>\n",
       "      <td>-50.27</td>\n",
       "      <td>0</td>\n",
       "    </tr>\n",
       "    <tr>\n",
       "      <th>3</th>\n",
       "      <td>3</td>\n",
       "      <td>-47.71</td>\n",
       "      <td>0</td>\n",
       "    </tr>\n",
       "    <tr>\n",
       "      <th>4</th>\n",
       "      <td>4</td>\n",
       "      <td>-45.15</td>\n",
       "      <td>0</td>\n",
       "    </tr>\n",
       "    <tr>\n",
       "      <th>...</th>\n",
       "      <td>...</td>\n",
       "      <td>...</td>\n",
       "      <td>...</td>\n",
       "    </tr>\n",
       "    <tr>\n",
       "      <th>95</th>\n",
       "      <td>95</td>\n",
       "      <td>188.23</td>\n",
       "      <td>2403</td>\n",
       "    </tr>\n",
       "    <tr>\n",
       "      <th>96</th>\n",
       "      <td>96</td>\n",
       "      <td>190.79</td>\n",
       "      <td>2444</td>\n",
       "    </tr>\n",
       "    <tr>\n",
       "      <th>97</th>\n",
       "      <td>97</td>\n",
       "      <td>193.35</td>\n",
       "      <td>2331</td>\n",
       "    </tr>\n",
       "    <tr>\n",
       "      <th>98</th>\n",
       "      <td>98</td>\n",
       "      <td>195.92</td>\n",
       "      <td>2265</td>\n",
       "    </tr>\n",
       "    <tr>\n",
       "      <th>99</th>\n",
       "      <td>99</td>\n",
       "      <td>198.48</td>\n",
       "      <td>2214</td>\n",
       "    </tr>\n",
       "  </tbody>\n",
       "</table>\n",
       "<p>100 rows × 3 columns</p>\n",
       "</div>"
      ],
      "text/plain": [
       "    Chan  Energy  Counts\n",
       "0      0  -55.40       0\n",
       "1      1  -52.84       0\n",
       "2      2  -50.27       0\n",
       "3      3  -47.71       0\n",
       "4      4  -45.15       0\n",
       "..   ...     ...     ...\n",
       "95    95  188.23    2403\n",
       "96    96  190.79    2444\n",
       "97    97  193.35    2331\n",
       "98    98  195.92    2265\n",
       "99    99  198.48    2214\n",
       "\n",
       "[100 rows x 3 columns]"
      ]
     },
     "execution_count": 13,
     "metadata": {},
     "output_type": "execute_result"
    }
   ],
   "source": [
    "data8 = 'cs137_21_90s.csv'\n",
    "\n",
    "df8 = pd.read_csv(data8)\n",
    "\n",
    "df8.info()\n",
    "df8.head(100)  # Print the first few rows of the DataFrame"
   ]
  },
  {
   "cell_type": "code",
   "execution_count": 14,
   "metadata": {},
   "outputs": [
    {
     "name": "stdout",
     "output_type": "stream",
     "text": [
      "<class 'pandas.core.frame.DataFrame'>\n",
      "RangeIndex: 4096 entries, 0 to 4095\n",
      "Data columns (total 3 columns):\n",
      " #   Column  Non-Null Count  Dtype  \n",
      "---  ------  --------------  -----  \n",
      " 0   Chan    4096 non-null   int64  \n",
      " 1   Energy  4096 non-null   float64\n",
      " 2   Counts  4096 non-null   int64  \n",
      "dtypes: float64(1), int64(2)\n",
      "memory usage: 96.1 KB\n"
     ]
    },
    {
     "data": {
      "application/vnd.microsoft.datawrangler.viewer.v0+json": {
       "columns": [
        {
         "name": "index",
         "rawType": "int64",
         "type": "integer"
        },
        {
         "name": "Chan",
         "rawType": "int64",
         "type": "integer"
        },
        {
         "name": "Energy",
         "rawType": "float64",
         "type": "float"
        },
        {
         "name": "Counts",
         "rawType": "int64",
         "type": "integer"
        }
       ],
       "conversionMethod": "pd.DataFrame",
       "ref": "86df7eda-6eec-41ef-ab69-a7843d212557",
       "rows": [
        [
         "0",
         "0",
         "-55.4",
         "0"
        ],
        [
         "1",
         "1",
         "-52.84",
         "0"
        ],
        [
         "2",
         "2",
         "-50.27",
         "0"
        ],
        [
         "3",
         "3",
         "-47.71",
         "0"
        ],
        [
         "4",
         "4",
         "-45.15",
         "0"
        ],
        [
         "5",
         "5",
         "-42.58",
         "0"
        ],
        [
         "6",
         "6",
         "-40.02",
         "0"
        ],
        [
         "7",
         "7",
         "-37.45",
         "0"
        ],
        [
         "8",
         "8",
         "-34.89",
         "0"
        ],
        [
         "9",
         "9",
         "-32.32",
         "0"
        ],
        [
         "10",
         "10",
         "-29.76",
         "4"
        ],
        [
         "11",
         "11",
         "-27.19",
         "21"
        ],
        [
         "12",
         "12",
         "-24.63",
         "252"
        ],
        [
         "13",
         "13",
         "-22.06",
         "4495"
        ],
        [
         "14",
         "14",
         "-19.5",
         "3538"
        ],
        [
         "15",
         "15",
         "-16.94",
         "2513"
        ],
        [
         "16",
         "16",
         "-14.37",
         "2013"
        ],
        [
         "17",
         "17",
         "-11.81",
         "1652"
        ],
        [
         "18",
         "18",
         "-9.24",
         "1627"
        ],
        [
         "19",
         "19",
         "-6.68",
         "1493"
        ],
        [
         "20",
         "20",
         "-4.11",
         "1470"
        ],
        [
         "21",
         "21",
         "-1.55",
         "1469"
        ],
        [
         "22",
         "22",
         "1.02",
         "1531"
        ],
        [
         "23",
         "23",
         "3.58",
         "1451"
        ],
        [
         "24",
         "24",
         "6.15",
         "1603"
        ],
        [
         "25",
         "25",
         "8.71",
         "1695"
        ],
        [
         "26",
         "26",
         "11.27",
         "1823"
        ],
        [
         "27",
         "27",
         "13.84",
         "1975"
        ],
        [
         "28",
         "28",
         "16.4",
         "1975"
        ],
        [
         "29",
         "29",
         "18.97",
         "2035"
        ],
        [
         "30",
         "30",
         "21.53",
         "1932"
        ],
        [
         "31",
         "31",
         "24.1",
         "1836"
        ],
        [
         "32",
         "32",
         "26.66",
         "1790"
        ],
        [
         "33",
         "33",
         "29.23",
         "1671"
        ],
        [
         "34",
         "34",
         "31.79",
         "1569"
        ],
        [
         "35",
         "35",
         "34.35",
         "1528"
        ],
        [
         "36",
         "36",
         "36.92",
         "1363"
        ],
        [
         "37",
         "37",
         "39.48",
         "1333"
        ],
        [
         "38",
         "38",
         "42.05",
         "1280"
        ],
        [
         "39",
         "39",
         "44.61",
         "1259"
        ],
        [
         "40",
         "40",
         "47.18",
         "1279"
        ],
        [
         "41",
         "41",
         "49.74",
         "1282"
        ],
        [
         "42",
         "42",
         "52.31",
         "1171"
        ],
        [
         "43",
         "43",
         "54.87",
         "1258"
        ],
        [
         "44",
         "44",
         "57.44",
         "1213"
        ],
        [
         "45",
         "45",
         "60.0",
         "1287"
        ],
        [
         "46",
         "46",
         "62.56",
         "1218"
        ],
        [
         "47",
         "47",
         "65.13",
         "1209"
        ],
        [
         "48",
         "48",
         "67.69",
         "1251"
        ],
        [
         "49",
         "49",
         "70.26",
         "1293"
        ]
       ],
       "shape": {
        "columns": 3,
        "rows": 100
       }
      },
      "text/html": [
       "<div>\n",
       "<style scoped>\n",
       "    .dataframe tbody tr th:only-of-type {\n",
       "        vertical-align: middle;\n",
       "    }\n",
       "\n",
       "    .dataframe tbody tr th {\n",
       "        vertical-align: top;\n",
       "    }\n",
       "\n",
       "    .dataframe thead th {\n",
       "        text-align: right;\n",
       "    }\n",
       "</style>\n",
       "<table border=\"1\" class=\"dataframe\">\n",
       "  <thead>\n",
       "    <tr style=\"text-align: right;\">\n",
       "      <th></th>\n",
       "      <th>Chan</th>\n",
       "      <th>Energy</th>\n",
       "      <th>Counts</th>\n",
       "    </tr>\n",
       "  </thead>\n",
       "  <tbody>\n",
       "    <tr>\n",
       "      <th>0</th>\n",
       "      <td>0</td>\n",
       "      <td>-55.40</td>\n",
       "      <td>0</td>\n",
       "    </tr>\n",
       "    <tr>\n",
       "      <th>1</th>\n",
       "      <td>1</td>\n",
       "      <td>-52.84</td>\n",
       "      <td>0</td>\n",
       "    </tr>\n",
       "    <tr>\n",
       "      <th>2</th>\n",
       "      <td>2</td>\n",
       "      <td>-50.27</td>\n",
       "      <td>0</td>\n",
       "    </tr>\n",
       "    <tr>\n",
       "      <th>3</th>\n",
       "      <td>3</td>\n",
       "      <td>-47.71</td>\n",
       "      <td>0</td>\n",
       "    </tr>\n",
       "    <tr>\n",
       "      <th>4</th>\n",
       "      <td>4</td>\n",
       "      <td>-45.15</td>\n",
       "      <td>0</td>\n",
       "    </tr>\n",
       "    <tr>\n",
       "      <th>...</th>\n",
       "      <td>...</td>\n",
       "      <td>...</td>\n",
       "      <td>...</td>\n",
       "    </tr>\n",
       "    <tr>\n",
       "      <th>95</th>\n",
       "      <td>95</td>\n",
       "      <td>188.23</td>\n",
       "      <td>1535</td>\n",
       "    </tr>\n",
       "    <tr>\n",
       "      <th>96</th>\n",
       "      <td>96</td>\n",
       "      <td>190.79</td>\n",
       "      <td>1508</td>\n",
       "    </tr>\n",
       "    <tr>\n",
       "      <th>97</th>\n",
       "      <td>97</td>\n",
       "      <td>193.35</td>\n",
       "      <td>1552</td>\n",
       "    </tr>\n",
       "    <tr>\n",
       "      <th>98</th>\n",
       "      <td>98</td>\n",
       "      <td>195.92</td>\n",
       "      <td>1567</td>\n",
       "    </tr>\n",
       "    <tr>\n",
       "      <th>99</th>\n",
       "      <td>99</td>\n",
       "      <td>198.48</td>\n",
       "      <td>1533</td>\n",
       "    </tr>\n",
       "  </tbody>\n",
       "</table>\n",
       "<p>100 rows × 3 columns</p>\n",
       "</div>"
      ],
      "text/plain": [
       "    Chan  Energy  Counts\n",
       "0      0  -55.40       0\n",
       "1      1  -52.84       0\n",
       "2      2  -50.27       0\n",
       "3      3  -47.71       0\n",
       "4      4  -45.15       0\n",
       "..   ...     ...     ...\n",
       "95    95  188.23    1535\n",
       "96    96  190.79    1508\n",
       "97    97  193.35    1552\n",
       "98    98  195.92    1567\n",
       "99    99  198.48    1533\n",
       "\n",
       "[100 rows x 3 columns]"
      ]
     },
     "execution_count": 14,
     "metadata": {},
     "output_type": "execute_result"
    }
   ],
   "source": [
    "# Combine dataframes df1, df2, df3, and df4 into a single DataFrame\n",
    "cs_df = pd.concat([df5, df6, df7, df8], ignore_index=True)\n",
    "\n",
    "# Display info and first few rows of the combined DataFrame\n",
    "cs_df.info()\n",
    "cs_df.head(100)"
   ]
  },
  {
   "cell_type": "markdown",
   "metadata": {},
   "source": [
    "### labelling as 1"
   ]
  },
  {
   "cell_type": "code",
   "execution_count": 15,
   "metadata": {
    "colab": {
     "base_uri": "https://localhost:8080/",
     "height": 606
    },
    "executionInfo": {
     "elapsed": 467,
     "status": "ok",
     "timestamp": 1738136716973,
     "user": {
      "displayName": "David Irfan Jasir",
      "userId": "11871450647194869092"
     },
     "user_tz": -420
    },
    "id": "ieX_Qy-xBUuM",
    "outputId": "cd4a644d-0ba3-40bf-e06c-35f3e1ff4e87"
   },
   "outputs": [
    {
     "name": "stdout",
     "output_type": "stream",
     "text": [
      "<class 'pandas.core.frame.DataFrame'>\n",
      "RangeIndex: 4096 entries, 0 to 4095\n",
      "Data columns (total 4 columns):\n",
      " #   Column  Non-Null Count  Dtype  \n",
      "---  ------  --------------  -----  \n",
      " 0   Chan    4096 non-null   int64  \n",
      " 1   Energy  4096 non-null   float64\n",
      " 2   Counts  4096 non-null   int64  \n",
      " 3   Label   4096 non-null   int64  \n",
      "dtypes: float64(1), int64(3)\n",
      "memory usage: 128.1 KB\n"
     ]
    },
    {
     "data": {
      "application/vnd.microsoft.datawrangler.viewer.v0+json": {
       "columns": [
        {
         "name": "index",
         "rawType": "int64",
         "type": "integer"
        },
        {
         "name": "Chan",
         "rawType": "int64",
         "type": "integer"
        },
        {
         "name": "Energy",
         "rawType": "float64",
         "type": "float"
        },
        {
         "name": "Counts",
         "rawType": "int64",
         "type": "integer"
        },
        {
         "name": "Label",
         "rawType": "int64",
         "type": "integer"
        }
       ],
       "conversionMethod": "pd.DataFrame",
       "ref": "c81f6d2d-a815-436b-bcb9-472512849471",
       "rows": [
        [
         "0",
         "0",
         "-55.4",
         "0",
         "1"
        ],
        [
         "1",
         "1",
         "-52.84",
         "0",
         "1"
        ],
        [
         "2",
         "2",
         "-50.27",
         "0",
         "1"
        ],
        [
         "3",
         "3",
         "-47.71",
         "0",
         "1"
        ],
        [
         "4",
         "4",
         "-45.15",
         "0",
         "1"
        ],
        [
         "5",
         "5",
         "-42.58",
         "0",
         "1"
        ],
        [
         "6",
         "6",
         "-40.02",
         "0",
         "1"
        ],
        [
         "7",
         "7",
         "-37.45",
         "0",
         "1"
        ],
        [
         "8",
         "8",
         "-34.89",
         "0",
         "1"
        ],
        [
         "9",
         "9",
         "-32.32",
         "0",
         "1"
        ],
        [
         "10",
         "10",
         "-29.76",
         "4",
         "1"
        ],
        [
         "11",
         "11",
         "-27.19",
         "21",
         "1"
        ],
        [
         "12",
         "12",
         "-24.63",
         "252",
         "1"
        ],
        [
         "13",
         "13",
         "-22.06",
         "4495",
         "1"
        ],
        [
         "14",
         "14",
         "-19.5",
         "3538",
         "1"
        ],
        [
         "15",
         "15",
         "-16.94",
         "2513",
         "1"
        ],
        [
         "16",
         "16",
         "-14.37",
         "2013",
         "1"
        ],
        [
         "17",
         "17",
         "-11.81",
         "1652",
         "1"
        ],
        [
         "18",
         "18",
         "-9.24",
         "1627",
         "1"
        ],
        [
         "19",
         "19",
         "-6.68",
         "1493",
         "1"
        ],
        [
         "20",
         "20",
         "-4.11",
         "1470",
         "1"
        ],
        [
         "21",
         "21",
         "-1.55",
         "1469",
         "1"
        ],
        [
         "22",
         "22",
         "1.02",
         "1531",
         "1"
        ],
        [
         "23",
         "23",
         "3.58",
         "1451",
         "1"
        ],
        [
         "24",
         "24",
         "6.15",
         "1603",
         "1"
        ],
        [
         "25",
         "25",
         "8.71",
         "1695",
         "1"
        ],
        [
         "26",
         "26",
         "11.27",
         "1823",
         "1"
        ],
        [
         "27",
         "27",
         "13.84",
         "1975",
         "1"
        ],
        [
         "28",
         "28",
         "16.4",
         "1975",
         "1"
        ],
        [
         "29",
         "29",
         "18.97",
         "2035",
         "1"
        ],
        [
         "30",
         "30",
         "21.53",
         "1932",
         "1"
        ],
        [
         "31",
         "31",
         "24.1",
         "1836",
         "1"
        ],
        [
         "32",
         "32",
         "26.66",
         "1790",
         "1"
        ],
        [
         "33",
         "33",
         "29.23",
         "1671",
         "1"
        ],
        [
         "34",
         "34",
         "31.79",
         "1569",
         "1"
        ],
        [
         "35",
         "35",
         "34.35",
         "1528",
         "1"
        ],
        [
         "36",
         "36",
         "36.92",
         "1363",
         "1"
        ],
        [
         "37",
         "37",
         "39.48",
         "1333",
         "1"
        ],
        [
         "38",
         "38",
         "42.05",
         "1280",
         "1"
        ],
        [
         "39",
         "39",
         "44.61",
         "1259",
         "1"
        ],
        [
         "40",
         "40",
         "47.18",
         "1279",
         "1"
        ],
        [
         "41",
         "41",
         "49.74",
         "1282",
         "1"
        ],
        [
         "42",
         "42",
         "52.31",
         "1171",
         "1"
        ],
        [
         "43",
         "43",
         "54.87",
         "1258",
         "1"
        ],
        [
         "44",
         "44",
         "57.44",
         "1213",
         "1"
        ],
        [
         "45",
         "45",
         "60.0",
         "1287",
         "1"
        ],
        [
         "46",
         "46",
         "62.56",
         "1218",
         "1"
        ],
        [
         "47",
         "47",
         "65.13",
         "1209",
         "1"
        ],
        [
         "48",
         "48",
         "67.69",
         "1251",
         "1"
        ],
        [
         "49",
         "49",
         "70.26",
         "1293",
         "1"
        ]
       ],
       "shape": {
        "columns": 4,
        "rows": 100
       }
      },
      "text/html": [
       "<div>\n",
       "<style scoped>\n",
       "    .dataframe tbody tr th:only-of-type {\n",
       "        vertical-align: middle;\n",
       "    }\n",
       "\n",
       "    .dataframe tbody tr th {\n",
       "        vertical-align: top;\n",
       "    }\n",
       "\n",
       "    .dataframe thead th {\n",
       "        text-align: right;\n",
       "    }\n",
       "</style>\n",
       "<table border=\"1\" class=\"dataframe\">\n",
       "  <thead>\n",
       "    <tr style=\"text-align: right;\">\n",
       "      <th></th>\n",
       "      <th>Chan</th>\n",
       "      <th>Energy</th>\n",
       "      <th>Counts</th>\n",
       "      <th>Label</th>\n",
       "    </tr>\n",
       "  </thead>\n",
       "  <tbody>\n",
       "    <tr>\n",
       "      <th>0</th>\n",
       "      <td>0</td>\n",
       "      <td>-55.40</td>\n",
       "      <td>0</td>\n",
       "      <td>1</td>\n",
       "    </tr>\n",
       "    <tr>\n",
       "      <th>1</th>\n",
       "      <td>1</td>\n",
       "      <td>-52.84</td>\n",
       "      <td>0</td>\n",
       "      <td>1</td>\n",
       "    </tr>\n",
       "    <tr>\n",
       "      <th>2</th>\n",
       "      <td>2</td>\n",
       "      <td>-50.27</td>\n",
       "      <td>0</td>\n",
       "      <td>1</td>\n",
       "    </tr>\n",
       "    <tr>\n",
       "      <th>3</th>\n",
       "      <td>3</td>\n",
       "      <td>-47.71</td>\n",
       "      <td>0</td>\n",
       "      <td>1</td>\n",
       "    </tr>\n",
       "    <tr>\n",
       "      <th>4</th>\n",
       "      <td>4</td>\n",
       "      <td>-45.15</td>\n",
       "      <td>0</td>\n",
       "      <td>1</td>\n",
       "    </tr>\n",
       "    <tr>\n",
       "      <th>...</th>\n",
       "      <td>...</td>\n",
       "      <td>...</td>\n",
       "      <td>...</td>\n",
       "      <td>...</td>\n",
       "    </tr>\n",
       "    <tr>\n",
       "      <th>95</th>\n",
       "      <td>95</td>\n",
       "      <td>188.23</td>\n",
       "      <td>1535</td>\n",
       "      <td>1</td>\n",
       "    </tr>\n",
       "    <tr>\n",
       "      <th>96</th>\n",
       "      <td>96</td>\n",
       "      <td>190.79</td>\n",
       "      <td>1508</td>\n",
       "      <td>1</td>\n",
       "    </tr>\n",
       "    <tr>\n",
       "      <th>97</th>\n",
       "      <td>97</td>\n",
       "      <td>193.35</td>\n",
       "      <td>1552</td>\n",
       "      <td>1</td>\n",
       "    </tr>\n",
       "    <tr>\n",
       "      <th>98</th>\n",
       "      <td>98</td>\n",
       "      <td>195.92</td>\n",
       "      <td>1567</td>\n",
       "      <td>1</td>\n",
       "    </tr>\n",
       "    <tr>\n",
       "      <th>99</th>\n",
       "      <td>99</td>\n",
       "      <td>198.48</td>\n",
       "      <td>1533</td>\n",
       "      <td>1</td>\n",
       "    </tr>\n",
       "  </tbody>\n",
       "</table>\n",
       "<p>100 rows × 4 columns</p>\n",
       "</div>"
      ],
      "text/plain": [
       "    Chan  Energy  Counts  Label\n",
       "0      0  -55.40       0      1\n",
       "1      1  -52.84       0      1\n",
       "2      2  -50.27       0      1\n",
       "3      3  -47.71       0      1\n",
       "4      4  -45.15       0      1\n",
       "..   ...     ...     ...    ...\n",
       "95    95  188.23    1535      1\n",
       "96    96  190.79    1508      1\n",
       "97    97  193.35    1552      1\n",
       "98    98  195.92    1567      1\n",
       "99    99  198.48    1533      1\n",
       "\n",
       "[100 rows x 4 columns]"
      ]
     },
     "execution_count": 15,
     "metadata": {},
     "output_type": "execute_result"
    }
   ],
   "source": [
    "# prompt: add one column as label \"Cs-137\"\n",
    "\n",
    "cs_df['Label'] = '1'\n",
    "cs_df['Label'] = cs_df['Label'].astype(np.int64)  # Convert the 'Label' column to int64 type\n",
    "\n",
    "cs_df.info()\n",
    "cs_df.head(100)"
   ]
  },
  {
   "cell_type": "markdown",
   "metadata": {},
   "source": [
    "### make plot"
   ]
  },
  {
   "cell_type": "code",
   "execution_count": 16,
   "metadata": {
    "colab": {
     "base_uri": "https://localhost:8080/",
     "height": 718
    },
    "executionInfo": {
     "elapsed": 2027,
     "status": "ok",
     "timestamp": 1738136774743,
     "user": {
      "displayName": "David Irfan Jasir",
      "userId": "11871450647194869092"
     },
     "user_tz": -420
    },
    "id": "_zN7lAJ0Bi0z",
    "outputId": "7c131031-d7a4-4d6e-c632-499d96703ac5"
   },
   "outputs": [
    {
     "data": {
      "image/png": "[encoded data removed]",
      "text/plain": [
       "<Figure size 2000x600 with 2 Axes>"
      ]
     },
     "metadata": {},
     "output_type": "display_data"
    }
   ],
   "source": [
    "# Scatter plot for Energy vs Counts\n",
    "plt.figure(figsize=(20, 6))\n",
    "\n",
    "# Scatter plot for Energy vs Counts\n",
    "plt.subplot(1, 2, 1)  # 1 row, 2 columns, 1st subplot\n",
    "plt.scatter(cs_df['Energy'], cs_df['Counts'], s=5, c='blue', label='Energy vs Counts')\n",
    "plt.xlabel('Energy')\n",
    "plt.ylabel('Counts')\n",
    "plt.title('Energy vs Counts')\n",
    "plt.grid(True)\n",
    "plt.legend()\n",
    "\n",
    "# Scatter plot for Channel vs Counts\n",
    "plt.subplot(1, 2, 2)  # 1 row, 2 columns, 2nd subplot\n",
    "plt.scatter(cs_df['Chan'], cs_df['Counts'], s=5, c='red', label='Channel vs Counts')\n",
    "plt.xlabel('Channel')\n",
    "plt.ylabel('Counts')\n",
    "plt.title('Channel vs Counts')\n",
    "plt.grid(True)\n",
    "plt.legend()\n",
    "\n",
    "plt.show()"
   ]
  },
  {
   "cell_type": "code",
   "execution_count": 17,
   "metadata": {
    "colab": {
     "base_uri": "https://localhost:8080/",
     "height": 606
    },
    "executionInfo": {
     "elapsed": 424,
     "status": "ok",
     "timestamp": 1738136905670,
     "user": {
      "displayName": "David Irfan Jasir",
      "userId": "11871450647194869092"
     },
     "user_tz": -420
    },
    "id": "kkurqHJmB32Y",
    "outputId": "2f21e835-f272-4030-a46a-69da3eda092f"
   },
   "outputs": [
    {
     "name": "stdout",
     "output_type": "stream",
     "text": [
      "<class 'pandas.core.frame.DataFrame'>\n",
      "RangeIndex: 8192 entries, 0 to 8191\n",
      "Data columns (total 4 columns):\n",
      " #   Column  Non-Null Count  Dtype  \n",
      "---  ------  --------------  -----  \n",
      " 0   Chan    8192 non-null   int64  \n",
      " 1   Energy  8192 non-null   float64\n",
      " 2   Counts  8192 non-null   int64  \n",
      " 3   Label   8192 non-null   int64  \n",
      "dtypes: float64(1), int64(3)\n",
      "memory usage: 256.1 KB\n"
     ]
    },
    {
     "data": {
      "application/vnd.microsoft.datawrangler.viewer.v0+json": {
       "columns": [
        {
         "name": "index",
         "rawType": "int64",
         "type": "integer"
        },
        {
         "name": "Chan",
         "rawType": "int64",
         "type": "integer"
        },
        {
         "name": "Energy",
         "rawType": "float64",
         "type": "float"
        },
        {
         "name": "Counts",
         "rawType": "int64",
         "type": "integer"
        },
        {
         "name": "Label",
         "rawType": "int64",
         "type": "integer"
        }
       ],
       "conversionMethod": "pd.DataFrame",
       "ref": "a79c29d0-853e-44ab-ac17-601b03376465",
       "rows": [
        [
         "0",
         "0",
         "-55.4",
         "0",
         "0"
        ],
        [
         "1",
         "1",
         "-52.84",
         "0",
         "0"
        ],
        [
         "2",
         "2",
         "-50.27",
         "0",
         "0"
        ],
        [
         "3",
         "3",
         "-47.71",
         "0",
         "0"
        ],
        [
         "4",
         "4",
         "-45.15",
         "0",
         "0"
        ],
        [
         "5",
         "5",
         "-42.58",
         "0",
         "0"
        ],
        [
         "6",
         "6",
         "-40.02",
         "0",
         "0"
        ],
        [
         "7",
         "7",
         "-37.45",
         "0",
         "0"
        ],
        [
         "8",
         "8",
         "-34.89",
         "0",
         "0"
        ],
        [
         "9",
         "9",
         "-32.32",
         "0",
         "0"
        ],
        [
         "10",
         "10",
         "-29.76",
         "0",
         "0"
        ],
        [
         "11",
         "11",
         "-27.19",
         "0",
         "0"
        ],
        [
         "12",
         "12",
         "-24.63",
         "1",
         "0"
        ],
        [
         "13",
         "13",
         "-22.06",
         "130",
         "0"
        ],
        [
         "14",
         "14",
         "-19.5",
         "139",
         "0"
        ],
        [
         "15",
         "15",
         "-16.94",
         "156",
         "0"
        ],
        [
         "16",
         "16",
         "-14.37",
         "165",
         "0"
        ],
        [
         "17",
         "17",
         "-11.81",
         "173",
         "0"
        ],
        [
         "18",
         "18",
         "-9.24",
         "153",
         "0"
        ],
        [
         "19",
         "19",
         "-6.68",
         "136",
         "0"
        ],
        [
         "20",
         "20",
         "-4.11",
         "149",
         "0"
        ],
        [
         "21",
         "21",
         "-1.55",
         "137",
         "0"
        ],
        [
         "22",
         "22",
         "1.02",
         "146",
         "0"
        ],
        [
         "23",
         "23",
         "3.58",
         "157",
         "0"
        ],
        [
         "24",
         "24",
         "6.15",
         "165",
         "0"
        ],
        [
         "25",
         "25",
         "8.71",
         "212",
         "0"
        ],
        [
         "26",
         "26",
         "11.27",
         "205",
         "0"
        ],
        [
         "27",
         "27",
         "13.84",
         "208",
         "0"
        ],
        [
         "28",
         "28",
         "16.4",
         "230",
         "0"
        ],
        [
         "29",
         "29",
         "18.97",
         "217",
         "0"
        ],
        [
         "30",
         "30",
         "21.53",
         "218",
         "0"
        ],
        [
         "31",
         "31",
         "24.1",
         "206",
         "0"
        ],
        [
         "32",
         "32",
         "26.66",
         "196",
         "0"
        ],
        [
         "33",
         "33",
         "29.23",
         "186",
         "0"
        ],
        [
         "34",
         "34",
         "31.79",
         "191",
         "0"
        ],
        [
         "35",
         "35",
         "34.35",
         "165",
         "0"
        ],
        [
         "36",
         "36",
         "36.92",
         "165",
         "0"
        ],
        [
         "37",
         "37",
         "39.48",
         "154",
         "0"
        ],
        [
         "38",
         "38",
         "42.05",
         "150",
         "0"
        ],
        [
         "39",
         "39",
         "44.61",
         "132",
         "0"
        ],
        [
         "40",
         "40",
         "47.18",
         "133",
         "0"
        ],
        [
         "41",
         "41",
         "49.74",
         "133",
         "0"
        ],
        [
         "42",
         "42",
         "52.31",
         "153",
         "0"
        ],
        [
         "43",
         "43",
         "54.87",
         "135",
         "0"
        ],
        [
         "44",
         "44",
         "57.44",
         "135",
         "0"
        ],
        [
         "45",
         "45",
         "60.0",
         "138",
         "0"
        ],
        [
         "46",
         "46",
         "62.56",
         "130",
         "0"
        ],
        [
         "47",
         "47",
         "65.13",
         "123",
         "0"
        ],
        [
         "48",
         "48",
         "67.69",
         "167",
         "0"
        ],
        [
         "49",
         "49",
         "70.26",
         "133",
         "0"
        ]
       ],
       "shape": {
        "columns": 4,
        "rows": 100
       }
      },
      "text/html": [
       "<div>\n",
       "<style scoped>\n",
       "    .dataframe tbody tr th:only-of-type {\n",
       "        vertical-align: middle;\n",
       "    }\n",
       "\n",
       "    .dataframe tbody tr th {\n",
       "        vertical-align: top;\n",
       "    }\n",
       "\n",
       "    .dataframe thead th {\n",
       "        text-align: right;\n",
       "    }\n",
       "</style>\n",
       "<table border=\"1\" class=\"dataframe\">\n",
       "  <thead>\n",
       "    <tr style=\"text-align: right;\">\n",
       "      <th></th>\n",
       "      <th>Chan</th>\n",
       "      <th>Energy</th>\n",
       "      <th>Counts</th>\n",
       "      <th>Label</th>\n",
       "    </tr>\n",
       "  </thead>\n",
       "  <tbody>\n",
       "    <tr>\n",
       "      <th>0</th>\n",
       "      <td>0</td>\n",
       "      <td>-55.40</td>\n",
       "      <td>0</td>\n",
       "      <td>0</td>\n",
       "    </tr>\n",
       "    <tr>\n",
       "      <th>1</th>\n",
       "      <td>1</td>\n",
       "      <td>-52.84</td>\n",
       "      <td>0</td>\n",
       "      <td>0</td>\n",
       "    </tr>\n",
       "    <tr>\n",
       "      <th>2</th>\n",
       "      <td>2</td>\n",
       "      <td>-50.27</td>\n",
       "      <td>0</td>\n",
       "      <td>0</td>\n",
       "    </tr>\n",
       "    <tr>\n",
       "      <th>3</th>\n",
       "      <td>3</td>\n",
       "      <td>-47.71</td>\n",
       "      <td>0</td>\n",
       "      <td>0</td>\n",
       "    </tr>\n",
       "    <tr>\n",
       "      <th>4</th>\n",
       "      <td>4</td>\n",
       "      <td>-45.15</td>\n",
       "      <td>0</td>\n",
       "      <td>0</td>\n",
       "    </tr>\n",
       "    <tr>\n",
       "      <th>...</th>\n",
       "      <td>...</td>\n",
       "      <td>...</td>\n",
       "      <td>...</td>\n",
       "      <td>...</td>\n",
       "    </tr>\n",
       "    <tr>\n",
       "      <th>95</th>\n",
       "      <td>95</td>\n",
       "      <td>188.23</td>\n",
       "      <td>194</td>\n",
       "      <td>0</td>\n",
       "    </tr>\n",
       "    <tr>\n",
       "      <th>96</th>\n",
       "      <td>96</td>\n",
       "      <td>190.79</td>\n",
       "      <td>169</td>\n",
       "      <td>0</td>\n",
       "    </tr>\n",
       "    <tr>\n",
       "      <th>97</th>\n",
       "      <td>97</td>\n",
       "      <td>193.35</td>\n",
       "      <td>207</td>\n",
       "      <td>0</td>\n",
       "    </tr>\n",
       "    <tr>\n",
       "      <th>98</th>\n",
       "      <td>98</td>\n",
       "      <td>195.92</td>\n",
       "      <td>177</td>\n",
       "      <td>0</td>\n",
       "    </tr>\n",
       "    <tr>\n",
       "      <th>99</th>\n",
       "      <td>99</td>\n",
       "      <td>198.48</td>\n",
       "      <td>220</td>\n",
       "      <td>0</td>\n",
       "    </tr>\n",
       "  </tbody>\n",
       "</table>\n",
       "<p>100 rows × 4 columns</p>\n",
       "</div>"
      ],
      "text/plain": [
       "    Chan  Energy  Counts  Label\n",
       "0      0  -55.40       0      0\n",
       "1      1  -52.84       0      0\n",
       "2      2  -50.27       0      0\n",
       "3      3  -47.71       0      0\n",
       "4      4  -45.15       0      0\n",
       "..   ...     ...     ...    ...\n",
       "95    95  188.23     194      0\n",
       "96    96  190.79     169      0\n",
       "97    97  193.35     207      0\n",
       "98    98  195.92     177      0\n",
       "99    99  198.48     220      0\n",
       "\n",
       "[100 rows x 4 columns]"
      ]
     },
     "execution_count": 17,
     "metadata": {},
     "output_type": "execute_result"
    }
   ],
   "source": [
    "all_df = pd.concat([co_df, cs_df], ignore_index=True)\n",
    "\n",
    "# Display the combined DataFrame\n",
    "all_df.info()\n",
    "all_df.head(100)"
   ]
  },
  {
   "cell_type": "code",
   "execution_count": 18,
   "metadata": {},
   "outputs": [
    {
     "data": {
      "image/png": "[encoded data removed]",
      "text/plain": [
       "<Figure size 2000x600 with 2 Axes>"
      ]
     },
     "metadata": {},
     "output_type": "display_data"
    }
   ],
   "source": [
    "# Scatter plot for Energy vs Counts\n",
    "plt.figure(figsize=(20, 6))\n",
    "\n",
    "# Scatter plot for Energy vs Counts\n",
    "plt.subplot(1, 2, 1)  # 1 row, 2 columns, 1st subplot\n",
    "plt.scatter(co_df['Energy'], co_df['Counts'], label='Co-60', s=2, c='blue')\n",
    "plt.scatter(cs_df['Energy'], cs_df['Counts'], label='Cs-137', s=2, c='red')\n",
    "plt.xlabel('Energy')\n",
    "plt.ylabel('Counts')\n",
    "plt.title('Energy vs Counts')\n",
    "plt.grid(True)\n",
    "plt.legend()\n",
    "\n",
    "# Scatter plot for Channel vs Counts\n",
    "plt.subplot(1, 2, 2)  # 1 row, 2 columns, 2nd subplot\n",
    "plt.scatter(co_df['Chan'], co_df['Counts'], label='Co-60', s=2, c='blue')\n",
    "plt.scatter(cs_df['Chan'], cs_df['Counts'], label='Cs-137', s=2, c='red')\n",
    "plt.xlabel('Channel')\n",
    "plt.ylabel('Counts')\n",
    "plt.title('Channel vs Counts')\n",
    "plt.grid(True)\n",
    "plt.legend()\n",
    "\n",
    "plt.show()"
   ]
  },
  {
   "cell_type": "code",
   "execution_count": 19,
   "metadata": {
    "colab": {
     "base_uri": "https://localhost:8080/"
    },
    "executionInfo": {
     "elapsed": 4714,
     "status": "ok",
     "timestamp": 1738137067332,
     "user": {
      "displayName": "David Irfan Jasir",
      "userId": "11871450647194869092"
     },
     "user_tz": -420
    },
    "id": "DWoZz5OMCm4N",
    "outputId": "0a4fd8df-dc25-4819-e138-d033d697b14d"
   },
   "outputs": [],
   "source": [
    "# Save the DataFrame to a CSV file\n",
    "all_df.to_csv('data_testing.csv', index=False)"
   ]
  },
  {
   "cell_type": "markdown",
   "metadata": {},
   "source": [
    "### 2 column energy counts"
   ]
  },
  {
   "cell_type": "code",
   "execution_count": null,
   "metadata": {},
   "outputs": [],
   "source": [
    "# Create a new DataFrame with only 'Energy' and 'Counts' columns\n",
    "df_energy_counts = all_df[['Energy', 'Counts', 'Label']]\n",
    "\n",
    "# Display the new DataFrame\n",
    "df_energy_counts.info()\n",
    "df_energy_counts.head(100)"
   ]
  },
  {
   "cell_type": "code",
   "execution_count": null,
   "metadata": {},
   "outputs": [],
   "source": [
    "# Plotting with labels and legend\n",
    "plt.figure(figsize=(16, 6))\n",
    "plt.scatter(df_co['Energy'], df_co['Counts'], label='Co-60', s=2, c='blue')\n",
    "plt.scatter(df_cs['Energy'], df_cs['Counts'], label='Cs-137', s=2, c='red')\n",
    "\n",
    "plt.xlabel('Energy')\n",
    "plt.ylabel('Counts')\n",
    "plt.title('Energy Spectrum')\n",
    "plt.grid(True)\n",
    "plt.legend() # Show the legend\n",
    "plt.show()"
   ]
  },
  {
   "cell_type": "code",
   "execution_count": null,
   "metadata": {},
   "outputs": [],
   "source": [
    "# Save the DataFrame to a CSV file\n",
    "df_energy_counts.to_csv('data_training_allSpectrum_2colm_energy_counts_0-1_co_cs.csv', index=False)"
   ]
  },
  {
   "cell_type": "markdown",
   "metadata": {},
   "source": [
    "### 2 column channel counts"
   ]
  },
  {
   "cell_type": "code",
   "execution_count": null,
   "metadata": {},
   "outputs": [],
   "source": [
    "# Create a new DataFrame with only 'Energy' and 'Counts' columns\n",
    "df_channel_counts = all_df[['Chan', 'Counts', 'Label']]\n",
    "\n",
    "# Display the new DataFrame\n",
    "df_channel_counts.info()\n",
    "df_channel_counts.head(100)"
   ]
  },
  {
   "cell_type": "code",
   "execution_count": null,
   "metadata": {},
   "outputs": [],
   "source": [
    "# Plotting with labels and legend\n",
    "plt.figure(figsize=(16, 6))\n",
    "plt.scatter(df_co['Chan'], df_co['Counts'], label='Co-60', s=2, c='blue')\n",
    "plt.scatter(df_cs['Chan'], df_cs['Counts'], label='Cs-137', s=2, c='red')\n",
    "\n",
    "plt.xlabel('Channel')\n",
    "plt.ylabel('Counts')\n",
    "plt.title('Energy Spectrum')\n",
    "plt.grid(True)\n",
    "plt.legend() # Show the legend\n",
    "plt.show()"
   ]
  },
  {
   "cell_type": "code",
   "execution_count": null,
   "metadata": {},
   "outputs": [],
   "source": [
    "# Save the DataFrame to a CSV file\n",
    "df_channel_counts.to_csv('data_training_allSpectrum_2colm_chan_counts_0-1_co_cs.csv', index=False)"
   ]
  },
  {
   "cell_type": "markdown",
   "metadata": {},
   "source": [
    "## only peak spectrum"
   ]
  },
  {
   "cell_type": "code",
   "execution_count": null,
   "metadata": {},
   "outputs": [],
   "source": [
    "# Filter the data for channels between 261-310 and 451-600\n",
    "filtered_df = all_df[((all_df['Chan'] >= 261) & (all_df['Chan'] <= 310)) | ((all_df['Chan'] >= 451) & (all_df['Chan'] <= 600))]\n",
    "\n",
    "# Display the filtered DataFrame\n",
    "filtered_df.info()\n",
    "filtered_df.head(10)"
   ]
  },
  {
   "cell_type": "code",
   "execution_count": null,
   "metadata": {},
   "outputs": [],
   "source": [
    "# Plotting the filtered data\n",
    "plt.figure(figsize=(20, 6))\n",
    "\n",
    "# Scatter plot for Energy vs Counts\n",
    "plt.subplot(1, 2, 1)  # 1 row, 2 columns, 1st subplot\n",
    "plt.scatter(filtered_df['Energy'], filtered_df['Counts'], s=5, c='blue', label='Energy vs Counts')\n",
    "plt.xlabel('Energy')\n",
    "plt.ylabel('Counts')\n",
    "plt.title('Filtered Energy vs Counts')\n",
    "plt.grid(True)\n",
    "plt.legend()\n",
    "\n",
    "# Scatter plot for Channel vs Counts\n",
    "plt.subplot(1, 2, 2)  # 1 row, 2 columns, 2nd subplot\n",
    "plt.scatter(filtered_df['Chan'], filtered_df['Counts'], s=5, c='red', label='Channel vs Counts')\n",
    "plt.xlabel('Channel')\n",
    "plt.ylabel('Counts')\n",
    "plt.title('Filtered Channel vs Counts')\n",
    "plt.grid(True)\n",
    "plt.legend()\n",
    "\n",
    "plt.show()"
   ]
  },
  {
   "cell_type": "code",
   "execution_count": null,
   "metadata": {},
   "outputs": [],
   "source": [
    "# Filter the data for Cs-137 label and channel between 200 and 400\n",
    "peak = all_df[(all_df['Chan'] >= 261) & (all_df['Chan'] <= 310) & (all_df['Chan'] >= 451) & (all_df['Chan'] <= 600)]\n",
    "\n",
    "# Display the filtered DataFrame\n",
    "peak.info()\n",
    "peak.head(10)"
   ]
  },
  {
   "cell_type": "code",
   "execution_count": null,
   "metadata": {},
   "outputs": [],
   "source": [
    "# remove Energy column\n",
    "\n",
    "del df1['Energy']\n",
    "df1.info()\n",
    "df1.head(100)"
   ]
  }
 ],
 "metadata": {
  "colab": {
   "provenance": [],
   "toc_visible": true
  },
  "kernelspec": {
   "display_name": "Python 3",
   "language": "python",
   "name": "python3"
  },
  "language_info": {
   "codemirror_mode": {
    "name": "ipython",
    "version": 3
   },
   "file_extension": ".py",
   "mimetype": "text/x-python",
   "name": "python",
   "nbconvert_exporter": "python",
   "pygments_lexer": "ipython3",
   "version": "3.11.5"
  }
 },
 "nbformat": 4,
 "nbformat_minor": 0
}
