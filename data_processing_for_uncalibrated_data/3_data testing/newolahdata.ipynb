{
 "cells": [
  {
   "cell_type": "code",
   "execution_count": 37,
   "id": "bed485a1",
   "metadata": {},
   "outputs": [
    {
     "name": "stdout",
     "output_type": "stream",
     "text": [
      "bismillahhirrahmanirrahim\n",
      "assalammualaikum\n"
     ]
    }
   ],
   "source": [
    "print(\"bismillahhirrahmanirrahim\")\n",
    "print(\"assalammualaikum\")"
   ]
  },
  {
   "cell_type": "code",
   "execution_count": 38,
   "id": "ddb43ab1",
   "metadata": {},
   "outputs": [],
   "source": [
    "# Import library untuk pengolahan data\n",
    "import matplotlib.pyplot as plt     # Matplotlib is a visualization library, module pyplot provides a MATLAB-like interface for generating plots.\n",
    "import pandas as pd                 # a data analysis and manipulation library\n",
    "import numpy as np                  # a library for numerical computing.\n"
   ]
  },
  {
   "cell_type": "code",
   "execution_count": 39,
   "id": "1c72e1b3",
   "metadata": {},
   "outputs": [
    {
     "name": "stdout",
     "output_type": "stream",
     "text": [
      "<class 'pandas.core.frame.DataFrame'>\n",
      "RangeIndex: 1024 entries, 0 to 1023\n",
      "Data columns (total 3 columns):\n",
      " #   Column  Non-Null Count  Dtype  \n",
      "---  ------  --------------  -----  \n",
      " 0   Chan    1024 non-null   int64  \n",
      " 1   Energy  1024 non-null   float64\n",
      " 2   Counts  1024 non-null   int64  \n",
      "dtypes: float64(1), int64(2)\n",
      "memory usage: 24.1 KB\n"
     ]
    },
    {
     "data": {
      "application/vnd.microsoft.datawrangler.viewer.v0+json": {
       "columns": [
        {
         "name": "index",
         "rawType": "int64",
         "type": "integer"
        },
        {
         "name": "Chan",
         "rawType": "int64",
         "type": "integer"
        },
        {
         "name": "Energy",
         "rawType": "float64",
         "type": "float"
        },
        {
         "name": "Counts",
         "rawType": "int64",
         "type": "integer"
        }
       ],
       "ref": "a4ecb29a-289f-4f9f-9b5b-8afe274ea6a9",
       "rows": [
        [
         "0",
         "0",
         "-55.4",
         "0"
        ],
        [
         "1",
         "1",
         "-52.84",
         "0"
        ],
        [
         "2",
         "2",
         "-50.27",
         "0"
        ],
        [
         "3",
         "3",
         "-47.71",
         "0"
        ],
        [
         "4",
         "4",
         "-45.15",
         "0"
        ],
        [
         "5",
         "5",
         "-42.58",
         "0"
        ],
        [
         "6",
         "6",
         "-40.02",
         "0"
        ],
        [
         "7",
         "7",
         "-37.45",
         "0"
        ],
        [
         "8",
         "8",
         "-34.89",
         "0"
        ],
        [
         "9",
         "9",
         "-32.32",
         "0"
        ],
        [
         "10",
         "10",
         "-29.76",
         "4"
        ],
        [
         "11",
         "11",
         "-27.19",
         "21"
        ],
        [
         "12",
         "12",
         "-24.63",
         "252"
        ],
        [
         "13",
         "13",
         "-22.06",
         "4495"
        ],
        [
         "14",
         "14",
         "-19.5",
         "3538"
        ],
        [
         "15",
         "15",
         "-16.94",
         "2513"
        ],
        [
         "16",
         "16",
         "-14.37",
         "2013"
        ],
        [
         "17",
         "17",
         "-11.81",
         "1652"
        ],
        [
         "18",
         "18",
         "-9.24",
         "1627"
        ],
        [
         "19",
         "19",
         "-6.68",
         "1493"
        ],
        [
         "20",
         "20",
         "-4.11",
         "1470"
        ],
        [
         "21",
         "21",
         "-1.55",
         "1469"
        ],
        [
         "22",
         "22",
         "1.02",
         "1531"
        ],
        [
         "23",
         "23",
         "3.58",
         "1451"
        ],
        [
         "24",
         "24",
         "6.15",
         "1603"
        ],
        [
         "25",
         "25",
         "8.71",
         "1695"
        ],
        [
         "26",
         "26",
         "11.27",
         "1823"
        ],
        [
         "27",
         "27",
         "13.84",
         "1975"
        ],
        [
         "28",
         "28",
         "16.4",
         "1975"
        ],
        [
         "29",
         "29",
         "18.97",
         "2035"
        ],
        [
         "30",
         "30",
         "21.53",
         "1932"
        ],
        [
         "31",
         "31",
         "24.1",
         "1836"
        ],
        [
         "32",
         "32",
         "26.66",
         "1790"
        ],
        [
         "33",
         "33",
         "29.23",
         "1671"
        ],
        [
         "34",
         "34",
         "31.79",
         "1569"
        ],
        [
         "35",
         "35",
         "34.35",
         "1528"
        ],
        [
         "36",
         "36",
         "36.92",
         "1363"
        ],
        [
         "37",
         "37",
         "39.48",
         "1333"
        ],
        [
         "38",
         "38",
         "42.05",
         "1280"
        ],
        [
         "39",
         "39",
         "44.61",
         "1259"
        ],
        [
         "40",
         "40",
         "47.18",
         "1279"
        ],
        [
         "41",
         "41",
         "49.74",
         "1282"
        ],
        [
         "42",
         "42",
         "52.31",
         "1171"
        ],
        [
         "43",
         "43",
         "54.87",
         "1258"
        ],
        [
         "44",
         "44",
         "57.44",
         "1213"
        ],
        [
         "45",
         "45",
         "60.0",
         "1287"
        ],
        [
         "46",
         "46",
         "62.56",
         "1218"
        ],
        [
         "47",
         "47",
         "65.13",
         "1209"
        ],
        [
         "48",
         "48",
         "67.69",
         "1251"
        ],
        [
         "49",
         "49",
         "70.26",
         "1293"
        ]
       ],
       "shape": {
        "columns": 3,
        "rows": 100
       }
      },
      "text/html": [
       "<div>\n",
       "<style scoped>\n",
       "    .dataframe tbody tr th:only-of-type {\n",
       "        vertical-align: middle;\n",
       "    }\n",
       "\n",
       "    .dataframe tbody tr th {\n",
       "        vertical-align: top;\n",
       "    }\n",
       "\n",
       "    .dataframe thead th {\n",
       "        text-align: right;\n",
       "    }\n",
       "</style>\n",
       "<table border=\"1\" class=\"dataframe\">\n",
       "  <thead>\n",
       "    <tr style=\"text-align: right;\">\n",
       "      <th></th>\n",
       "      <th>Chan</th>\n",
       "      <th>Energy</th>\n",
       "      <th>Counts</th>\n",
       "    </tr>\n",
       "  </thead>\n",
       "  <tbody>\n",
       "    <tr>\n",
       "      <th>0</th>\n",
       "      <td>0</td>\n",
       "      <td>-55.40</td>\n",
       "      <td>0</td>\n",
       "    </tr>\n",
       "    <tr>\n",
       "      <th>1</th>\n",
       "      <td>1</td>\n",
       "      <td>-52.84</td>\n",
       "      <td>0</td>\n",
       "    </tr>\n",
       "    <tr>\n",
       "      <th>2</th>\n",
       "      <td>2</td>\n",
       "      <td>-50.27</td>\n",
       "      <td>0</td>\n",
       "    </tr>\n",
       "    <tr>\n",
       "      <th>3</th>\n",
       "      <td>3</td>\n",
       "      <td>-47.71</td>\n",
       "      <td>0</td>\n",
       "    </tr>\n",
       "    <tr>\n",
       "      <th>4</th>\n",
       "      <td>4</td>\n",
       "      <td>-45.15</td>\n",
       "      <td>0</td>\n",
       "    </tr>\n",
       "    <tr>\n",
       "      <th>...</th>\n",
       "      <td>...</td>\n",
       "      <td>...</td>\n",
       "      <td>...</td>\n",
       "    </tr>\n",
       "    <tr>\n",
       "      <th>95</th>\n",
       "      <td>95</td>\n",
       "      <td>188.23</td>\n",
       "      <td>1535</td>\n",
       "    </tr>\n",
       "    <tr>\n",
       "      <th>96</th>\n",
       "      <td>96</td>\n",
       "      <td>190.79</td>\n",
       "      <td>1508</td>\n",
       "    </tr>\n",
       "    <tr>\n",
       "      <th>97</th>\n",
       "      <td>97</td>\n",
       "      <td>193.35</td>\n",
       "      <td>1552</td>\n",
       "    </tr>\n",
       "    <tr>\n",
       "      <th>98</th>\n",
       "      <td>98</td>\n",
       "      <td>195.92</td>\n",
       "      <td>1567</td>\n",
       "    </tr>\n",
       "    <tr>\n",
       "      <th>99</th>\n",
       "      <td>99</td>\n",
       "      <td>198.48</td>\n",
       "      <td>1533</td>\n",
       "    </tr>\n",
       "  </tbody>\n",
       "</table>\n",
       "<p>100 rows × 3 columns</p>\n",
       "</div>"
      ],
      "text/plain": [
       "    Chan  Energy  Counts\n",
       "0      0  -55.40       0\n",
       "1      1  -52.84       0\n",
       "2      2  -50.27       0\n",
       "3      3  -47.71       0\n",
       "4      4  -45.15       0\n",
       "..   ...     ...     ...\n",
       "95    95  188.23    1535\n",
       "96    96  190.79    1508\n",
       "97    97  193.35    1552\n",
       "98    98  195.92    1567\n",
       "99    99  198.48    1533\n",
       "\n",
       "[100 rows x 3 columns]"
      ]
     },
     "execution_count": 39,
     "metadata": {},
     "output_type": "execute_result"
    }
   ],
   "source": [
    "# import csv data directly from same-directory of this notebook\n",
    "data1 = 'cs137_21_60s.csv'\n",
    "\n",
    "df1 = pd.read_csv(data1)\n",
    "\n",
    "df1.info()\n",
    "df1.head(100)  # Print the first few rows of the DataFrame\n"
   ]
  },
  {
   "cell_type": "code",
   "execution_count": 40,
   "id": "ad7f1573",
   "metadata": {},
   "outputs": [
    {
     "name": "stdout",
     "output_type": "stream",
     "text": [
      "<class 'pandas.core.frame.DataFrame'>\n",
      "RangeIndex: 1024 entries, 0 to 1023\n",
      "Data columns (total 2 columns):\n",
      " #   Column  Non-Null Count  Dtype\n",
      "---  ------  --------------  -----\n",
      " 0   Chan    1024 non-null   int64\n",
      " 1   Counts  1024 non-null   int64\n",
      "dtypes: int64(2)\n",
      "memory usage: 16.1 KB\n"
     ]
    },
    {
     "data": {
      "application/vnd.microsoft.datawrangler.viewer.v0+json": {
       "columns": [
        {
         "name": "index",
         "rawType": "int64",
         "type": "integer"
        },
        {
         "name": "Chan",
         "rawType": "int64",
         "type": "integer"
        },
        {
         "name": "Counts",
         "rawType": "int64",
         "type": "integer"
        }
       ],
       "ref": "8cffe9d8-9227-4745-9e03-508bdd1ae81b",
       "rows": [
        [
         "0",
         "0",
         "0"
        ],
        [
         "1",
         "1",
         "0"
        ],
        [
         "2",
         "2",
         "0"
        ],
        [
         "3",
         "3",
         "0"
        ],
        [
         "4",
         "4",
         "0"
        ],
        [
         "5",
         "5",
         "0"
        ],
        [
         "6",
         "6",
         "0"
        ],
        [
         "7",
         "7",
         "0"
        ],
        [
         "8",
         "8",
         "0"
        ],
        [
         "9",
         "9",
         "0"
        ],
        [
         "10",
         "10",
         "4"
        ],
        [
         "11",
         "11",
         "21"
        ],
        [
         "12",
         "12",
         "252"
        ],
        [
         "13",
         "13",
         "4495"
        ],
        [
         "14",
         "14",
         "3538"
        ],
        [
         "15",
         "15",
         "2513"
        ],
        [
         "16",
         "16",
         "2013"
        ],
        [
         "17",
         "17",
         "1652"
        ],
        [
         "18",
         "18",
         "1627"
        ],
        [
         "19",
         "19",
         "1493"
        ],
        [
         "20",
         "20",
         "1470"
        ],
        [
         "21",
         "21",
         "1469"
        ],
        [
         "22",
         "22",
         "1531"
        ],
        [
         "23",
         "23",
         "1451"
        ],
        [
         "24",
         "24",
         "1603"
        ],
        [
         "25",
         "25",
         "1695"
        ],
        [
         "26",
         "26",
         "1823"
        ],
        [
         "27",
         "27",
         "1975"
        ],
        [
         "28",
         "28",
         "1975"
        ],
        [
         "29",
         "29",
         "2035"
        ],
        [
         "30",
         "30",
         "1932"
        ],
        [
         "31",
         "31",
         "1836"
        ],
        [
         "32",
         "32",
         "1790"
        ],
        [
         "33",
         "33",
         "1671"
        ],
        [
         "34",
         "34",
         "1569"
        ],
        [
         "35",
         "35",
         "1528"
        ],
        [
         "36",
         "36",
         "1363"
        ],
        [
         "37",
         "37",
         "1333"
        ],
        [
         "38",
         "38",
         "1280"
        ],
        [
         "39",
         "39",
         "1259"
        ],
        [
         "40",
         "40",
         "1279"
        ],
        [
         "41",
         "41",
         "1282"
        ],
        [
         "42",
         "42",
         "1171"
        ],
        [
         "43",
         "43",
         "1258"
        ],
        [
         "44",
         "44",
         "1213"
        ],
        [
         "45",
         "45",
         "1287"
        ],
        [
         "46",
         "46",
         "1218"
        ],
        [
         "47",
         "47",
         "1209"
        ],
        [
         "48",
         "48",
         "1251"
        ],
        [
         "49",
         "49",
         "1293"
        ]
       ],
       "shape": {
        "columns": 2,
        "rows": 100
       }
      },
      "text/html": [
       "<div>\n",
       "<style scoped>\n",
       "    .dataframe tbody tr th:only-of-type {\n",
       "        vertical-align: middle;\n",
       "    }\n",
       "\n",
       "    .dataframe tbody tr th {\n",
       "        vertical-align: top;\n",
       "    }\n",
       "\n",
       "    .dataframe thead th {\n",
       "        text-align: right;\n",
       "    }\n",
       "</style>\n",
       "<table border=\"1\" class=\"dataframe\">\n",
       "  <thead>\n",
       "    <tr style=\"text-align: right;\">\n",
       "      <th></th>\n",
       "      <th>Chan</th>\n",
       "      <th>Counts</th>\n",
       "    </tr>\n",
       "  </thead>\n",
       "  <tbody>\n",
       "    <tr>\n",
       "      <th>0</th>\n",
       "      <td>0</td>\n",
       "      <td>0</td>\n",
       "    </tr>\n",
       "    <tr>\n",
       "      <th>1</th>\n",
       "      <td>1</td>\n",
       "      <td>0</td>\n",
       "    </tr>\n",
       "    <tr>\n",
       "      <th>2</th>\n",
       "      <td>2</td>\n",
       "      <td>0</td>\n",
       "    </tr>\n",
       "    <tr>\n",
       "      <th>3</th>\n",
       "      <td>3</td>\n",
       "      <td>0</td>\n",
       "    </tr>\n",
       "    <tr>\n",
       "      <th>4</th>\n",
       "      <td>4</td>\n",
       "      <td>0</td>\n",
       "    </tr>\n",
       "    <tr>\n",
       "      <th>...</th>\n",
       "      <td>...</td>\n",
       "      <td>...</td>\n",
       "    </tr>\n",
       "    <tr>\n",
       "      <th>95</th>\n",
       "      <td>95</td>\n",
       "      <td>1535</td>\n",
       "    </tr>\n",
       "    <tr>\n",
       "      <th>96</th>\n",
       "      <td>96</td>\n",
       "      <td>1508</td>\n",
       "    </tr>\n",
       "    <tr>\n",
       "      <th>97</th>\n",
       "      <td>97</td>\n",
       "      <td>1552</td>\n",
       "    </tr>\n",
       "    <tr>\n",
       "      <th>98</th>\n",
       "      <td>98</td>\n",
       "      <td>1567</td>\n",
       "    </tr>\n",
       "    <tr>\n",
       "      <th>99</th>\n",
       "      <td>99</td>\n",
       "      <td>1533</td>\n",
       "    </tr>\n",
       "  </tbody>\n",
       "</table>\n",
       "<p>100 rows × 2 columns</p>\n",
       "</div>"
      ],
      "text/plain": [
       "    Chan  Counts\n",
       "0      0       0\n",
       "1      1       0\n",
       "2      2       0\n",
       "3      3       0\n",
       "4      4       0\n",
       "..   ...     ...\n",
       "95    95    1535\n",
       "96    96    1508\n",
       "97    97    1552\n",
       "98    98    1567\n",
       "99    99    1533\n",
       "\n",
       "[100 rows x 2 columns]"
      ]
     },
     "execution_count": 40,
     "metadata": {},
     "output_type": "execute_result"
    }
   ],
   "source": [
    "# Remove the 'Energy' column from co_df\n",
    "df1 = df1.drop(columns=['Energy'])\n",
    "df1.info()\n",
    "df1.head(100)"
   ]
  },
  {
   "cell_type": "code",
   "execution_count": 41,
   "id": "4089b8be",
   "metadata": {},
   "outputs": [
    {
     "data": {
      "image/png": "[encoded data removed]",
      "text/plain": [
       "<Figure size 2000x1000 with 1 Axes>"
      ]
     },
     "metadata": {},
     "output_type": "display_data"
    }
   ],
   "source": [
    "# Scatter plot for Energy vs Counts\n",
    "plt.figure(figsize=(20, 10))\n",
    "\n",
    "\n",
    "# Scatter plot for Channel vs Counts\n",
    "plt.plot()\n",
    "plt.scatter(df1['Chan'], df1['Counts'], s=5, c='red', label='Channel vs Counts')\n",
    "plt.xlabel('Channel')\n",
    "plt.ylabel('Counts')\n",
    "plt.title('Channel vs Counts')\n",
    "plt.grid(True)\n",
    "plt.legend()\n",
    "\n",
    "plt.show()"
   ]
  },
  {
   "cell_type": "code",
   "execution_count": 42,
   "id": "021ee806",
   "metadata": {},
   "outputs": [],
   "source": [
    "# Save the DataFrame to a CSV file\n",
    "df1.to_csv('new_cs137_21_60s.csv', index=False)"
   ]
  }
 ],
 "metadata": {
  "kernelspec": {
   "display_name": "Python 3",
   "language": "python",
   "name": "python3"
  },
  "language_info": {
   "codemirror_mode": {
    "name": "ipython",
    "version": 3
   },
   "file_extension": ".py",
   "mimetype": "text/x-python",
   "name": "python",
   "nbconvert_exporter": "python",
   "pygments_lexer": "ipython3",
   "version": "3.11.5"
  }
 },
 "nbformat": 4,
 "nbformat_minor": 5
}
