{
 "cells": [
  {
   "cell_type": "code",
   "execution_count": 9,
   "metadata": {
    "colab": {
     "base_uri": "https://localhost:8080/"
    },
    "executionInfo": {
     "elapsed": 25,
     "status": "ok",
     "timestamp": 1738893283225,
     "user": {
      "displayName": "David Irfan Jasir",
      "userId": "11871450647194869092"
     },
     "user_tz": -420
    },
    "id": "eJbAhnkfWtTD",
    "outputId": "d460c010-69b1-4a5c-909b-ffc5dbf823e9"
   },
   "outputs": [
    {
     "name": "stdout",
     "output_type": "stream",
     "text": [
      "bismillahhirrahmanirrahim\n",
      "assalammualaikum\n"
     ]
    }
   ],
   "source": [
    "print(\"bismillahhirrahmanirrahim\")\n",
    "print(\"assalammualaikum\")"
   ]
  },
  {
   "cell_type": "markdown",
   "metadata": {
    "id": "3EU1oZmVWtTJ"
   },
   "source": [
    "# DATA PROCESSING"
   ]
  },
  {
   "cell_type": "code",
   "execution_count": 10,
   "metadata": {
    "colab": {
     "base_uri": "https://localhost:8080/"
    },
    "executionInfo": {
     "elapsed": 22187,
     "status": "ok",
     "timestamp": 1738893336084,
     "user": {
      "displayName": "David Irfan Jasir",
      "userId": "11871450647194869092"
     },
     "user_tz": -420
    },
    "id": "Tck72WlSWtTM",
    "outputId": "bf3d4fce-6d62-4706-c953-145f96bdb68b"
   },
   "outputs": [],
   "source": [
    "# Import library untuk pengolahan data\n",
    "import matplotlib.pyplot as plt     # Matplotlib is a visualization library, module pyplot provides a MATLAB-like interface for generating plots.\n",
    "import pandas as pd                 # a data analysis and manipulation library\n",
    "import numpy as np                  # a library for numerical computing.\n"
   ]
  },
  {
   "cell_type": "markdown",
   "metadata": {},
   "source": [
    "<b> Importing Libraries </b>\n",
    "In this cell, we import the necessary libraries for data processing and visualization:\n",
    "\n",
    "- `matplotlib.pyplot` is used for creating plots and visualizations.\n",
    "- `pandas` is a powerful library for data manipulation and analysis.\n",
    "- `numpy` is used for numerical computations and handling arrays.\n",
    "\n",
    "These libraries will be used throughout the notebook for data processing and visualization tasks."
   ]
  },
  {
   "cell_type": "markdown",
   "metadata": {},
   "source": [
    "## Co-60"
   ]
  },
  {
   "cell_type": "markdown",
   "metadata": {
    "id": "hYspTD7vqiq4"
   },
   "source": [
    "### data 1 = Co60_code11_t60"
   ]
  },
  {
   "cell_type": "code",
   "execution_count": 11,
   "metadata": {
    "id": "QX9V4AORWtTN"
   },
   "outputs": [
    {
     "name": "stdout",
     "output_type": "stream",
     "text": [
      "<class 'pandas.core.frame.DataFrame'>\n",
      "RangeIndex: 1024 entries, 0 to 1023\n",
      "Data columns (total 3 columns):\n",
      " #   Column  Non-Null Count  Dtype  \n",
      "---  ------  --------------  -----  \n",
      " 0   Chan    1024 non-null   int64  \n",
      " 1   Energy  1024 non-null   float64\n",
      " 2   Counts  1024 non-null   int64  \n",
      "dtypes: float64(1), int64(2)\n",
      "memory usage: 24.1 KB\n"
     ]
    },
    {
     "data": {
      "application/vnd.microsoft.datawrangler.viewer.v0+json": {
       "columns": [
        {
         "name": "index",
         "rawType": "int64",
         "type": "integer"
        },
        {
         "name": "Chan",
         "rawType": "int64",
         "type": "integer"
        },
        {
         "name": "Energy",
         "rawType": "float64",
         "type": "float"
        },
        {
         "name": "Counts",
         "rawType": "int64",
         "type": "integer"
        }
       ],
       "conversionMethod": "pd.DataFrame",
       "ref": "0ed815c0-ee55-466d-bf44-a7db5d170f23",
       "rows": [
        [
         "0",
         "0",
         "-55.4",
         "0"
        ],
        [
         "1",
         "1",
         "-52.84",
         "0"
        ],
        [
         "2",
         "2",
         "-50.27",
         "0"
        ],
        [
         "3",
         "3",
         "-47.71",
         "0"
        ],
        [
         "4",
         "4",
         "-45.15",
         "0"
        ],
        [
         "5",
         "5",
         "-42.58",
         "0"
        ],
        [
         "6",
         "6",
         "-40.02",
         "0"
        ],
        [
         "7",
         "7",
         "-37.45",
         "0"
        ],
        [
         "8",
         "8",
         "-34.89",
         "0"
        ],
        [
         "9",
         "9",
         "-32.32",
         "0"
        ],
        [
         "10",
         "10",
         "-29.76",
         "0"
        ],
        [
         "11",
         "11",
         "-27.19",
         "0"
        ],
        [
         "12",
         "12",
         "-24.63",
         "3"
        ],
        [
         "13",
         "13",
         "-22.06",
         "58"
        ],
        [
         "14",
         "14",
         "-19.5",
         "80"
        ],
        [
         "15",
         "15",
         "-16.94",
         "85"
        ],
        [
         "16",
         "16",
         "-14.37",
         "66"
        ],
        [
         "17",
         "17",
         "-11.81",
         "74"
        ],
        [
         "18",
         "18",
         "-9.24",
         "77"
        ],
        [
         "19",
         "19",
         "-6.68",
         "59"
        ],
        [
         "20",
         "20",
         "-4.11",
         "78"
        ],
        [
         "21",
         "21",
         "-1.55",
         "75"
        ],
        [
         "22",
         "22",
         "1.02",
         "85"
        ],
        [
         "23",
         "23",
         "3.58",
         "77"
        ],
        [
         "24",
         "24",
         "6.15",
         "69"
        ],
        [
         "25",
         "25",
         "8.71",
         "84"
        ],
        [
         "26",
         "26",
         "11.27",
         "89"
        ],
        [
         "27",
         "27",
         "13.84",
         "101"
        ],
        [
         "28",
         "28",
         "16.4",
         "103"
        ],
        [
         "29",
         "29",
         "18.97",
         "119"
        ],
        [
         "30",
         "30",
         "21.53",
         "100"
        ],
        [
         "31",
         "31",
         "24.1",
         "108"
        ],
        [
         "32",
         "32",
         "26.66",
         "100"
        ],
        [
         "33",
         "33",
         "29.23",
         "98"
        ],
        [
         "34",
         "34",
         "31.79",
         "114"
        ],
        [
         "35",
         "35",
         "34.35",
         "87"
        ],
        [
         "36",
         "36",
         "36.92",
         "64"
        ],
        [
         "37",
         "37",
         "39.48",
         "72"
        ],
        [
         "38",
         "38",
         "42.05",
         "96"
        ],
        [
         "39",
         "39",
         "44.61",
         "65"
        ],
        [
         "40",
         "40",
         "47.18",
         "65"
        ],
        [
         "41",
         "41",
         "49.74",
         "83"
        ],
        [
         "42",
         "42",
         "52.31",
         "67"
        ],
        [
         "43",
         "43",
         "54.87",
         "65"
        ],
        [
         "44",
         "44",
         "57.44",
         "79"
        ],
        [
         "45",
         "45",
         "60.0",
         "59"
        ],
        [
         "46",
         "46",
         "62.56",
         "70"
        ],
        [
         "47",
         "47",
         "65.13",
         "69"
        ],
        [
         "48",
         "48",
         "67.69",
         "64"
        ],
        [
         "49",
         "49",
         "70.26",
         "80"
        ]
       ],
       "shape": {
        "columns": 3,
        "rows": 100
       }
      },
      "text/html": [
       "<div>\n",
       "<style scoped>\n",
       "    .dataframe tbody tr th:only-of-type {\n",
       "        vertical-align: middle;\n",
       "    }\n",
       "\n",
       "    .dataframe tbody tr th {\n",
       "        vertical-align: top;\n",
       "    }\n",
       "\n",
       "    .dataframe thead th {\n",
       "        text-align: right;\n",
       "    }\n",
       "</style>\n",
       "<table border=\"1\" class=\"dataframe\">\n",
       "  <thead>\n",
       "    <tr style=\"text-align: right;\">\n",
       "      <th></th>\n",
       "      <th>Chan</th>\n",
       "      <th>Energy</th>\n",
       "      <th>Counts</th>\n",
       "    </tr>\n",
       "  </thead>\n",
       "  <tbody>\n",
       "    <tr>\n",
       "      <th>0</th>\n",
       "      <td>0</td>\n",
       "      <td>-55.40</td>\n",
       "      <td>0</td>\n",
       "    </tr>\n",
       "    <tr>\n",
       "      <th>1</th>\n",
       "      <td>1</td>\n",
       "      <td>-52.84</td>\n",
       "      <td>0</td>\n",
       "    </tr>\n",
       "    <tr>\n",
       "      <th>2</th>\n",
       "      <td>2</td>\n",
       "      <td>-50.27</td>\n",
       "      <td>0</td>\n",
       "    </tr>\n",
       "    <tr>\n",
       "      <th>3</th>\n",
       "      <td>3</td>\n",
       "      <td>-47.71</td>\n",
       "      <td>0</td>\n",
       "    </tr>\n",
       "    <tr>\n",
       "      <th>4</th>\n",
       "      <td>4</td>\n",
       "      <td>-45.15</td>\n",
       "      <td>0</td>\n",
       "    </tr>\n",
       "    <tr>\n",
       "      <th>...</th>\n",
       "      <td>...</td>\n",
       "      <td>...</td>\n",
       "      <td>...</td>\n",
       "    </tr>\n",
       "    <tr>\n",
       "      <th>95</th>\n",
       "      <td>95</td>\n",
       "      <td>188.23</td>\n",
       "      <td>98</td>\n",
       "    </tr>\n",
       "    <tr>\n",
       "      <th>96</th>\n",
       "      <td>96</td>\n",
       "      <td>190.79</td>\n",
       "      <td>86</td>\n",
       "    </tr>\n",
       "    <tr>\n",
       "      <th>97</th>\n",
       "      <td>97</td>\n",
       "      <td>193.35</td>\n",
       "      <td>84</td>\n",
       "    </tr>\n",
       "    <tr>\n",
       "      <th>98</th>\n",
       "      <td>98</td>\n",
       "      <td>195.92</td>\n",
       "      <td>109</td>\n",
       "    </tr>\n",
       "    <tr>\n",
       "      <th>99</th>\n",
       "      <td>99</td>\n",
       "      <td>198.48</td>\n",
       "      <td>79</td>\n",
       "    </tr>\n",
       "  </tbody>\n",
       "</table>\n",
       "<p>100 rows × 3 columns</p>\n",
       "</div>"
      ],
      "text/plain": [
       "    Chan  Energy  Counts\n",
       "0      0  -55.40       0\n",
       "1      1  -52.84       0\n",
       "2      2  -50.27       0\n",
       "3      3  -47.71       0\n",
       "4      4  -45.15       0\n",
       "..   ...     ...     ...\n",
       "95    95  188.23      98\n",
       "96    96  190.79      86\n",
       "97    97  193.35      84\n",
       "98    98  195.92     109\n",
       "99    99  198.48      79\n",
       "\n",
       "[100 rows x 3 columns]"
      ]
     },
     "execution_count": 11,
     "metadata": {},
     "output_type": "execute_result"
    }
   ],
   "source": [
    "# import csv data directly from same-directory of this notebook\n",
    "data1 = 'co60_10_60s.csv'\n",
    "\n",
    "df1 = pd.read_csv(data1)\n",
    "\n",
    "df1.info()\n",
    "df1.head(100)  # Print the first few rows of the DataFrame\n"
   ]
  },
  {
   "cell_type": "markdown",
   "metadata": {},
   "source": [
    "<b> Data 1: Co-60 Code 11 T60 </b>\n",
    "\n",
    "In this cell, we import the CSV file `co60_code11_t60.csv` and process it as follows:\n",
    "\n",
    "- Read the CSV file into a pandas DataFrame.\n",
    "- Convert the data types of the columns:\n",
    "    - `Chan` to `int16` for channel numbers.\n",
    "    - `Energy` to `float16` for energy values.\n",
    "    - `Counts` to `int16` for count values.\n",
    "- Display the structure of the DataFrame using `info()` to understand the data types and memory usage.\n",
    "- Display the first 100 rows of the DataFrame using `head(100)` to preview the data.\n",
    "\n",
    "This processed DataFrame will be used for further analysis and visualization."
   ]
  },
  {
   "cell_type": "code",
   "execution_count": 12,
   "metadata": {},
   "outputs": [
    {
     "name": "stdout",
     "output_type": "stream",
     "text": [
      "<class 'pandas.core.frame.DataFrame'>\n",
      "RangeIndex: 1024 entries, 0 to 1023\n",
      "Data columns (total 3 columns):\n",
      " #   Column  Non-Null Count  Dtype  \n",
      "---  ------  --------------  -----  \n",
      " 0   Chan    1024 non-null   int64  \n",
      " 1   Energy  1024 non-null   float64\n",
      " 2   Counts  1024 non-null   int64  \n",
      "dtypes: float64(1), int64(2)\n",
      "memory usage: 24.1 KB\n"
     ]
    },
    {
     "data": {
      "application/vnd.microsoft.datawrangler.viewer.v0+json": {
       "columns": [
        {
         "name": "index",
         "rawType": "int64",
         "type": "integer"
        },
        {
         "name": "Chan",
         "rawType": "int64",
         "type": "integer"
        },
        {
         "name": "Energy",
         "rawType": "float64",
         "type": "float"
        },
        {
         "name": "Counts",
         "rawType": "int64",
         "type": "integer"
        }
       ],
       "conversionMethod": "pd.DataFrame",
       "ref": "317b2968-1389-4ac8-b925-586fdad23a81",
       "rows": [
        [
         "0",
         "0",
         "-55.4",
         "0"
        ],
        [
         "1",
         "1",
         "-52.84",
         "0"
        ],
        [
         "2",
         "2",
         "-50.27",
         "0"
        ],
        [
         "3",
         "3",
         "-47.71",
         "0"
        ],
        [
         "4",
         "4",
         "-45.15",
         "0"
        ],
        [
         "5",
         "5",
         "-42.58",
         "0"
        ],
        [
         "6",
         "6",
         "-40.02",
         "0"
        ],
        [
         "7",
         "7",
         "-37.45",
         "0"
        ],
        [
         "8",
         "8",
         "-34.89",
         "0"
        ],
        [
         "9",
         "9",
         "-32.32",
         "0"
        ],
        [
         "10",
         "10",
         "-29.76",
         "0"
        ],
        [
         "11",
         "11",
         "-27.19",
         "0"
        ],
        [
         "12",
         "12",
         "-24.63",
         "1"
        ],
        [
         "13",
         "13",
         "-22.06",
         "87"
        ],
        [
         "14",
         "14",
         "-19.5",
         "125"
        ],
        [
         "15",
         "15",
         "-16.94",
         "106"
        ],
        [
         "16",
         "16",
         "-14.37",
         "118"
        ],
        [
         "17",
         "17",
         "-11.81",
         "105"
        ],
        [
         "18",
         "18",
         "-9.24",
         "92"
        ],
        [
         "19",
         "19",
         "-6.68",
         "112"
        ],
        [
         "20",
         "20",
         "-4.11",
         "91"
        ],
        [
         "21",
         "21",
         "-1.55",
         "95"
        ],
        [
         "22",
         "22",
         "1.02",
         "105"
        ],
        [
         "23",
         "23",
         "3.58",
         "98"
        ],
        [
         "24",
         "24",
         "6.15",
         "112"
        ],
        [
         "25",
         "25",
         "8.71",
         "127"
        ],
        [
         "26",
         "26",
         "11.27",
         "141"
        ],
        [
         "27",
         "27",
         "13.84",
         "148"
        ],
        [
         "28",
         "28",
         "16.4",
         "154"
        ],
        [
         "29",
         "29",
         "18.97",
         "187"
        ],
        [
         "30",
         "30",
         "21.53",
         "167"
        ],
        [
         "31",
         "31",
         "24.1",
         "179"
        ],
        [
         "32",
         "32",
         "26.66",
         "165"
        ],
        [
         "33",
         "33",
         "29.23",
         "127"
        ],
        [
         "34",
         "34",
         "31.79",
         "136"
        ],
        [
         "35",
         "35",
         "34.35",
         "117"
        ],
        [
         "36",
         "36",
         "36.92",
         "125"
        ],
        [
         "37",
         "37",
         "39.48",
         "100"
        ],
        [
         "38",
         "38",
         "42.05",
         "100"
        ],
        [
         "39",
         "39",
         "44.61",
         "112"
        ],
        [
         "40",
         "40",
         "47.18",
         "97"
        ],
        [
         "41",
         "41",
         "49.74",
         "88"
        ],
        [
         "42",
         "42",
         "52.31",
         "107"
        ],
        [
         "43",
         "43",
         "54.87",
         "101"
        ],
        [
         "44",
         "44",
         "57.44",
         "125"
        ],
        [
         "45",
         "45",
         "60.0",
         "121"
        ],
        [
         "46",
         "46",
         "62.56",
         "82"
        ],
        [
         "47",
         "47",
         "65.13",
         "113"
        ],
        [
         "48",
         "48",
         "67.69",
         "83"
        ],
        [
         "49",
         "49",
         "70.26",
         "112"
        ]
       ],
       "shape": {
        "columns": 3,
        "rows": 100
       }
      },
      "text/html": [
       "<div>\n",
       "<style scoped>\n",
       "    .dataframe tbody tr th:only-of-type {\n",
       "        vertical-align: middle;\n",
       "    }\n",
       "\n",
       "    .dataframe tbody tr th {\n",
       "        vertical-align: top;\n",
       "    }\n",
       "\n",
       "    .dataframe thead th {\n",
       "        text-align: right;\n",
       "    }\n",
       "</style>\n",
       "<table border=\"1\" class=\"dataframe\">\n",
       "  <thead>\n",
       "    <tr style=\"text-align: right;\">\n",
       "      <th></th>\n",
       "      <th>Chan</th>\n",
       "      <th>Energy</th>\n",
       "      <th>Counts</th>\n",
       "    </tr>\n",
       "  </thead>\n",
       "  <tbody>\n",
       "    <tr>\n",
       "      <th>0</th>\n",
       "      <td>0</td>\n",
       "      <td>-55.40</td>\n",
       "      <td>0</td>\n",
       "    </tr>\n",
       "    <tr>\n",
       "      <th>1</th>\n",
       "      <td>1</td>\n",
       "      <td>-52.84</td>\n",
       "      <td>0</td>\n",
       "    </tr>\n",
       "    <tr>\n",
       "      <th>2</th>\n",
       "      <td>2</td>\n",
       "      <td>-50.27</td>\n",
       "      <td>0</td>\n",
       "    </tr>\n",
       "    <tr>\n",
       "      <th>3</th>\n",
       "      <td>3</td>\n",
       "      <td>-47.71</td>\n",
       "      <td>0</td>\n",
       "    </tr>\n",
       "    <tr>\n",
       "      <th>4</th>\n",
       "      <td>4</td>\n",
       "      <td>-45.15</td>\n",
       "      <td>0</td>\n",
       "    </tr>\n",
       "    <tr>\n",
       "      <th>...</th>\n",
       "      <td>...</td>\n",
       "      <td>...</td>\n",
       "      <td>...</td>\n",
       "    </tr>\n",
       "    <tr>\n",
       "      <th>95</th>\n",
       "      <td>95</td>\n",
       "      <td>188.23</td>\n",
       "      <td>128</td>\n",
       "    </tr>\n",
       "    <tr>\n",
       "      <th>96</th>\n",
       "      <td>96</td>\n",
       "      <td>190.79</td>\n",
       "      <td>129</td>\n",
       "    </tr>\n",
       "    <tr>\n",
       "      <th>97</th>\n",
       "      <td>97</td>\n",
       "      <td>193.35</td>\n",
       "      <td>130</td>\n",
       "    </tr>\n",
       "    <tr>\n",
       "      <th>98</th>\n",
       "      <td>98</td>\n",
       "      <td>195.92</td>\n",
       "      <td>135</td>\n",
       "    </tr>\n",
       "    <tr>\n",
       "      <th>99</th>\n",
       "      <td>99</td>\n",
       "      <td>198.48</td>\n",
       "      <td>144</td>\n",
       "    </tr>\n",
       "  </tbody>\n",
       "</table>\n",
       "<p>100 rows × 3 columns</p>\n",
       "</div>"
      ],
      "text/plain": [
       "    Chan  Energy  Counts\n",
       "0      0  -55.40       0\n",
       "1      1  -52.84       0\n",
       "2      2  -50.27       0\n",
       "3      3  -47.71       0\n",
       "4      4  -45.15       0\n",
       "..   ...     ...     ...\n",
       "95    95  188.23     128\n",
       "96    96  190.79     129\n",
       "97    97  193.35     130\n",
       "98    98  195.92     135\n",
       "99    99  198.48     144\n",
       "\n",
       "[100 rows x 3 columns]"
      ]
     },
     "execution_count": 12,
     "metadata": {},
     "output_type": "execute_result"
    }
   ],
   "source": [
    "# import csv data directly from same-directory of this notebook\n",
    "data2 = 'co60_10_90s.csv'\n",
    "\n",
    "df2 = pd.read_csv(data2)\n",
    "\n",
    "df2.info()\n",
    "df2.head(100)  # Print the first few rows of the DataFrame\n"
   ]
  },
  {
   "cell_type": "code",
   "execution_count": 13,
   "metadata": {},
   "outputs": [
    {
     "name": "stdout",
     "output_type": "stream",
     "text": [
      "<class 'pandas.core.frame.DataFrame'>\n",
      "RangeIndex: 2048 entries, 0 to 2047\n",
      "Data columns (total 3 columns):\n",
      " #   Column  Non-Null Count  Dtype  \n",
      "---  ------  --------------  -----  \n",
      " 0   Chan    2048 non-null   int64  \n",
      " 1   Energy  2048 non-null   float64\n",
      " 2   Counts  2048 non-null   int64  \n",
      "dtypes: float64(1), int64(2)\n",
      "memory usage: 48.1 KB\n"
     ]
    },
    {
     "data": {
      "application/vnd.microsoft.datawrangler.viewer.v0+json": {
       "columns": [
        {
         "name": "index",
         "rawType": "int64",
         "type": "integer"
        },
        {
         "name": "Chan",
         "rawType": "int64",
         "type": "integer"
        },
        {
         "name": "Energy",
         "rawType": "float64",
         "type": "float"
        },
        {
         "name": "Counts",
         "rawType": "int64",
         "type": "integer"
        }
       ],
       "conversionMethod": "pd.DataFrame",
       "ref": "4f50e799-ddb1-4a4b-af1e-31e1fc31374b",
       "rows": [
        [
         "0",
         "0",
         "-55.4",
         "0"
        ],
        [
         "1",
         "1",
         "-52.84",
         "0"
        ],
        [
         "2",
         "2",
         "-50.27",
         "0"
        ],
        [
         "3",
         "3",
         "-47.71",
         "0"
        ],
        [
         "4",
         "4",
         "-45.15",
         "0"
        ],
        [
         "5",
         "5",
         "-42.58",
         "0"
        ],
        [
         "6",
         "6",
         "-40.02",
         "0"
        ],
        [
         "7",
         "7",
         "-37.45",
         "0"
        ],
        [
         "8",
         "8",
         "-34.89",
         "0"
        ],
        [
         "9",
         "9",
         "-32.32",
         "0"
        ],
        [
         "10",
         "10",
         "-29.76",
         "0"
        ],
        [
         "11",
         "11",
         "-27.19",
         "0"
        ],
        [
         "12",
         "12",
         "-24.63",
         "3"
        ],
        [
         "13",
         "13",
         "-22.06",
         "58"
        ],
        [
         "14",
         "14",
         "-19.5",
         "80"
        ],
        [
         "15",
         "15",
         "-16.94",
         "85"
        ],
        [
         "16",
         "16",
         "-14.37",
         "66"
        ],
        [
         "17",
         "17",
         "-11.81",
         "74"
        ],
        [
         "18",
         "18",
         "-9.24",
         "77"
        ],
        [
         "19",
         "19",
         "-6.68",
         "59"
        ],
        [
         "20",
         "20",
         "-4.11",
         "78"
        ],
        [
         "21",
         "21",
         "-1.55",
         "75"
        ],
        [
         "22",
         "22",
         "1.02",
         "85"
        ],
        [
         "23",
         "23",
         "3.58",
         "77"
        ],
        [
         "24",
         "24",
         "6.15",
         "69"
        ],
        [
         "25",
         "25",
         "8.71",
         "84"
        ],
        [
         "26",
         "26",
         "11.27",
         "89"
        ],
        [
         "27",
         "27",
         "13.84",
         "101"
        ],
        [
         "28",
         "28",
         "16.4",
         "103"
        ],
        [
         "29",
         "29",
         "18.97",
         "119"
        ],
        [
         "30",
         "30",
         "21.53",
         "100"
        ],
        [
         "31",
         "31",
         "24.1",
         "108"
        ],
        [
         "32",
         "32",
         "26.66",
         "100"
        ],
        [
         "33",
         "33",
         "29.23",
         "98"
        ],
        [
         "34",
         "34",
         "31.79",
         "114"
        ],
        [
         "35",
         "35",
         "34.35",
         "87"
        ],
        [
         "36",
         "36",
         "36.92",
         "64"
        ],
        [
         "37",
         "37",
         "39.48",
         "72"
        ],
        [
         "38",
         "38",
         "42.05",
         "96"
        ],
        [
         "39",
         "39",
         "44.61",
         "65"
        ],
        [
         "40",
         "40",
         "47.18",
         "65"
        ],
        [
         "41",
         "41",
         "49.74",
         "83"
        ],
        [
         "42",
         "42",
         "52.31",
         "67"
        ],
        [
         "43",
         "43",
         "54.87",
         "65"
        ],
        [
         "44",
         "44",
         "57.44",
         "79"
        ],
        [
         "45",
         "45",
         "60.0",
         "59"
        ],
        [
         "46",
         "46",
         "62.56",
         "70"
        ],
        [
         "47",
         "47",
         "65.13",
         "69"
        ],
        [
         "48",
         "48",
         "67.69",
         "64"
        ],
        [
         "49",
         "49",
         "70.26",
         "80"
        ]
       ],
       "shape": {
        "columns": 3,
        "rows": 100
       }
      },
      "text/html": [
       "<div>\n",
       "<style scoped>\n",
       "    .dataframe tbody tr th:only-of-type {\n",
       "        vertical-align: middle;\n",
       "    }\n",
       "\n",
       "    .dataframe tbody tr th {\n",
       "        vertical-align: top;\n",
       "    }\n",
       "\n",
       "    .dataframe thead th {\n",
       "        text-align: right;\n",
       "    }\n",
       "</style>\n",
       "<table border=\"1\" class=\"dataframe\">\n",
       "  <thead>\n",
       "    <tr style=\"text-align: right;\">\n",
       "      <th></th>\n",
       "      <th>Chan</th>\n",
       "      <th>Energy</th>\n",
       "      <th>Counts</th>\n",
       "    </tr>\n",
       "  </thead>\n",
       "  <tbody>\n",
       "    <tr>\n",
       "      <th>0</th>\n",
       "      <td>0</td>\n",
       "      <td>-55.40</td>\n",
       "      <td>0</td>\n",
       "    </tr>\n",
       "    <tr>\n",
       "      <th>1</th>\n",
       "      <td>1</td>\n",
       "      <td>-52.84</td>\n",
       "      <td>0</td>\n",
       "    </tr>\n",
       "    <tr>\n",
       "      <th>2</th>\n",
       "      <td>2</td>\n",
       "      <td>-50.27</td>\n",
       "      <td>0</td>\n",
       "    </tr>\n",
       "    <tr>\n",
       "      <th>3</th>\n",
       "      <td>3</td>\n",
       "      <td>-47.71</td>\n",
       "      <td>0</td>\n",
       "    </tr>\n",
       "    <tr>\n",
       "      <th>4</th>\n",
       "      <td>4</td>\n",
       "      <td>-45.15</td>\n",
       "      <td>0</td>\n",
       "    </tr>\n",
       "    <tr>\n",
       "      <th>...</th>\n",
       "      <td>...</td>\n",
       "      <td>...</td>\n",
       "      <td>...</td>\n",
       "    </tr>\n",
       "    <tr>\n",
       "      <th>95</th>\n",
       "      <td>95</td>\n",
       "      <td>188.23</td>\n",
       "      <td>98</td>\n",
       "    </tr>\n",
       "    <tr>\n",
       "      <th>96</th>\n",
       "      <td>96</td>\n",
       "      <td>190.79</td>\n",
       "      <td>86</td>\n",
       "    </tr>\n",
       "    <tr>\n",
       "      <th>97</th>\n",
       "      <td>97</td>\n",
       "      <td>193.35</td>\n",
       "      <td>84</td>\n",
       "    </tr>\n",
       "    <tr>\n",
       "      <th>98</th>\n",
       "      <td>98</td>\n",
       "      <td>195.92</td>\n",
       "      <td>109</td>\n",
       "    </tr>\n",
       "    <tr>\n",
       "      <th>99</th>\n",
       "      <td>99</td>\n",
       "      <td>198.48</td>\n",
       "      <td>79</td>\n",
       "    </tr>\n",
       "  </tbody>\n",
       "</table>\n",
       "<p>100 rows × 3 columns</p>\n",
       "</div>"
      ],
      "text/plain": [
       "    Chan  Energy  Counts\n",
       "0      0  -55.40       0\n",
       "1      1  -52.84       0\n",
       "2      2  -50.27       0\n",
       "3      3  -47.71       0\n",
       "4      4  -45.15       0\n",
       "..   ...     ...     ...\n",
       "95    95  188.23      98\n",
       "96    96  190.79      86\n",
       "97    97  193.35      84\n",
       "98    98  195.92     109\n",
       "99    99  198.48      79\n",
       "\n",
       "[100 rows x 3 columns]"
      ]
     },
     "execution_count": 13,
     "metadata": {},
     "output_type": "execute_result"
    }
   ],
   "source": [
    "# Combine dataframes df1, df2, df3, and df4 into a single DataFrame\n",
    "co_df = pd.concat([df1, df2], ignore_index=True)\n",
    "\n",
    "# Display info and first few rows of the combined DataFrame\n",
    "co_df.info()\n",
    "co_df.head(100)"
   ]
  },
  {
   "cell_type": "code",
   "execution_count": 14,
   "metadata": {},
   "outputs": [
    {
     "name": "stdout",
     "output_type": "stream",
     "text": [
      "<class 'pandas.core.frame.DataFrame'>\n",
      "RangeIndex: 2048 entries, 0 to 2047\n",
      "Data columns (total 2 columns):\n",
      " #   Column  Non-Null Count  Dtype\n",
      "---  ------  --------------  -----\n",
      " 0   Chan    2048 non-null   int64\n",
      " 1   Counts  2048 non-null   int64\n",
      "dtypes: int64(2)\n",
      "memory usage: 32.1 KB\n"
     ]
    },
    {
     "data": {
      "application/vnd.microsoft.datawrangler.viewer.v0+json": {
       "columns": [
        {
         "name": "index",
         "rawType": "int64",
         "type": "integer"
        },
        {
         "name": "Chan",
         "rawType": "int64",
         "type": "integer"
        },
        {
         "name": "Counts",
         "rawType": "int64",
         "type": "integer"
        }
       ],
       "conversionMethod": "pd.DataFrame",
       "ref": "0e0a0e49-5eb9-4448-ae13-d17009b4c1cc",
       "rows": [
        [
         "0",
         "0",
         "0"
        ],
        [
         "1",
         "1",
         "0"
        ],
        [
         "2",
         "2",
         "0"
        ],
        [
         "3",
         "3",
         "0"
        ],
        [
         "4",
         "4",
         "0"
        ],
        [
         "5",
         "5",
         "0"
        ],
        [
         "6",
         "6",
         "0"
        ],
        [
         "7",
         "7",
         "0"
        ],
        [
         "8",
         "8",
         "0"
        ],
        [
         "9",
         "9",
         "0"
        ],
        [
         "10",
         "10",
         "0"
        ],
        [
         "11",
         "11",
         "0"
        ],
        [
         "12",
         "12",
         "3"
        ],
        [
         "13",
         "13",
         "58"
        ],
        [
         "14",
         "14",
         "80"
        ],
        [
         "15",
         "15",
         "85"
        ],
        [
         "16",
         "16",
         "66"
        ],
        [
         "17",
         "17",
         "74"
        ],
        [
         "18",
         "18",
         "77"
        ],
        [
         "19",
         "19",
         "59"
        ],
        [
         "20",
         "20",
         "78"
        ],
        [
         "21",
         "21",
         "75"
        ],
        [
         "22",
         "22",
         "85"
        ],
        [
         "23",
         "23",
         "77"
        ],
        [
         "24",
         "24",
         "69"
        ],
        [
         "25",
         "25",
         "84"
        ],
        [
         "26",
         "26",
         "89"
        ],
        [
         "27",
         "27",
         "101"
        ],
        [
         "28",
         "28",
         "103"
        ],
        [
         "29",
         "29",
         "119"
        ],
        [
         "30",
         "30",
         "100"
        ],
        [
         "31",
         "31",
         "108"
        ],
        [
         "32",
         "32",
         "100"
        ],
        [
         "33",
         "33",
         "98"
        ],
        [
         "34",
         "34",
         "114"
        ],
        [
         "35",
         "35",
         "87"
        ],
        [
         "36",
         "36",
         "64"
        ],
        [
         "37",
         "37",
         "72"
        ],
        [
         "38",
         "38",
         "96"
        ],
        [
         "39",
         "39",
         "65"
        ],
        [
         "40",
         "40",
         "65"
        ],
        [
         "41",
         "41",
         "83"
        ],
        [
         "42",
         "42",
         "67"
        ],
        [
         "43",
         "43",
         "65"
        ],
        [
         "44",
         "44",
         "79"
        ],
        [
         "45",
         "45",
         "59"
        ],
        [
         "46",
         "46",
         "70"
        ],
        [
         "47",
         "47",
         "69"
        ],
        [
         "48",
         "48",
         "64"
        ],
        [
         "49",
         "49",
         "80"
        ]
       ],
       "shape": {
        "columns": 2,
        "rows": 100
       }
      },
      "text/html": [
       "<div>\n",
       "<style scoped>\n",
       "    .dataframe tbody tr th:only-of-type {\n",
       "        vertical-align: middle;\n",
       "    }\n",
       "\n",
       "    .dataframe tbody tr th {\n",
       "        vertical-align: top;\n",
       "    }\n",
       "\n",
       "    .dataframe thead th {\n",
       "        text-align: right;\n",
       "    }\n",
       "</style>\n",
       "<table border=\"1\" class=\"dataframe\">\n",
       "  <thead>\n",
       "    <tr style=\"text-align: right;\">\n",
       "      <th></th>\n",
       "      <th>Chan</th>\n",
       "      <th>Counts</th>\n",
       "    </tr>\n",
       "  </thead>\n",
       "  <tbody>\n",
       "    <tr>\n",
       "      <th>0</th>\n",
       "      <td>0</td>\n",
       "      <td>0</td>\n",
       "    </tr>\n",
       "    <tr>\n",
       "      <th>1</th>\n",
       "      <td>1</td>\n",
       "      <td>0</td>\n",
       "    </tr>\n",
       "    <tr>\n",
       "      <th>2</th>\n",
       "      <td>2</td>\n",
       "      <td>0</td>\n",
       "    </tr>\n",
       "    <tr>\n",
       "      <th>3</th>\n",
       "      <td>3</td>\n",
       "      <td>0</td>\n",
       "    </tr>\n",
       "    <tr>\n",
       "      <th>4</th>\n",
       "      <td>4</td>\n",
       "      <td>0</td>\n",
       "    </tr>\n",
       "    <tr>\n",
       "      <th>...</th>\n",
       "      <td>...</td>\n",
       "      <td>...</td>\n",
       "    </tr>\n",
       "    <tr>\n",
       "      <th>95</th>\n",
       "      <td>95</td>\n",
       "      <td>98</td>\n",
       "    </tr>\n",
       "    <tr>\n",
       "      <th>96</th>\n",
       "      <td>96</td>\n",
       "      <td>86</td>\n",
       "    </tr>\n",
       "    <tr>\n",
       "      <th>97</th>\n",
       "      <td>97</td>\n",
       "      <td>84</td>\n",
       "    </tr>\n",
       "    <tr>\n",
       "      <th>98</th>\n",
       "      <td>98</td>\n",
       "      <td>109</td>\n",
       "    </tr>\n",
       "    <tr>\n",
       "      <th>99</th>\n",
       "      <td>99</td>\n",
       "      <td>79</td>\n",
       "    </tr>\n",
       "  </tbody>\n",
       "</table>\n",
       "<p>100 rows × 2 columns</p>\n",
       "</div>"
      ],
      "text/plain": [
       "    Chan  Counts\n",
       "0      0       0\n",
       "1      1       0\n",
       "2      2       0\n",
       "3      3       0\n",
       "4      4       0\n",
       "..   ...     ...\n",
       "95    95      98\n",
       "96    96      86\n",
       "97    97      84\n",
       "98    98     109\n",
       "99    99      79\n",
       "\n",
       "[100 rows x 2 columns]"
      ]
     },
     "execution_count": 14,
     "metadata": {},
     "output_type": "execute_result"
    }
   ],
   "source": [
    "# Remove the 'Energy' column from co_df\n",
    "co_df = co_df.drop(columns=['Energy'])\n",
    "co_df.info()\n",
    "co_df.head(100)"
   ]
  },
  {
   "cell_type": "markdown",
   "metadata": {},
   "source": [
    "### labelling as 0"
   ]
  },
  {
   "cell_type": "code",
   "execution_count": 15,
   "metadata": {
    "colab": {
     "base_uri": "https://localhost:8080/",
     "height": 606
    },
    "executionInfo": {
     "elapsed": 513,
     "status": "ok",
     "timestamp": 1738136893629,
     "user": {
      "displayName": "David Irfan Jasir",
      "userId": "11871450647194869092"
     },
     "user_tz": -420
    },
    "id": "O5IZZ2zo8oBr",
    "outputId": "316b7092-ac3b-4586-ae69-c244d8ad093e"
   },
   "outputs": [
    {
     "name": "stdout",
     "output_type": "stream",
     "text": [
      "<class 'pandas.core.frame.DataFrame'>\n",
      "RangeIndex: 2048 entries, 0 to 2047\n",
      "Data columns (total 3 columns):\n",
      " #   Column  Non-Null Count  Dtype\n",
      "---  ------  --------------  -----\n",
      " 0   Chan    2048 non-null   int64\n",
      " 1   Counts  2048 non-null   int64\n",
      " 2   Label   2048 non-null   int64\n",
      "dtypes: int64(3)\n",
      "memory usage: 48.1 KB\n"
     ]
    },
    {
     "data": {
      "application/vnd.microsoft.datawrangler.viewer.v0+json": {
       "columns": [
        {
         "name": "index",
         "rawType": "int64",
         "type": "integer"
        },
        {
         "name": "Chan",
         "rawType": "int64",
         "type": "integer"
        },
        {
         "name": "Counts",
         "rawType": "int64",
         "type": "integer"
        },
        {
         "name": "Label",
         "rawType": "int64",
         "type": "integer"
        }
       ],
       "conversionMethod": "pd.DataFrame",
       "ref": "63a97bf5-e165-4914-8fa5-8f59baf39914",
       "rows": [
        [
         "0",
         "0",
         "0",
         "0"
        ],
        [
         "1",
         "1",
         "0",
         "0"
        ],
        [
         "2",
         "2",
         "0",
         "0"
        ],
        [
         "3",
         "3",
         "0",
         "0"
        ],
        [
         "4",
         "4",
         "0",
         "0"
        ],
        [
         "5",
         "5",
         "0",
         "0"
        ],
        [
         "6",
         "6",
         "0",
         "0"
        ],
        [
         "7",
         "7",
         "0",
         "0"
        ],
        [
         "8",
         "8",
         "0",
         "0"
        ],
        [
         "9",
         "9",
         "0",
         "0"
        ],
        [
         "10",
         "10",
         "0",
         "0"
        ],
        [
         "11",
         "11",
         "0",
         "0"
        ],
        [
         "12",
         "12",
         "3",
         "0"
        ],
        [
         "13",
         "13",
         "58",
         "0"
        ],
        [
         "14",
         "14",
         "80",
         "0"
        ],
        [
         "15",
         "15",
         "85",
         "0"
        ],
        [
         "16",
         "16",
         "66",
         "0"
        ],
        [
         "17",
         "17",
         "74",
         "0"
        ],
        [
         "18",
         "18",
         "77",
         "0"
        ],
        [
         "19",
         "19",
         "59",
         "0"
        ],
        [
         "20",
         "20",
         "78",
         "0"
        ],
        [
         "21",
         "21",
         "75",
         "0"
        ],
        [
         "22",
         "22",
         "85",
         "0"
        ],
        [
         "23",
         "23",
         "77",
         "0"
        ],
        [
         "24",
         "24",
         "69",
         "0"
        ],
        [
         "25",
         "25",
         "84",
         "0"
        ],
        [
         "26",
         "26",
         "89",
         "0"
        ],
        [
         "27",
         "27",
         "101",
         "0"
        ],
        [
         "28",
         "28",
         "103",
         "0"
        ],
        [
         "29",
         "29",
         "119",
         "0"
        ],
        [
         "30",
         "30",
         "100",
         "0"
        ],
        [
         "31",
         "31",
         "108",
         "0"
        ],
        [
         "32",
         "32",
         "100",
         "0"
        ],
        [
         "33",
         "33",
         "98",
         "0"
        ],
        [
         "34",
         "34",
         "114",
         "0"
        ],
        [
         "35",
         "35",
         "87",
         "0"
        ],
        [
         "36",
         "36",
         "64",
         "0"
        ],
        [
         "37",
         "37",
         "72",
         "0"
        ],
        [
         "38",
         "38",
         "96",
         "0"
        ],
        [
         "39",
         "39",
         "65",
         "0"
        ],
        [
         "40",
         "40",
         "65",
         "0"
        ],
        [
         "41",
         "41",
         "83",
         "0"
        ],
        [
         "42",
         "42",
         "67",
         "0"
        ],
        [
         "43",
         "43",
         "65",
         "0"
        ],
        [
         "44",
         "44",
         "79",
         "0"
        ],
        [
         "45",
         "45",
         "59",
         "0"
        ],
        [
         "46",
         "46",
         "70",
         "0"
        ],
        [
         "47",
         "47",
         "69",
         "0"
        ],
        [
         "48",
         "48",
         "64",
         "0"
        ],
        [
         "49",
         "49",
         "80",
         "0"
        ]
       ],
       "shape": {
        "columns": 3,
        "rows": 100
       }
      },
      "text/html": [
       "<div>\n",
       "<style scoped>\n",
       "    .dataframe tbody tr th:only-of-type {\n",
       "        vertical-align: middle;\n",
       "    }\n",
       "\n",
       "    .dataframe tbody tr th {\n",
       "        vertical-align: top;\n",
       "    }\n",
       "\n",
       "    .dataframe thead th {\n",
       "        text-align: right;\n",
       "    }\n",
       "</style>\n",
       "<table border=\"1\" class=\"dataframe\">\n",
       "  <thead>\n",
       "    <tr style=\"text-align: right;\">\n",
       "      <th></th>\n",
       "      <th>Chan</th>\n",
       "      <th>Counts</th>\n",
       "      <th>Label</th>\n",
       "    </tr>\n",
       "  </thead>\n",
       "  <tbody>\n",
       "    <tr>\n",
       "      <th>0</th>\n",
       "      <td>0</td>\n",
       "      <td>0</td>\n",
       "      <td>0</td>\n",
       "    </tr>\n",
       "    <tr>\n",
       "      <th>1</th>\n",
       "      <td>1</td>\n",
       "      <td>0</td>\n",
       "      <td>0</td>\n",
       "    </tr>\n",
       "    <tr>\n",
       "      <th>2</th>\n",
       "      <td>2</td>\n",
       "      <td>0</td>\n",
       "      <td>0</td>\n",
       "    </tr>\n",
       "    <tr>\n",
       "      <th>3</th>\n",
       "      <td>3</td>\n",
       "      <td>0</td>\n",
       "      <td>0</td>\n",
       "    </tr>\n",
       "    <tr>\n",
       "      <th>4</th>\n",
       "      <td>4</td>\n",
       "      <td>0</td>\n",
       "      <td>0</td>\n",
       "    </tr>\n",
       "    <tr>\n",
       "      <th>...</th>\n",
       "      <td>...</td>\n",
       "      <td>...</td>\n",
       "      <td>...</td>\n",
       "    </tr>\n",
       "    <tr>\n",
       "      <th>95</th>\n",
       "      <td>95</td>\n",
       "      <td>98</td>\n",
       "      <td>0</td>\n",
       "    </tr>\n",
       "    <tr>\n",
       "      <th>96</th>\n",
       "      <td>96</td>\n",
       "      <td>86</td>\n",
       "      <td>0</td>\n",
       "    </tr>\n",
       "    <tr>\n",
       "      <th>97</th>\n",
       "      <td>97</td>\n",
       "      <td>84</td>\n",
       "      <td>0</td>\n",
       "    </tr>\n",
       "    <tr>\n",
       "      <th>98</th>\n",
       "      <td>98</td>\n",
       "      <td>109</td>\n",
       "      <td>0</td>\n",
       "    </tr>\n",
       "    <tr>\n",
       "      <th>99</th>\n",
       "      <td>99</td>\n",
       "      <td>79</td>\n",
       "      <td>0</td>\n",
       "    </tr>\n",
       "  </tbody>\n",
       "</table>\n",
       "<p>100 rows × 3 columns</p>\n",
       "</div>"
      ],
      "text/plain": [
       "    Chan  Counts  Label\n",
       "0      0       0      0\n",
       "1      1       0      0\n",
       "2      2       0      0\n",
       "3      3       0      0\n",
       "4      4       0      0\n",
       "..   ...     ...    ...\n",
       "95    95      98      0\n",
       "96    96      86      0\n",
       "97    97      84      0\n",
       "98    98     109      0\n",
       "99    99      79      0\n",
       "\n",
       "[100 rows x 3 columns]"
      ]
     },
     "execution_count": 15,
     "metadata": {},
     "output_type": "execute_result"
    }
   ],
   "source": [
    "# prompt: add one column as label \"Co-60\" or '0'\n",
    "\n",
    "co_df['Label'] = '0'\n",
    "co_df['Label'] = co_df['Label'].astype('int64') # Convert the 'Label' column to integer type\n",
    "\n",
    "co_df.info()\n",
    "co_df.head(100)"
   ]
  },
  {
   "cell_type": "markdown",
   "metadata": {},
   "source": [
    "<b> Add Label Column for Co-60 Data </b>\n",
    "\n",
    "In this cell, we add a new column `Label` to the `df_co` DataFrame to label the data as `0` for Co-60. This is done to differentiate the Co-60 data from other datasets when combining or analyzing them later.\n",
    "\n",
    "- The `Label` column is initially set to the string `'0'`.\n",
    "- The data type of the `Label` column is then converted to `int16` for consistency and memory efficiency.\n",
    "- The structure of the updated DataFrame is displayed using `info()` to verify the addition of the new column and its data type.\n",
    "- The first 100 rows of the updated DataFrame are displayed using `head(100)` to preview the changes."
   ]
  },
  {
   "cell_type": "markdown",
   "metadata": {},
   "source": [
    "### make plot"
   ]
  },
  {
   "cell_type": "code",
   "execution_count": 16,
   "metadata": {},
   "outputs": [
    {
     "data": {
      "image/png": "[encoded data removed]",
      "text/plain": [
       "<Figure size 2000x600 with 1 Axes>"
      ]
     },
     "metadata": {},
     "output_type": "display_data"
    }
   ],
   "source": [
    "# Scatter plot for Energy vs Counts\n",
    "plt.figure(figsize=(20, 6))\n",
    "\n",
    "# Scatter plot for Channel vs Counts\n",
    "plt.plot()  \n",
    "plt.scatter(co_df['Chan'], co_df['Counts'], s=5, c='red', label='Channel vs Counts')\n",
    "plt.xlabel('Channel')\n",
    "plt.ylabel('Counts')\n",
    "plt.title('Channel vs Counts')\n",
    "plt.grid(True)\n",
    "plt.legend()\n",
    "\n",
    "plt.show()"
   ]
  },
  {
   "cell_type": "markdown",
   "metadata": {},
   "source": [
    "<b>> Scatter Plots for Co-60 Data </b>\n",
    "\n",
    "In this cell, we create scatter plots to visualize the relationship between different variables in the `df_co` DataFrame:\n",
    "\n",
    "1. **Energy vs Counts**:\n",
    "    - A scatter plot is created with `Energy` on the x-axis and `Counts` on the y-axis.\n",
    "    - The points are displayed in blue with a size of 5.\n",
    "    - The plot includes a title, axis labels, a grid, and a legend.\n",
    "\n",
    "2. **Channel vs Counts**:\n",
    "    - A scatter plot is created with `Chan` (Channel) on the x-axis and `Counts` on the y-axis.\n",
    "    - The points are displayed in red with a size of 5.\n",
    "    - The plot includes a title, axis labels, a grid, and a legend.\n",
    "\n",
    "The `plt.figure()` function is used to set the figure size, and `plt.subplot()` is used to create two subplots in a single figure. Finally, `plt.show()` is called to display the plots."
   ]
  },
  {
   "cell_type": "markdown",
   "metadata": {},
   "source": [
    "## Cs-137"
   ]
  },
  {
   "cell_type": "markdown",
   "metadata": {},
   "source": [
    "### data 5 = Cs137 code 16 t60"
   ]
  },
  {
   "cell_type": "code",
   "execution_count": 17,
   "metadata": {
    "colab": {
     "base_uri": "https://localhost:8080/",
     "height": 624
    },
    "executionInfo": {
     "elapsed": 3889,
     "status": "ok",
     "timestamp": 1738135728574,
     "user": {
      "displayName": "David Irfan Jasir",
      "userId": "11871450647194869092"
     },
     "user_tz": -420
    },
    "id": "GkvuOuN_9FHS",
    "outputId": "4ce3e4d2-2be2-4519-aab0-f545ccdf3974"
   },
   "outputs": [
    {
     "name": "stdout",
     "output_type": "stream",
     "text": [
      "<class 'pandas.core.frame.DataFrame'>\n",
      "RangeIndex: 1024 entries, 0 to 1023\n",
      "Data columns (total 3 columns):\n",
      " #   Column  Non-Null Count  Dtype  \n",
      "---  ------  --------------  -----  \n",
      " 0   Chan    1024 non-null   int64  \n",
      " 1   Energy  1024 non-null   float64\n",
      " 2   Counts  1024 non-null   int64  \n",
      "dtypes: float64(1), int64(2)\n",
      "memory usage: 24.1 KB\n"
     ]
    },
    {
     "data": {
      "application/vnd.microsoft.datawrangler.viewer.v0+json": {
       "columns": [
        {
         "name": "index",
         "rawType": "int64",
         "type": "integer"
        },
        {
         "name": "Chan",
         "rawType": "int64",
         "type": "integer"
        },
        {
         "name": "Energy",
         "rawType": "float64",
         "type": "float"
        },
        {
         "name": "Counts",
         "rawType": "int64",
         "type": "integer"
        }
       ],
       "conversionMethod": "pd.DataFrame",
       "ref": "7b6bac81-9767-42b4-8c8c-f3bd85c4c54e",
       "rows": [
        [
         "0",
         "0",
         "-55.4",
         "0"
        ],
        [
         "1",
         "1",
         "-52.84",
         "0"
        ],
        [
         "2",
         "2",
         "-50.27",
         "0"
        ],
        [
         "3",
         "3",
         "-47.71",
         "0"
        ],
        [
         "4",
         "4",
         "-45.15",
         "0"
        ],
        [
         "5",
         "5",
         "-42.58",
         "0"
        ],
        [
         "6",
         "6",
         "-40.02",
         "0"
        ],
        [
         "7",
         "7",
         "-37.45",
         "0"
        ],
        [
         "8",
         "8",
         "-34.89",
         "0"
        ],
        [
         "9",
         "9",
         "-32.32",
         "0"
        ],
        [
         "10",
         "10",
         "-29.76",
         "0"
        ],
        [
         "11",
         "11",
         "-27.19",
         "0"
        ],
        [
         "12",
         "12",
         "-24.63",
         "7"
        ],
        [
         "13",
         "13",
         "-22.06",
         "314"
        ],
        [
         "14",
         "14",
         "-19.5",
         "213"
        ],
        [
         "15",
         "15",
         "-16.94",
         "162"
        ],
        [
         "16",
         "16",
         "-14.37",
         "118"
        ],
        [
         "17",
         "17",
         "-11.81",
         "108"
        ],
        [
         "18",
         "18",
         "-9.24",
         "100"
        ],
        [
         "19",
         "19",
         "-6.68",
         "88"
        ],
        [
         "20",
         "20",
         "-4.11",
         "104"
        ],
        [
         "21",
         "21",
         "-1.55",
         "84"
        ],
        [
         "22",
         "22",
         "1.02",
         "95"
        ],
        [
         "23",
         "23",
         "3.58",
         "89"
        ],
        [
         "24",
         "24",
         "6.15",
         "99"
        ],
        [
         "25",
         "25",
         "8.71",
         "98"
        ],
        [
         "26",
         "26",
         "11.27",
         "138"
        ],
        [
         "27",
         "27",
         "13.84",
         "116"
        ],
        [
         "28",
         "28",
         "16.4",
         "141"
        ],
        [
         "29",
         "29",
         "18.97",
         "131"
        ],
        [
         "30",
         "30",
         "21.53",
         "131"
        ],
        [
         "31",
         "31",
         "24.1",
         "121"
        ],
        [
         "32",
         "32",
         "26.66",
         "106"
        ],
        [
         "33",
         "33",
         "29.23",
         "114"
        ],
        [
         "34",
         "34",
         "31.79",
         "89"
        ],
        [
         "35",
         "35",
         "34.35",
         "95"
        ],
        [
         "36",
         "36",
         "36.92",
         "86"
        ],
        [
         "37",
         "37",
         "39.48",
         "78"
        ],
        [
         "38",
         "38",
         "42.05",
         "78"
        ],
        [
         "39",
         "39",
         "44.61",
         "76"
        ],
        [
         "40",
         "40",
         "47.18",
         "95"
        ],
        [
         "41",
         "41",
         "49.74",
         "83"
        ],
        [
         "42",
         "42",
         "52.31",
         "85"
        ],
        [
         "43",
         "43",
         "54.87",
         "73"
        ],
        [
         "44",
         "44",
         "57.44",
         "81"
        ],
        [
         "45",
         "45",
         "60.0",
         "96"
        ],
        [
         "46",
         "46",
         "62.56",
         "78"
        ],
        [
         "47",
         "47",
         "65.13",
         "69"
        ],
        [
         "48",
         "48",
         "67.69",
         "79"
        ],
        [
         "49",
         "49",
         "70.26",
         "72"
        ]
       ],
       "shape": {
        "columns": 3,
        "rows": 100
       }
      },
      "text/html": [
       "<div>\n",
       "<style scoped>\n",
       "    .dataframe tbody tr th:only-of-type {\n",
       "        vertical-align: middle;\n",
       "    }\n",
       "\n",
       "    .dataframe tbody tr th {\n",
       "        vertical-align: top;\n",
       "    }\n",
       "\n",
       "    .dataframe thead th {\n",
       "        text-align: right;\n",
       "    }\n",
       "</style>\n",
       "<table border=\"1\" class=\"dataframe\">\n",
       "  <thead>\n",
       "    <tr style=\"text-align: right;\">\n",
       "      <th></th>\n",
       "      <th>Chan</th>\n",
       "      <th>Energy</th>\n",
       "      <th>Counts</th>\n",
       "    </tr>\n",
       "  </thead>\n",
       "  <tbody>\n",
       "    <tr>\n",
       "      <th>0</th>\n",
       "      <td>0</td>\n",
       "      <td>-55.40</td>\n",
       "      <td>0</td>\n",
       "    </tr>\n",
       "    <tr>\n",
       "      <th>1</th>\n",
       "      <td>1</td>\n",
       "      <td>-52.84</td>\n",
       "      <td>0</td>\n",
       "    </tr>\n",
       "    <tr>\n",
       "      <th>2</th>\n",
       "      <td>2</td>\n",
       "      <td>-50.27</td>\n",
       "      <td>0</td>\n",
       "    </tr>\n",
       "    <tr>\n",
       "      <th>3</th>\n",
       "      <td>3</td>\n",
       "      <td>-47.71</td>\n",
       "      <td>0</td>\n",
       "    </tr>\n",
       "    <tr>\n",
       "      <th>4</th>\n",
       "      <td>4</td>\n",
       "      <td>-45.15</td>\n",
       "      <td>0</td>\n",
       "    </tr>\n",
       "    <tr>\n",
       "      <th>...</th>\n",
       "      <td>...</td>\n",
       "      <td>...</td>\n",
       "      <td>...</td>\n",
       "    </tr>\n",
       "    <tr>\n",
       "      <th>95</th>\n",
       "      <td>95</td>\n",
       "      <td>188.23</td>\n",
       "      <td>89</td>\n",
       "    </tr>\n",
       "    <tr>\n",
       "      <th>96</th>\n",
       "      <td>96</td>\n",
       "      <td>190.79</td>\n",
       "      <td>89</td>\n",
       "    </tr>\n",
       "    <tr>\n",
       "      <th>97</th>\n",
       "      <td>97</td>\n",
       "      <td>193.35</td>\n",
       "      <td>90</td>\n",
       "    </tr>\n",
       "    <tr>\n",
       "      <th>98</th>\n",
       "      <td>98</td>\n",
       "      <td>195.92</td>\n",
       "      <td>101</td>\n",
       "    </tr>\n",
       "    <tr>\n",
       "      <th>99</th>\n",
       "      <td>99</td>\n",
       "      <td>198.48</td>\n",
       "      <td>76</td>\n",
       "    </tr>\n",
       "  </tbody>\n",
       "</table>\n",
       "<p>100 rows × 3 columns</p>\n",
       "</div>"
      ],
      "text/plain": [
       "    Chan  Energy  Counts\n",
       "0      0  -55.40       0\n",
       "1      1  -52.84       0\n",
       "2      2  -50.27       0\n",
       "3      3  -47.71       0\n",
       "4      4  -45.15       0\n",
       "..   ...     ...     ...\n",
       "95    95  188.23      89\n",
       "96    96  190.79      89\n",
       "97    97  193.35      90\n",
       "98    98  195.92     101\n",
       "99    99  198.48      76\n",
       "\n",
       "[100 rows x 3 columns]"
      ]
     },
     "execution_count": 17,
     "metadata": {},
     "output_type": "execute_result"
    }
   ],
   "source": [
    "data5 = 'cs137_49_60s.csv'\n",
    "\n",
    "df5 = pd.read_csv(data5)\n",
    "\n",
    "df5.info()\n",
    "df5.head(100)  # Print the first few rows of the DataFrame"
   ]
  },
  {
   "cell_type": "code",
   "execution_count": 18,
   "metadata": {},
   "outputs": [
    {
     "name": "stdout",
     "output_type": "stream",
     "text": [
      "<class 'pandas.core.frame.DataFrame'>\n",
      "RangeIndex: 1024 entries, 0 to 1023\n",
      "Data columns (total 3 columns):\n",
      " #   Column  Non-Null Count  Dtype  \n",
      "---  ------  --------------  -----  \n",
      " 0   Chan    1024 non-null   int64  \n",
      " 1   Energy  1024 non-null   float64\n",
      " 2   Counts  1024 non-null   int64  \n",
      "dtypes: float64(1), int64(2)\n",
      "memory usage: 24.1 KB\n"
     ]
    },
    {
     "data": {
      "application/vnd.microsoft.datawrangler.viewer.v0+json": {
       "columns": [
        {
         "name": "index",
         "rawType": "int64",
         "type": "integer"
        },
        {
         "name": "Chan",
         "rawType": "int64",
         "type": "integer"
        },
        {
         "name": "Energy",
         "rawType": "float64",
         "type": "float"
        },
        {
         "name": "Counts",
         "rawType": "int64",
         "type": "integer"
        }
       ],
       "conversionMethod": "pd.DataFrame",
       "ref": "a9645f90-1054-4f8c-bbd6-c4c890acad01",
       "rows": [
        [
         "0",
         "0",
         "-55.4",
         "0"
        ],
        [
         "1",
         "1",
         "-52.84",
         "0"
        ],
        [
         "2",
         "2",
         "-50.27",
         "0"
        ],
        [
         "3",
         "3",
         "-47.71",
         "0"
        ],
        [
         "4",
         "4",
         "-45.15",
         "0"
        ],
        [
         "5",
         "5",
         "-42.58",
         "0"
        ],
        [
         "6",
         "6",
         "-40.02",
         "0"
        ],
        [
         "7",
         "7",
         "-37.45",
         "0"
        ],
        [
         "8",
         "8",
         "-34.89",
         "0"
        ],
        [
         "9",
         "9",
         "-32.32",
         "0"
        ],
        [
         "10",
         "10",
         "-29.76",
         "0"
        ],
        [
         "11",
         "11",
         "-27.19",
         "0"
        ],
        [
         "12",
         "12",
         "-24.63",
         "8"
        ],
        [
         "13",
         "13",
         "-22.06",
         "430"
        ],
        [
         "14",
         "14",
         "-19.5",
         "334"
        ],
        [
         "15",
         "15",
         "-16.94",
         "228"
        ],
        [
         "16",
         "16",
         "-14.37",
         "160"
        ],
        [
         "17",
         "17",
         "-11.81",
         "149"
        ],
        [
         "18",
         "18",
         "-9.24",
         "142"
        ],
        [
         "19",
         "19",
         "-6.68",
         "129"
        ],
        [
         "20",
         "20",
         "-4.11",
         "123"
        ],
        [
         "21",
         "21",
         "-1.55",
         "128"
        ],
        [
         "22",
         "22",
         "1.02",
         "121"
        ],
        [
         "23",
         "23",
         "3.58",
         "151"
        ],
        [
         "24",
         "24",
         "6.15",
         "141"
        ],
        [
         "25",
         "25",
         "8.71",
         "136"
        ],
        [
         "26",
         "26",
         "11.27",
         "164"
        ],
        [
         "27",
         "27",
         "13.84",
         "172"
        ],
        [
         "28",
         "28",
         "16.4",
         "220"
        ],
        [
         "29",
         "29",
         "18.97",
         "187"
        ],
        [
         "30",
         "30",
         "21.53",
         "190"
        ],
        [
         "31",
         "31",
         "24.1",
         "208"
        ],
        [
         "32",
         "32",
         "26.66",
         "187"
        ],
        [
         "33",
         "33",
         "29.23",
         "171"
        ],
        [
         "34",
         "34",
         "31.79",
         "152"
        ],
        [
         "35",
         "35",
         "34.35",
         "153"
        ],
        [
         "36",
         "36",
         "36.92",
         "135"
        ],
        [
         "37",
         "37",
         "39.48",
         "142"
        ],
        [
         "38",
         "38",
         "42.05",
         "159"
        ],
        [
         "39",
         "39",
         "44.61",
         "122"
        ],
        [
         "40",
         "40",
         "47.18",
         "108"
        ],
        [
         "41",
         "41",
         "49.74",
         "120"
        ],
        [
         "42",
         "42",
         "52.31",
         "116"
        ],
        [
         "43",
         "43",
         "54.87",
         "121"
        ],
        [
         "44",
         "44",
         "57.44",
         "100"
        ],
        [
         "45",
         "45",
         "60.0",
         "127"
        ],
        [
         "46",
         "46",
         "62.56",
         "123"
        ],
        [
         "47",
         "47",
         "65.13",
         "119"
        ],
        [
         "48",
         "48",
         "67.69",
         "128"
        ],
        [
         "49",
         "49",
         "70.26",
         "130"
        ]
       ],
       "shape": {
        "columns": 3,
        "rows": 100
       }
      },
      "text/html": [
       "<div>\n",
       "<style scoped>\n",
       "    .dataframe tbody tr th:only-of-type {\n",
       "        vertical-align: middle;\n",
       "    }\n",
       "\n",
       "    .dataframe tbody tr th {\n",
       "        vertical-align: top;\n",
       "    }\n",
       "\n",
       "    .dataframe thead th {\n",
       "        text-align: right;\n",
       "    }\n",
       "</style>\n",
       "<table border=\"1\" class=\"dataframe\">\n",
       "  <thead>\n",
       "    <tr style=\"text-align: right;\">\n",
       "      <th></th>\n",
       "      <th>Chan</th>\n",
       "      <th>Energy</th>\n",
       "      <th>Counts</th>\n",
       "    </tr>\n",
       "  </thead>\n",
       "  <tbody>\n",
       "    <tr>\n",
       "      <th>0</th>\n",
       "      <td>0</td>\n",
       "      <td>-55.40</td>\n",
       "      <td>0</td>\n",
       "    </tr>\n",
       "    <tr>\n",
       "      <th>1</th>\n",
       "      <td>1</td>\n",
       "      <td>-52.84</td>\n",
       "      <td>0</td>\n",
       "    </tr>\n",
       "    <tr>\n",
       "      <th>2</th>\n",
       "      <td>2</td>\n",
       "      <td>-50.27</td>\n",
       "      <td>0</td>\n",
       "    </tr>\n",
       "    <tr>\n",
       "      <th>3</th>\n",
       "      <td>3</td>\n",
       "      <td>-47.71</td>\n",
       "      <td>0</td>\n",
       "    </tr>\n",
       "    <tr>\n",
       "      <th>4</th>\n",
       "      <td>4</td>\n",
       "      <td>-45.15</td>\n",
       "      <td>0</td>\n",
       "    </tr>\n",
       "    <tr>\n",
       "      <th>...</th>\n",
       "      <td>...</td>\n",
       "      <td>...</td>\n",
       "      <td>...</td>\n",
       "    </tr>\n",
       "    <tr>\n",
       "      <th>95</th>\n",
       "      <td>95</td>\n",
       "      <td>188.23</td>\n",
       "      <td>143</td>\n",
       "    </tr>\n",
       "    <tr>\n",
       "      <th>96</th>\n",
       "      <td>96</td>\n",
       "      <td>190.79</td>\n",
       "      <td>146</td>\n",
       "    </tr>\n",
       "    <tr>\n",
       "      <th>97</th>\n",
       "      <td>97</td>\n",
       "      <td>193.35</td>\n",
       "      <td>151</td>\n",
       "    </tr>\n",
       "    <tr>\n",
       "      <th>98</th>\n",
       "      <td>98</td>\n",
       "      <td>195.92</td>\n",
       "      <td>143</td>\n",
       "    </tr>\n",
       "    <tr>\n",
       "      <th>99</th>\n",
       "      <td>99</td>\n",
       "      <td>198.48</td>\n",
       "      <td>151</td>\n",
       "    </tr>\n",
       "  </tbody>\n",
       "</table>\n",
       "<p>100 rows × 3 columns</p>\n",
       "</div>"
      ],
      "text/plain": [
       "    Chan  Energy  Counts\n",
       "0      0  -55.40       0\n",
       "1      1  -52.84       0\n",
       "2      2  -50.27       0\n",
       "3      3  -47.71       0\n",
       "4      4  -45.15       0\n",
       "..   ...     ...     ...\n",
       "95    95  188.23     143\n",
       "96    96  190.79     146\n",
       "97    97  193.35     151\n",
       "98    98  195.92     143\n",
       "99    99  198.48     151\n",
       "\n",
       "[100 rows x 3 columns]"
      ]
     },
     "execution_count": 18,
     "metadata": {},
     "output_type": "execute_result"
    }
   ],
   "source": [
    "data6 = 'cs137_49_90s.csv'\n",
    "\n",
    "df6 = pd.read_csv(data6)\n",
    "\n",
    "df6.info()\n",
    "df6.head(100)  # Print the first few rows of the DataFrame      "
   ]
  },
  {
   "cell_type": "code",
   "execution_count": 19,
   "metadata": {},
   "outputs": [
    {
     "name": "stdout",
     "output_type": "stream",
     "text": [
      "<class 'pandas.core.frame.DataFrame'>\n",
      "RangeIndex: 2048 entries, 0 to 2047\n",
      "Data columns (total 3 columns):\n",
      " #   Column  Non-Null Count  Dtype  \n",
      "---  ------  --------------  -----  \n",
      " 0   Chan    2048 non-null   int64  \n",
      " 1   Energy  2048 non-null   float64\n",
      " 2   Counts  2048 non-null   int64  \n",
      "dtypes: float64(1), int64(2)\n",
      "memory usage: 48.1 KB\n"
     ]
    },
    {
     "data": {
      "application/vnd.microsoft.datawrangler.viewer.v0+json": {
       "columns": [
        {
         "name": "index",
         "rawType": "int64",
         "type": "integer"
        },
        {
         "name": "Chan",
         "rawType": "int64",
         "type": "integer"
        },
        {
         "name": "Energy",
         "rawType": "float64",
         "type": "float"
        },
        {
         "name": "Counts",
         "rawType": "int64",
         "type": "integer"
        }
       ],
       "conversionMethod": "pd.DataFrame",
       "ref": "5ad55964-4fe1-4f34-8080-40a1b8383b26",
       "rows": [
        [
         "0",
         "0",
         "-55.4",
         "0"
        ],
        [
         "1",
         "1",
         "-52.84",
         "0"
        ],
        [
         "2",
         "2",
         "-50.27",
         "0"
        ],
        [
         "3",
         "3",
         "-47.71",
         "0"
        ],
        [
         "4",
         "4",
         "-45.15",
         "0"
        ],
        [
         "5",
         "5",
         "-42.58",
         "0"
        ],
        [
         "6",
         "6",
         "-40.02",
         "0"
        ],
        [
         "7",
         "7",
         "-37.45",
         "0"
        ],
        [
         "8",
         "8",
         "-34.89",
         "0"
        ],
        [
         "9",
         "9",
         "-32.32",
         "0"
        ],
        [
         "10",
         "10",
         "-29.76",
         "0"
        ],
        [
         "11",
         "11",
         "-27.19",
         "0"
        ],
        [
         "12",
         "12",
         "-24.63",
         "7"
        ],
        [
         "13",
         "13",
         "-22.06",
         "314"
        ],
        [
         "14",
         "14",
         "-19.5",
         "213"
        ],
        [
         "15",
         "15",
         "-16.94",
         "162"
        ],
        [
         "16",
         "16",
         "-14.37",
         "118"
        ],
        [
         "17",
         "17",
         "-11.81",
         "108"
        ],
        [
         "18",
         "18",
         "-9.24",
         "100"
        ],
        [
         "19",
         "19",
         "-6.68",
         "88"
        ],
        [
         "20",
         "20",
         "-4.11",
         "104"
        ],
        [
         "21",
         "21",
         "-1.55",
         "84"
        ],
        [
         "22",
         "22",
         "1.02",
         "95"
        ],
        [
         "23",
         "23",
         "3.58",
         "89"
        ],
        [
         "24",
         "24",
         "6.15",
         "99"
        ],
        [
         "25",
         "25",
         "8.71",
         "98"
        ],
        [
         "26",
         "26",
         "11.27",
         "138"
        ],
        [
         "27",
         "27",
         "13.84",
         "116"
        ],
        [
         "28",
         "28",
         "16.4",
         "141"
        ],
        [
         "29",
         "29",
         "18.97",
         "131"
        ],
        [
         "30",
         "30",
         "21.53",
         "131"
        ],
        [
         "31",
         "31",
         "24.1",
         "121"
        ],
        [
         "32",
         "32",
         "26.66",
         "106"
        ],
        [
         "33",
         "33",
         "29.23",
         "114"
        ],
        [
         "34",
         "34",
         "31.79",
         "89"
        ],
        [
         "35",
         "35",
         "34.35",
         "95"
        ],
        [
         "36",
         "36",
         "36.92",
         "86"
        ],
        [
         "37",
         "37",
         "39.48",
         "78"
        ],
        [
         "38",
         "38",
         "42.05",
         "78"
        ],
        [
         "39",
         "39",
         "44.61",
         "76"
        ],
        [
         "40",
         "40",
         "47.18",
         "95"
        ],
        [
         "41",
         "41",
         "49.74",
         "83"
        ],
        [
         "42",
         "42",
         "52.31",
         "85"
        ],
        [
         "43",
         "43",
         "54.87",
         "73"
        ],
        [
         "44",
         "44",
         "57.44",
         "81"
        ],
        [
         "45",
         "45",
         "60.0",
         "96"
        ],
        [
         "46",
         "46",
         "62.56",
         "78"
        ],
        [
         "47",
         "47",
         "65.13",
         "69"
        ],
        [
         "48",
         "48",
         "67.69",
         "79"
        ],
        [
         "49",
         "49",
         "70.26",
         "72"
        ]
       ],
       "shape": {
        "columns": 3,
        "rows": 100
       }
      },
      "text/html": [
       "<div>\n",
       "<style scoped>\n",
       "    .dataframe tbody tr th:only-of-type {\n",
       "        vertical-align: middle;\n",
       "    }\n",
       "\n",
       "    .dataframe tbody tr th {\n",
       "        vertical-align: top;\n",
       "    }\n",
       "\n",
       "    .dataframe thead th {\n",
       "        text-align: right;\n",
       "    }\n",
       "</style>\n",
       "<table border=\"1\" class=\"dataframe\">\n",
       "  <thead>\n",
       "    <tr style=\"text-align: right;\">\n",
       "      <th></th>\n",
       "      <th>Chan</th>\n",
       "      <th>Energy</th>\n",
       "      <th>Counts</th>\n",
       "    </tr>\n",
       "  </thead>\n",
       "  <tbody>\n",
       "    <tr>\n",
       "      <th>0</th>\n",
       "      <td>0</td>\n",
       "      <td>-55.40</td>\n",
       "      <td>0</td>\n",
       "    </tr>\n",
       "    <tr>\n",
       "      <th>1</th>\n",
       "      <td>1</td>\n",
       "      <td>-52.84</td>\n",
       "      <td>0</td>\n",
       "    </tr>\n",
       "    <tr>\n",
       "      <th>2</th>\n",
       "      <td>2</td>\n",
       "      <td>-50.27</td>\n",
       "      <td>0</td>\n",
       "    </tr>\n",
       "    <tr>\n",
       "      <th>3</th>\n",
       "      <td>3</td>\n",
       "      <td>-47.71</td>\n",
       "      <td>0</td>\n",
       "    </tr>\n",
       "    <tr>\n",
       "      <th>4</th>\n",
       "      <td>4</td>\n",
       "      <td>-45.15</td>\n",
       "      <td>0</td>\n",
       "    </tr>\n",
       "    <tr>\n",
       "      <th>...</th>\n",
       "      <td>...</td>\n",
       "      <td>...</td>\n",
       "      <td>...</td>\n",
       "    </tr>\n",
       "    <tr>\n",
       "      <th>95</th>\n",
       "      <td>95</td>\n",
       "      <td>188.23</td>\n",
       "      <td>89</td>\n",
       "    </tr>\n",
       "    <tr>\n",
       "      <th>96</th>\n",
       "      <td>96</td>\n",
       "      <td>190.79</td>\n",
       "      <td>89</td>\n",
       "    </tr>\n",
       "    <tr>\n",
       "      <th>97</th>\n",
       "      <td>97</td>\n",
       "      <td>193.35</td>\n",
       "      <td>90</td>\n",
       "    </tr>\n",
       "    <tr>\n",
       "      <th>98</th>\n",
       "      <td>98</td>\n",
       "      <td>195.92</td>\n",
       "      <td>101</td>\n",
       "    </tr>\n",
       "    <tr>\n",
       "      <th>99</th>\n",
       "      <td>99</td>\n",
       "      <td>198.48</td>\n",
       "      <td>76</td>\n",
       "    </tr>\n",
       "  </tbody>\n",
       "</table>\n",
       "<p>100 rows × 3 columns</p>\n",
       "</div>"
      ],
      "text/plain": [
       "    Chan  Energy  Counts\n",
       "0      0  -55.40       0\n",
       "1      1  -52.84       0\n",
       "2      2  -50.27       0\n",
       "3      3  -47.71       0\n",
       "4      4  -45.15       0\n",
       "..   ...     ...     ...\n",
       "95    95  188.23      89\n",
       "96    96  190.79      89\n",
       "97    97  193.35      90\n",
       "98    98  195.92     101\n",
       "99    99  198.48      76\n",
       "\n",
       "[100 rows x 3 columns]"
      ]
     },
     "execution_count": 19,
     "metadata": {},
     "output_type": "execute_result"
    }
   ],
   "source": [
    "# Combine dataframes df1, df2, df3, and df4 into a single DataFrame\n",
    "cs_df = pd.concat([df5, df6], ignore_index=True)\n",
    "\n",
    "# Display info and first few rows of the combined DataFrame\n",
    "cs_df.info()\n",
    "cs_df.head(100)"
   ]
  },
  {
   "cell_type": "code",
   "execution_count": 20,
   "metadata": {},
   "outputs": [
    {
     "name": "stdout",
     "output_type": "stream",
     "text": [
      "<class 'pandas.core.frame.DataFrame'>\n",
      "RangeIndex: 2048 entries, 0 to 2047\n",
      "Data columns (total 2 columns):\n",
      " #   Column  Non-Null Count  Dtype\n",
      "---  ------  --------------  -----\n",
      " 0   Chan    2048 non-null   int64\n",
      " 1   Counts  2048 non-null   int64\n",
      "dtypes: int64(2)\n",
      "memory usage: 32.1 KB\n"
     ]
    },
    {
     "data": {
      "application/vnd.microsoft.datawrangler.viewer.v0+json": {
       "columns": [
        {
         "name": "index",
         "rawType": "int64",
         "type": "integer"
        },
        {
         "name": "Chan",
         "rawType": "int64",
         "type": "integer"
        },
        {
         "name": "Counts",
         "rawType": "int64",
         "type": "integer"
        }
       ],
       "conversionMethod": "pd.DataFrame",
       "ref": "1c2170b8-b92d-446e-9dae-370307f1b837",
       "rows": [
        [
         "0",
         "0",
         "0"
        ],
        [
         "1",
         "1",
         "0"
        ],
        [
         "2",
         "2",
         "0"
        ],
        [
         "3",
         "3",
         "0"
        ],
        [
         "4",
         "4",
         "0"
        ],
        [
         "5",
         "5",
         "0"
        ],
        [
         "6",
         "6",
         "0"
        ],
        [
         "7",
         "7",
         "0"
        ],
        [
         "8",
         "8",
         "0"
        ],
        [
         "9",
         "9",
         "0"
        ],
        [
         "10",
         "10",
         "0"
        ],
        [
         "11",
         "11",
         "0"
        ],
        [
         "12",
         "12",
         "7"
        ],
        [
         "13",
         "13",
         "314"
        ],
        [
         "14",
         "14",
         "213"
        ],
        [
         "15",
         "15",
         "162"
        ],
        [
         "16",
         "16",
         "118"
        ],
        [
         "17",
         "17",
         "108"
        ],
        [
         "18",
         "18",
         "100"
        ],
        [
         "19",
         "19",
         "88"
        ],
        [
         "20",
         "20",
         "104"
        ],
        [
         "21",
         "21",
         "84"
        ],
        [
         "22",
         "22",
         "95"
        ],
        [
         "23",
         "23",
         "89"
        ],
        [
         "24",
         "24",
         "99"
        ],
        [
         "25",
         "25",
         "98"
        ],
        [
         "26",
         "26",
         "138"
        ],
        [
         "27",
         "27",
         "116"
        ],
        [
         "28",
         "28",
         "141"
        ],
        [
         "29",
         "29",
         "131"
        ],
        [
         "30",
         "30",
         "131"
        ],
        [
         "31",
         "31",
         "121"
        ],
        [
         "32",
         "32",
         "106"
        ],
        [
         "33",
         "33",
         "114"
        ],
        [
         "34",
         "34",
         "89"
        ],
        [
         "35",
         "35",
         "95"
        ],
        [
         "36",
         "36",
         "86"
        ],
        [
         "37",
         "37",
         "78"
        ],
        [
         "38",
         "38",
         "78"
        ],
        [
         "39",
         "39",
         "76"
        ],
        [
         "40",
         "40",
         "95"
        ],
        [
         "41",
         "41",
         "83"
        ],
        [
         "42",
         "42",
         "85"
        ],
        [
         "43",
         "43",
         "73"
        ],
        [
         "44",
         "44",
         "81"
        ],
        [
         "45",
         "45",
         "96"
        ],
        [
         "46",
         "46",
         "78"
        ],
        [
         "47",
         "47",
         "69"
        ],
        [
         "48",
         "48",
         "79"
        ],
        [
         "49",
         "49",
         "72"
        ]
       ],
       "shape": {
        "columns": 2,
        "rows": 100
       }
      },
      "text/html": [
       "<div>\n",
       "<style scoped>\n",
       "    .dataframe tbody tr th:only-of-type {\n",
       "        vertical-align: middle;\n",
       "    }\n",
       "\n",
       "    .dataframe tbody tr th {\n",
       "        vertical-align: top;\n",
       "    }\n",
       "\n",
       "    .dataframe thead th {\n",
       "        text-align: right;\n",
       "    }\n",
       "</style>\n",
       "<table border=\"1\" class=\"dataframe\">\n",
       "  <thead>\n",
       "    <tr style=\"text-align: right;\">\n",
       "      <th></th>\n",
       "      <th>Chan</th>\n",
       "      <th>Counts</th>\n",
       "    </tr>\n",
       "  </thead>\n",
       "  <tbody>\n",
       "    <tr>\n",
       "      <th>0</th>\n",
       "      <td>0</td>\n",
       "      <td>0</td>\n",
       "    </tr>\n",
       "    <tr>\n",
       "      <th>1</th>\n",
       "      <td>1</td>\n",
       "      <td>0</td>\n",
       "    </tr>\n",
       "    <tr>\n",
       "      <th>2</th>\n",
       "      <td>2</td>\n",
       "      <td>0</td>\n",
       "    </tr>\n",
       "    <tr>\n",
       "      <th>3</th>\n",
       "      <td>3</td>\n",
       "      <td>0</td>\n",
       "    </tr>\n",
       "    <tr>\n",
       "      <th>4</th>\n",
       "      <td>4</td>\n",
       "      <td>0</td>\n",
       "    </tr>\n",
       "    <tr>\n",
       "      <th>...</th>\n",
       "      <td>...</td>\n",
       "      <td>...</td>\n",
       "    </tr>\n",
       "    <tr>\n",
       "      <th>95</th>\n",
       "      <td>95</td>\n",
       "      <td>89</td>\n",
       "    </tr>\n",
       "    <tr>\n",
       "      <th>96</th>\n",
       "      <td>96</td>\n",
       "      <td>89</td>\n",
       "    </tr>\n",
       "    <tr>\n",
       "      <th>97</th>\n",
       "      <td>97</td>\n",
       "      <td>90</td>\n",
       "    </tr>\n",
       "    <tr>\n",
       "      <th>98</th>\n",
       "      <td>98</td>\n",
       "      <td>101</td>\n",
       "    </tr>\n",
       "    <tr>\n",
       "      <th>99</th>\n",
       "      <td>99</td>\n",
       "      <td>76</td>\n",
       "    </tr>\n",
       "  </tbody>\n",
       "</table>\n",
       "<p>100 rows × 2 columns</p>\n",
       "</div>"
      ],
      "text/plain": [
       "    Chan  Counts\n",
       "0      0       0\n",
       "1      1       0\n",
       "2      2       0\n",
       "3      3       0\n",
       "4      4       0\n",
       "..   ...     ...\n",
       "95    95      89\n",
       "96    96      89\n",
       "97    97      90\n",
       "98    98     101\n",
       "99    99      76\n",
       "\n",
       "[100 rows x 2 columns]"
      ]
     },
     "execution_count": 20,
     "metadata": {},
     "output_type": "execute_result"
    }
   ],
   "source": [
    "# Remove the 'Energy' column from co_df\n",
    "cs_df = cs_df.drop(columns=['Energy'])\n",
    "cs_df.info()\n",
    "cs_df.head(100)"
   ]
  },
  {
   "cell_type": "markdown",
   "metadata": {},
   "source": [
    "### labelling as 1"
   ]
  },
  {
   "cell_type": "code",
   "execution_count": 21,
   "metadata": {
    "colab": {
     "base_uri": "https://localhost:8080/",
     "height": 606
    },
    "executionInfo": {
     "elapsed": 467,
     "status": "ok",
     "timestamp": 1738136716973,
     "user": {
      "displayName": "David Irfan Jasir",
      "userId": "11871450647194869092"
     },
     "user_tz": -420
    },
    "id": "ieX_Qy-xBUuM",
    "outputId": "cd4a644d-0ba3-40bf-e06c-35f3e1ff4e87"
   },
   "outputs": [
    {
     "name": "stdout",
     "output_type": "stream",
     "text": [
      "<class 'pandas.core.frame.DataFrame'>\n",
      "RangeIndex: 2048 entries, 0 to 2047\n",
      "Data columns (total 3 columns):\n",
      " #   Column  Non-Null Count  Dtype\n",
      "---  ------  --------------  -----\n",
      " 0   Chan    2048 non-null   int64\n",
      " 1   Counts  2048 non-null   int64\n",
      " 2   Label   2048 non-null   int64\n",
      "dtypes: int64(3)\n",
      "memory usage: 48.1 KB\n"
     ]
    },
    {
     "data": {
      "application/vnd.microsoft.datawrangler.viewer.v0+json": {
       "columns": [
        {
         "name": "index",
         "rawType": "int64",
         "type": "integer"
        },
        {
         "name": "Chan",
         "rawType": "int64",
         "type": "integer"
        },
        {
         "name": "Counts",
         "rawType": "int64",
         "type": "integer"
        },
        {
         "name": "Label",
         "rawType": "int64",
         "type": "integer"
        }
       ],
       "conversionMethod": "pd.DataFrame",
       "ref": "3ea0053f-f695-457c-a99a-080a35d9d2ba",
       "rows": [
        [
         "0",
         "0",
         "0",
         "1"
        ],
        [
         "1",
         "1",
         "0",
         "1"
        ],
        [
         "2",
         "2",
         "0",
         "1"
        ],
        [
         "3",
         "3",
         "0",
         "1"
        ],
        [
         "4",
         "4",
         "0",
         "1"
        ],
        [
         "5",
         "5",
         "0",
         "1"
        ],
        [
         "6",
         "6",
         "0",
         "1"
        ],
        [
         "7",
         "7",
         "0",
         "1"
        ],
        [
         "8",
         "8",
         "0",
         "1"
        ],
        [
         "9",
         "9",
         "0",
         "1"
        ],
        [
         "10",
         "10",
         "0",
         "1"
        ],
        [
         "11",
         "11",
         "0",
         "1"
        ],
        [
         "12",
         "12",
         "7",
         "1"
        ],
        [
         "13",
         "13",
         "314",
         "1"
        ],
        [
         "14",
         "14",
         "213",
         "1"
        ],
        [
         "15",
         "15",
         "162",
         "1"
        ],
        [
         "16",
         "16",
         "118",
         "1"
        ],
        [
         "17",
         "17",
         "108",
         "1"
        ],
        [
         "18",
         "18",
         "100",
         "1"
        ],
        [
         "19",
         "19",
         "88",
         "1"
        ],
        [
         "20",
         "20",
         "104",
         "1"
        ],
        [
         "21",
         "21",
         "84",
         "1"
        ],
        [
         "22",
         "22",
         "95",
         "1"
        ],
        [
         "23",
         "23",
         "89",
         "1"
        ],
        [
         "24",
         "24",
         "99",
         "1"
        ],
        [
         "25",
         "25",
         "98",
         "1"
        ],
        [
         "26",
         "26",
         "138",
         "1"
        ],
        [
         "27",
         "27",
         "116",
         "1"
        ],
        [
         "28",
         "28",
         "141",
         "1"
        ],
        [
         "29",
         "29",
         "131",
         "1"
        ],
        [
         "30",
         "30",
         "131",
         "1"
        ],
        [
         "31",
         "31",
         "121",
         "1"
        ],
        [
         "32",
         "32",
         "106",
         "1"
        ],
        [
         "33",
         "33",
         "114",
         "1"
        ],
        [
         "34",
         "34",
         "89",
         "1"
        ],
        [
         "35",
         "35",
         "95",
         "1"
        ],
        [
         "36",
         "36",
         "86",
         "1"
        ],
        [
         "37",
         "37",
         "78",
         "1"
        ],
        [
         "38",
         "38",
         "78",
         "1"
        ],
        [
         "39",
         "39",
         "76",
         "1"
        ],
        [
         "40",
         "40",
         "95",
         "1"
        ],
        [
         "41",
         "41",
         "83",
         "1"
        ],
        [
         "42",
         "42",
         "85",
         "1"
        ],
        [
         "43",
         "43",
         "73",
         "1"
        ],
        [
         "44",
         "44",
         "81",
         "1"
        ],
        [
         "45",
         "45",
         "96",
         "1"
        ],
        [
         "46",
         "46",
         "78",
         "1"
        ],
        [
         "47",
         "47",
         "69",
         "1"
        ],
        [
         "48",
         "48",
         "79",
         "1"
        ],
        [
         "49",
         "49",
         "72",
         "1"
        ]
       ],
       "shape": {
        "columns": 3,
        "rows": 100
       }
      },
      "text/html": [
       "<div>\n",
       "<style scoped>\n",
       "    .dataframe tbody tr th:only-of-type {\n",
       "        vertical-align: middle;\n",
       "    }\n",
       "\n",
       "    .dataframe tbody tr th {\n",
       "        vertical-align: top;\n",
       "    }\n",
       "\n",
       "    .dataframe thead th {\n",
       "        text-align: right;\n",
       "    }\n",
       "</style>\n",
       "<table border=\"1\" class=\"dataframe\">\n",
       "  <thead>\n",
       "    <tr style=\"text-align: right;\">\n",
       "      <th></th>\n",
       "      <th>Chan</th>\n",
       "      <th>Counts</th>\n",
       "      <th>Label</th>\n",
       "    </tr>\n",
       "  </thead>\n",
       "  <tbody>\n",
       "    <tr>\n",
       "      <th>0</th>\n",
       "      <td>0</td>\n",
       "      <td>0</td>\n",
       "      <td>1</td>\n",
       "    </tr>\n",
       "    <tr>\n",
       "      <th>1</th>\n",
       "      <td>1</td>\n",
       "      <td>0</td>\n",
       "      <td>1</td>\n",
       "    </tr>\n",
       "    <tr>\n",
       "      <th>2</th>\n",
       "      <td>2</td>\n",
       "      <td>0</td>\n",
       "      <td>1</td>\n",
       "    </tr>\n",
       "    <tr>\n",
       "      <th>3</th>\n",
       "      <td>3</td>\n",
       "      <td>0</td>\n",
       "      <td>1</td>\n",
       "    </tr>\n",
       "    <tr>\n",
       "      <th>4</th>\n",
       "      <td>4</td>\n",
       "      <td>0</td>\n",
       "      <td>1</td>\n",
       "    </tr>\n",
       "    <tr>\n",
       "      <th>...</th>\n",
       "      <td>...</td>\n",
       "      <td>...</td>\n",
       "      <td>...</td>\n",
       "    </tr>\n",
       "    <tr>\n",
       "      <th>95</th>\n",
       "      <td>95</td>\n",
       "      <td>89</td>\n",
       "      <td>1</td>\n",
       "    </tr>\n",
       "    <tr>\n",
       "      <th>96</th>\n",
       "      <td>96</td>\n",
       "      <td>89</td>\n",
       "      <td>1</td>\n",
       "    </tr>\n",
       "    <tr>\n",
       "      <th>97</th>\n",
       "      <td>97</td>\n",
       "      <td>90</td>\n",
       "      <td>1</td>\n",
       "    </tr>\n",
       "    <tr>\n",
       "      <th>98</th>\n",
       "      <td>98</td>\n",
       "      <td>101</td>\n",
       "      <td>1</td>\n",
       "    </tr>\n",
       "    <tr>\n",
       "      <th>99</th>\n",
       "      <td>99</td>\n",
       "      <td>76</td>\n",
       "      <td>1</td>\n",
       "    </tr>\n",
       "  </tbody>\n",
       "</table>\n",
       "<p>100 rows × 3 columns</p>\n",
       "</div>"
      ],
      "text/plain": [
       "    Chan  Counts  Label\n",
       "0      0       0      1\n",
       "1      1       0      1\n",
       "2      2       0      1\n",
       "3      3       0      1\n",
       "4      4       0      1\n",
       "..   ...     ...    ...\n",
       "95    95      89      1\n",
       "96    96      89      1\n",
       "97    97      90      1\n",
       "98    98     101      1\n",
       "99    99      76      1\n",
       "\n",
       "[100 rows x 3 columns]"
      ]
     },
     "execution_count": 21,
     "metadata": {},
     "output_type": "execute_result"
    }
   ],
   "source": [
    "# prompt: add one column as label \"Cs-137\"\n",
    "\n",
    "cs_df['Label'] = '1'\n",
    "cs_df['Label'] = cs_df['Label'].astype(np.int64)  # Convert the 'Label' column to int64 type\n",
    "\n",
    "cs_df.info()\n",
    "cs_df.head(100)"
   ]
  },
  {
   "cell_type": "markdown",
   "metadata": {},
   "source": [
    "### make plot"
   ]
  },
  {
   "cell_type": "code",
   "execution_count": 22,
   "metadata": {
    "colab": {
     "base_uri": "https://localhost:8080/",
     "height": 718
    },
    "executionInfo": {
     "elapsed": 2027,
     "status": "ok",
     "timestamp": 1738136774743,
     "user": {
      "displayName": "David Irfan Jasir",
      "userId": "11871450647194869092"
     },
     "user_tz": -420
    },
    "id": "_zN7lAJ0Bi0z",
    "outputId": "7c131031-d7a4-4d6e-c632-499d96703ac5"
   },
   "outputs": [
    {
     "data": {
      "image/png": "[encoded data removed]",
      "text/plain": [
       "<Figure size 2000x600 with 1 Axes>"
      ]
     },
     "metadata": {},
     "output_type": "display_data"
    }
   ],
   "source": [
    "# Scatter plot for Energy vs Counts\n",
    "plt.figure(figsize=(20, 6))\n",
    "\n",
    "\n",
    "# Scatter plot for Channel vs Counts\n",
    "plt.plot()  # 1 row, 2 columns, 2nd subplot\n",
    "plt.scatter(cs_df['Chan'], cs_df['Counts'], s=5, c='red', label='Channel vs Counts')\n",
    "plt.xlabel('Channel')\n",
    "plt.ylabel('Counts')\n",
    "plt.title('Channel vs Counts')\n",
    "plt.grid(True)\n",
    "plt.legend()\n",
    "\n",
    "plt.show()"
   ]
  },
  {
   "cell_type": "code",
   "execution_count": 23,
   "metadata": {
    "colab": {
     "base_uri": "https://localhost:8080/",
     "height": 606
    },
    "executionInfo": {
     "elapsed": 424,
     "status": "ok",
     "timestamp": 1738136905670,
     "user": {
      "displayName": "David Irfan Jasir",
      "userId": "11871450647194869092"
     },
     "user_tz": -420
    },
    "id": "kkurqHJmB32Y",
    "outputId": "2f21e835-f272-4030-a46a-69da3eda092f"
   },
   "outputs": [
    {
     "name": "stdout",
     "output_type": "stream",
     "text": [
      "<class 'pandas.core.frame.DataFrame'>\n",
      "RangeIndex: 4096 entries, 0 to 4095\n",
      "Data columns (total 3 columns):\n",
      " #   Column  Non-Null Count  Dtype\n",
      "---  ------  --------------  -----\n",
      " 0   Chan    4096 non-null   int64\n",
      " 1   Counts  4096 non-null   int64\n",
      " 2   Label   4096 non-null   int64\n",
      "dtypes: int64(3)\n",
      "memory usage: 96.1 KB\n"
     ]
    },
    {
     "data": {
      "application/vnd.microsoft.datawrangler.viewer.v0+json": {
       "columns": [
        {
         "name": "index",
         "rawType": "int64",
         "type": "integer"
        },
        {
         "name": "Chan",
         "rawType": "int64",
         "type": "integer"
        },
        {
         "name": "Counts",
         "rawType": "int64",
         "type": "integer"
        },
        {
         "name": "Label",
         "rawType": "int64",
         "type": "integer"
        }
       ],
       "conversionMethod": "pd.DataFrame",
       "ref": "4892fbb5-1e45-4a3a-87a0-bd3fccf40fea",
       "rows": [
        [
         "0",
         "0",
         "0",
         "0"
        ],
        [
         "1",
         "1",
         "0",
         "0"
        ],
        [
         "2",
         "2",
         "0",
         "0"
        ],
        [
         "3",
         "3",
         "0",
         "0"
        ],
        [
         "4",
         "4",
         "0",
         "0"
        ],
        [
         "5",
         "5",
         "0",
         "0"
        ],
        [
         "6",
         "6",
         "0",
         "0"
        ],
        [
         "7",
         "7",
         "0",
         "0"
        ],
        [
         "8",
         "8",
         "0",
         "0"
        ],
        [
         "9",
         "9",
         "0",
         "0"
        ],
        [
         "10",
         "10",
         "0",
         "0"
        ],
        [
         "11",
         "11",
         "0",
         "0"
        ],
        [
         "12",
         "12",
         "3",
         "0"
        ],
        [
         "13",
         "13",
         "58",
         "0"
        ],
        [
         "14",
         "14",
         "80",
         "0"
        ],
        [
         "15",
         "15",
         "85",
         "0"
        ],
        [
         "16",
         "16",
         "66",
         "0"
        ],
        [
         "17",
         "17",
         "74",
         "0"
        ],
        [
         "18",
         "18",
         "77",
         "0"
        ],
        [
         "19",
         "19",
         "59",
         "0"
        ],
        [
         "20",
         "20",
         "78",
         "0"
        ],
        [
         "21",
         "21",
         "75",
         "0"
        ],
        [
         "22",
         "22",
         "85",
         "0"
        ],
        [
         "23",
         "23",
         "77",
         "0"
        ],
        [
         "24",
         "24",
         "69",
         "0"
        ],
        [
         "25",
         "25",
         "84",
         "0"
        ],
        [
         "26",
         "26",
         "89",
         "0"
        ],
        [
         "27",
         "27",
         "101",
         "0"
        ],
        [
         "28",
         "28",
         "103",
         "0"
        ],
        [
         "29",
         "29",
         "119",
         "0"
        ],
        [
         "30",
         "30",
         "100",
         "0"
        ],
        [
         "31",
         "31",
         "108",
         "0"
        ],
        [
         "32",
         "32",
         "100",
         "0"
        ],
        [
         "33",
         "33",
         "98",
         "0"
        ],
        [
         "34",
         "34",
         "114",
         "0"
        ],
        [
         "35",
         "35",
         "87",
         "0"
        ],
        [
         "36",
         "36",
         "64",
         "0"
        ],
        [
         "37",
         "37",
         "72",
         "0"
        ],
        [
         "38",
         "38",
         "96",
         "0"
        ],
        [
         "39",
         "39",
         "65",
         "0"
        ],
        [
         "40",
         "40",
         "65",
         "0"
        ],
        [
         "41",
         "41",
         "83",
         "0"
        ],
        [
         "42",
         "42",
         "67",
         "0"
        ],
        [
         "43",
         "43",
         "65",
         "0"
        ],
        [
         "44",
         "44",
         "79",
         "0"
        ],
        [
         "45",
         "45",
         "59",
         "0"
        ],
        [
         "46",
         "46",
         "70",
         "0"
        ],
        [
         "47",
         "47",
         "69",
         "0"
        ],
        [
         "48",
         "48",
         "64",
         "0"
        ],
        [
         "49",
         "49",
         "80",
         "0"
        ]
       ],
       "shape": {
        "columns": 3,
        "rows": 100
       }
      },
      "text/html": [
       "<div>\n",
       "<style scoped>\n",
       "    .dataframe tbody tr th:only-of-type {\n",
       "        vertical-align: middle;\n",
       "    }\n",
       "\n",
       "    .dataframe tbody tr th {\n",
       "        vertical-align: top;\n",
       "    }\n",
       "\n",
       "    .dataframe thead th {\n",
       "        text-align: right;\n",
       "    }\n",
       "</style>\n",
       "<table border=\"1\" class=\"dataframe\">\n",
       "  <thead>\n",
       "    <tr style=\"text-align: right;\">\n",
       "      <th></th>\n",
       "      <th>Chan</th>\n",
       "      <th>Counts</th>\n",
       "      <th>Label</th>\n",
       "    </tr>\n",
       "  </thead>\n",
       "  <tbody>\n",
       "    <tr>\n",
       "      <th>0</th>\n",
       "      <td>0</td>\n",
       "      <td>0</td>\n",
       "      <td>0</td>\n",
       "    </tr>\n",
       "    <tr>\n",
       "      <th>1</th>\n",
       "      <td>1</td>\n",
       "      <td>0</td>\n",
       "      <td>0</td>\n",
       "    </tr>\n",
       "    <tr>\n",
       "      <th>2</th>\n",
       "      <td>2</td>\n",
       "      <td>0</td>\n",
       "      <td>0</td>\n",
       "    </tr>\n",
       "    <tr>\n",
       "      <th>3</th>\n",
       "      <td>3</td>\n",
       "      <td>0</td>\n",
       "      <td>0</td>\n",
       "    </tr>\n",
       "    <tr>\n",
       "      <th>4</th>\n",
       "      <td>4</td>\n",
       "      <td>0</td>\n",
       "      <td>0</td>\n",
       "    </tr>\n",
       "    <tr>\n",
       "      <th>...</th>\n",
       "      <td>...</td>\n",
       "      <td>...</td>\n",
       "      <td>...</td>\n",
       "    </tr>\n",
       "    <tr>\n",
       "      <th>95</th>\n",
       "      <td>95</td>\n",
       "      <td>98</td>\n",
       "      <td>0</td>\n",
       "    </tr>\n",
       "    <tr>\n",
       "      <th>96</th>\n",
       "      <td>96</td>\n",
       "      <td>86</td>\n",
       "      <td>0</td>\n",
       "    </tr>\n",
       "    <tr>\n",
       "      <th>97</th>\n",
       "      <td>97</td>\n",
       "      <td>84</td>\n",
       "      <td>0</td>\n",
       "    </tr>\n",
       "    <tr>\n",
       "      <th>98</th>\n",
       "      <td>98</td>\n",
       "      <td>109</td>\n",
       "      <td>0</td>\n",
       "    </tr>\n",
       "    <tr>\n",
       "      <th>99</th>\n",
       "      <td>99</td>\n",
       "      <td>79</td>\n",
       "      <td>0</td>\n",
       "    </tr>\n",
       "  </tbody>\n",
       "</table>\n",
       "<p>100 rows × 3 columns</p>\n",
       "</div>"
      ],
      "text/plain": [
       "    Chan  Counts  Label\n",
       "0      0       0      0\n",
       "1      1       0      0\n",
       "2      2       0      0\n",
       "3      3       0      0\n",
       "4      4       0      0\n",
       "..   ...     ...    ...\n",
       "95    95      98      0\n",
       "96    96      86      0\n",
       "97    97      84      0\n",
       "98    98     109      0\n",
       "99    99      79      0\n",
       "\n",
       "[100 rows x 3 columns]"
      ]
     },
     "execution_count": 23,
     "metadata": {},
     "output_type": "execute_result"
    }
   ],
   "source": [
    "all_df = pd.concat([co_df, cs_df], ignore_index=True)\n",
    "\n",
    "# Display the combined DataFrame\n",
    "all_df.info()\n",
    "all_df.head(100)"
   ]
  },
  {
   "cell_type": "code",
   "execution_count": 24,
   "metadata": {},
   "outputs": [
    {
     "data": {
      "image/png": "[encoded data removed]",
      "text/plain": [
       "<Figure size 2000x600 with 1 Axes>"
      ]
     },
     "metadata": {},
     "output_type": "display_data"
    }
   ],
   "source": [
    "# Scatter plot for Energy vs Counts\n",
    "plt.figure(figsize=(20, 6))\n",
    "\n",
    "# Scatter plot for Channel vs Counts\n",
    "plt.plot()  # 1 row, 2 columns, 2nd subplot\n",
    "plt.scatter(co_df['Chan'], co_df['Counts'], label='Co-60', s=2, c='blue')\n",
    "plt.scatter(cs_df['Chan'], cs_df['Counts'], label='Cs-137', s=2, c='red')\n",
    "plt.xlabel('Channel')\n",
    "plt.ylabel('Counts')\n",
    "plt.title('Channel vs Counts')\n",
    "plt.grid(True)\n",
    "plt.legend()\n",
    "\n",
    "plt.show()"
   ]
  },
  {
   "cell_type": "code",
   "execution_count": 25,
   "metadata": {
    "colab": {
     "base_uri": "https://localhost:8080/"
    },
    "executionInfo": {
     "elapsed": 4714,
     "status": "ok",
     "timestamp": 1738137067332,
     "user": {
      "displayName": "David Irfan Jasir",
      "userId": "11871450647194869092"
     },
     "user_tz": -420
    },
    "id": "DWoZz5OMCm4N",
    "outputId": "0a4fd8df-dc25-4819-e138-d033d697b14d"
   },
   "outputs": [],
   "source": [
    "# Save the DataFrame to a CSV file\n",
    "all_df.to_csv('data_validation.csv', index=False)"
   ]
  }
 ],
 "metadata": {
  "colab": {
   "provenance": [],
   "toc_visible": true
  },
  "kernelspec": {
   "display_name": "Python 3",
   "language": "python",
   "name": "python3"
  },
  "language_info": {
   "codemirror_mode": {
    "name": "ipython",
    "version": 3
   },
   "file_extension": ".py",
   "mimetype": "text/x-python",
   "name": "python",
   "nbconvert_exporter": "python",
   "pygments_lexer": "ipython3",
   "version": "3.11.5"
  }
 },
 "nbformat": 4,
 "nbformat_minor": 0
}
